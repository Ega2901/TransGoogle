{
 "cells": [
  {
   "cell_type": "code",
   "execution_count": 1,
   "metadata": {},
   "outputs": [],
   "source": [
    "import os\n",
    "import json\n",
    "import numpy as np \n",
    "import pandas as pd\n",
    "from sklearn.metrics import mean_squared_error\n",
    "import warnings\n",
    "warnings.filterwarnings('ignore')"
   ]
  },
  {
   "cell_type": "code",
   "execution_count": 2,
   "metadata": {},
   "outputs": [],
   "source": [
    "path = '/Users/egortuzarov/ML2/Hw4/Data/aim-2024-transactions'"
   ]
  },
  {
   "cell_type": "code",
   "execution_count": 3,
   "metadata": {},
   "outputs": [],
   "source": [
    "cat = ['device_browser',\n",
    " 'device_operatingSystem',\n",
    " 'device_deviceCategory',\n",
    " 'geoNetwork_continent',\n",
    " 'geoNetwork_subContinent',\n",
    " 'geoNetwork_country',\n",
    " 'geoNetwork_region',\n",
    " 'geoNetwork_metro',\n",
    " 'geoNetwork_city',\n",
    " 'geoNetwork_networkDomain',\n",
    " 'trafficSource_campaign',\n",
    " 'trafficSource_source',\n",
    " 'trafficSource_medium',\n",
    " 'trafficSource_keyword',\n",
    " 'trafficSource_referralPath']\n",
    "\n",
    "num = ['totals_hits', 'totals_pageviews', 'totals_bounces', 'totals_newVisits']\n",
    "\n",
    "bol = ['trafficSource_isTrueDirect']"
   ]
  },
  {
   "cell_type": "code",
   "execution_count": 8,
   "metadata": {},
   "outputs": [],
   "source": [
    "def Data_prep(df, cat, num, bol):\n",
    "    df2 = df\n",
    "    for col in cat:\n",
    "        df[col].fillna('miss', inplace=True)\n",
    "        df2[col] = df2[col].astype(str)\n",
    "    for col in num:\n",
    "        df[col].fillna(0, inplace=True)\n",
    "        df2[col] = df2[col].astype(int)\n",
    "    for col in bol:\n",
    "        df[col].fillna(False, inplace=True)\n",
    "        df2[col] = df2[col].astype(bool)\n",
    "        \n",
    "    return df2"
   ]
  },
  {
   "cell_type": "code",
   "execution_count": 9,
   "metadata": {},
   "outputs": [],
   "source": [
    "df = pd.read_parquet(f'{path}/train.parquet')\n",
    "df['totals_transactionRevenue'] = df['totals_transactionRevenue'].fillna(0)\n",
    "df[\"totals_transactionRevenue\"] = df[\"totals_transactionRevenue\"].astype(float)\n",
    "df = Data_prep(df, cat, num, bol)"
   ]
  },
  {
   "cell_type": "code",
   "execution_count": null,
   "metadata": {},
   "outputs": [],
   "source": []
  }
 ],
 "metadata": {
  "kernelspec": {
   "display_name": "hw4",
   "language": "python",
   "name": "python3"
  },
  "language_info": {
   "codemirror_mode": {
    "name": "ipython",
    "version": 3
   },
   "file_extension": ".py",
   "mimetype": "text/x-python",
   "name": "python",
   "nbconvert_exporter": "python",
   "pygments_lexer": "ipython3",
   "version": "3.11.9"
  }
 },
 "nbformat": 4,
 "nbformat_minor": 2
}
