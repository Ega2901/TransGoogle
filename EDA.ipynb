{
 "cells": [
  {
   "cell_type": "code",
   "execution_count": 74,
   "metadata": {},
   "outputs": [],
   "source": [
    "import os\n",
    "import json\n",
    "import numpy as np \n",
    "import pandas as pd\n",
    "import polars as pl\n",
    "import seaborn as sns \n",
    "import matplotlib as mpl\n",
    "import scipy.stats as st\n",
    "import plotly.express as px\n",
    "import plotly.graph_objs as go\n",
    "import matplotlib.pyplot as plt\n",
    "import matplotlib.ticker as ticker\n",
    "from tqdm import tqdm\n",
    "from plotly import tools\n",
    "import plotly as py\n",
    "from plotly.offline import iplot\n",
    "import pyarrow\n",
    "from sklearn.metrics import mean_squared_error\n",
    "from Utils.dataproc import *\n",
    "import warnings\n",
    "warnings.filterwarnings('ignore')"
   ]
  },
  {
   "cell_type": "code",
   "execution_count": 75,
   "metadata": {},
   "outputs": [],
   "source": [
    "path = '/Users/egortuzarov/ML2/Hw4/Data/aim-2024-transactions'"
   ]
  },
  {
   "cell_type": "markdown",
   "metadata": {},
   "source": [
    "# 1) Организация обучения и валидации"
   ]
  },
  {
   "cell_type": "code",
   "execution_count": 76,
   "metadata": {},
   "outputs": [],
   "source": [
    "df = pd.read_parquet(f'{path}/train.parquet')\n",
    "df['totals_transactionRevenue'] = df['totals_transactionRevenue'].fillna(0)\n",
    "df[\"totals_transactionRevenue\"] = df[\"totals_transactionRevenue\"].astype('float')\n",
    "gdf = df.groupby(\"fullVisitorId\")[\"totals_transactionRevenue\"].sum().reset_index()"
   ]
  },
  {
   "cell_type": "code",
   "execution_count": 77,
   "metadata": {},
   "outputs": [
    {
     "data": {
      "text/html": [
       "<div>\n",
       "<style scoped>\n",
       "    .dataframe tbody tr th:only-of-type {\n",
       "        vertical-align: middle;\n",
       "    }\n",
       "\n",
       "    .dataframe tbody tr th {\n",
       "        vertical-align: top;\n",
       "    }\n",
       "\n",
       "    .dataframe thead th {\n",
       "        text-align: right;\n",
       "    }\n",
       "</style>\n",
       "<table border=\"1\" class=\"dataframe\">\n",
       "  <thead>\n",
       "    <tr style=\"text-align: right;\">\n",
       "      <th></th>\n",
       "      <th>date</th>\n",
       "      <th>visitId</th>\n",
       "      <th>visitNumber</th>\n",
       "      <th>visitStartTime</th>\n",
       "      <th>totals_transactionRevenue</th>\n",
       "    </tr>\n",
       "  </thead>\n",
       "  <tbody>\n",
       "    <tr>\n",
       "      <th>count</th>\n",
       "      <td>6.332100e+05</td>\n",
       "      <td>6.332100e+05</td>\n",
       "      <td>633210.000000</td>\n",
       "      <td>6.332100e+05</td>\n",
       "      <td>6.332100e+05</td>\n",
       "    </tr>\n",
       "    <tr>\n",
       "      <th>mean</th>\n",
       "      <td>2.016388e+07</td>\n",
       "      <td>1.480146e+09</td>\n",
       "      <td>2.267662</td>\n",
       "      <td>1.480146e+09</td>\n",
       "      <td>1.587463e+06</td>\n",
       "    </tr>\n",
       "    <tr>\n",
       "      <th>std</th>\n",
       "      <td>4.255554e+03</td>\n",
       "      <td>5.748743e+06</td>\n",
       "      <td>9.341880</td>\n",
       "      <td>5.748743e+06</td>\n",
       "      <td>4.546771e+07</td>\n",
       "    </tr>\n",
       "    <tr>\n",
       "      <th>min</th>\n",
       "      <td>2.016080e+07</td>\n",
       "      <td>1.470035e+09</td>\n",
       "      <td>1.000000</td>\n",
       "      <td>1.470035e+09</td>\n",
       "      <td>0.000000e+00</td>\n",
       "    </tr>\n",
       "    <tr>\n",
       "      <th>25%</th>\n",
       "      <td>2.016100e+07</td>\n",
       "      <td>1.475698e+09</td>\n",
       "      <td>1.000000</td>\n",
       "      <td>1.475698e+09</td>\n",
       "      <td>0.000000e+00</td>\n",
       "    </tr>\n",
       "    <tr>\n",
       "      <th>50%</th>\n",
       "      <td>2.016112e+07</td>\n",
       "      <td>1.479686e+09</td>\n",
       "      <td>1.000000</td>\n",
       "      <td>1.479686e+09</td>\n",
       "      <td>0.000000e+00</td>\n",
       "    </tr>\n",
       "    <tr>\n",
       "      <th>75%</th>\n",
       "      <td>2.017012e+07</td>\n",
       "      <td>1.484918e+09</td>\n",
       "      <td>1.000000</td>\n",
       "      <td>1.484918e+09</td>\n",
       "      <td>0.000000e+00</td>\n",
       "    </tr>\n",
       "    <tr>\n",
       "      <th>max</th>\n",
       "      <td>2.017033e+07</td>\n",
       "      <td>1.491030e+09</td>\n",
       "      <td>364.000000</td>\n",
       "      <td>1.491030e+09</td>\n",
       "      <td>1.785550e+10</td>\n",
       "    </tr>\n",
       "  </tbody>\n",
       "</table>\n",
       "</div>"
      ],
      "text/plain": [
       "               date       visitId    visitNumber  visitStartTime  \\\n",
       "count  6.332100e+05  6.332100e+05  633210.000000    6.332100e+05   \n",
       "mean   2.016388e+07  1.480146e+09       2.267662    1.480146e+09   \n",
       "std    4.255554e+03  5.748743e+06       9.341880    5.748743e+06   \n",
       "min    2.016080e+07  1.470035e+09       1.000000    1.470035e+09   \n",
       "25%    2.016100e+07  1.475698e+09       1.000000    1.475698e+09   \n",
       "50%    2.016112e+07  1.479686e+09       1.000000    1.479686e+09   \n",
       "75%    2.017012e+07  1.484918e+09       1.000000    1.484918e+09   \n",
       "max    2.017033e+07  1.491030e+09     364.000000    1.491030e+09   \n",
       "\n",
       "       totals_transactionRevenue  \n",
       "count               6.332100e+05  \n",
       "mean                1.587463e+06  \n",
       "std                 4.546771e+07  \n",
       "min                 0.000000e+00  \n",
       "25%                 0.000000e+00  \n",
       "50%                 0.000000e+00  \n",
       "75%                 0.000000e+00  \n",
       "max                 1.785550e+10  "
      ]
     },
     "execution_count": 77,
     "metadata": {},
     "output_type": "execute_result"
    }
   ],
   "source": [
    "df.describe()"
   ]
  },
  {
   "cell_type": "code",
   "execution_count": 78,
   "metadata": {},
   "outputs": [
    {
     "name": "stdout",
     "output_type": "stream",
     "text": [
      "<class 'pandas.core.frame.DataFrame'>\n",
      "RangeIndex: 633210 entries, 0 to 633209\n",
      "Data columns (total 35 columns):\n",
      " #   Column                                        Non-Null Count   Dtype  \n",
      "---  ------                                        --------------   -----  \n",
      " 0   channelGrouping                               633210 non-null  object \n",
      " 1   date                                          633210 non-null  int64  \n",
      " 2   fullVisitorId                                 633210 non-null  object \n",
      " 3   sessionId                                     633210 non-null  object \n",
      " 4   visitId                                       633210 non-null  int64  \n",
      " 5   visitNumber                                   633210 non-null  int64  \n",
      " 6   visitStartTime                                633210 non-null  int64  \n",
      " 7   device_browser                                633210 non-null  object \n",
      " 8   device_operatingSystem                        633210 non-null  object \n",
      " 9   device_isMobile                               633210 non-null  bool   \n",
      " 10  device_deviceCategory                         633210 non-null  object \n",
      " 11  geoNetwork_continent                          633210 non-null  object \n",
      " 12  geoNetwork_subContinent                       633210 non-null  object \n",
      " 13  geoNetwork_country                            633210 non-null  object \n",
      " 14  geoNetwork_region                             633210 non-null  object \n",
      " 15  geoNetwork_metro                              633210 non-null  object \n",
      " 16  geoNetwork_city                               633210 non-null  object \n",
      " 17  geoNetwork_networkDomain                      633210 non-null  object \n",
      " 18  totals_hits                                   633210 non-null  object \n",
      " 19  totals_pageviews                              633148 non-null  object \n",
      " 20  totals_bounces                                315541 non-null  object \n",
      " 21  totals_newVisits                              498095 non-null  object \n",
      " 22  totals_transactionRevenue                     633210 non-null  float64\n",
      " 23  trafficSource_campaign                        633210 non-null  object \n",
      " 24  trafficSource_source                          633210 non-null  object \n",
      " 25  trafficSource_medium                          633210 non-null  object \n",
      " 26  trafficSource_keyword                         254657 non-null  object \n",
      " 27  trafficSource_isTrueDirect                    180034 non-null  object \n",
      " 28  trafficSource_referralPath                    268367 non-null  object \n",
      " 29  trafficSource_adwordsClickInfo.page           13522 non-null   object \n",
      " 30  trafficSource_adwordsClickInfo.slot           13522 non-null   object \n",
      " 31  trafficSource_adwordsClickInfo.gclId          13571 non-null   object \n",
      " 32  trafficSource_adwordsClickInfo.adNetworkType  13522 non-null   object \n",
      " 33  trafficSource_adwordsClickInfo.isVideoAd      13522 non-null   object \n",
      " 34  trafficSource_adContent                       5271 non-null    object \n",
      "dtypes: bool(1), float64(1), int64(4), object(29)\n",
      "memory usage: 164.9+ MB\n"
     ]
    }
   ],
   "source": [
    "df.info()"
   ]
  },
  {
   "cell_type": "code",
   "execution_count": 79,
   "metadata": {},
   "outputs": [
    {
     "data": {
      "text/html": [
       "<div>\n",
       "<style scoped>\n",
       "    .dataframe tbody tr th:only-of-type {\n",
       "        vertical-align: middle;\n",
       "    }\n",
       "\n",
       "    .dataframe tbody tr th {\n",
       "        vertical-align: top;\n",
       "    }\n",
       "\n",
       "    .dataframe thead th {\n",
       "        text-align: right;\n",
       "    }\n",
       "</style>\n",
       "<table border=\"1\" class=\"dataframe\">\n",
       "  <thead>\n",
       "    <tr style=\"text-align: right;\">\n",
       "      <th></th>\n",
       "      <th>totals_transactionRevenue</th>\n",
       "    </tr>\n",
       "  </thead>\n",
       "  <tbody>\n",
       "    <tr>\n",
       "      <th>count</th>\n",
       "      <td>5.074010e+05</td>\n",
       "    </tr>\n",
       "    <tr>\n",
       "      <th>mean</th>\n",
       "      <td>1.981071e+06</td>\n",
       "    </tr>\n",
       "    <tr>\n",
       "      <th>std</th>\n",
       "      <td>6.503592e+07</td>\n",
       "    </tr>\n",
       "    <tr>\n",
       "      <th>min</th>\n",
       "      <td>0.000000e+00</td>\n",
       "    </tr>\n",
       "    <tr>\n",
       "      <th>25%</th>\n",
       "      <td>0.000000e+00</td>\n",
       "    </tr>\n",
       "    <tr>\n",
       "      <th>50%</th>\n",
       "      <td>0.000000e+00</td>\n",
       "    </tr>\n",
       "    <tr>\n",
       "      <th>75%</th>\n",
       "      <td>0.000000e+00</td>\n",
       "    </tr>\n",
       "    <tr>\n",
       "      <th>max</th>\n",
       "      <td>2.653333e+10</td>\n",
       "    </tr>\n",
       "  </tbody>\n",
       "</table>\n",
       "</div>"
      ],
      "text/plain": [
       "       totals_transactionRevenue\n",
       "count               5.074010e+05\n",
       "mean                1.981071e+06\n",
       "std                 6.503592e+07\n",
       "min                 0.000000e+00\n",
       "25%                 0.000000e+00\n",
       "50%                 0.000000e+00\n",
       "75%                 0.000000e+00\n",
       "max                 2.653333e+10"
      ]
     },
     "execution_count": 79,
     "metadata": {},
     "output_type": "execute_result"
    }
   ],
   "source": [
    "gdf.describe()"
   ]
  },
  {
   "cell_type": "code",
   "execution_count": 80,
   "metadata": {},
   "outputs": [
    {
     "name": "stdout",
     "output_type": "stream",
     "text": [
      "Number of unique customers with non-zero revenue :  6496 and the ratio is :  0.012802497432996782\n"
     ]
    }
   ],
   "source": [
    "nzr = (gdf[\"totals_transactionRevenue\"]>0).sum()\n",
    "print(\"Number of unique customers with non-zero revenue : \", nzr, \"and the ratio is : \", nzr / gdf.shape[0])"
   ]
  },
  {
   "cell_type": "code",
   "execution_count": 81,
   "metadata": {},
   "outputs": [],
   "source": [
    "categorical_cols = df.select_dtypes(include=['object']).columns.tolist()\n",
    "numeric_cols = df.select_dtypes(include=['int', 'float']).columns.tolist()"
   ]
  },
  {
   "cell_type": "code",
   "execution_count": 82,
   "metadata": {},
   "outputs": [
    {
     "data": {
      "text/plain": [
       "['channelGrouping',\n",
       " 'fullVisitorId',\n",
       " 'sessionId',\n",
       " 'device_browser',\n",
       " 'device_operatingSystem',\n",
       " 'device_deviceCategory',\n",
       " 'geoNetwork_continent',\n",
       " 'geoNetwork_subContinent',\n",
       " 'geoNetwork_country',\n",
       " 'geoNetwork_region',\n",
       " 'geoNetwork_metro',\n",
       " 'geoNetwork_city',\n",
       " 'geoNetwork_networkDomain',\n",
       " 'totals_hits',\n",
       " 'totals_pageviews',\n",
       " 'totals_bounces',\n",
       " 'totals_newVisits',\n",
       " 'trafficSource_campaign',\n",
       " 'trafficSource_source',\n",
       " 'trafficSource_medium',\n",
       " 'trafficSource_keyword',\n",
       " 'trafficSource_isTrueDirect',\n",
       " 'trafficSource_referralPath',\n",
       " 'trafficSource_adwordsClickInfo.page',\n",
       " 'trafficSource_adwordsClickInfo.slot',\n",
       " 'trafficSource_adwordsClickInfo.gclId',\n",
       " 'trafficSource_adwordsClickInfo.adNetworkType',\n",
       " 'trafficSource_adwordsClickInfo.isVideoAd',\n",
       " 'trafficSource_adContent']"
      ]
     },
     "execution_count": 82,
     "metadata": {},
     "output_type": "execute_result"
    }
   ],
   "source": [
    "categorical_cols"
   ]
  },
  {
   "cell_type": "code",
   "execution_count": 83,
   "metadata": {},
   "outputs": [],
   "source": [
    "cat = []\n",
    "num = []"
   ]
  },
  {
   "cell_type": "markdown",
   "metadata": {},
   "source": [
    "# Devices"
   ]
  },
  {
   "cell_type": "code",
   "execution_count": 84,
   "metadata": {},
   "outputs": [],
   "source": [
    "device_cols = ['device_browser', 'device_operatingSystem', 'device_deviceCategory']\n",
    "dev = df[device_cols]\n",
    "dev_encoded = pd.get_dummies(dev)\n",
    "correlation_matrix = dev_encoded.corr()"
   ]
  },
  {
   "cell_type": "code",
   "execution_count": 85,
   "metadata": {},
   "outputs": [
    {
     "data": {
      "text/html": [
       "<div>\n",
       "<style scoped>\n",
       "    .dataframe tbody tr th:only-of-type {\n",
       "        vertical-align: middle;\n",
       "    }\n",
       "\n",
       "    .dataframe tbody tr th {\n",
       "        vertical-align: top;\n",
       "    }\n",
       "\n",
       "    .dataframe thead th {\n",
       "        text-align: right;\n",
       "    }\n",
       "</style>\n",
       "<table border=\"1\" class=\"dataframe\">\n",
       "  <thead>\n",
       "    <tr style=\"text-align: right;\">\n",
       "      <th></th>\n",
       "      <th>device_browser</th>\n",
       "      <th>device_operatingSystem</th>\n",
       "      <th>device_deviceCategory</th>\n",
       "    </tr>\n",
       "  </thead>\n",
       "  <tbody>\n",
       "    <tr>\n",
       "      <th>0</th>\n",
       "      <td>Chrome</td>\n",
       "      <td>Windows</td>\n",
       "      <td>desktop</td>\n",
       "    </tr>\n",
       "    <tr>\n",
       "      <th>1</th>\n",
       "      <td>Firefox</td>\n",
       "      <td>Macintosh</td>\n",
       "      <td>desktop</td>\n",
       "    </tr>\n",
       "    <tr>\n",
       "      <th>2</th>\n",
       "      <td>Chrome</td>\n",
       "      <td>Windows</td>\n",
       "      <td>desktop</td>\n",
       "    </tr>\n",
       "    <tr>\n",
       "      <th>3</th>\n",
       "      <td>UC Browser</td>\n",
       "      <td>Linux</td>\n",
       "      <td>desktop</td>\n",
       "    </tr>\n",
       "    <tr>\n",
       "      <th>4</th>\n",
       "      <td>Chrome</td>\n",
       "      <td>Android</td>\n",
       "      <td>mobile</td>\n",
       "    </tr>\n",
       "    <tr>\n",
       "      <th>...</th>\n",
       "      <td>...</td>\n",
       "      <td>...</td>\n",
       "      <td>...</td>\n",
       "    </tr>\n",
       "    <tr>\n",
       "      <th>633205</th>\n",
       "      <td>Chrome</td>\n",
       "      <td>Windows</td>\n",
       "      <td>desktop</td>\n",
       "    </tr>\n",
       "    <tr>\n",
       "      <th>633206</th>\n",
       "      <td>Chrome</td>\n",
       "      <td>Android</td>\n",
       "      <td>mobile</td>\n",
       "    </tr>\n",
       "    <tr>\n",
       "      <th>633207</th>\n",
       "      <td>Android Webview</td>\n",
       "      <td>Android</td>\n",
       "      <td>mobile</td>\n",
       "    </tr>\n",
       "    <tr>\n",
       "      <th>633208</th>\n",
       "      <td>Chrome</td>\n",
       "      <td>Windows</td>\n",
       "      <td>desktop</td>\n",
       "    </tr>\n",
       "    <tr>\n",
       "      <th>633209</th>\n",
       "      <td>Chrome</td>\n",
       "      <td>Android</td>\n",
       "      <td>mobile</td>\n",
       "    </tr>\n",
       "  </tbody>\n",
       "</table>\n",
       "<p>633210 rows × 3 columns</p>\n",
       "</div>"
      ],
      "text/plain": [
       "         device_browser device_operatingSystem device_deviceCategory\n",
       "0                Chrome                Windows               desktop\n",
       "1               Firefox              Macintosh               desktop\n",
       "2                Chrome                Windows               desktop\n",
       "3            UC Browser                  Linux               desktop\n",
       "4                Chrome                Android                mobile\n",
       "...                 ...                    ...                   ...\n",
       "633205           Chrome                Windows               desktop\n",
       "633206           Chrome                Android                mobile\n",
       "633207  Android Webview                Android                mobile\n",
       "633208           Chrome                Windows               desktop\n",
       "633209           Chrome                Android                mobile\n",
       "\n",
       "[633210 rows x 3 columns]"
      ]
     },
     "execution_count": 85,
     "metadata": {},
     "output_type": "execute_result"
    }
   ],
   "source": [
    "dev"
   ]
  },
  {
   "cell_type": "code",
   "execution_count": 86,
   "metadata": {},
   "outputs": [],
   "source": [
    "df['device_browser'] = df['device_browser'].astype(str)\n",
    "df['device_operatingSystem'] = df['device_operatingSystem'].astype(str)\n",
    "df['device_deviceCategory'] = df['device_deviceCategory'].astype(str)"
   ]
  },
  {
   "cell_type": "code",
   "execution_count": 87,
   "metadata": {},
   "outputs": [],
   "source": [
    "for col in device_cols:\n",
    "    cat.append(col)"
   ]
  },
  {
   "cell_type": "code",
   "execution_count": 88,
   "metadata": {},
   "outputs": [
    {
     "data": {
      "text/html": [
       "<div>\n",
       "<style scoped>\n",
       "    .dataframe tbody tr th:only-of-type {\n",
       "        vertical-align: middle;\n",
       "    }\n",
       "\n",
       "    .dataframe tbody tr th {\n",
       "        vertical-align: top;\n",
       "    }\n",
       "\n",
       "    .dataframe thead th {\n",
       "        text-align: right;\n",
       "    }\n",
       "</style>\n",
       "<table border=\"1\" class=\"dataframe\">\n",
       "  <thead>\n",
       "    <tr style=\"text-align: right;\">\n",
       "      <th></th>\n",
       "      <th>device_browser_(not set)</th>\n",
       "      <th>device_browser_ADM</th>\n",
       "      <th>device_browser_Amazon Silk</th>\n",
       "      <th>device_browser_Android Browser</th>\n",
       "      <th>device_browser_Android Webview</th>\n",
       "      <th>device_browser_Apple-iPhone7C2</th>\n",
       "      <th>device_browser_BlackBerry</th>\n",
       "      <th>device_browser_CSM Click</th>\n",
       "      <th>device_browser_Chrome</th>\n",
       "      <th>device_browser_Coc Coc</th>\n",
       "      <th>...</th>\n",
       "      <th>device_operatingSystem_OpenBSD</th>\n",
       "      <th>device_operatingSystem_Samsung</th>\n",
       "      <th>device_operatingSystem_SunOS</th>\n",
       "      <th>device_operatingSystem_Windows</th>\n",
       "      <th>device_operatingSystem_Windows Phone</th>\n",
       "      <th>device_operatingSystem_Xbox</th>\n",
       "      <th>device_operatingSystem_iOS</th>\n",
       "      <th>device_deviceCategory_desktop</th>\n",
       "      <th>device_deviceCategory_mobile</th>\n",
       "      <th>device_deviceCategory_tablet</th>\n",
       "    </tr>\n",
       "  </thead>\n",
       "  <tbody>\n",
       "    <tr>\n",
       "      <th>device_browser_(not set)</th>\n",
       "      <td>1.000000</td>\n",
       "      <td>-0.000004</td>\n",
       "      <td>-0.000070</td>\n",
       "      <td>-0.000070</td>\n",
       "      <td>-0.000229</td>\n",
       "      <td>-0.000006</td>\n",
       "      <td>-0.000042</td>\n",
       "      <td>-0.000004</td>\n",
       "      <td>-0.004035</td>\n",
       "      <td>-0.000083</td>\n",
       "      <td>...</td>\n",
       "      <td>-0.000005</td>\n",
       "      <td>-0.000046</td>\n",
       "      <td>-0.000004</td>\n",
       "      <td>-0.002311</td>\n",
       "      <td>-0.000109</td>\n",
       "      <td>-0.000025</td>\n",
       "      <td>0.000896</td>\n",
       "      <td>0.000218</td>\n",
       "      <td>-0.000013</td>\n",
       "      <td>-0.000503</td>\n",
       "    </tr>\n",
       "    <tr>\n",
       "      <th>device_browser_ADM</th>\n",
       "      <td>-0.000004</td>\n",
       "      <td>1.000000</td>\n",
       "      <td>-0.000032</td>\n",
       "      <td>-0.000031</td>\n",
       "      <td>-0.000102</td>\n",
       "      <td>-0.000003</td>\n",
       "      <td>-0.000019</td>\n",
       "      <td>-0.000002</td>\n",
       "      <td>-0.001804</td>\n",
       "      <td>-0.000037</td>\n",
       "      <td>...</td>\n",
       "      <td>-0.000002</td>\n",
       "      <td>-0.000021</td>\n",
       "      <td>-0.000002</td>\n",
       "      <td>-0.001033</td>\n",
       "      <td>-0.000049</td>\n",
       "      <td>-0.000011</td>\n",
       "      <td>-0.000426</td>\n",
       "      <td>0.000692</td>\n",
       "      <td>-0.000632</td>\n",
       "      <td>-0.000225</td>\n",
       "    </tr>\n",
       "    <tr>\n",
       "      <th>device_browser_Amazon Silk</th>\n",
       "      <td>-0.000070</td>\n",
       "      <td>-0.000032</td>\n",
       "      <td>1.000000</td>\n",
       "      <td>-0.000628</td>\n",
       "      <td>-0.002041</td>\n",
       "      <td>-0.000055</td>\n",
       "      <td>-0.000376</td>\n",
       "      <td>-0.000032</td>\n",
       "      <td>-0.036007</td>\n",
       "      <td>-0.000737</td>\n",
       "      <td>...</td>\n",
       "      <td>-0.000045</td>\n",
       "      <td>-0.000410</td>\n",
       "      <td>-0.000032</td>\n",
       "      <td>-0.020624</td>\n",
       "      <td>-0.000971</td>\n",
       "      <td>-0.000223</td>\n",
       "      <td>-0.008501</td>\n",
       "      <td>-0.045519</td>\n",
       "      <td>-0.010256</td>\n",
       "      <td>0.134668</td>\n",
       "    </tr>\n",
       "    <tr>\n",
       "      <th>device_browser_Android Browser</th>\n",
       "      <td>-0.000070</td>\n",
       "      <td>-0.000031</td>\n",
       "      <td>-0.000628</td>\n",
       "      <td>1.000000</td>\n",
       "      <td>-0.002039</td>\n",
       "      <td>-0.000055</td>\n",
       "      <td>-0.000375</td>\n",
       "      <td>-0.000031</td>\n",
       "      <td>-0.035961</td>\n",
       "      <td>-0.000736</td>\n",
       "      <td>...</td>\n",
       "      <td>-0.000045</td>\n",
       "      <td>-0.000409</td>\n",
       "      <td>-0.000031</td>\n",
       "      <td>-0.020598</td>\n",
       "      <td>-0.000969</td>\n",
       "      <td>-0.000223</td>\n",
       "      <td>-0.008491</td>\n",
       "      <td>-0.045313</td>\n",
       "      <td>0.046982</td>\n",
       "      <td>0.001701</td>\n",
       "    </tr>\n",
       "    <tr>\n",
       "      <th>device_browser_Android Webview</th>\n",
       "      <td>-0.000229</td>\n",
       "      <td>-0.000102</td>\n",
       "      <td>-0.002041</td>\n",
       "      <td>-0.002039</td>\n",
       "      <td>1.000000</td>\n",
       "      <td>-0.000177</td>\n",
       "      <td>-0.001219</td>\n",
       "      <td>-0.000102</td>\n",
       "      <td>-0.116870</td>\n",
       "      <td>-0.002391</td>\n",
       "      <td>...</td>\n",
       "      <td>-0.000145</td>\n",
       "      <td>-0.001330</td>\n",
       "      <td>-0.000102</td>\n",
       "      <td>-0.066940</td>\n",
       "      <td>-0.003150</td>\n",
       "      <td>-0.000723</td>\n",
       "      <td>-0.027593</td>\n",
       "      <td>-0.147746</td>\n",
       "      <td>0.146115</td>\n",
       "      <td>0.021917</td>\n",
       "    </tr>\n",
       "    <tr>\n",
       "      <th>...</th>\n",
       "      <td>...</td>\n",
       "      <td>...</td>\n",
       "      <td>...</td>\n",
       "      <td>...</td>\n",
       "      <td>...</td>\n",
       "      <td>...</td>\n",
       "      <td>...</td>\n",
       "      <td>...</td>\n",
       "      <td>...</td>\n",
       "      <td>...</td>\n",
       "      <td>...</td>\n",
       "      <td>...</td>\n",
       "      <td>...</td>\n",
       "      <td>...</td>\n",
       "      <td>...</td>\n",
       "      <td>...</td>\n",
       "      <td>...</td>\n",
       "      <td>...</td>\n",
       "      <td>...</td>\n",
       "      <td>...</td>\n",
       "      <td>...</td>\n",
       "    </tr>\n",
       "    <tr>\n",
       "      <th>device_operatingSystem_Xbox</th>\n",
       "      <td>-0.000025</td>\n",
       "      <td>-0.000011</td>\n",
       "      <td>-0.000223</td>\n",
       "      <td>-0.000223</td>\n",
       "      <td>-0.000723</td>\n",
       "      <td>-0.000019</td>\n",
       "      <td>-0.000133</td>\n",
       "      <td>-0.000011</td>\n",
       "      <td>-0.012759</td>\n",
       "      <td>-0.000261</td>\n",
       "      <td>...</td>\n",
       "      <td>-0.000016</td>\n",
       "      <td>-0.000145</td>\n",
       "      <td>-0.000011</td>\n",
       "      <td>-0.007308</td>\n",
       "      <td>-0.000344</td>\n",
       "      <td>1.000000</td>\n",
       "      <td>-0.003012</td>\n",
       "      <td>0.004896</td>\n",
       "      <td>-0.004468</td>\n",
       "      <td>-0.001591</td>\n",
       "    </tr>\n",
       "    <tr>\n",
       "      <th>device_operatingSystem_iOS</th>\n",
       "      <td>0.000896</td>\n",
       "      <td>-0.000426</td>\n",
       "      <td>-0.008501</td>\n",
       "      <td>-0.008491</td>\n",
       "      <td>-0.027593</td>\n",
       "      <td>-0.000738</td>\n",
       "      <td>-0.005077</td>\n",
       "      <td>-0.000426</td>\n",
       "      <td>-0.402902</td>\n",
       "      <td>-0.009958</td>\n",
       "      <td>...</td>\n",
       "      <td>-0.000602</td>\n",
       "      <td>-0.005539</td>\n",
       "      <td>-0.000426</td>\n",
       "      <td>-0.278768</td>\n",
       "      <td>-0.013119</td>\n",
       "      <td>-0.003012</td>\n",
       "      <td>1.000000</td>\n",
       "      <td>-0.615070</td>\n",
       "      <td>0.500558</td>\n",
       "      <td>0.340538</td>\n",
       "    </tr>\n",
       "    <tr>\n",
       "      <th>device_deviceCategory_desktop</th>\n",
       "      <td>0.000218</td>\n",
       "      <td>0.000692</td>\n",
       "      <td>-0.045519</td>\n",
       "      <td>-0.045313</td>\n",
       "      <td>-0.147746</td>\n",
       "      <td>0.001199</td>\n",
       "      <td>-0.027184</td>\n",
       "      <td>0.000692</td>\n",
       "      <td>0.183247</td>\n",
       "      <td>0.015421</td>\n",
       "      <td>...</td>\n",
       "      <td>0.000979</td>\n",
       "      <td>-0.029656</td>\n",
       "      <td>0.000692</td>\n",
       "      <td>0.443974</td>\n",
       "      <td>-0.070245</td>\n",
       "      <td>0.004896</td>\n",
       "      <td>-0.615070</td>\n",
       "      <td>1.000000</td>\n",
       "      <td>-0.912685</td>\n",
       "      <td>-0.324864</td>\n",
       "    </tr>\n",
       "    <tr>\n",
       "      <th>device_deviceCategory_mobile</th>\n",
       "      <td>-0.000013</td>\n",
       "      <td>-0.000632</td>\n",
       "      <td>-0.010256</td>\n",
       "      <td>0.046982</td>\n",
       "      <td>0.146115</td>\n",
       "      <td>-0.001095</td>\n",
       "      <td>0.029785</td>\n",
       "      <td>-0.000632</td>\n",
       "      <td>-0.138857</td>\n",
       "      <td>-0.014772</td>\n",
       "      <td>...</td>\n",
       "      <td>-0.000894</td>\n",
       "      <td>0.032494</td>\n",
       "      <td>-0.000632</td>\n",
       "      <td>-0.406209</td>\n",
       "      <td>0.076864</td>\n",
       "      <td>-0.004468</td>\n",
       "      <td>0.500558</td>\n",
       "      <td>-0.912685</td>\n",
       "      <td>1.000000</td>\n",
       "      <td>-0.089999</td>\n",
       "    </tr>\n",
       "    <tr>\n",
       "      <th>device_deviceCategory_tablet</th>\n",
       "      <td>-0.000503</td>\n",
       "      <td>-0.000225</td>\n",
       "      <td>0.134668</td>\n",
       "      <td>0.001701</td>\n",
       "      <td>0.021917</td>\n",
       "      <td>-0.000390</td>\n",
       "      <td>-0.002681</td>\n",
       "      <td>-0.000225</td>\n",
       "      <td>-0.125232</td>\n",
       "      <td>-0.003397</td>\n",
       "      <td>...</td>\n",
       "      <td>-0.000318</td>\n",
       "      <td>-0.002924</td>\n",
       "      <td>-0.000225</td>\n",
       "      <td>-0.141917</td>\n",
       "      <td>-0.006691</td>\n",
       "      <td>-0.001591</td>\n",
       "      <td>0.340538</td>\n",
       "      <td>-0.324864</td>\n",
       "      <td>-0.089999</td>\n",
       "      <td>1.000000</td>\n",
       "    </tr>\n",
       "  </tbody>\n",
       "</table>\n",
       "<p>71 rows × 71 columns</p>\n",
       "</div>"
      ],
      "text/plain": [
       "                                device_browser_(not set)  device_browser_ADM  \\\n",
       "device_browser_(not set)                        1.000000           -0.000004   \n",
       "device_browser_ADM                             -0.000004            1.000000   \n",
       "device_browser_Amazon Silk                     -0.000070           -0.000032   \n",
       "device_browser_Android Browser                 -0.000070           -0.000031   \n",
       "device_browser_Android Webview                 -0.000229           -0.000102   \n",
       "...                                                  ...                 ...   \n",
       "device_operatingSystem_Xbox                    -0.000025           -0.000011   \n",
       "device_operatingSystem_iOS                      0.000896           -0.000426   \n",
       "device_deviceCategory_desktop                   0.000218            0.000692   \n",
       "device_deviceCategory_mobile                   -0.000013           -0.000632   \n",
       "device_deviceCategory_tablet                   -0.000503           -0.000225   \n",
       "\n",
       "                                device_browser_Amazon Silk  \\\n",
       "device_browser_(not set)                         -0.000070   \n",
       "device_browser_ADM                               -0.000032   \n",
       "device_browser_Amazon Silk                        1.000000   \n",
       "device_browser_Android Browser                   -0.000628   \n",
       "device_browser_Android Webview                   -0.002041   \n",
       "...                                                    ...   \n",
       "device_operatingSystem_Xbox                      -0.000223   \n",
       "device_operatingSystem_iOS                       -0.008501   \n",
       "device_deviceCategory_desktop                    -0.045519   \n",
       "device_deviceCategory_mobile                     -0.010256   \n",
       "device_deviceCategory_tablet                      0.134668   \n",
       "\n",
       "                                device_browser_Android Browser  \\\n",
       "device_browser_(not set)                             -0.000070   \n",
       "device_browser_ADM                                   -0.000031   \n",
       "device_browser_Amazon Silk                           -0.000628   \n",
       "device_browser_Android Browser                        1.000000   \n",
       "device_browser_Android Webview                       -0.002039   \n",
       "...                                                        ...   \n",
       "device_operatingSystem_Xbox                          -0.000223   \n",
       "device_operatingSystem_iOS                           -0.008491   \n",
       "device_deviceCategory_desktop                        -0.045313   \n",
       "device_deviceCategory_mobile                          0.046982   \n",
       "device_deviceCategory_tablet                          0.001701   \n",
       "\n",
       "                                device_browser_Android Webview  \\\n",
       "device_browser_(not set)                             -0.000229   \n",
       "device_browser_ADM                                   -0.000102   \n",
       "device_browser_Amazon Silk                           -0.002041   \n",
       "device_browser_Android Browser                       -0.002039   \n",
       "device_browser_Android Webview                        1.000000   \n",
       "...                                                        ...   \n",
       "device_operatingSystem_Xbox                          -0.000723   \n",
       "device_operatingSystem_iOS                           -0.027593   \n",
       "device_deviceCategory_desktop                        -0.147746   \n",
       "device_deviceCategory_mobile                          0.146115   \n",
       "device_deviceCategory_tablet                          0.021917   \n",
       "\n",
       "                                device_browser_Apple-iPhone7C2  \\\n",
       "device_browser_(not set)                             -0.000006   \n",
       "device_browser_ADM                                   -0.000003   \n",
       "device_browser_Amazon Silk                           -0.000055   \n",
       "device_browser_Android Browser                       -0.000055   \n",
       "device_browser_Android Webview                       -0.000177   \n",
       "...                                                        ...   \n",
       "device_operatingSystem_Xbox                          -0.000019   \n",
       "device_operatingSystem_iOS                           -0.000738   \n",
       "device_deviceCategory_desktop                         0.001199   \n",
       "device_deviceCategory_mobile                         -0.001095   \n",
       "device_deviceCategory_tablet                         -0.000390   \n",
       "\n",
       "                                device_browser_BlackBerry  \\\n",
       "device_browser_(not set)                        -0.000042   \n",
       "device_browser_ADM                              -0.000019   \n",
       "device_browser_Amazon Silk                      -0.000376   \n",
       "device_browser_Android Browser                  -0.000375   \n",
       "device_browser_Android Webview                  -0.001219   \n",
       "...                                                   ...   \n",
       "device_operatingSystem_Xbox                     -0.000133   \n",
       "device_operatingSystem_iOS                      -0.005077   \n",
       "device_deviceCategory_desktop                   -0.027184   \n",
       "device_deviceCategory_mobile                     0.029785   \n",
       "device_deviceCategory_tablet                    -0.002681   \n",
       "\n",
       "                                device_browser_CSM Click  \\\n",
       "device_browser_(not set)                       -0.000004   \n",
       "device_browser_ADM                             -0.000002   \n",
       "device_browser_Amazon Silk                     -0.000032   \n",
       "device_browser_Android Browser                 -0.000031   \n",
       "device_browser_Android Webview                 -0.000102   \n",
       "...                                                  ...   \n",
       "device_operatingSystem_Xbox                    -0.000011   \n",
       "device_operatingSystem_iOS                     -0.000426   \n",
       "device_deviceCategory_desktop                   0.000692   \n",
       "device_deviceCategory_mobile                   -0.000632   \n",
       "device_deviceCategory_tablet                   -0.000225   \n",
       "\n",
       "                                device_browser_Chrome  device_browser_Coc Coc  \\\n",
       "device_browser_(not set)                    -0.004035               -0.000083   \n",
       "device_browser_ADM                          -0.001804               -0.000037   \n",
       "device_browser_Amazon Silk                  -0.036007               -0.000737   \n",
       "device_browser_Android Browser              -0.035961               -0.000736   \n",
       "device_browser_Android Webview              -0.116870               -0.002391   \n",
       "...                                               ...                     ...   \n",
       "device_operatingSystem_Xbox                 -0.012759               -0.000261   \n",
       "device_operatingSystem_iOS                  -0.402902               -0.009958   \n",
       "device_deviceCategory_desktop                0.183247                0.015421   \n",
       "device_deviceCategory_mobile                -0.138857               -0.014772   \n",
       "device_deviceCategory_tablet                -0.125232               -0.003397   \n",
       "\n",
       "                                ...  device_operatingSystem_OpenBSD  \\\n",
       "device_browser_(not set)        ...                       -0.000005   \n",
       "device_browser_ADM              ...                       -0.000002   \n",
       "device_browser_Amazon Silk      ...                       -0.000045   \n",
       "device_browser_Android Browser  ...                       -0.000045   \n",
       "device_browser_Android Webview  ...                       -0.000145   \n",
       "...                             ...                             ...   \n",
       "device_operatingSystem_Xbox     ...                       -0.000016   \n",
       "device_operatingSystem_iOS      ...                       -0.000602   \n",
       "device_deviceCategory_desktop   ...                        0.000979   \n",
       "device_deviceCategory_mobile    ...                       -0.000894   \n",
       "device_deviceCategory_tablet    ...                       -0.000318   \n",
       "\n",
       "                                device_operatingSystem_Samsung  \\\n",
       "device_browser_(not set)                             -0.000046   \n",
       "device_browser_ADM                                   -0.000021   \n",
       "device_browser_Amazon Silk                           -0.000410   \n",
       "device_browser_Android Browser                       -0.000409   \n",
       "device_browser_Android Webview                       -0.001330   \n",
       "...                                                        ...   \n",
       "device_operatingSystem_Xbox                          -0.000145   \n",
       "device_operatingSystem_iOS                           -0.005539   \n",
       "device_deviceCategory_desktop                        -0.029656   \n",
       "device_deviceCategory_mobile                          0.032494   \n",
       "device_deviceCategory_tablet                         -0.002924   \n",
       "\n",
       "                                device_operatingSystem_SunOS  \\\n",
       "device_browser_(not set)                           -0.000004   \n",
       "device_browser_ADM                                 -0.000002   \n",
       "device_browser_Amazon Silk                         -0.000032   \n",
       "device_browser_Android Browser                     -0.000031   \n",
       "device_browser_Android Webview                     -0.000102   \n",
       "...                                                      ...   \n",
       "device_operatingSystem_Xbox                        -0.000011   \n",
       "device_operatingSystem_iOS                         -0.000426   \n",
       "device_deviceCategory_desktop                       0.000692   \n",
       "device_deviceCategory_mobile                       -0.000632   \n",
       "device_deviceCategory_tablet                       -0.000225   \n",
       "\n",
       "                                device_operatingSystem_Windows  \\\n",
       "device_browser_(not set)                             -0.002311   \n",
       "device_browser_ADM                                   -0.001033   \n",
       "device_browser_Amazon Silk                           -0.020624   \n",
       "device_browser_Android Browser                       -0.020598   \n",
       "device_browser_Android Webview                       -0.066940   \n",
       "...                                                        ...   \n",
       "device_operatingSystem_Xbox                          -0.007308   \n",
       "device_operatingSystem_iOS                           -0.278768   \n",
       "device_deviceCategory_desktop                         0.443974   \n",
       "device_deviceCategory_mobile                         -0.406209   \n",
       "device_deviceCategory_tablet                         -0.141917   \n",
       "\n",
       "                                device_operatingSystem_Windows Phone  \\\n",
       "device_browser_(not set)                                   -0.000109   \n",
       "device_browser_ADM                                         -0.000049   \n",
       "device_browser_Amazon Silk                                 -0.000971   \n",
       "device_browser_Android Browser                             -0.000969   \n",
       "device_browser_Android Webview                             -0.003150   \n",
       "...                                                              ...   \n",
       "device_operatingSystem_Xbox                                -0.000344   \n",
       "device_operatingSystem_iOS                                 -0.013119   \n",
       "device_deviceCategory_desktop                              -0.070245   \n",
       "device_deviceCategory_mobile                                0.076864   \n",
       "device_deviceCategory_tablet                               -0.006691   \n",
       "\n",
       "                                device_operatingSystem_Xbox  \\\n",
       "device_browser_(not set)                          -0.000025   \n",
       "device_browser_ADM                                -0.000011   \n",
       "device_browser_Amazon Silk                        -0.000223   \n",
       "device_browser_Android Browser                    -0.000223   \n",
       "device_browser_Android Webview                    -0.000723   \n",
       "...                                                     ...   \n",
       "device_operatingSystem_Xbox                        1.000000   \n",
       "device_operatingSystem_iOS                        -0.003012   \n",
       "device_deviceCategory_desktop                      0.004896   \n",
       "device_deviceCategory_mobile                      -0.004468   \n",
       "device_deviceCategory_tablet                      -0.001591   \n",
       "\n",
       "                                device_operatingSystem_iOS  \\\n",
       "device_browser_(not set)                          0.000896   \n",
       "device_browser_ADM                               -0.000426   \n",
       "device_browser_Amazon Silk                       -0.008501   \n",
       "device_browser_Android Browser                   -0.008491   \n",
       "device_browser_Android Webview                   -0.027593   \n",
       "...                                                    ...   \n",
       "device_operatingSystem_Xbox                      -0.003012   \n",
       "device_operatingSystem_iOS                        1.000000   \n",
       "device_deviceCategory_desktop                    -0.615070   \n",
       "device_deviceCategory_mobile                      0.500558   \n",
       "device_deviceCategory_tablet                      0.340538   \n",
       "\n",
       "                                device_deviceCategory_desktop  \\\n",
       "device_browser_(not set)                             0.000218   \n",
       "device_browser_ADM                                   0.000692   \n",
       "device_browser_Amazon Silk                          -0.045519   \n",
       "device_browser_Android Browser                      -0.045313   \n",
       "device_browser_Android Webview                      -0.147746   \n",
       "...                                                       ...   \n",
       "device_operatingSystem_Xbox                          0.004896   \n",
       "device_operatingSystem_iOS                          -0.615070   \n",
       "device_deviceCategory_desktop                        1.000000   \n",
       "device_deviceCategory_mobile                        -0.912685   \n",
       "device_deviceCategory_tablet                        -0.324864   \n",
       "\n",
       "                                device_deviceCategory_mobile  \\\n",
       "device_browser_(not set)                           -0.000013   \n",
       "device_browser_ADM                                 -0.000632   \n",
       "device_browser_Amazon Silk                         -0.010256   \n",
       "device_browser_Android Browser                      0.046982   \n",
       "device_browser_Android Webview                      0.146115   \n",
       "...                                                      ...   \n",
       "device_operatingSystem_Xbox                        -0.004468   \n",
       "device_operatingSystem_iOS                          0.500558   \n",
       "device_deviceCategory_desktop                      -0.912685   \n",
       "device_deviceCategory_mobile                        1.000000   \n",
       "device_deviceCategory_tablet                       -0.089999   \n",
       "\n",
       "                                device_deviceCategory_tablet  \n",
       "device_browser_(not set)                           -0.000503  \n",
       "device_browser_ADM                                 -0.000225  \n",
       "device_browser_Amazon Silk                          0.134668  \n",
       "device_browser_Android Browser                      0.001701  \n",
       "device_browser_Android Webview                      0.021917  \n",
       "...                                                      ...  \n",
       "device_operatingSystem_Xbox                        -0.001591  \n",
       "device_operatingSystem_iOS                          0.340538  \n",
       "device_deviceCategory_desktop                      -0.324864  \n",
       "device_deviceCategory_mobile                       -0.089999  \n",
       "device_deviceCategory_tablet                        1.000000  \n",
       "\n",
       "[71 rows x 71 columns]"
      ]
     },
     "execution_count": 88,
     "metadata": {},
     "output_type": "execute_result"
    }
   ],
   "source": [
    "correlation_matrix"
   ]
  },
  {
   "cell_type": "code",
   "execution_count": 89,
   "metadata": {},
   "outputs": [],
   "source": [
    "def na_per(df, name):\n",
    "    nan_fraction = df.isna().mean()\n",
    "    print(f\"Доля NaN в колонке {name}:\")\n",
    "    print(nan_fraction)"
   ]
  },
  {
   "cell_type": "code",
   "execution_count": 90,
   "metadata": {},
   "outputs": [
    {
     "name": "stdout",
     "output_type": "stream",
     "text": [
      "Доля NaN в колонке device_browser:\n",
      "0.0\n",
      "Доля NaN в колонке device_operatingSystem:\n",
      "0.0\n",
      "Доля NaN в колонке device_deviceCategory:\n",
      "0.0\n"
     ]
    }
   ],
   "source": [
    "for col in device_cols:\n",
    "    na_per(df[col], col)"
   ]
  },
  {
   "cell_type": "code",
   "execution_count": 91,
   "metadata": {},
   "outputs": [
    {
     "data": {
      "application/vnd.plotly.v1+json": {
       "config": {
        "linkText": "Export to plotly.com",
        "plotlyServerURL": "https://plotly.com",
        "showLink": false
       },
       "data": [
        {
         "marker": {
          "color": "rgba(50, 171, 96, 0.6)"
         },
         "orientation": "h",
         "showlegend": false,
         "type": "bar",
         "x": [
          1744,
          4168,
          4174,
          4199,
          4496,
          7001,
          14106,
          26113,
          136938,
          426372
         ],
         "xaxis": "x",
         "y": [
          "YaBrowser",
          "Android Webview",
          "Opera Mini",
          "Safari (in-app)",
          "Opera",
          "Edge",
          "Internet Explorer",
          "Firefox",
          "Safari",
          "Chrome"
         ],
         "yaxis": "y"
        },
        {
         "marker": {
          "color": "rgba(50, 171, 96, 0.6)"
         },
         "orientation": "h",
         "showlegend": false,
         "type": "bar",
         "x": [
          1744,
          4168,
          4174,
          4199,
          4496,
          7001,
          14106,
          26113,
          136938,
          426372
         ],
         "xaxis": "x2",
         "y": [
          "YaBrowser",
          "Android Webview",
          "Opera Mini",
          "Safari (in-app)",
          "Opera",
          "Edge",
          "Internet Explorer",
          "Firefox",
          "Safari",
          "Chrome"
         ],
         "yaxis": "y2"
        },
        {
         "marker": {
          "color": "rgba(50, 171, 96, 0.6)"
         },
         "orientation": "h",
         "showlegend": false,
         "type": "bar",
         "x": [
          0,
          15561.420345489443,
          0,
          20445.344129554655,
          22657.918149466193,
          646631.9051564062,
          305881.18644548417,
          1329182.0141691878,
          282697.9364091779,
          2163959.7113881772
         ],
         "xaxis": "x3",
         "y": [
          "YaBrowser",
          "Android Webview",
          "Opera Mini",
          "Safari (in-app)",
          "Opera",
          "Edge",
          "Internet Explorer",
          "Firefox",
          "Safari",
          "Chrome"
         ],
         "yaxis": "y3"
        },
        {
         "marker": {
          "color": "rgba(71, 58, 131, 0.8)"
         },
         "orientation": "h",
         "showlegend": false,
         "type": "bar",
         "x": [
          19655,
          127793,
          485762
         ],
         "xaxis": "x4",
         "y": [
          "tablet",
          "mobile",
          "desktop"
         ],
         "yaxis": "y4"
        },
        {
         "marker": {
          "color": "rgba(71, 58, 131, 0.8)"
         },
         "orientation": "h",
         "showlegend": false,
         "type": "bar",
         "x": [
          19655,
          127793,
          485762
         ],
         "xaxis": "x5",
         "y": [
          "tablet",
          "mobile",
          "desktop"
         ],
         "yaxis": "y5"
        },
        {
         "marker": {
          "color": "rgba(71, 58, 131, 0.8)"
         },
         "orientation": "h",
         "showlegend": false,
         "type": "bar",
         "x": [
          329871.27957262786,
          269526.89227109466,
          1985066.7196198963
         ],
         "xaxis": "x6",
         "y": [
          "tablet",
          "mobile",
          "desktop"
         ],
         "yaxis": "y6"
        },
        {
         "marker": {
          "color": "rgba(246, 78, 139, 0.6)"
         },
         "orientation": "h",
         "showlegend": false,
         "type": "bar",
         "x": [
          162,
          169,
          947,
          3215,
          17073,
          22900,
          65263,
          76696,
          191061,
          255463
         ],
         "xaxis": "x7",
         "y": [
          "BlackBerry",
          "Samsung",
          "Windows Phone",
          "(not set)",
          "Chrome OS",
          "Linux",
          "iOS",
          "Android",
          "Macintosh",
          "Windows"
         ],
         "yaxis": "y7"
        },
        {
         "marker": {
          "color": "rgba(246, 78, 139, 0.6)"
         },
         "orientation": "h",
         "showlegend": false,
         "type": "bar",
         "x": [
          162,
          169,
          947,
          3215,
          17073,
          22900,
          65263,
          76696,
          191061,
          255463
         ],
         "xaxis": "x8",
         "y": [
          "BlackBerry",
          "Samsung",
          "Windows Phone",
          "(not set)",
          "Chrome OS",
          "Linux",
          "iOS",
          "Android",
          "Macintosh",
          "Windows"
         ],
         "yaxis": "y8"
        },
        {
         "marker": {
          "color": "rgba(246, 78, 139, 0.6)"
         },
         "orientation": "h",
         "showlegend": false,
         "type": "bar",
         "x": [
          0,
          0,
          27877.507919746567,
          0,
          7284573.315058865,
          1229324.8887336245,
          223633.4523389976,
          334352.2497131532,
          2929439.0266564083,
          989222.5873179287
         ],
         "xaxis": "x9",
         "y": [
          "BlackBerry",
          "Samsung",
          "Windows Phone",
          "(not set)",
          "Chrome OS",
          "Linux",
          "iOS",
          "Android",
          "Macintosh",
          "Windows"
         ],
         "yaxis": "y9"
        }
       ],
       "layout": {
        "annotations": [
         {
          "font": {
           "size": 16
          },
          "showarrow": false,
          "text": "Device Browser - Count",
          "x": 0.14444444444444446,
          "xanchor": "center",
          "xref": "paper",
          "y": 1,
          "yanchor": "bottom",
          "yref": "paper"
         },
         {
          "font": {
           "size": 16
          },
          "showarrow": false,
          "text": "Device Browser - Non-zero Revenue Count",
          "x": 0.5,
          "xanchor": "center",
          "xref": "paper",
          "y": 1,
          "yanchor": "bottom",
          "yref": "paper"
         },
         {
          "font": {
           "size": 16
          },
          "showarrow": false,
          "text": "Device Browser - Mean Revenue",
          "x": 0.8555555555555556,
          "xanchor": "center",
          "xref": "paper",
          "y": 1,
          "yanchor": "bottom",
          "yref": "paper"
         },
         {
          "font": {
           "size": 16
          },
          "showarrow": false,
          "text": "Device Category - Count",
          "x": 0.14444444444444446,
          "xanchor": "center",
          "xref": "paper",
          "y": 0.6533333333333333,
          "yanchor": "bottom",
          "yref": "paper"
         },
         {
          "font": {
           "size": 16
          },
          "showarrow": false,
          "text": "Device Category - Non-zero Revenue Count",
          "x": 0.5,
          "xanchor": "center",
          "xref": "paper",
          "y": 0.6533333333333333,
          "yanchor": "bottom",
          "yref": "paper"
         },
         {
          "font": {
           "size": 16
          },
          "showarrow": false,
          "text": "Device Category - Mean Revenue",
          "x": 0.8555555555555556,
          "xanchor": "center",
          "xref": "paper",
          "y": 0.6533333333333333,
          "yanchor": "bottom",
          "yref": "paper"
         },
         {
          "font": {
           "size": 16
          },
          "showarrow": false,
          "text": "Device OS - Count",
          "x": 0.14444444444444446,
          "xanchor": "center",
          "xref": "paper",
          "y": 0.3066666666666667,
          "yanchor": "bottom",
          "yref": "paper"
         },
         {
          "font": {
           "size": 16
          },
          "showarrow": false,
          "text": "Device OS - Non-zero Revenue Count",
          "x": 0.5,
          "xanchor": "center",
          "xref": "paper",
          "y": 0.3066666666666667,
          "yanchor": "bottom",
          "yref": "paper"
         },
         {
          "font": {
           "size": 16
          },
          "showarrow": false,
          "text": "Device OS - Mean Revenue",
          "x": 0.8555555555555556,
          "xanchor": "center",
          "xref": "paper",
          "y": 0.3066666666666667,
          "yanchor": "bottom",
          "yref": "paper"
         }
        ],
        "height": 1200,
        "paper_bgcolor": "rgb(233,233,233)",
        "template": {
         "data": {
          "bar": [
           {
            "error_x": {
             "color": "#2a3f5f"
            },
            "error_y": {
             "color": "#2a3f5f"
            },
            "marker": {
             "line": {
              "color": "#E5ECF6",
              "width": 0.5
             },
             "pattern": {
              "fillmode": "overlay",
              "size": 10,
              "solidity": 0.2
             }
            },
            "type": "bar"
           }
          ],
          "barpolar": [
           {
            "marker": {
             "line": {
              "color": "#E5ECF6",
              "width": 0.5
             },
             "pattern": {
              "fillmode": "overlay",
              "size": 10,
              "solidity": 0.2
             }
            },
            "type": "barpolar"
           }
          ],
          "carpet": [
           {
            "aaxis": {
             "endlinecolor": "#2a3f5f",
             "gridcolor": "white",
             "linecolor": "white",
             "minorgridcolor": "white",
             "startlinecolor": "#2a3f5f"
            },
            "baxis": {
             "endlinecolor": "#2a3f5f",
             "gridcolor": "white",
             "linecolor": "white",
             "minorgridcolor": "white",
             "startlinecolor": "#2a3f5f"
            },
            "type": "carpet"
           }
          ],
          "choropleth": [
           {
            "colorbar": {
             "outlinewidth": 0,
             "ticks": ""
            },
            "type": "choropleth"
           }
          ],
          "contour": [
           {
            "colorbar": {
             "outlinewidth": 0,
             "ticks": ""
            },
            "colorscale": [
             [
              0,
              "#0d0887"
             ],
             [
              0.1111111111111111,
              "#46039f"
             ],
             [
              0.2222222222222222,
              "#7201a8"
             ],
             [
              0.3333333333333333,
              "#9c179e"
             ],
             [
              0.4444444444444444,
              "#bd3786"
             ],
             [
              0.5555555555555556,
              "#d8576b"
             ],
             [
              0.6666666666666666,
              "#ed7953"
             ],
             [
              0.7777777777777778,
              "#fb9f3a"
             ],
             [
              0.8888888888888888,
              "#fdca26"
             ],
             [
              1,
              "#f0f921"
             ]
            ],
            "type": "contour"
           }
          ],
          "contourcarpet": [
           {
            "colorbar": {
             "outlinewidth": 0,
             "ticks": ""
            },
            "type": "contourcarpet"
           }
          ],
          "heatmap": [
           {
            "colorbar": {
             "outlinewidth": 0,
             "ticks": ""
            },
            "colorscale": [
             [
              0,
              "#0d0887"
             ],
             [
              0.1111111111111111,
              "#46039f"
             ],
             [
              0.2222222222222222,
              "#7201a8"
             ],
             [
              0.3333333333333333,
              "#9c179e"
             ],
             [
              0.4444444444444444,
              "#bd3786"
             ],
             [
              0.5555555555555556,
              "#d8576b"
             ],
             [
              0.6666666666666666,
              "#ed7953"
             ],
             [
              0.7777777777777778,
              "#fb9f3a"
             ],
             [
              0.8888888888888888,
              "#fdca26"
             ],
             [
              1,
              "#f0f921"
             ]
            ],
            "type": "heatmap"
           }
          ],
          "heatmapgl": [
           {
            "colorbar": {
             "outlinewidth": 0,
             "ticks": ""
            },
            "colorscale": [
             [
              0,
              "#0d0887"
             ],
             [
              0.1111111111111111,
              "#46039f"
             ],
             [
              0.2222222222222222,
              "#7201a8"
             ],
             [
              0.3333333333333333,
              "#9c179e"
             ],
             [
              0.4444444444444444,
              "#bd3786"
             ],
             [
              0.5555555555555556,
              "#d8576b"
             ],
             [
              0.6666666666666666,
              "#ed7953"
             ],
             [
              0.7777777777777778,
              "#fb9f3a"
             ],
             [
              0.8888888888888888,
              "#fdca26"
             ],
             [
              1,
              "#f0f921"
             ]
            ],
            "type": "heatmapgl"
           }
          ],
          "histogram": [
           {
            "marker": {
             "pattern": {
              "fillmode": "overlay",
              "size": 10,
              "solidity": 0.2
             }
            },
            "type": "histogram"
           }
          ],
          "histogram2d": [
           {
            "colorbar": {
             "outlinewidth": 0,
             "ticks": ""
            },
            "colorscale": [
             [
              0,
              "#0d0887"
             ],
             [
              0.1111111111111111,
              "#46039f"
             ],
             [
              0.2222222222222222,
              "#7201a8"
             ],
             [
              0.3333333333333333,
              "#9c179e"
             ],
             [
              0.4444444444444444,
              "#bd3786"
             ],
             [
              0.5555555555555556,
              "#d8576b"
             ],
             [
              0.6666666666666666,
              "#ed7953"
             ],
             [
              0.7777777777777778,
              "#fb9f3a"
             ],
             [
              0.8888888888888888,
              "#fdca26"
             ],
             [
              1,
              "#f0f921"
             ]
            ],
            "type": "histogram2d"
           }
          ],
          "histogram2dcontour": [
           {
            "colorbar": {
             "outlinewidth": 0,
             "ticks": ""
            },
            "colorscale": [
             [
              0,
              "#0d0887"
             ],
             [
              0.1111111111111111,
              "#46039f"
             ],
             [
              0.2222222222222222,
              "#7201a8"
             ],
             [
              0.3333333333333333,
              "#9c179e"
             ],
             [
              0.4444444444444444,
              "#bd3786"
             ],
             [
              0.5555555555555556,
              "#d8576b"
             ],
             [
              0.6666666666666666,
              "#ed7953"
             ],
             [
              0.7777777777777778,
              "#fb9f3a"
             ],
             [
              0.8888888888888888,
              "#fdca26"
             ],
             [
              1,
              "#f0f921"
             ]
            ],
            "type": "histogram2dcontour"
           }
          ],
          "mesh3d": [
           {
            "colorbar": {
             "outlinewidth": 0,
             "ticks": ""
            },
            "type": "mesh3d"
           }
          ],
          "parcoords": [
           {
            "line": {
             "colorbar": {
              "outlinewidth": 0,
              "ticks": ""
             }
            },
            "type": "parcoords"
           }
          ],
          "pie": [
           {
            "automargin": true,
            "type": "pie"
           }
          ],
          "scatter": [
           {
            "fillpattern": {
             "fillmode": "overlay",
             "size": 10,
             "solidity": 0.2
            },
            "type": "scatter"
           }
          ],
          "scatter3d": [
           {
            "line": {
             "colorbar": {
              "outlinewidth": 0,
              "ticks": ""
             }
            },
            "marker": {
             "colorbar": {
              "outlinewidth": 0,
              "ticks": ""
             }
            },
            "type": "scatter3d"
           }
          ],
          "scattercarpet": [
           {
            "marker": {
             "colorbar": {
              "outlinewidth": 0,
              "ticks": ""
             }
            },
            "type": "scattercarpet"
           }
          ],
          "scattergeo": [
           {
            "marker": {
             "colorbar": {
              "outlinewidth": 0,
              "ticks": ""
             }
            },
            "type": "scattergeo"
           }
          ],
          "scattergl": [
           {
            "marker": {
             "colorbar": {
              "outlinewidth": 0,
              "ticks": ""
             }
            },
            "type": "scattergl"
           }
          ],
          "scattermapbox": [
           {
            "marker": {
             "colorbar": {
              "outlinewidth": 0,
              "ticks": ""
             }
            },
            "type": "scattermapbox"
           }
          ],
          "scatterpolar": [
           {
            "marker": {
             "colorbar": {
              "outlinewidth": 0,
              "ticks": ""
             }
            },
            "type": "scatterpolar"
           }
          ],
          "scatterpolargl": [
           {
            "marker": {
             "colorbar": {
              "outlinewidth": 0,
              "ticks": ""
             }
            },
            "type": "scatterpolargl"
           }
          ],
          "scatterternary": [
           {
            "marker": {
             "colorbar": {
              "outlinewidth": 0,
              "ticks": ""
             }
            },
            "type": "scatterternary"
           }
          ],
          "surface": [
           {
            "colorbar": {
             "outlinewidth": 0,
             "ticks": ""
            },
            "colorscale": [
             [
              0,
              "#0d0887"
             ],
             [
              0.1111111111111111,
              "#46039f"
             ],
             [
              0.2222222222222222,
              "#7201a8"
             ],
             [
              0.3333333333333333,
              "#9c179e"
             ],
             [
              0.4444444444444444,
              "#bd3786"
             ],
             [
              0.5555555555555556,
              "#d8576b"
             ],
             [
              0.6666666666666666,
              "#ed7953"
             ],
             [
              0.7777777777777778,
              "#fb9f3a"
             ],
             [
              0.8888888888888888,
              "#fdca26"
             ],
             [
              1,
              "#f0f921"
             ]
            ],
            "type": "surface"
           }
          ],
          "table": [
           {
            "cells": {
             "fill": {
              "color": "#EBF0F8"
             },
             "line": {
              "color": "white"
             }
            },
            "header": {
             "fill": {
              "color": "#C8D4E3"
             },
             "line": {
              "color": "white"
             }
            },
            "type": "table"
           }
          ]
         },
         "layout": {
          "annotationdefaults": {
           "arrowcolor": "#2a3f5f",
           "arrowhead": 0,
           "arrowwidth": 1
          },
          "autotypenumbers": "strict",
          "coloraxis": {
           "colorbar": {
            "outlinewidth": 0,
            "ticks": ""
           }
          },
          "colorscale": {
           "diverging": [
            [
             0,
             "#8e0152"
            ],
            [
             0.1,
             "#c51b7d"
            ],
            [
             0.2,
             "#de77ae"
            ],
            [
             0.3,
             "#f1b6da"
            ],
            [
             0.4,
             "#fde0ef"
            ],
            [
             0.5,
             "#f7f7f7"
            ],
            [
             0.6,
             "#e6f5d0"
            ],
            [
             0.7,
             "#b8e186"
            ],
            [
             0.8,
             "#7fbc41"
            ],
            [
             0.9,
             "#4d9221"
            ],
            [
             1,
             "#276419"
            ]
           ],
           "sequential": [
            [
             0,
             "#0d0887"
            ],
            [
             0.1111111111111111,
             "#46039f"
            ],
            [
             0.2222222222222222,
             "#7201a8"
            ],
            [
             0.3333333333333333,
             "#9c179e"
            ],
            [
             0.4444444444444444,
             "#bd3786"
            ],
            [
             0.5555555555555556,
             "#d8576b"
            ],
            [
             0.6666666666666666,
             "#ed7953"
            ],
            [
             0.7777777777777778,
             "#fb9f3a"
            ],
            [
             0.8888888888888888,
             "#fdca26"
            ],
            [
             1,
             "#f0f921"
            ]
           ],
           "sequentialminus": [
            [
             0,
             "#0d0887"
            ],
            [
             0.1111111111111111,
             "#46039f"
            ],
            [
             0.2222222222222222,
             "#7201a8"
            ],
            [
             0.3333333333333333,
             "#9c179e"
            ],
            [
             0.4444444444444444,
             "#bd3786"
            ],
            [
             0.5555555555555556,
             "#d8576b"
            ],
            [
             0.6666666666666666,
             "#ed7953"
            ],
            [
             0.7777777777777778,
             "#fb9f3a"
            ],
            [
             0.8888888888888888,
             "#fdca26"
            ],
            [
             1,
             "#f0f921"
            ]
           ]
          },
          "colorway": [
           "#636efa",
           "#EF553B",
           "#00cc96",
           "#ab63fa",
           "#FFA15A",
           "#19d3f3",
           "#FF6692",
           "#B6E880",
           "#FF97FF",
           "#FECB52"
          ],
          "font": {
           "color": "#2a3f5f"
          },
          "geo": {
           "bgcolor": "white",
           "lakecolor": "white",
           "landcolor": "#E5ECF6",
           "showlakes": true,
           "showland": true,
           "subunitcolor": "white"
          },
          "hoverlabel": {
           "align": "left"
          },
          "hovermode": "closest",
          "mapbox": {
           "style": "light"
          },
          "paper_bgcolor": "white",
          "plot_bgcolor": "#E5ECF6",
          "polar": {
           "angularaxis": {
            "gridcolor": "white",
            "linecolor": "white",
            "ticks": ""
           },
           "bgcolor": "#E5ECF6",
           "radialaxis": {
            "gridcolor": "white",
            "linecolor": "white",
            "ticks": ""
           }
          },
          "scene": {
           "xaxis": {
            "backgroundcolor": "#E5ECF6",
            "gridcolor": "white",
            "gridwidth": 2,
            "linecolor": "white",
            "showbackground": true,
            "ticks": "",
            "zerolinecolor": "white"
           },
           "yaxis": {
            "backgroundcolor": "#E5ECF6",
            "gridcolor": "white",
            "gridwidth": 2,
            "linecolor": "white",
            "showbackground": true,
            "ticks": "",
            "zerolinecolor": "white"
           },
           "zaxis": {
            "backgroundcolor": "#E5ECF6",
            "gridcolor": "white",
            "gridwidth": 2,
            "linecolor": "white",
            "showbackground": true,
            "ticks": "",
            "zerolinecolor": "white"
           }
          },
          "shapedefaults": {
           "line": {
            "color": "#2a3f5f"
           }
          },
          "ternary": {
           "aaxis": {
            "gridcolor": "white",
            "linecolor": "white",
            "ticks": ""
           },
           "baxis": {
            "gridcolor": "white",
            "linecolor": "white",
            "ticks": ""
           },
           "bgcolor": "#E5ECF6",
           "caxis": {
            "gridcolor": "white",
            "linecolor": "white",
            "ticks": ""
           }
          },
          "title": {
           "x": 0.05
          },
          "xaxis": {
           "automargin": true,
           "gridcolor": "white",
           "linecolor": "white",
           "ticks": "",
           "title": {
            "standoff": 15
           },
           "zerolinecolor": "white",
           "zerolinewidth": 2
          },
          "yaxis": {
           "automargin": true,
           "gridcolor": "white",
           "linecolor": "white",
           "ticks": "",
           "title": {
            "standoff": 15
           },
           "zerolinecolor": "white",
           "zerolinewidth": 2
          }
         }
        },
        "title": {
         "text": "Device Plots"
        },
        "width": 1200,
        "xaxis": {
         "anchor": "y",
         "domain": [
          0,
          0.2888888888888889
         ]
        },
        "xaxis2": {
         "anchor": "y2",
         "domain": [
          0.35555555555555557,
          0.6444444444444445
         ]
        },
        "xaxis3": {
         "anchor": "y3",
         "domain": [
          0.7111111111111111,
          1
         ]
        },
        "xaxis4": {
         "anchor": "y4",
         "domain": [
          0,
          0.2888888888888889
         ]
        },
        "xaxis5": {
         "anchor": "y5",
         "domain": [
          0.35555555555555557,
          0.6444444444444445
         ]
        },
        "xaxis6": {
         "anchor": "y6",
         "domain": [
          0.7111111111111111,
          1
         ]
        },
        "xaxis7": {
         "anchor": "y7",
         "domain": [
          0,
          0.2888888888888889
         ]
        },
        "xaxis8": {
         "anchor": "y8",
         "domain": [
          0.35555555555555557,
          0.6444444444444445
         ]
        },
        "xaxis9": {
         "anchor": "y9",
         "domain": [
          0.7111111111111111,
          1
         ]
        },
        "yaxis": {
         "anchor": "x",
         "domain": [
          0.6933333333333334,
          1
         ]
        },
        "yaxis2": {
         "anchor": "x2",
         "domain": [
          0.6933333333333334,
          1
         ]
        },
        "yaxis3": {
         "anchor": "x3",
         "domain": [
          0.6933333333333334,
          1
         ]
        },
        "yaxis4": {
         "anchor": "x4",
         "domain": [
          0.3466666666666667,
          0.6533333333333333
         ]
        },
        "yaxis5": {
         "anchor": "x5",
         "domain": [
          0.3466666666666667,
          0.6533333333333333
         ]
        },
        "yaxis6": {
         "anchor": "x6",
         "domain": [
          0.3466666666666667,
          0.6533333333333333
         ]
        },
        "yaxis7": {
         "anchor": "x7",
         "domain": [
          0,
          0.3066666666666667
         ]
        },
        "yaxis8": {
         "anchor": "x8",
         "domain": [
          0,
          0.3066666666666667
         ]
        },
        "yaxis9": {
         "anchor": "x9",
         "domain": [
          0,
          0.3066666666666667
         ]
        }
       }
      }
     },
     "metadata": {},
     "output_type": "display_data"
    }
   ],
   "source": [
    "def horizontal_bar_chart(cnt_srs, color):\n",
    "    trace = go.Bar(\n",
    "        y=cnt_srs.index[::-1],\n",
    "        x=cnt_srs.values[::-1],\n",
    "        showlegend=False,\n",
    "        orientation = 'h',\n",
    "        marker=dict(\n",
    "            color=color,\n",
    "        ),\n",
    "    )\n",
    "    return trace\n",
    "\n",
    "# Device Browser\n",
    "cnt_srs = df.groupby('device_browser')['totals_transactionRevenue'].agg(['size', 'count', 'mean'])\n",
    "cnt_srs.columns = [\"count\", \"count of non-zero revenue\", \"mean\"]\n",
    "cnt_srs = cnt_srs.sort_values(by=\"count\", ascending=False)\n",
    "trace1 = horizontal_bar_chart(cnt_srs[\"count\"].head(10), 'rgba(50, 171, 96, 0.6)')\n",
    "trace2 = horizontal_bar_chart(cnt_srs[\"count of non-zero revenue\"].head(10), 'rgba(50, 171, 96, 0.6)')\n",
    "trace3 = horizontal_bar_chart(cnt_srs[\"mean\"].head(10), 'rgba(50, 171, 96, 0.6)')\n",
    "\n",
    "# Device Category\n",
    "cnt_srs = df.groupby('device_deviceCategory')['totals_transactionRevenue'].agg(['size', 'count', 'mean'])\n",
    "cnt_srs.columns = [\"count\", \"count of non-zero revenue\", \"mean\"]\n",
    "cnt_srs = cnt_srs.sort_values(by=\"count\", ascending=False)\n",
    "trace4 = horizontal_bar_chart(cnt_srs[\"count\"].head(10), 'rgba(71, 58, 131, 0.8)')\n",
    "trace5 = horizontal_bar_chart(cnt_srs[\"count of non-zero revenue\"].head(10), 'rgba(71, 58, 131, 0.8)')\n",
    "trace6 = horizontal_bar_chart(cnt_srs[\"mean\"].head(10), 'rgba(71, 58, 131, 0.8)')\n",
    "\n",
    "# Operating system\n",
    "cnt_srs = df.groupby('device_operatingSystem')['totals_transactionRevenue'].agg(['size', 'count', 'mean'])\n",
    "cnt_srs.columns = [\"count\", \"count of non-zero revenue\", \"mean\"]\n",
    "cnt_srs = cnt_srs.sort_values(by=\"count\", ascending=False)\n",
    "trace7 = horizontal_bar_chart(cnt_srs[\"count\"].head(10), 'rgba(246, 78, 139, 0.6)')\n",
    "trace8 = horizontal_bar_chart(cnt_srs[\"count of non-zero revenue\"].head(10),'rgba(246, 78, 139, 0.6)')\n",
    "trace9 = horizontal_bar_chart(cnt_srs[\"mean\"].head(10),'rgba(246, 78, 139, 0.6)')\n",
    "\n",
    "# Creating two subplots\n",
    "fig = tools.make_subplots(rows=3, cols=3, vertical_spacing=0.04, \n",
    "                          subplot_titles=[\"Device Browser - Count\", \"Device Browser - Non-zero Revenue Count\", \"Device Browser - Mean Revenue\",\n",
    "                                          \"Device Category - Count\",  \"Device Category - Non-zero Revenue Count\", \"Device Category - Mean Revenue\", \n",
    "                                          \"Device OS - Count\", \"Device OS - Non-zero Revenue Count\", \"Device OS - Mean Revenue\"])\n",
    "\n",
    "fig.append_trace(trace1, 1, 1)\n",
    "fig.append_trace(trace2, 1, 2)\n",
    "fig.append_trace(trace3, 1, 3)\n",
    "fig.append_trace(trace4, 2, 1)\n",
    "fig.append_trace(trace5, 2, 2)\n",
    "fig.append_trace(trace6, 2, 3)\n",
    "fig.append_trace(trace7, 3, 1)\n",
    "fig.append_trace(trace8, 3, 2)\n",
    "fig.append_trace(trace9, 3, 3)\n",
    "\n",
    "fig['layout'].update(height=1200, width=1200, paper_bgcolor='rgb(233,233,233)', title=\"Device Plots\")\n",
    "iplot(fig, filename='device-plots')"
   ]
  },
  {
   "cell_type": "markdown",
   "metadata": {},
   "source": [
    "# DateTime"
   ]
  },
  {
   "cell_type": "code",
   "execution_count": 92,
   "metadata": {},
   "outputs": [
    {
     "data": {
      "application/vnd.plotly.v1+json": {
       "config": {
        "linkText": "Export to plotly.com",
        "plotlyServerURL": "https://plotly.com",
        "showLink": false
       },
       "data": [
        {
         "marker": {
          "color": "red"
         },
         "showlegend": false,
         "type": "scatter",
         "x": [
          "2017-03-31",
          "2017-03-30",
          "2017-03-29",
          "2017-03-28",
          "2017-03-27",
          "2017-03-26",
          "2017-03-25",
          "2017-03-24",
          "2017-03-23",
          "2017-03-22",
          "2017-03-21",
          "2017-03-20",
          "2017-03-19",
          "2017-03-18",
          "2017-03-17",
          "2017-03-16",
          "2017-03-15",
          "2017-03-14",
          "2017-03-13",
          "2017-03-12",
          "2017-03-11",
          "2017-03-10",
          "2017-03-09",
          "2017-03-08",
          "2017-03-07",
          "2017-03-06",
          "2017-03-05",
          "2017-03-04",
          "2017-03-03",
          "2017-03-02",
          "2017-03-01",
          "2017-02-28",
          "2017-02-27",
          "2017-02-26",
          "2017-02-25",
          "2017-02-24",
          "2017-02-23",
          "2017-02-22",
          "2017-02-21",
          "2017-02-20",
          "2017-02-19",
          "2017-02-18",
          "2017-02-17",
          "2017-02-16",
          "2017-02-15",
          "2017-02-14",
          "2017-02-13",
          "2017-02-12",
          "2017-02-11",
          "2017-02-10",
          "2017-02-09",
          "2017-02-08",
          "2017-02-07",
          "2017-02-06",
          "2017-02-05",
          "2017-02-04",
          "2017-02-03",
          "2017-02-02",
          "2017-02-01",
          "2017-01-31",
          "2017-01-30",
          "2017-01-29",
          "2017-01-28",
          "2017-01-27",
          "2017-01-26",
          "2017-01-25",
          "2017-01-24",
          "2017-01-23",
          "2017-01-22",
          "2017-01-21",
          "2017-01-20",
          "2017-01-19",
          "2017-01-18",
          "2017-01-17",
          "2017-01-16",
          "2017-01-15",
          "2017-01-14",
          "2017-01-13",
          "2017-01-12",
          "2017-01-11",
          "2017-01-10",
          "2017-01-09",
          "2017-01-08",
          "2017-01-07",
          "2017-01-06",
          "2017-01-05",
          "2017-01-04",
          "2017-01-03",
          "2017-01-02",
          "2017-01-01",
          "2016-12-31",
          "2016-12-30",
          "2016-12-29",
          "2016-12-28",
          "2016-12-27",
          "2016-12-26",
          "2016-12-25",
          "2016-12-24",
          "2016-12-23",
          "2016-12-22",
          "2016-12-21",
          "2016-12-20",
          "2016-12-19",
          "2016-12-18",
          "2016-12-17",
          "2016-12-16",
          "2016-12-15",
          "2016-12-14",
          "2016-12-13",
          "2016-12-12",
          "2016-12-11",
          "2016-12-10",
          "2016-12-09",
          "2016-12-08",
          "2016-12-07",
          "2016-12-06",
          "2016-12-05",
          "2016-12-04",
          "2016-12-03",
          "2016-12-02",
          "2016-12-01",
          "2016-11-30",
          "2016-11-29",
          "2016-11-28",
          "2016-11-27",
          "2016-11-26",
          "2016-11-25",
          "2016-11-24",
          "2016-11-23",
          "2016-11-22",
          "2016-11-21",
          "2016-11-20",
          "2016-11-19",
          "2016-11-18",
          "2016-11-17",
          "2016-11-16",
          "2016-11-15",
          "2016-11-14",
          "2016-11-13",
          "2016-11-12",
          "2016-11-11",
          "2016-11-10",
          "2016-11-09",
          "2016-11-08",
          "2016-11-07",
          "2016-11-06",
          "2016-11-05",
          "2016-11-04",
          "2016-11-03",
          "2016-11-02",
          "2016-11-01",
          "2016-10-31",
          "2016-10-30",
          "2016-10-29",
          "2016-10-28",
          "2016-10-27",
          "2016-10-26",
          "2016-10-25",
          "2016-10-24",
          "2016-10-23",
          "2016-10-22",
          "2016-10-21",
          "2016-10-20",
          "2016-10-19",
          "2016-10-18",
          "2016-10-17",
          "2016-10-16",
          "2016-10-15",
          "2016-10-14",
          "2016-10-13",
          "2016-10-12",
          "2016-10-11",
          "2016-10-10",
          "2016-10-09",
          "2016-10-08",
          "2016-10-07",
          "2016-10-06",
          "2016-10-05",
          "2016-10-04",
          "2016-10-03",
          "2016-10-02",
          "2016-10-01",
          "2016-09-30",
          "2016-09-29",
          "2016-09-28",
          "2016-09-27",
          "2016-09-26",
          "2016-09-25",
          "2016-09-24",
          "2016-09-23",
          "2016-09-22",
          "2016-09-21",
          "2016-09-20",
          "2016-09-19",
          "2016-09-18",
          "2016-09-17",
          "2016-09-16",
          "2016-09-15",
          "2016-09-14",
          "2016-09-13",
          "2016-09-12",
          "2016-09-11",
          "2016-09-10",
          "2016-09-09",
          "2016-09-08",
          "2016-09-07",
          "2016-09-06",
          "2016-09-05",
          "2016-09-04",
          "2016-09-03",
          "2016-09-02",
          "2016-09-01",
          "2016-08-31",
          "2016-08-30",
          "2016-08-29",
          "2016-08-28",
          "2016-08-27",
          "2016-08-26",
          "2016-08-25",
          "2016-08-24",
          "2016-08-23",
          "2016-08-22",
          "2016-08-21",
          "2016-08-20",
          "2016-08-19",
          "2016-08-18",
          "2016-08-17",
          "2016-08-16",
          "2016-08-15",
          "2016-08-14",
          "2016-08-13",
          "2016-08-12",
          "2016-08-11",
          "2016-08-10",
          "2016-08-09",
          "2016-08-08",
          "2016-08-07",
          "2016-08-06",
          "2016-08-05",
          "2016-08-04",
          "2016-08-03",
          "2016-08-02",
          "2016-08-01"
         ],
         "xaxis": "x",
         "y": [
          2268,
          2731,
          2525,
          2577,
          2525,
          1768,
          1712,
          2374,
          2847,
          2582,
          2611,
          2383,
          1776,
          1610,
          2129,
          2409,
          2486,
          2338,
          2537,
          1781,
          1707,
          2194,
          2231,
          2449,
          2586,
          2396,
          1827,
          1753,
          2162,
          2267,
          2390,
          2347,
          2352,
          1643,
          1638,
          2093,
          2364,
          2477,
          2582,
          2374,
          2187,
          1755,
          2785,
          2539,
          2629,
          2379,
          2266,
          1790,
          1761,
          2199,
          2678,
          2570,
          2476,
          2238,
          1522,
          1549,
          2182,
          2372,
          2445,
          2229,
          2392,
          1814,
          1614,
          1969,
          2209,
          2986,
          3618,
          2262,
          1700,
          1685,
          2074,
          2083,
          2245,
          2443,
          1906,
          1576,
          1526,
          1967,
          2203,
          2185,
          2268,
          2308,
          1637,
          1615,
          2210,
          2193,
          2390,
          2403,
          1620,
          1364,
          1211,
          1232,
          1647,
          1763,
          1855,
          1586,
          1386,
          1231,
          1604,
          2100,
          2594,
          3110,
          3222,
          2128,
          2324,
          2956,
          2937,
          3040,
          3166,
          3433,
          2208,
          2207,
          2830,
          3013,
          2840,
          3021,
          4265,
          3220,
          3044,
          3751,
          4200,
          4435,
          4337,
          4807,
          3356,
          3213,
          3759,
          3770,
          3805,
          3942,
          4143,
          3247,
          2984,
          3654,
          4074,
          4334,
          4685,
          4466,
          3144,
          3119,
          3588,
          4055,
          3752,
          3899,
          3832,
          3232,
          3042,
          3596,
          4014,
          3960,
          3728,
          3827,
          3086,
          2964,
          3791,
          4162,
          4375,
          3842,
          4063,
          2971,
          3029,
          3419,
          3755,
          3544,
          3628,
          3397,
          2649,
          2495,
          2838,
          2964,
          2871,
          2850,
          2911,
          2134,
          2114,
          2892,
          3016,
          3770,
          4322,
          2514,
          1724,
          1589,
          2303,
          2597,
          2535,
          2727,
          2776,
          1877,
          1845,
          2381,
          2581,
          2720,
          2760,
          2689,
          1822,
          1853,
          2603,
          2949,
          2652,
          2396,
          2465,
          1725,
          1671,
          2549,
          2628,
          2562,
          2508,
          2125,
          1692,
          1741,
          2613,
          2687,
          3223,
          2675,
          2454,
          1682,
          1654,
          2359,
          2539,
          2627,
          2754,
          2584,
          1730,
          1664,
          2379,
          2725,
          2799,
          2873,
          3043,
          1801,
          1596,
          2619,
          2667,
          2757,
          2851,
          2815,
          1622,
          1663,
          2702,
          3161,
          2890,
          2140,
          1711
         ],
         "yaxis": "y"
        },
        {
         "marker": {
          "color": "blue"
         },
         "showlegend": false,
         "type": "scatter",
         "x": [
          "2017-03-31",
          "2017-03-30",
          "2017-03-29",
          "2017-03-28",
          "2017-03-27",
          "2017-03-26",
          "2017-03-25",
          "2017-03-24",
          "2017-03-23",
          "2017-03-22",
          "2017-03-21",
          "2017-03-20",
          "2017-03-19",
          "2017-03-18",
          "2017-03-17",
          "2017-03-16",
          "2017-03-15",
          "2017-03-14",
          "2017-03-13",
          "2017-03-12",
          "2017-03-11",
          "2017-03-10",
          "2017-03-09",
          "2017-03-08",
          "2017-03-07",
          "2017-03-06",
          "2017-03-05",
          "2017-03-04",
          "2017-03-03",
          "2017-03-02",
          "2017-03-01",
          "2017-02-28",
          "2017-02-27",
          "2017-02-26",
          "2017-02-25",
          "2017-02-24",
          "2017-02-23",
          "2017-02-22",
          "2017-02-21",
          "2017-02-20",
          "2017-02-19",
          "2017-02-18",
          "2017-02-17",
          "2017-02-16",
          "2017-02-15",
          "2017-02-14",
          "2017-02-13",
          "2017-02-12",
          "2017-02-11",
          "2017-02-10",
          "2017-02-09",
          "2017-02-08",
          "2017-02-07",
          "2017-02-06",
          "2017-02-05",
          "2017-02-04",
          "2017-02-03",
          "2017-02-02",
          "2017-02-01",
          "2017-01-31",
          "2017-01-30",
          "2017-01-29",
          "2017-01-28",
          "2017-01-27",
          "2017-01-26",
          "2017-01-25",
          "2017-01-24",
          "2017-01-23",
          "2017-01-22",
          "2017-01-21",
          "2017-01-20",
          "2017-01-19",
          "2017-01-18",
          "2017-01-17",
          "2017-01-16",
          "2017-01-15",
          "2017-01-14",
          "2017-01-13",
          "2017-01-12",
          "2017-01-11",
          "2017-01-10",
          "2017-01-09",
          "2017-01-08",
          "2017-01-07",
          "2017-01-06",
          "2017-01-05",
          "2017-01-04",
          "2017-01-03",
          "2017-01-02",
          "2017-01-01",
          "2016-12-31",
          "2016-12-30",
          "2016-12-29",
          "2016-12-28",
          "2016-12-27",
          "2016-12-26",
          "2016-12-25",
          "2016-12-24",
          "2016-12-23",
          "2016-12-22",
          "2016-12-21",
          "2016-12-20",
          "2016-12-19",
          "2016-12-18",
          "2016-12-17",
          "2016-12-16",
          "2016-12-15",
          "2016-12-14",
          "2016-12-13",
          "2016-12-12",
          "2016-12-11",
          "2016-12-10",
          "2016-12-09",
          "2016-12-08",
          "2016-12-07",
          "2016-12-06",
          "2016-12-05",
          "2016-12-04",
          "2016-12-03",
          "2016-12-02",
          "2016-12-01",
          "2016-11-30",
          "2016-11-29",
          "2016-11-28",
          "2016-11-27",
          "2016-11-26",
          "2016-11-25",
          "2016-11-24",
          "2016-11-23",
          "2016-11-22",
          "2016-11-21",
          "2016-11-20",
          "2016-11-19",
          "2016-11-18",
          "2016-11-17",
          "2016-11-16",
          "2016-11-15",
          "2016-11-14",
          "2016-11-13",
          "2016-11-12",
          "2016-11-11",
          "2016-11-10",
          "2016-11-09",
          "2016-11-08",
          "2016-11-07",
          "2016-11-06",
          "2016-11-05",
          "2016-11-04",
          "2016-11-03",
          "2016-11-02",
          "2016-11-01",
          "2016-10-31",
          "2016-10-30",
          "2016-10-29",
          "2016-10-28",
          "2016-10-27",
          "2016-10-26",
          "2016-10-25",
          "2016-10-24",
          "2016-10-23",
          "2016-10-22",
          "2016-10-21",
          "2016-10-20",
          "2016-10-19",
          "2016-10-18",
          "2016-10-17",
          "2016-10-16",
          "2016-10-15",
          "2016-10-14",
          "2016-10-13",
          "2016-10-12",
          "2016-10-11",
          "2016-10-10",
          "2016-10-09",
          "2016-10-08",
          "2016-10-07",
          "2016-10-06",
          "2016-10-05",
          "2016-10-04",
          "2016-10-03",
          "2016-10-02",
          "2016-10-01",
          "2016-09-30",
          "2016-09-29",
          "2016-09-28",
          "2016-09-27",
          "2016-09-26",
          "2016-09-25",
          "2016-09-24",
          "2016-09-23",
          "2016-09-22",
          "2016-09-21",
          "2016-09-20",
          "2016-09-19",
          "2016-09-18",
          "2016-09-17",
          "2016-09-16",
          "2016-09-15",
          "2016-09-14",
          "2016-09-13",
          "2016-09-12",
          "2016-09-11",
          "2016-09-10",
          "2016-09-09",
          "2016-09-08",
          "2016-09-07",
          "2016-09-06",
          "2016-09-05",
          "2016-09-04",
          "2016-09-03",
          "2016-09-02",
          "2016-09-01",
          "2016-08-31",
          "2016-08-30",
          "2016-08-29",
          "2016-08-28",
          "2016-08-27",
          "2016-08-26",
          "2016-08-25",
          "2016-08-24",
          "2016-08-23",
          "2016-08-22",
          "2016-08-21",
          "2016-08-20",
          "2016-08-19",
          "2016-08-18",
          "2016-08-17",
          "2016-08-16",
          "2016-08-15",
          "2016-08-14",
          "2016-08-13",
          "2016-08-12",
          "2016-08-11",
          "2016-08-10",
          "2016-08-09",
          "2016-08-08",
          "2016-08-07",
          "2016-08-06",
          "2016-08-05",
          "2016-08-04",
          "2016-08-03",
          "2016-08-02",
          "2016-08-01"
         ],
         "xaxis": "x2",
         "y": [
          2268,
          2731,
          2525,
          2577,
          2525,
          1768,
          1712,
          2374,
          2847,
          2582,
          2611,
          2383,
          1776,
          1610,
          2129,
          2409,
          2486,
          2338,
          2537,
          1781,
          1707,
          2194,
          2231,
          2449,
          2586,
          2396,
          1827,
          1753,
          2162,
          2267,
          2390,
          2347,
          2352,
          1643,
          1638,
          2093,
          2364,
          2477,
          2582,
          2374,
          2187,
          1755,
          2785,
          2539,
          2629,
          2379,
          2266,
          1790,
          1761,
          2199,
          2678,
          2570,
          2476,
          2238,
          1522,
          1549,
          2182,
          2372,
          2445,
          2229,
          2392,
          1814,
          1614,
          1969,
          2209,
          2986,
          3618,
          2262,
          1700,
          1685,
          2074,
          2083,
          2245,
          2443,
          1906,
          1576,
          1526,
          1967,
          2203,
          2185,
          2268,
          2308,
          1637,
          1615,
          2210,
          2193,
          2390,
          2403,
          1620,
          1364,
          1211,
          1232,
          1647,
          1763,
          1855,
          1586,
          1386,
          1231,
          1604,
          2100,
          2594,
          3110,
          3222,
          2128,
          2324,
          2956,
          2937,
          3040,
          3166,
          3433,
          2208,
          2207,
          2830,
          3013,
          2840,
          3021,
          4265,
          3220,
          3044,
          3751,
          4200,
          4435,
          4337,
          4807,
          3356,
          3213,
          3759,
          3770,
          3805,
          3942,
          4143,
          3247,
          2984,
          3654,
          4074,
          4334,
          4685,
          4466,
          3144,
          3119,
          3588,
          4055,
          3752,
          3899,
          3832,
          3232,
          3042,
          3596,
          4014,
          3960,
          3728,
          3827,
          3086,
          2964,
          3791,
          4162,
          4375,
          3842,
          4063,
          2971,
          3029,
          3419,
          3755,
          3544,
          3628,
          3397,
          2649,
          2495,
          2838,
          2964,
          2871,
          2850,
          2911,
          2134,
          2114,
          2892,
          3016,
          3770,
          4322,
          2514,
          1724,
          1589,
          2303,
          2597,
          2535,
          2727,
          2776,
          1877,
          1845,
          2381,
          2581,
          2720,
          2760,
          2689,
          1822,
          1853,
          2603,
          2949,
          2652,
          2396,
          2465,
          1725,
          1671,
          2549,
          2628,
          2562,
          2508,
          2125,
          1692,
          1741,
          2613,
          2687,
          3223,
          2675,
          2454,
          1682,
          1654,
          2359,
          2539,
          2627,
          2754,
          2584,
          1730,
          1664,
          2379,
          2725,
          2799,
          2873,
          3043,
          1801,
          1596,
          2619,
          2667,
          2757,
          2851,
          2815,
          1622,
          1663,
          2702,
          3161,
          2890,
          2140,
          1711
         ],
         "yaxis": "y2"
        }
       ],
       "layout": {
        "annotations": [
         {
          "font": {
           "size": 16
          },
          "showarrow": false,
          "text": "Date - Count",
          "x": 0.5,
          "xanchor": "center",
          "xref": "paper",
          "y": 1,
          "yanchor": "bottom",
          "yref": "paper"
         },
         {
          "font": {
           "size": 16
          },
          "showarrow": false,
          "text": "Date - Non-zero Revenue count",
          "x": 0.5,
          "xanchor": "center",
          "xref": "paper",
          "y": 0.46,
          "yanchor": "bottom",
          "yref": "paper"
         }
        ],
        "height": 800,
        "paper_bgcolor": "rgb(233,233,233)",
        "template": {
         "data": {
          "bar": [
           {
            "error_x": {
             "color": "#2a3f5f"
            },
            "error_y": {
             "color": "#2a3f5f"
            },
            "marker": {
             "line": {
              "color": "#E5ECF6",
              "width": 0.5
             },
             "pattern": {
              "fillmode": "overlay",
              "size": 10,
              "solidity": 0.2
             }
            },
            "type": "bar"
           }
          ],
          "barpolar": [
           {
            "marker": {
             "line": {
              "color": "#E5ECF6",
              "width": 0.5
             },
             "pattern": {
              "fillmode": "overlay",
              "size": 10,
              "solidity": 0.2
             }
            },
            "type": "barpolar"
           }
          ],
          "carpet": [
           {
            "aaxis": {
             "endlinecolor": "#2a3f5f",
             "gridcolor": "white",
             "linecolor": "white",
             "minorgridcolor": "white",
             "startlinecolor": "#2a3f5f"
            },
            "baxis": {
             "endlinecolor": "#2a3f5f",
             "gridcolor": "white",
             "linecolor": "white",
             "minorgridcolor": "white",
             "startlinecolor": "#2a3f5f"
            },
            "type": "carpet"
           }
          ],
          "choropleth": [
           {
            "colorbar": {
             "outlinewidth": 0,
             "ticks": ""
            },
            "type": "choropleth"
           }
          ],
          "contour": [
           {
            "colorbar": {
             "outlinewidth": 0,
             "ticks": ""
            },
            "colorscale": [
             [
              0,
              "#0d0887"
             ],
             [
              0.1111111111111111,
              "#46039f"
             ],
             [
              0.2222222222222222,
              "#7201a8"
             ],
             [
              0.3333333333333333,
              "#9c179e"
             ],
             [
              0.4444444444444444,
              "#bd3786"
             ],
             [
              0.5555555555555556,
              "#d8576b"
             ],
             [
              0.6666666666666666,
              "#ed7953"
             ],
             [
              0.7777777777777778,
              "#fb9f3a"
             ],
             [
              0.8888888888888888,
              "#fdca26"
             ],
             [
              1,
              "#f0f921"
             ]
            ],
            "type": "contour"
           }
          ],
          "contourcarpet": [
           {
            "colorbar": {
             "outlinewidth": 0,
             "ticks": ""
            },
            "type": "contourcarpet"
           }
          ],
          "heatmap": [
           {
            "colorbar": {
             "outlinewidth": 0,
             "ticks": ""
            },
            "colorscale": [
             [
              0,
              "#0d0887"
             ],
             [
              0.1111111111111111,
              "#46039f"
             ],
             [
              0.2222222222222222,
              "#7201a8"
             ],
             [
              0.3333333333333333,
              "#9c179e"
             ],
             [
              0.4444444444444444,
              "#bd3786"
             ],
             [
              0.5555555555555556,
              "#d8576b"
             ],
             [
              0.6666666666666666,
              "#ed7953"
             ],
             [
              0.7777777777777778,
              "#fb9f3a"
             ],
             [
              0.8888888888888888,
              "#fdca26"
             ],
             [
              1,
              "#f0f921"
             ]
            ],
            "type": "heatmap"
           }
          ],
          "heatmapgl": [
           {
            "colorbar": {
             "outlinewidth": 0,
             "ticks": ""
            },
            "colorscale": [
             [
              0,
              "#0d0887"
             ],
             [
              0.1111111111111111,
              "#46039f"
             ],
             [
              0.2222222222222222,
              "#7201a8"
             ],
             [
              0.3333333333333333,
              "#9c179e"
             ],
             [
              0.4444444444444444,
              "#bd3786"
             ],
             [
              0.5555555555555556,
              "#d8576b"
             ],
             [
              0.6666666666666666,
              "#ed7953"
             ],
             [
              0.7777777777777778,
              "#fb9f3a"
             ],
             [
              0.8888888888888888,
              "#fdca26"
             ],
             [
              1,
              "#f0f921"
             ]
            ],
            "type": "heatmapgl"
           }
          ],
          "histogram": [
           {
            "marker": {
             "pattern": {
              "fillmode": "overlay",
              "size": 10,
              "solidity": 0.2
             }
            },
            "type": "histogram"
           }
          ],
          "histogram2d": [
           {
            "colorbar": {
             "outlinewidth": 0,
             "ticks": ""
            },
            "colorscale": [
             [
              0,
              "#0d0887"
             ],
             [
              0.1111111111111111,
              "#46039f"
             ],
             [
              0.2222222222222222,
              "#7201a8"
             ],
             [
              0.3333333333333333,
              "#9c179e"
             ],
             [
              0.4444444444444444,
              "#bd3786"
             ],
             [
              0.5555555555555556,
              "#d8576b"
             ],
             [
              0.6666666666666666,
              "#ed7953"
             ],
             [
              0.7777777777777778,
              "#fb9f3a"
             ],
             [
              0.8888888888888888,
              "#fdca26"
             ],
             [
              1,
              "#f0f921"
             ]
            ],
            "type": "histogram2d"
           }
          ],
          "histogram2dcontour": [
           {
            "colorbar": {
             "outlinewidth": 0,
             "ticks": ""
            },
            "colorscale": [
             [
              0,
              "#0d0887"
             ],
             [
              0.1111111111111111,
              "#46039f"
             ],
             [
              0.2222222222222222,
              "#7201a8"
             ],
             [
              0.3333333333333333,
              "#9c179e"
             ],
             [
              0.4444444444444444,
              "#bd3786"
             ],
             [
              0.5555555555555556,
              "#d8576b"
             ],
             [
              0.6666666666666666,
              "#ed7953"
             ],
             [
              0.7777777777777778,
              "#fb9f3a"
             ],
             [
              0.8888888888888888,
              "#fdca26"
             ],
             [
              1,
              "#f0f921"
             ]
            ],
            "type": "histogram2dcontour"
           }
          ],
          "mesh3d": [
           {
            "colorbar": {
             "outlinewidth": 0,
             "ticks": ""
            },
            "type": "mesh3d"
           }
          ],
          "parcoords": [
           {
            "line": {
             "colorbar": {
              "outlinewidth": 0,
              "ticks": ""
             }
            },
            "type": "parcoords"
           }
          ],
          "pie": [
           {
            "automargin": true,
            "type": "pie"
           }
          ],
          "scatter": [
           {
            "fillpattern": {
             "fillmode": "overlay",
             "size": 10,
             "solidity": 0.2
            },
            "type": "scatter"
           }
          ],
          "scatter3d": [
           {
            "line": {
             "colorbar": {
              "outlinewidth": 0,
              "ticks": ""
             }
            },
            "marker": {
             "colorbar": {
              "outlinewidth": 0,
              "ticks": ""
             }
            },
            "type": "scatter3d"
           }
          ],
          "scattercarpet": [
           {
            "marker": {
             "colorbar": {
              "outlinewidth": 0,
              "ticks": ""
             }
            },
            "type": "scattercarpet"
           }
          ],
          "scattergeo": [
           {
            "marker": {
             "colorbar": {
              "outlinewidth": 0,
              "ticks": ""
             }
            },
            "type": "scattergeo"
           }
          ],
          "scattergl": [
           {
            "marker": {
             "colorbar": {
              "outlinewidth": 0,
              "ticks": ""
             }
            },
            "type": "scattergl"
           }
          ],
          "scattermapbox": [
           {
            "marker": {
             "colorbar": {
              "outlinewidth": 0,
              "ticks": ""
             }
            },
            "type": "scattermapbox"
           }
          ],
          "scatterpolar": [
           {
            "marker": {
             "colorbar": {
              "outlinewidth": 0,
              "ticks": ""
             }
            },
            "type": "scatterpolar"
           }
          ],
          "scatterpolargl": [
           {
            "marker": {
             "colorbar": {
              "outlinewidth": 0,
              "ticks": ""
             }
            },
            "type": "scatterpolargl"
           }
          ],
          "scatterternary": [
           {
            "marker": {
             "colorbar": {
              "outlinewidth": 0,
              "ticks": ""
             }
            },
            "type": "scatterternary"
           }
          ],
          "surface": [
           {
            "colorbar": {
             "outlinewidth": 0,
             "ticks": ""
            },
            "colorscale": [
             [
              0,
              "#0d0887"
             ],
             [
              0.1111111111111111,
              "#46039f"
             ],
             [
              0.2222222222222222,
              "#7201a8"
             ],
             [
              0.3333333333333333,
              "#9c179e"
             ],
             [
              0.4444444444444444,
              "#bd3786"
             ],
             [
              0.5555555555555556,
              "#d8576b"
             ],
             [
              0.6666666666666666,
              "#ed7953"
             ],
             [
              0.7777777777777778,
              "#fb9f3a"
             ],
             [
              0.8888888888888888,
              "#fdca26"
             ],
             [
              1,
              "#f0f921"
             ]
            ],
            "type": "surface"
           }
          ],
          "table": [
           {
            "cells": {
             "fill": {
              "color": "#EBF0F8"
             },
             "line": {
              "color": "white"
             }
            },
            "header": {
             "fill": {
              "color": "#C8D4E3"
             },
             "line": {
              "color": "white"
             }
            },
            "type": "table"
           }
          ]
         },
         "layout": {
          "annotationdefaults": {
           "arrowcolor": "#2a3f5f",
           "arrowhead": 0,
           "arrowwidth": 1
          },
          "autotypenumbers": "strict",
          "coloraxis": {
           "colorbar": {
            "outlinewidth": 0,
            "ticks": ""
           }
          },
          "colorscale": {
           "diverging": [
            [
             0,
             "#8e0152"
            ],
            [
             0.1,
             "#c51b7d"
            ],
            [
             0.2,
             "#de77ae"
            ],
            [
             0.3,
             "#f1b6da"
            ],
            [
             0.4,
             "#fde0ef"
            ],
            [
             0.5,
             "#f7f7f7"
            ],
            [
             0.6,
             "#e6f5d0"
            ],
            [
             0.7,
             "#b8e186"
            ],
            [
             0.8,
             "#7fbc41"
            ],
            [
             0.9,
             "#4d9221"
            ],
            [
             1,
             "#276419"
            ]
           ],
           "sequential": [
            [
             0,
             "#0d0887"
            ],
            [
             0.1111111111111111,
             "#46039f"
            ],
            [
             0.2222222222222222,
             "#7201a8"
            ],
            [
             0.3333333333333333,
             "#9c179e"
            ],
            [
             0.4444444444444444,
             "#bd3786"
            ],
            [
             0.5555555555555556,
             "#d8576b"
            ],
            [
             0.6666666666666666,
             "#ed7953"
            ],
            [
             0.7777777777777778,
             "#fb9f3a"
            ],
            [
             0.8888888888888888,
             "#fdca26"
            ],
            [
             1,
             "#f0f921"
            ]
           ],
           "sequentialminus": [
            [
             0,
             "#0d0887"
            ],
            [
             0.1111111111111111,
             "#46039f"
            ],
            [
             0.2222222222222222,
             "#7201a8"
            ],
            [
             0.3333333333333333,
             "#9c179e"
            ],
            [
             0.4444444444444444,
             "#bd3786"
            ],
            [
             0.5555555555555556,
             "#d8576b"
            ],
            [
             0.6666666666666666,
             "#ed7953"
            ],
            [
             0.7777777777777778,
             "#fb9f3a"
            ],
            [
             0.8888888888888888,
             "#fdca26"
            ],
            [
             1,
             "#f0f921"
            ]
           ]
          },
          "colorway": [
           "#636efa",
           "#EF553B",
           "#00cc96",
           "#ab63fa",
           "#FFA15A",
           "#19d3f3",
           "#FF6692",
           "#B6E880",
           "#FF97FF",
           "#FECB52"
          ],
          "font": {
           "color": "#2a3f5f"
          },
          "geo": {
           "bgcolor": "white",
           "lakecolor": "white",
           "landcolor": "#E5ECF6",
           "showlakes": true,
           "showland": true,
           "subunitcolor": "white"
          },
          "hoverlabel": {
           "align": "left"
          },
          "hovermode": "closest",
          "mapbox": {
           "style": "light"
          },
          "paper_bgcolor": "white",
          "plot_bgcolor": "#E5ECF6",
          "polar": {
           "angularaxis": {
            "gridcolor": "white",
            "linecolor": "white",
            "ticks": ""
           },
           "bgcolor": "#E5ECF6",
           "radialaxis": {
            "gridcolor": "white",
            "linecolor": "white",
            "ticks": ""
           }
          },
          "scene": {
           "xaxis": {
            "backgroundcolor": "#E5ECF6",
            "gridcolor": "white",
            "gridwidth": 2,
            "linecolor": "white",
            "showbackground": true,
            "ticks": "",
            "zerolinecolor": "white"
           },
           "yaxis": {
            "backgroundcolor": "#E5ECF6",
            "gridcolor": "white",
            "gridwidth": 2,
            "linecolor": "white",
            "showbackground": true,
            "ticks": "",
            "zerolinecolor": "white"
           },
           "zaxis": {
            "backgroundcolor": "#E5ECF6",
            "gridcolor": "white",
            "gridwidth": 2,
            "linecolor": "white",
            "showbackground": true,
            "ticks": "",
            "zerolinecolor": "white"
           }
          },
          "shapedefaults": {
           "line": {
            "color": "#2a3f5f"
           }
          },
          "ternary": {
           "aaxis": {
            "gridcolor": "white",
            "linecolor": "white",
            "ticks": ""
           },
           "baxis": {
            "gridcolor": "white",
            "linecolor": "white",
            "ticks": ""
           },
           "bgcolor": "#E5ECF6",
           "caxis": {
            "gridcolor": "white",
            "linecolor": "white",
            "ticks": ""
           }
          },
          "title": {
           "x": 0.05
          },
          "xaxis": {
           "automargin": true,
           "gridcolor": "white",
           "linecolor": "white",
           "ticks": "",
           "title": {
            "standoff": 15
           },
           "zerolinecolor": "white",
           "zerolinewidth": 2
          },
          "yaxis": {
           "automargin": true,
           "gridcolor": "white",
           "linecolor": "white",
           "ticks": "",
           "title": {
            "standoff": 15
           },
           "zerolinecolor": "white",
           "zerolinewidth": 2
          }
         }
        },
        "title": {
         "text": "Date Plots"
        },
        "width": 800,
        "xaxis": {
         "anchor": "y",
         "domain": [
          0,
          1
         ]
        },
        "xaxis2": {
         "anchor": "y2",
         "domain": [
          0,
          1
         ]
        },
        "yaxis": {
         "anchor": "x",
         "domain": [
          0.54,
          1
         ]
        },
        "yaxis2": {
         "anchor": "x2",
         "domain": [
          0,
          0.46
         ]
        }
       }
      }
     },
     "metadata": {},
     "output_type": "display_data"
    }
   ],
   "source": [
    "import datetime\n",
    "\n",
    "def scatter_plot(cnt_srs, color):\n",
    "    trace = go.Scatter(\n",
    "        x=cnt_srs.index[::-1],\n",
    "        y=cnt_srs.values[::-1],\n",
    "        showlegend=False,\n",
    "        marker=dict(\n",
    "            color=color,\n",
    "        ),\n",
    "    )\n",
    "    return trace\n",
    "\n",
    "df['date'] = df['date'].apply(lambda x: datetime.date(int(str(x)[:4]), int(str(x)[4:6]), int(str(x)[6:])))\n",
    "cnt_srs = df.groupby('date')['totals_transactionRevenue'].agg(['size', 'count'])\n",
    "cnt_srs.columns = [\"count\", \"count of non-zero revenue\"]\n",
    "cnt_srs = cnt_srs.sort_index()\n",
    "#cnt_srs.index = cnt_srs.index.astype('str')\n",
    "trace1 = scatter_plot(cnt_srs[\"count\"], 'red')\n",
    "trace2 = scatter_plot(cnt_srs[\"count of non-zero revenue\"], 'blue')\n",
    "\n",
    "fig = tools.make_subplots(rows=2, cols=1, vertical_spacing=0.08,\n",
    "                          subplot_titles=[\"Date - Count\", \"Date - Non-zero Revenue count\"])\n",
    "fig.append_trace(trace1, 1, 1)\n",
    "fig.append_trace(trace2, 2, 1)\n",
    "fig['layout'].update(height=800, width=800, paper_bgcolor='rgb(233,233,233)', title=\"Date Plots\")\n",
    "iplot(fig, filename='date-plots')"
   ]
  },
  {
   "cell_type": "markdown",
   "metadata": {},
   "source": [
    "# Geography"
   ]
  },
  {
   "cell_type": "code",
   "execution_count": 93,
   "metadata": {},
   "outputs": [],
   "source": [
    "geo_cols = ['geoNetwork_continent',\n",
    " 'geoNetwork_subContinent',\n",
    " 'geoNetwork_country',\n",
    " 'geoNetwork_region',\n",
    " 'geoNetwork_metro',\n",
    " 'geoNetwork_city',\n",
    " 'geoNetwork_networkDomain']\n",
    "\n",
    "geo = df[geo_cols]"
   ]
  },
  {
   "cell_type": "code",
   "execution_count": 94,
   "metadata": {},
   "outputs": [
    {
     "name": "stdout",
     "output_type": "stream",
     "text": [
      "Доля NaN в колонке geoNetwork_continent:\n",
      "0.0\n",
      "Доля NaN в колонке geoNetwork_subContinent:\n",
      "0.0\n",
      "Доля NaN в колонке geoNetwork_country:\n",
      "0.0\n",
      "Доля NaN в колонке geoNetwork_region:\n",
      "0.0\n",
      "Доля NaN в колонке geoNetwork_metro:\n",
      "0.0\n",
      "Доля NaN в колонке geoNetwork_city:\n",
      "0.0\n",
      "Доля NaN в колонке geoNetwork_networkDomain:\n",
      "0.0\n"
     ]
    }
   ],
   "source": [
    "for col in geo_cols:\n",
    "    na_per(df[col], col)"
   ]
  },
  {
   "cell_type": "code",
   "execution_count": 95,
   "metadata": {},
   "outputs": [],
   "source": [
    "for col in geo_cols:\n",
    "    cat.append(col)"
   ]
  },
  {
   "cell_type": "code",
   "execution_count": 96,
   "metadata": {},
   "outputs": [],
   "source": [
    "for col in geo_cols:\n",
    "    df[col] = df[col].astype(str)"
   ]
  },
  {
   "cell_type": "code",
   "execution_count": 97,
   "metadata": {},
   "outputs": [
    {
     "data": {
      "text/html": [
       "<div>\n",
       "<style scoped>\n",
       "    .dataframe tbody tr th:only-of-type {\n",
       "        vertical-align: middle;\n",
       "    }\n",
       "\n",
       "    .dataframe tbody tr th {\n",
       "        vertical-align: top;\n",
       "    }\n",
       "\n",
       "    .dataframe thead th {\n",
       "        text-align: right;\n",
       "    }\n",
       "</style>\n",
       "<table border=\"1\" class=\"dataframe\">\n",
       "  <thead>\n",
       "    <tr style=\"text-align: right;\">\n",
       "      <th></th>\n",
       "      <th>geoNetwork_continent</th>\n",
       "      <th>geoNetwork_subContinent</th>\n",
       "      <th>geoNetwork_country</th>\n",
       "      <th>geoNetwork_region</th>\n",
       "      <th>geoNetwork_metro</th>\n",
       "      <th>geoNetwork_city</th>\n",
       "      <th>geoNetwork_networkDomain</th>\n",
       "    </tr>\n",
       "  </thead>\n",
       "  <tbody>\n",
       "    <tr>\n",
       "      <th>0</th>\n",
       "      <td>Asia</td>\n",
       "      <td>Western Asia</td>\n",
       "      <td>Turkey</td>\n",
       "      <td>Izmir</td>\n",
       "      <td>(not set)</td>\n",
       "      <td>Izmir</td>\n",
       "      <td>ttnet.com.tr</td>\n",
       "    </tr>\n",
       "    <tr>\n",
       "      <th>1</th>\n",
       "      <td>Oceania</td>\n",
       "      <td>Australasia</td>\n",
       "      <td>Australia</td>\n",
       "      <td>not available in demo dataset</td>\n",
       "      <td>not available in demo dataset</td>\n",
       "      <td>not available in demo dataset</td>\n",
       "      <td>dodo.net.au</td>\n",
       "    </tr>\n",
       "    <tr>\n",
       "      <th>2</th>\n",
       "      <td>Europe</td>\n",
       "      <td>Southern Europe</td>\n",
       "      <td>Spain</td>\n",
       "      <td>Community of Madrid</td>\n",
       "      <td>(not set)</td>\n",
       "      <td>Madrid</td>\n",
       "      <td>unknown.unknown</td>\n",
       "    </tr>\n",
       "    <tr>\n",
       "      <th>3</th>\n",
       "      <td>Asia</td>\n",
       "      <td>Southeast Asia</td>\n",
       "      <td>Indonesia</td>\n",
       "      <td>not available in demo dataset</td>\n",
       "      <td>not available in demo dataset</td>\n",
       "      <td>not available in demo dataset</td>\n",
       "      <td>unknown.unknown</td>\n",
       "    </tr>\n",
       "    <tr>\n",
       "      <th>4</th>\n",
       "      <td>Europe</td>\n",
       "      <td>Northern Europe</td>\n",
       "      <td>United Kingdom</td>\n",
       "      <td>not available in demo dataset</td>\n",
       "      <td>not available in demo dataset</td>\n",
       "      <td>not available in demo dataset</td>\n",
       "      <td>unknown.unknown</td>\n",
       "    </tr>\n",
       "    <tr>\n",
       "      <th>...</th>\n",
       "      <td>...</td>\n",
       "      <td>...</td>\n",
       "      <td>...</td>\n",
       "      <td>...</td>\n",
       "      <td>...</td>\n",
       "      <td>...</td>\n",
       "      <td>...</td>\n",
       "    </tr>\n",
       "    <tr>\n",
       "      <th>633205</th>\n",
       "      <td>Americas</td>\n",
       "      <td>Caribbean</td>\n",
       "      <td>Puerto Rico</td>\n",
       "      <td>not available in demo dataset</td>\n",
       "      <td>not available in demo dataset</td>\n",
       "      <td>not available in demo dataset</td>\n",
       "      <td>prtc.net</td>\n",
       "    </tr>\n",
       "    <tr>\n",
       "      <th>633206</th>\n",
       "      <td>Asia</td>\n",
       "      <td>Southern Asia</td>\n",
       "      <td>Sri Lanka</td>\n",
       "      <td>not available in demo dataset</td>\n",
       "      <td>not available in demo dataset</td>\n",
       "      <td>not available in demo dataset</td>\n",
       "      <td>unknown.unknown</td>\n",
       "    </tr>\n",
       "    <tr>\n",
       "      <th>633207</th>\n",
       "      <td>Asia</td>\n",
       "      <td>Eastern Asia</td>\n",
       "      <td>South Korea</td>\n",
       "      <td>Seoul</td>\n",
       "      <td>(not set)</td>\n",
       "      <td>Seoul</td>\n",
       "      <td>unknown.unknown</td>\n",
       "    </tr>\n",
       "    <tr>\n",
       "      <th>633208</th>\n",
       "      <td>Asia</td>\n",
       "      <td>Southeast Asia</td>\n",
       "      <td>Indonesia</td>\n",
       "      <td>not available in demo dataset</td>\n",
       "      <td>not available in demo dataset</td>\n",
       "      <td>not available in demo dataset</td>\n",
       "      <td>unknown.unknown</td>\n",
       "    </tr>\n",
       "    <tr>\n",
       "      <th>633209</th>\n",
       "      <td>Americas</td>\n",
       "      <td>Central America</td>\n",
       "      <td>Mexico</td>\n",
       "      <td>not available in demo dataset</td>\n",
       "      <td>not available in demo dataset</td>\n",
       "      <td>not available in demo dataset</td>\n",
       "      <td>cybercable.net.mx</td>\n",
       "    </tr>\n",
       "  </tbody>\n",
       "</table>\n",
       "<p>633210 rows × 7 columns</p>\n",
       "</div>"
      ],
      "text/plain": [
       "       geoNetwork_continent geoNetwork_subContinent geoNetwork_country  \\\n",
       "0                      Asia            Western Asia             Turkey   \n",
       "1                   Oceania             Australasia          Australia   \n",
       "2                    Europe         Southern Europe              Spain   \n",
       "3                      Asia          Southeast Asia          Indonesia   \n",
       "4                    Europe         Northern Europe     United Kingdom   \n",
       "...                     ...                     ...                ...   \n",
       "633205             Americas               Caribbean        Puerto Rico   \n",
       "633206                 Asia           Southern Asia          Sri Lanka   \n",
       "633207                 Asia            Eastern Asia        South Korea   \n",
       "633208                 Asia          Southeast Asia          Indonesia   \n",
       "633209             Americas         Central America             Mexico   \n",
       "\n",
       "                    geoNetwork_region               geoNetwork_metro  \\\n",
       "0                               Izmir                      (not set)   \n",
       "1       not available in demo dataset  not available in demo dataset   \n",
       "2                 Community of Madrid                      (not set)   \n",
       "3       not available in demo dataset  not available in demo dataset   \n",
       "4       not available in demo dataset  not available in demo dataset   \n",
       "...                               ...                            ...   \n",
       "633205  not available in demo dataset  not available in demo dataset   \n",
       "633206  not available in demo dataset  not available in demo dataset   \n",
       "633207                          Seoul                      (not set)   \n",
       "633208  not available in demo dataset  not available in demo dataset   \n",
       "633209  not available in demo dataset  not available in demo dataset   \n",
       "\n",
       "                      geoNetwork_city geoNetwork_networkDomain  \n",
       "0                               Izmir             ttnet.com.tr  \n",
       "1       not available in demo dataset              dodo.net.au  \n",
       "2                              Madrid          unknown.unknown  \n",
       "3       not available in demo dataset          unknown.unknown  \n",
       "4       not available in demo dataset          unknown.unknown  \n",
       "...                               ...                      ...  \n",
       "633205  not available in demo dataset                 prtc.net  \n",
       "633206  not available in demo dataset          unknown.unknown  \n",
       "633207                          Seoul          unknown.unknown  \n",
       "633208  not available in demo dataset          unknown.unknown  \n",
       "633209  not available in demo dataset        cybercable.net.mx  \n",
       "\n",
       "[633210 rows x 7 columns]"
      ]
     },
     "execution_count": 97,
     "metadata": {},
     "output_type": "execute_result"
    }
   ],
   "source": [
    "geo"
   ]
  },
  {
   "cell_type": "code",
   "execution_count": 98,
   "metadata": {},
   "outputs": [
    {
     "data": {
      "application/vnd.plotly.v1+json": {
       "config": {
        "linkText": "Export to plotly.com",
        "plotlyServerURL": "https://plotly.com",
        "showLink": false
       },
       "data": [
        {
         "marker": {
          "color": "rgba(58, 71, 80, 0.6)"
         },
         "orientation": "h",
         "showlegend": false,
         "type": "bar",
         "x": [
          1108,
          9528,
          11380,
          135716,
          169597,
          305881
         ],
         "xaxis": "x",
         "y": [
          "(not set)",
          "Oceania",
          "Africa",
          "Europe",
          "Asia",
          "Americas"
         ],
         "yaxis": "y"
        },
        {
         "marker": {
          "color": "rgba(58, 71, 80, 0.6)"
         },
         "orientation": "h",
         "showlegend": false,
         "type": "bar",
         "x": [
          1108,
          9528,
          11380,
          135716,
          169597,
          305881
         ],
         "xaxis": "x2",
         "y": [
          "(not set)",
          "Oceania",
          "Africa",
          "Europe",
          "Asia",
          "Americas"
         ],
         "yaxis": "y2"
        },
        {
         "marker": {
          "color": "rgba(58, 71, 80, 0.6)"
         },
         "orientation": "h",
         "showlegend": false,
         "type": "bar",
         "x": [
          682752.7220216607,
          75771.41057934509,
          472036.0309314587,
          19818.960063662355,
          81819.19519802826,
          3209682.8502587606
         ],
         "xaxis": "x3",
         "y": [
          "(not set)",
          "Oceania",
          "Africa",
          "Europe",
          "Asia",
          "Americas"
         ],
         "yaxis": "y3"
        },
        {
         "marker": {
          "color": "orange"
         },
         "orientation": "h",
         "showlegend": false,
         "type": "bar",
         "x": [
          15,
          33,
          61,
          300,
          1011,
          1108,
          1463,
          1556,
          1757,
          1821,
          6240,
          9419,
          12143,
          24540,
          30477,
          31790,
          32550,
          34081,
          38136,
          38959,
          39346,
          66213,
          260191
         ],
         "xaxis": "x4",
         "y": [
          "Polynesia",
          "Micronesian Region",
          "Melanesia",
          "Middle Africa",
          "Central Asia",
          "(not set)",
          "Eastern Africa",
          "Southern Africa",
          "Caribbean",
          "Western Africa",
          "Northern Africa",
          "Australasia",
          "Central America",
          "Southern Europe",
          "Eastern Asia",
          "South America",
          "Western Asia",
          "Eastern Europe",
          "Northern Europe",
          "Western Europe",
          "Southern Asia",
          "Southeast Asia",
          "Northern America"
         ],
         "yaxis": "y4"
        },
        {
         "marker": {
          "color": "orange"
         },
         "orientation": "h",
         "showlegend": false,
         "type": "bar",
         "x": [
          15,
          33,
          61,
          300,
          1011,
          1108,
          1463,
          1556,
          1757,
          1821,
          6240,
          9419,
          12143,
          24540,
          30477,
          31790,
          32550,
          34081,
          38136,
          38959,
          39346,
          66213,
          260191
         ],
         "xaxis": "x5",
         "y": [
          "Polynesia",
          "Micronesian Region",
          "Melanesia",
          "Middle Africa",
          "Central Asia",
          "(not set)",
          "Eastern Africa",
          "Southern Africa",
          "Caribbean",
          "Western Africa",
          "Northern Africa",
          "Australasia",
          "Central America",
          "Southern Europe",
          "Eastern Asia",
          "South America",
          "Western Asia",
          "Eastern Europe",
          "Northern Europe",
          "Western Europe",
          "Southern Asia",
          "Southeast Asia",
          "Northern America"
         ],
         "yaxis": "y5"
        },
        {
         "marker": {
          "color": "orange"
         },
         "orientation": "h",
         "showlegend": false,
         "type": "bar",
         "x": [
          0,
          0,
          0,
          0,
          34599.40652818991,
          682752.7220216607,
          3601298.723171565,
          33489.71722365038,
          659971.5424018212,
          0,
          8166.666666666667,
          76648.26414693704,
          105501.113069258,
          27856.153219233904,
          290948.5852282049,
          493072.9829506134,
          40211.36761904762,
          7475.426190546052,
          22448.080134256346,
          22980.82599656049,
          17518.42626950643,
          44944.49730415477,
          3703685.1381331407
         ],
         "xaxis": "x6",
         "y": [
          "Polynesia",
          "Micronesian Region",
          "Melanesia",
          "Middle Africa",
          "Central Asia",
          "(not set)",
          "Eastern Africa",
          "Southern Africa",
          "Caribbean",
          "Western Africa",
          "Northern Africa",
          "Australasia",
          "Central America",
          "Southern Europe",
          "Eastern Asia",
          "South America",
          "Western Asia",
          "Eastern Europe",
          "Northern Europe",
          "Western Europe",
          "Southern Asia",
          "Southeast Asia",
          "Northern America"
         ],
         "yaxis": "y6"
        },
        {
         "marker": {
          "color": "red"
         },
         "orientation": "h",
         "showlegend": false,
         "type": "bar",
         "x": [
          1,
          1,
          1,
          1,
          1,
          1,
          1,
          1,
          1,
          1,
          2,
          2,
          2,
          2,
          2,
          2,
          3,
          3,
          3,
          3,
          3,
          4,
          4,
          4,
          4,
          5,
          6,
          6,
          6,
          6,
          6,
          7,
          7,
          7,
          7,
          8,
          8,
          9,
          9,
          10,
          10,
          10,
          10,
          10,
          10,
          11,
          11,
          12,
          12,
          13,
          13,
          13,
          14,
          14,
          15,
          15,
          16,
          17,
          17,
          18,
          19,
          20,
          20,
          21,
          21,
          21,
          22,
          24,
          24,
          25,
          26,
          26,
          28,
          28,
          28,
          28,
          30,
          30,
          32,
          33,
          38,
          38,
          39,
          39,
          41,
          42,
          43,
          44,
          45,
          62,
          62,
          70,
          74,
          74,
          76,
          78,
          80,
          80,
          86,
          89,
          91,
          100,
          104,
          104,
          106,
          107,
          109,
          115,
          117,
          119,
          122,
          123,
          131,
          137,
          147,
          149,
          151,
          206,
          211,
          228,
          230,
          231,
          239,
          248,
          255,
          258,
          272,
          342,
          346,
          346,
          399,
          403,
          406,
          417,
          418,
          427,
          430,
          436,
          457,
          491,
          494,
          496,
          502,
          522,
          526,
          614,
          685,
          688,
          700,
          702,
          744,
          748,
          770,
          811,
          857,
          950,
          972,
          993,
          1059,
          1108,
          1187,
          1352,
          1377,
          1447,
          1454,
          1469,
          1505,
          1538,
          1649,
          1665,
          1700,
          1734,
          1772,
          1837,
          1886,
          2224,
          2326,
          2456,
          2464,
          2499,
          2844,
          2929,
          2938,
          3083,
          3191,
          3248,
          3424,
          3559,
          3855,
          4250,
          4261,
          4294,
          4392,
          4684,
          4747,
          5511,
          7144,
          7196,
          7224,
          7272,
          7512,
          7722,
          8041,
          8105,
          8882,
          10450,
          10730,
          12857,
          13212,
          16026,
          17392,
          18454,
          18479,
          23125,
          23641,
          33414,
          242785
         ],
         "xaxis": "x7",
         "y": [
          "American Samoa",
          "Anguilla",
          "St. Martin",
          "St. Pierre & Miquelon",
          "Bhutan",
          "Norfolk Island",
          "Congo - Brazzaville",
          "Cook Islands",
          "São Tomé & Príncipe",
          "Comoros",
          "Isle of Man",
          "Marshall Islands",
          "San Marino",
          "Greenland",
          "Caribbean Netherlands",
          "Seychelles",
          "Antigua & Barbuda",
          "Central African Republic",
          "Liberia",
          "Dominica",
          "British Virgin Islands",
          "Turkmenistan",
          "Timor-Leste",
          "Equatorial Guinea",
          "Guinea-Bissau",
          "Northern Mariana Islands",
          "St. Vincent & Grenadines",
          "St. Kitts & Nevis",
          "Sint Maarten",
          "Gibraltar",
          "Lesotho",
          "Syria",
          "Djibouti",
          "Sierra Leone",
          "Liechtenstein",
          "Niger",
          "Papua New Guinea",
          "Tajikistan",
          "Malawi",
          "Gambia",
          "Burundi",
          "Cape Verde",
          "Cayman Islands",
          "Turks & Caicos Islands",
          "Mayotte",
          "Bermuda",
          "Botswana",
          "Swaziland",
          "Guernsey",
          "French Polynesia",
          "French Guiana",
          "U.S. Virgin Islands",
          "St. Lucia",
          "Andorra",
          "Guyana",
          "New Caledonia",
          "Faroe Islands",
          "Grenada",
          "Belize",
          "Monaco",
          "Guinea",
          "Curaçao",
          "Chad",
          "Suriname",
          "Guadeloupe",
          "Aruba",
          "Namibia",
          "Gabon",
          "Zambia",
          "Burkina Faso",
          "Guam",
          "Jersey",
          "Mali",
          "Haiti",
          "Bahamas",
          "Togo",
          "Somalia",
          "Iran",
          "Benin",
          "Mauritania",
          "Afghanistan",
          "Fiji",
          "Rwanda",
          "Madagascar",
          "Zimbabwe",
          "Barbados",
          "Martinique",
          "Brunei",
          "Angola",
          "Mauritius",
          "Mozambique",
          "Uzbekistan",
          "Maldives",
          "Yemen",
          "Libya",
          "Macau",
          "Congo - Kinshasa",
          "Sudan",
          "Ethiopia",
          "Montenegro",
          "Paraguay",
          "Jamaica",
          "Nicaragua",
          "Iceland",
          "Réunion",
          "Laos",
          "Luxembourg",
          "Uganda",
          "Kyrgyzstan",
          "Trinidad & Tobago",
          "Cameroon",
          "Malta",
          "Senegal",
          "Myanmar (Burma)",
          "Palestine",
          "Nepal",
          "Honduras",
          "Tanzania",
          "Bahrain",
          "Moldova",
          "Armenia",
          "Mongolia",
          "Côte d’Ivoire",
          "Oman",
          "El Salvador",
          "Bolivia",
          "Ghana",
          "Lebanon",
          "Cyprus",
          "Panama",
          "Kosovo",
          "Costa Rica",
          "Uruguay",
          "Guatemala",
          "Cambodia",
          "Kuwait",
          "Estonia",
          "Qatar",
          "Latvia",
          "Azerbaijan",
          "Albania",
          "Puerto Rico",
          "Slovenia",
          "Lithuania",
          "Iraq",
          "Kenya",
          "Georgia",
          "Finland",
          "Belarus",
          "Jordan",
          "Dominican Republic",
          "Bosnia & Herzegovina",
          "Macedonia (FYROM)",
          "Kazakhstan",
          "Sri Lanka",
          "Croatia",
          "Nigeria",
          "Ecuador",
          "Tunisia",
          "(not set)",
          "Slovakia",
          "Chile",
          "New Zealand",
          "Portugal",
          "Morocco",
          "Bulgaria",
          "South Africa",
          "Serbia",
          "Venezuela",
          "Norway",
          "Bangladesh",
          "Algeria",
          "Hungary",
          "Egypt",
          "Austria",
          "Greece",
          "Denmark",
          "China",
          "Saudi Arabia",
          "United Arab Emirates",
          "Belgium",
          "Switzerland",
          "Czechia",
          "Pakistan",
          "Hong Kong",
          "Colombia",
          "Argentina",
          "South Korea",
          "Sweden",
          "Ukraine",
          "Israel",
          "Peru",
          "Ireland",
          "Singapore",
          "Malaysia",
          "Romania",
          "Poland",
          "Indonesia",
          "Netherlands",
          "Philippines",
          "Italy",
          "Spain",
          "Australia",
          "Taiwan",
          "Russia",
          "Mexico",
          "France",
          "Japan",
          "Germany",
          "Brazil",
          "Canada",
          "Turkey",
          "Thailand",
          "Vietnam",
          "United Kingdom",
          "India",
          "United States"
         ],
         "yaxis": "y7"
        },
        {
         "marker": {
          "color": "red"
         },
         "orientation": "h",
         "showlegend": false,
         "type": "bar",
         "x": [
          1,
          1,
          1,
          1,
          1,
          1,
          1,
          1,
          1,
          1,
          2,
          2,
          2,
          2,
          2,
          2,
          3,
          3,
          3,
          3,
          3,
          4,
          4,
          4,
          4,
          5,
          6,
          6,
          6,
          6,
          6,
          7,
          7,
          7,
          7,
          8,
          8,
          9,
          9,
          10,
          10,
          10,
          10,
          10,
          10,
          11,
          11,
          12,
          12,
          13,
          13,
          13,
          14,
          14,
          15,
          15,
          16,
          17,
          17,
          18,
          19,
          20,
          20,
          21,
          21,
          21,
          22,
          24,
          24,
          25,
          26,
          26,
          28,
          28,
          28,
          28,
          30,
          30,
          32,
          33,
          38,
          38,
          39,
          39,
          41,
          42,
          43,
          44,
          45,
          62,
          62,
          70,
          74,
          74,
          76,
          78,
          80,
          80,
          86,
          89,
          91,
          100,
          104,
          104,
          106,
          107,
          109,
          115,
          117,
          119,
          122,
          123,
          131,
          137,
          147,
          149,
          151,
          206,
          211,
          228,
          230,
          231,
          239,
          248,
          255,
          258,
          272,
          342,
          346,
          346,
          399,
          403,
          406,
          417,
          418,
          427,
          430,
          436,
          457,
          491,
          494,
          496,
          502,
          522,
          526,
          614,
          685,
          688,
          700,
          702,
          744,
          748,
          770,
          811,
          857,
          950,
          972,
          993,
          1059,
          1108,
          1187,
          1352,
          1377,
          1447,
          1454,
          1469,
          1505,
          1538,
          1649,
          1665,
          1700,
          1734,
          1772,
          1837,
          1886,
          2224,
          2326,
          2456,
          2464,
          2499,
          2844,
          2929,
          2938,
          3083,
          3191,
          3248,
          3424,
          3559,
          3855,
          4250,
          4261,
          4294,
          4392,
          4684,
          4747,
          5511,
          7144,
          7196,
          7224,
          7272,
          7512,
          7722,
          8041,
          8105,
          8882,
          10450,
          10730,
          12857,
          13212,
          16026,
          17392,
          18454,
          18479,
          23125,
          23641,
          33414,
          242785
         ],
         "xaxis": "x8",
         "y": [
          "American Samoa",
          "Anguilla",
          "St. Martin",
          "St. Pierre & Miquelon",
          "Bhutan",
          "Norfolk Island",
          "Congo - Brazzaville",
          "Cook Islands",
          "São Tomé & Príncipe",
          "Comoros",
          "Isle of Man",
          "Marshall Islands",
          "San Marino",
          "Greenland",
          "Caribbean Netherlands",
          "Seychelles",
          "Antigua & Barbuda",
          "Central African Republic",
          "Liberia",
          "Dominica",
          "British Virgin Islands",
          "Turkmenistan",
          "Timor-Leste",
          "Equatorial Guinea",
          "Guinea-Bissau",
          "Northern Mariana Islands",
          "St. Vincent & Grenadines",
          "St. Kitts & Nevis",
          "Sint Maarten",
          "Gibraltar",
          "Lesotho",
          "Syria",
          "Djibouti",
          "Sierra Leone",
          "Liechtenstein",
          "Niger",
          "Papua New Guinea",
          "Tajikistan",
          "Malawi",
          "Gambia",
          "Burundi",
          "Cape Verde",
          "Cayman Islands",
          "Turks & Caicos Islands",
          "Mayotte",
          "Bermuda",
          "Botswana",
          "Swaziland",
          "Guernsey",
          "French Polynesia",
          "French Guiana",
          "U.S. Virgin Islands",
          "St. Lucia",
          "Andorra",
          "Guyana",
          "New Caledonia",
          "Faroe Islands",
          "Grenada",
          "Belize",
          "Monaco",
          "Guinea",
          "Curaçao",
          "Chad",
          "Suriname",
          "Guadeloupe",
          "Aruba",
          "Namibia",
          "Gabon",
          "Zambia",
          "Burkina Faso",
          "Guam",
          "Jersey",
          "Mali",
          "Haiti",
          "Bahamas",
          "Togo",
          "Somalia",
          "Iran",
          "Benin",
          "Mauritania",
          "Afghanistan",
          "Fiji",
          "Rwanda",
          "Madagascar",
          "Zimbabwe",
          "Barbados",
          "Martinique",
          "Brunei",
          "Angola",
          "Mauritius",
          "Mozambique",
          "Uzbekistan",
          "Maldives",
          "Yemen",
          "Libya",
          "Macau",
          "Congo - Kinshasa",
          "Sudan",
          "Ethiopia",
          "Montenegro",
          "Paraguay",
          "Jamaica",
          "Nicaragua",
          "Iceland",
          "Réunion",
          "Laos",
          "Luxembourg",
          "Uganda",
          "Kyrgyzstan",
          "Trinidad & Tobago",
          "Cameroon",
          "Malta",
          "Senegal",
          "Myanmar (Burma)",
          "Palestine",
          "Nepal",
          "Honduras",
          "Tanzania",
          "Bahrain",
          "Moldova",
          "Armenia",
          "Mongolia",
          "Côte d’Ivoire",
          "Oman",
          "El Salvador",
          "Bolivia",
          "Ghana",
          "Lebanon",
          "Cyprus",
          "Panama",
          "Kosovo",
          "Costa Rica",
          "Uruguay",
          "Guatemala",
          "Cambodia",
          "Kuwait",
          "Estonia",
          "Qatar",
          "Latvia",
          "Azerbaijan",
          "Albania",
          "Puerto Rico",
          "Slovenia",
          "Lithuania",
          "Iraq",
          "Kenya",
          "Georgia",
          "Finland",
          "Belarus",
          "Jordan",
          "Dominican Republic",
          "Bosnia & Herzegovina",
          "Macedonia (FYROM)",
          "Kazakhstan",
          "Sri Lanka",
          "Croatia",
          "Nigeria",
          "Ecuador",
          "Tunisia",
          "(not set)",
          "Slovakia",
          "Chile",
          "New Zealand",
          "Portugal",
          "Morocco",
          "Bulgaria",
          "South Africa",
          "Serbia",
          "Venezuela",
          "Norway",
          "Bangladesh",
          "Algeria",
          "Hungary",
          "Egypt",
          "Austria",
          "Greece",
          "Denmark",
          "China",
          "Saudi Arabia",
          "United Arab Emirates",
          "Belgium",
          "Switzerland",
          "Czechia",
          "Pakistan",
          "Hong Kong",
          "Colombia",
          "Argentina",
          "South Korea",
          "Sweden",
          "Ukraine",
          "Israel",
          "Peru",
          "Ireland",
          "Singapore",
          "Malaysia",
          "Romania",
          "Poland",
          "Indonesia",
          "Netherlands",
          "Philippines",
          "Italy",
          "Spain",
          "Australia",
          "Taiwan",
          "Russia",
          "Mexico",
          "France",
          "Japan",
          "Germany",
          "Brazil",
          "Canada",
          "Turkey",
          "Thailand",
          "Vietnam",
          "United Kingdom",
          "India",
          "United States"
         ],
         "yaxis": "y8"
        },
        {
         "marker": {
          "color": "red"
         },
         "orientation": "h",
         "showlegend": false,
         "type": "bar",
         "x": [
          0,
          10990000,
          0,
          0,
          0,
          0,
          0,
          0,
          0,
          0,
          0,
          0,
          0,
          0,
          0,
          0,
          0,
          0,
          0,
          0,
          0,
          0,
          0,
          0,
          0,
          0,
          0,
          0,
          0,
          0,
          0,
          0,
          0,
          0,
          0,
          0,
          0,
          0,
          0,
          0,
          0,
          0,
          0,
          0,
          0,
          0,
          0,
          0,
          0,
          0,
          0,
          0,
          996428.5714285715,
          0,
          0,
          0,
          0,
          0,
          0,
          0,
          0,
          10316500,
          0,
          0,
          1294285.7142857143,
          0,
          0,
          0,
          0,
          0,
          0,
          0,
          0,
          0,
          0,
          0,
          0,
          0,
          0,
          0,
          0,
          0,
          0,
          0,
          0,
          0,
          0,
          0,
          0,
          0,
          0,
          0,
          0,
          0,
          0,
          0,
          0,
          0,
          0,
          0,
          0,
          0,
          615288.4615384615,
          0,
          0,
          0,
          0,
          0,
          0,
          0,
          0,
          0,
          0,
          0,
          0,
          0,
          0,
          0,
          0,
          0,
          132521.73913043478,
          0,
          0,
          0,
          301529.4117647059,
          0,
          0,
          119210.52631578948,
          218034.68208092486,
          30346.820809248555,
          0,
          0,
          8620.689655172413,
          83860.91127098321,
          0,
          557892.2716627634,
          0,
          0,
          0,
          0,
          0,
          1816774.1935483871,
          0,
          0,
          0,
          8580944.67752443,
          24802.919708029196,
          81380.81395348837,
          0,
          0,
          0,
          0,
          0,
          43131.93588162762,
          0,
          0,
          0,
          679687.8147029205,
          0,
          682752.7220216607,
          0,
          182884.61538461538,
          34836.60130718954,
          149136.14374568072,
          0,
          0,
          34624.58471760798,
          0,
          8110915.784111583,
          0,
          0,
          0,
          18955.981941309255,
          27740.8818726184,
          0,
          0,
          10748.065348237318,
          75806.18892508143,
          73023.53896103895,
          40008.00320128051,
          0,
          143018.09491293956,
          15245.06466984343,
          18796.626662341874,
          460031.34315261676,
          164993.84236453203,
          39678.73831775701,
          160901.93425119415,
          0,
          5171.764705882353,
          123130.72424313541,
          29711.224965067537,
          17686.70309653916,
          120826.21690862511,
          70556.1373499052,
          13783.342406096897,
          0,
          221842.6926070039,
          35859.634551495015,
          8095.434543454346,
          13310.702875399362,
          47630.14763014763,
          83817.9330928989,
          206767.43146206046,
          8832.470164377393,
          104760.76708133971,
          5137.931034482759,
          386139.8459982889,
          12278.988798062368,
          35870.46050168476,
          1447146.3817847285,
          5549.474368700553,
          22716.5972184642,
          0,
          29500.020472907236,
          18894.176093852875,
          3865546.7590831392
         ],
         "xaxis": "x9",
         "y": [
          "American Samoa",
          "Anguilla",
          "St. Martin",
          "St. Pierre & Miquelon",
          "Bhutan",
          "Norfolk Island",
          "Congo - Brazzaville",
          "Cook Islands",
          "São Tomé & Príncipe",
          "Comoros",
          "Isle of Man",
          "Marshall Islands",
          "San Marino",
          "Greenland",
          "Caribbean Netherlands",
          "Seychelles",
          "Antigua & Barbuda",
          "Central African Republic",
          "Liberia",
          "Dominica",
          "British Virgin Islands",
          "Turkmenistan",
          "Timor-Leste",
          "Equatorial Guinea",
          "Guinea-Bissau",
          "Northern Mariana Islands",
          "St. Vincent & Grenadines",
          "St. Kitts & Nevis",
          "Sint Maarten",
          "Gibraltar",
          "Lesotho",
          "Syria",
          "Djibouti",
          "Sierra Leone",
          "Liechtenstein",
          "Niger",
          "Papua New Guinea",
          "Tajikistan",
          "Malawi",
          "Gambia",
          "Burundi",
          "Cape Verde",
          "Cayman Islands",
          "Turks & Caicos Islands",
          "Mayotte",
          "Bermuda",
          "Botswana",
          "Swaziland",
          "Guernsey",
          "French Polynesia",
          "French Guiana",
          "U.S. Virgin Islands",
          "St. Lucia",
          "Andorra",
          "Guyana",
          "New Caledonia",
          "Faroe Islands",
          "Grenada",
          "Belize",
          "Monaco",
          "Guinea",
          "Curaçao",
          "Chad",
          "Suriname",
          "Guadeloupe",
          "Aruba",
          "Namibia",
          "Gabon",
          "Zambia",
          "Burkina Faso",
          "Guam",
          "Jersey",
          "Mali",
          "Haiti",
          "Bahamas",
          "Togo",
          "Somalia",
          "Iran",
          "Benin",
          "Mauritania",
          "Afghanistan",
          "Fiji",
          "Rwanda",
          "Madagascar",
          "Zimbabwe",
          "Barbados",
          "Martinique",
          "Brunei",
          "Angola",
          "Mauritius",
          "Mozambique",
          "Uzbekistan",
          "Maldives",
          "Yemen",
          "Libya",
          "Macau",
          "Congo - Kinshasa",
          "Sudan",
          "Ethiopia",
          "Montenegro",
          "Paraguay",
          "Jamaica",
          "Nicaragua",
          "Iceland",
          "Réunion",
          "Laos",
          "Luxembourg",
          "Uganda",
          "Kyrgyzstan",
          "Trinidad & Tobago",
          "Cameroon",
          "Malta",
          "Senegal",
          "Myanmar (Burma)",
          "Palestine",
          "Nepal",
          "Honduras",
          "Tanzania",
          "Bahrain",
          "Moldova",
          "Armenia",
          "Mongolia",
          "Côte d’Ivoire",
          "Oman",
          "El Salvador",
          "Bolivia",
          "Ghana",
          "Lebanon",
          "Cyprus",
          "Panama",
          "Kosovo",
          "Costa Rica",
          "Uruguay",
          "Guatemala",
          "Cambodia",
          "Kuwait",
          "Estonia",
          "Qatar",
          "Latvia",
          "Azerbaijan",
          "Albania",
          "Puerto Rico",
          "Slovenia",
          "Lithuania",
          "Iraq",
          "Kenya",
          "Georgia",
          "Finland",
          "Belarus",
          "Jordan",
          "Dominican Republic",
          "Bosnia & Herzegovina",
          "Macedonia (FYROM)",
          "Kazakhstan",
          "Sri Lanka",
          "Croatia",
          "Nigeria",
          "Ecuador",
          "Tunisia",
          "(not set)",
          "Slovakia",
          "Chile",
          "New Zealand",
          "Portugal",
          "Morocco",
          "Bulgaria",
          "South Africa",
          "Serbia",
          "Venezuela",
          "Norway",
          "Bangladesh",
          "Algeria",
          "Hungary",
          "Egypt",
          "Austria",
          "Greece",
          "Denmark",
          "China",
          "Saudi Arabia",
          "United Arab Emirates",
          "Belgium",
          "Switzerland",
          "Czechia",
          "Pakistan",
          "Hong Kong",
          "Colombia",
          "Argentina",
          "South Korea",
          "Sweden",
          "Ukraine",
          "Israel",
          "Peru",
          "Ireland",
          "Singapore",
          "Malaysia",
          "Romania",
          "Poland",
          "Indonesia",
          "Netherlands",
          "Philippines",
          "Italy",
          "Spain",
          "Australia",
          "Taiwan",
          "Russia",
          "Mexico",
          "France",
          "Japan",
          "Germany",
          "Brazil",
          "Canada",
          "Turkey",
          "Thailand",
          "Vietnam",
          "United Kingdom",
          "India",
          "United States"
         ],
         "yaxis": "y9"
        },
        {
         "marker": {
          "color": "green"
         },
         "orientation": "h",
         "showlegend": false,
         "type": "bar",
         "x": [
          3,
          3,
          5,
          5,
          6,
          6,
          6,
          6,
          6,
          6,
          6,
          6,
          6,
          6,
          6,
          6,
          6,
          6,
          6,
          6,
          6,
          6,
          6,
          6,
          6,
          6,
          6,
          6,
          6,
          6,
          6,
          6,
          6,
          7,
          7,
          7,
          7,
          7,
          7,
          7,
          7,
          7,
          7,
          7,
          7,
          8,
          8,
          8,
          8,
          8,
          8,
          8,
          9,
          9,
          9,
          10,
          10,
          11,
          11,
          12,
          12,
          12,
          12,
          12,
          12,
          12,
          12,
          12,
          12,
          12,
          12,
          13,
          13,
          13,
          13,
          14,
          14,
          14,
          14,
          14,
          14,
          15,
          15,
          15,
          15,
          17,
          17,
          17,
          17,
          17,
          18,
          18,
          18,
          19,
          19,
          19,
          19,
          19,
          20,
          20,
          20,
          20,
          20,
          20,
          20,
          20,
          21,
          21,
          22,
          22,
          23,
          23,
          23,
          23,
          23,
          24,
          24,
          24,
          25,
          25,
          25,
          26,
          27,
          28,
          28,
          28,
          28,
          29,
          30,
          30,
          30,
          31,
          32,
          33,
          33,
          33,
          34,
          35,
          35,
          36,
          37,
          37,
          38,
          38,
          39,
          39,
          39,
          40,
          41,
          41,
          41,
          41,
          42,
          42,
          42,
          43,
          43,
          43,
          44,
          45,
          46,
          46,
          46,
          46,
          47,
          48,
          49,
          50,
          50,
          51,
          53,
          53,
          53,
          55,
          56,
          60,
          60,
          61,
          63,
          64,
          64,
          65,
          68,
          68,
          68,
          75,
          80,
          82,
          82,
          84,
          85,
          87,
          90,
          90,
          91,
          92,
          92,
          93,
          94,
          95,
          95,
          101,
          101,
          103,
          108,
          109,
          111,
          120,
          125,
          131,
          133,
          138,
          138,
          140,
          142,
          142,
          143,
          145,
          154,
          155,
          157,
          157,
          160,
          160,
          163,
          163,
          177,
          179,
          182,
          185,
          188,
          193,
          195,
          197,
          198,
          199,
          202,
          203,
          207,
          214,
          215,
          221,
          240,
          244,
          253,
          264,
          265,
          267,
          267,
          279,
          300,
          309,
          312,
          312,
          318,
          334,
          357,
          366,
          368,
          368,
          378,
          381,
          395,
          398,
          399,
          406,
          409,
          411,
          422,
          426,
          436,
          453,
          459,
          477,
          480,
          483,
          506,
          507,
          550,
          590,
          607,
          619,
          622,
          635,
          647,
          682,
          687,
          688,
          762,
          779,
          794,
          802,
          809,
          853,
          878,
          920,
          957,
          1065,
          1113,
          1160,
          1220,
          1234,
          1279,
          1293,
          1313,
          1321,
          1484,
          1539,
          1589,
          1646,
          1649,
          1652,
          1671,
          1673,
          1766,
          1800,
          1852,
          1858,
          1974,
          1999,
          2074,
          2133,
          2481,
          2591,
          2676,
          2783,
          2836,
          2863,
          3249,
          3254,
          3456,
          3457,
          3490,
          3955,
          3998,
          4790,
          5076,
          5195,
          5558,
          5615,
          6811,
          6984,
          8548,
          17479,
          20003,
          69920,
          357422
         ],
         "xaxis": "x10",
         "y": [
          "Montana",
          "Oklahoma",
          "Kumamoto Prefecture",
          "San Salvador Department",
          "Abruzzo",
          "Overijssel",
          "Assam",
          "Ha Tinh Province",
          "Phu Tho Province",
          "State of Espirito Santo",
          "Sonora",
          "Central Java",
          "Puebla",
          "Rhone-Alpes",
          "Queretaro",
          "Nord-Pas-de-Calais",
          "Guanajuato",
          "Gelderland",
          "Eskisehir Province",
          "Erzurum",
          "Islamabad Capital Territory",
          "Iasi County",
          "Hradec Kralove Region",
          "Maha Sarakham",
          "Lviv Oblast",
          "Lopburi",
          "Leiria District",
          "Oran Province",
          "Okinawa Prefecture",
          "Binh Phuoc",
          "Beirut Governorate",
          "Baja California",
          "Aydin Province",
          "Central Denmark Region",
          "Usti nad Labem Region",
          "Binh Thuan Province",
          "Odisha",
          "Piedmont",
          "Special Region of Yogyakarta",
          "Nakhon Si Thammarat",
          "Moravian-Silesian Region",
          "County Wicklow",
          "Guangdong",
          "State of Mato Grosso",
          "Guatemala Department",
          "Hawaii",
          "Daegu",
          "Prince Edward Island",
          "Nagano Prefecture",
          "State of Pernambuco",
          "Aichi Prefecture",
          "Pays de la Loire",
          "Al Madinah Province",
          "Podkarpackie Voivodeship",
          "Arequipa",
          "Primorsky Krai",
          "Newfoundland and Labrador",
          "Grand Est",
          "Wales",
          "Djong Thap Province",
          "Kansas",
          "La Libertad",
          "Olomouc Region",
          "Asturias",
          "Center District",
          "Quang Ngai",
          "Sakon Nakhon",
          "Sibiu",
          "Minsk Region",
          "Gia Lai Province",
          "Tainan City",
          "Thanh Hoa",
          "Lampang",
          "Tay Ninh Province",
          "Piura",
          "Miaoli County",
          "Mures County",
          "Hunedoara County",
          "Buenos Aires Province",
          "Changhua County",
          "Zhejiang",
          "Salzburg",
          "Geneva",
          "Panama",
          "Gauteng",
          "Vaud",
          "Fukui Prefecture",
          "Aragon",
          "Aust-Agder",
          "Pichincha",
          "Vladimir Oblast",
          "Nairobi County",
          "Doha",
          "Vilnius County",
          "State of Ceara",
          "Sardinia",
          "Capital District",
          "Wellington",
          "Phitsanulok",
          "Tuscany",
          "Sinaloa",
          "North Sumatra",
          "State of Mexico",
          "Johor",
          "Cordoba",
          "Jalisco",
          "Central Macedonia",
          "Alba County",
          "Hokkaido",
          "Beijing",
          "Silesian Voivodeship",
          "Taoyuan County",
          "Harju County",
          "Region Zealand",
          "Brittany",
          "Gaziantep",
          "Bihor County",
          "Dnipropetrovsk Oblast",
          "Hung Yen Province",
          "Trabzon",
          "Odessa Oblast",
          "Kien Giang",
          "Phra Nakhon Si Ayutthaya",
          "Emilia-Romagna",
          "Valencian Community",
          "Maryland",
          "Idaho",
          "Samsun",
          "Scotland",
          "Bac Giang",
          "Lower Austria",
          "Bihar",
          "Kharkiv Oblast",
          "Hsinchu County",
          "Prachuap Khiri Khan",
          "Almaty Province",
          "Nebraska",
          "Western Cape",
          "North Denmark Region",
          "Valle del Cauca",
          "Baden-Wurttemberg",
          "Indiana",
          "North Brabant",
          "Sharjah",
          "Campania",
          "Kayseri Province",
          "Bratislava Region",
          "Kerala",
          "Kentucky",
          "Quang Nam Province",
          "Vinh Phuc Province",
          "Binh Dinh Province",
          "South Moravian Region",
          "State of Bahia",
          "North Rhine-Westphalia",
          "Nam Dinh",
          "Riga",
          "South Carolina",
          "Cusco",
          "Pathum Thani",
          "Lower Silesian Voivodeship",
          "Utrecht",
          "Alexandria Governorate",
          "Algiers Province",
          "Utah",
          "Ubon Ratchathani",
          "Chiang Rai",
          "Castile-La Mancha",
          "Santa Fe Province",
          "Davao Region",
          "Thai Binh",
          "Western Australia",
          "Timis County",
          "Saraburi",
          "Nouvelle-Aquitaine",
          "Chandigarh",
          "Shanghai",
          "Connecticut",
          "Region Syddanmark",
          "Thua Thien Hue",
          "Phuket",
          "Capital Region of Denmark",
          "Amman Governorate",
          "Aquitaine",
          "Mersin Province",
          "State of Goias",
          "Iowa",
          "State of Rio Grande do Sul",
          "Andalusia",
          "Oslo",
          "Western Province",
          "Can Tho",
          "Rayong",
          "Nghe An",
          "Auvergne-Rhone-Alpes",
          "County Cork",
          "Tien Giang",
          "South Holland",
          "Cairo Governorate",
          "Konya",
          "Abu Dhabi",
          "Flanders",
          "Khanh Hoa Province",
          "Cluj County",
          "Antioquia",
          "Lam Djong",
          "Missouri",
          "State of Parana",
          "City of Zagreb",
          "Lisbon",
          "Basque Country",
          "Kaohsiung City",
          "Tennessee",
          "Minnesota",
          "Grand Casablanca",
          "Hai Duong",
          "Alberta",
          "Ba Ria - Vung Tau",
          "Taichung City",
          "Greater Poland Voivodeship",
          "Madhya Pradesh",
          "Djak Lak Province",
          "Auckland",
          "Bac Ninh Province",
          "Uttar Pradesh",
          "Udon Thani",
          "Federal District",
          "Saint Petersburg",
          "Songkhla",
          "Kanagawa Prefecture",
          "Adana",
          "Rajasthan",
          "Lagos",
          "Brussels",
          "Tbilisi",
          "Nevada",
          "Surat Thani",
          "Selangor",
          "Sofia City Province",
          "Zulia",
          "Antalya",
          "Hauts-de-France",
          "Nuevo Leon",
          "East Java",
          "Nakhon Sawan",
          "Provence-Alpes-Cote d'Azur",
          "Punjab",
          "State of Minas Gerais",
          "Lesser Poland Voivodeship",
          "Lazio",
          "Thai Nguyen",
          "Nakhon Ratchasima",
          "Bavaria",
          "Nakhon Pathom",
          "Santiago Metropolitan Region",
          "Arizona",
          "Budapest",
          "West Java",
          "Makkah Province",
          "Haryana",
          "Bursa",
          "Hesse",
          "Osaka Prefecture",
          "Florida",
          "Attica",
          "British Columbia",
          "Sindh",
          "Vastra Gotaland County",
          "Vienna",
          "Hamburg",
          "North Carolina",
          "Prague",
          "Wisconsin",
          "Colorado",
          "Haiphong",
          "New Jersey",
          "Queensland",
          "Central Visayas",
          "Ohio",
          "State of Rio de Janeiro",
          "Gujarat",
          "Riyadh Province",
          "Buenos Aires",
          "Chiang Mai",
          "Da Nang",
          "Khon Kaen",
          "Lombardy",
          "Zurich",
          "Dhaka Division",
          "Chon Buri",
          "Berlin",
          "Stockholm County",
          "Catalonia",
          "Dong Nai",
          "New Taipei City",
          "Bogota",
          "Dubai",
          "North Holland",
          "Kyiv city",
          "Oregon",
          "Dublin City",
          "Pennsylvania",
          "Bucharest",
          "West Bengal",
          "Lima Region",
          "Izmir",
          "Ankara",
          "Seoul",
          "Massachusetts",
          "Federal Territory of Kuala Lumpur",
          "Georgia",
          "Moscow",
          "Victoria",
          "District of Columbia",
          "Michigan",
          "Mexico City",
          "Tokyo",
          "Metro Manila",
          "Quebec",
          "County Dublin",
          "Community of Madrid",
          "Tamil Nadu",
          "Masovian Voivodeship",
          "Jakarta",
          "Telangana",
          "Ile-de-France",
          "Virginia",
          "Tel Aviv District",
          "State of Sao Paulo",
          "New South Wales",
          "Taipei City",
          "Karnataka",
          "Delhi",
          "Ontario",
          "Maharashtra",
          "Washington",
          "Hanoi",
          "Illinois",
          "Texas",
          "Istanbul",
          "Bangkok",
          "Ho Chi Minh",
          "England",
          "New York",
          "(not set)",
          "California",
          "not available in demo dataset"
         ],
         "yaxis": "y10"
        },
        {
         "marker": {
          "color": "green"
         },
         "orientation": "h",
         "showlegend": false,
         "type": "bar",
         "x": [
          3,
          3,
          5,
          5,
          6,
          6,
          6,
          6,
          6,
          6,
          6,
          6,
          6,
          6,
          6,
          6,
          6,
          6,
          6,
          6,
          6,
          6,
          6,
          6,
          6,
          6,
          6,
          6,
          6,
          6,
          6,
          6,
          6,
          7,
          7,
          7,
          7,
          7,
          7,
          7,
          7,
          7,
          7,
          7,
          7,
          8,
          8,
          8,
          8,
          8,
          8,
          8,
          9,
          9,
          9,
          10,
          10,
          11,
          11,
          12,
          12,
          12,
          12,
          12,
          12,
          12,
          12,
          12,
          12,
          12,
          12,
          13,
          13,
          13,
          13,
          14,
          14,
          14,
          14,
          14,
          14,
          15,
          15,
          15,
          15,
          17,
          17,
          17,
          17,
          17,
          18,
          18,
          18,
          19,
          19,
          19,
          19,
          19,
          20,
          20,
          20,
          20,
          20,
          20,
          20,
          20,
          21,
          21,
          22,
          22,
          23,
          23,
          23,
          23,
          23,
          24,
          24,
          24,
          25,
          25,
          25,
          26,
          27,
          28,
          28,
          28,
          28,
          29,
          30,
          30,
          30,
          31,
          32,
          33,
          33,
          33,
          34,
          35,
          35,
          36,
          37,
          37,
          38,
          38,
          39,
          39,
          39,
          40,
          41,
          41,
          41,
          41,
          42,
          42,
          42,
          43,
          43,
          43,
          44,
          45,
          46,
          46,
          46,
          46,
          47,
          48,
          49,
          50,
          50,
          51,
          53,
          53,
          53,
          55,
          56,
          60,
          60,
          61,
          63,
          64,
          64,
          65,
          68,
          68,
          68,
          75,
          80,
          82,
          82,
          84,
          85,
          87,
          90,
          90,
          91,
          92,
          92,
          93,
          94,
          95,
          95,
          101,
          101,
          103,
          108,
          109,
          111,
          120,
          125,
          131,
          133,
          138,
          138,
          140,
          142,
          142,
          143,
          145,
          154,
          155,
          157,
          157,
          160,
          160,
          163,
          163,
          177,
          179,
          182,
          185,
          188,
          193,
          195,
          197,
          198,
          199,
          202,
          203,
          207,
          214,
          215,
          221,
          240,
          244,
          253,
          264,
          265,
          267,
          267,
          279,
          300,
          309,
          312,
          312,
          318,
          334,
          357,
          366,
          368,
          368,
          378,
          381,
          395,
          398,
          399,
          406,
          409,
          411,
          422,
          426,
          436,
          453,
          459,
          477,
          480,
          483,
          506,
          507,
          550,
          590,
          607,
          619,
          622,
          635,
          647,
          682,
          687,
          688,
          762,
          779,
          794,
          802,
          809,
          853,
          878,
          920,
          957,
          1065,
          1113,
          1160,
          1220,
          1234,
          1279,
          1293,
          1313,
          1321,
          1484,
          1539,
          1589,
          1646,
          1649,
          1652,
          1671,
          1673,
          1766,
          1800,
          1852,
          1858,
          1974,
          1999,
          2074,
          2133,
          2481,
          2591,
          2676,
          2783,
          2836,
          2863,
          3249,
          3254,
          3456,
          3457,
          3490,
          3955,
          3998,
          4790,
          5076,
          5195,
          5558,
          5615,
          6811,
          6984,
          8548,
          17479,
          20003,
          69920,
          357422
         ],
         "xaxis": "x11",
         "y": [
          "Montana",
          "Oklahoma",
          "Kumamoto Prefecture",
          "San Salvador Department",
          "Abruzzo",
          "Overijssel",
          "Assam",
          "Ha Tinh Province",
          "Phu Tho Province",
          "State of Espirito Santo",
          "Sonora",
          "Central Java",
          "Puebla",
          "Rhone-Alpes",
          "Queretaro",
          "Nord-Pas-de-Calais",
          "Guanajuato",
          "Gelderland",
          "Eskisehir Province",
          "Erzurum",
          "Islamabad Capital Territory",
          "Iasi County",
          "Hradec Kralove Region",
          "Maha Sarakham",
          "Lviv Oblast",
          "Lopburi",
          "Leiria District",
          "Oran Province",
          "Okinawa Prefecture",
          "Binh Phuoc",
          "Beirut Governorate",
          "Baja California",
          "Aydin Province",
          "Central Denmark Region",
          "Usti nad Labem Region",
          "Binh Thuan Province",
          "Odisha",
          "Piedmont",
          "Special Region of Yogyakarta",
          "Nakhon Si Thammarat",
          "Moravian-Silesian Region",
          "County Wicklow",
          "Guangdong",
          "State of Mato Grosso",
          "Guatemala Department",
          "Hawaii",
          "Daegu",
          "Prince Edward Island",
          "Nagano Prefecture",
          "State of Pernambuco",
          "Aichi Prefecture",
          "Pays de la Loire",
          "Al Madinah Province",
          "Podkarpackie Voivodeship",
          "Arequipa",
          "Primorsky Krai",
          "Newfoundland and Labrador",
          "Grand Est",
          "Wales",
          "Djong Thap Province",
          "Kansas",
          "La Libertad",
          "Olomouc Region",
          "Asturias",
          "Center District",
          "Quang Ngai",
          "Sakon Nakhon",
          "Sibiu",
          "Minsk Region",
          "Gia Lai Province",
          "Tainan City",
          "Thanh Hoa",
          "Lampang",
          "Tay Ninh Province",
          "Piura",
          "Miaoli County",
          "Mures County",
          "Hunedoara County",
          "Buenos Aires Province",
          "Changhua County",
          "Zhejiang",
          "Salzburg",
          "Geneva",
          "Panama",
          "Gauteng",
          "Vaud",
          "Fukui Prefecture",
          "Aragon",
          "Aust-Agder",
          "Pichincha",
          "Vladimir Oblast",
          "Nairobi County",
          "Doha",
          "Vilnius County",
          "State of Ceara",
          "Sardinia",
          "Capital District",
          "Wellington",
          "Phitsanulok",
          "Tuscany",
          "Sinaloa",
          "North Sumatra",
          "State of Mexico",
          "Johor",
          "Cordoba",
          "Jalisco",
          "Central Macedonia",
          "Alba County",
          "Hokkaido",
          "Beijing",
          "Silesian Voivodeship",
          "Taoyuan County",
          "Harju County",
          "Region Zealand",
          "Brittany",
          "Gaziantep",
          "Bihor County",
          "Dnipropetrovsk Oblast",
          "Hung Yen Province",
          "Trabzon",
          "Odessa Oblast",
          "Kien Giang",
          "Phra Nakhon Si Ayutthaya",
          "Emilia-Romagna",
          "Valencian Community",
          "Maryland",
          "Idaho",
          "Samsun",
          "Scotland",
          "Bac Giang",
          "Lower Austria",
          "Bihar",
          "Kharkiv Oblast",
          "Hsinchu County",
          "Prachuap Khiri Khan",
          "Almaty Province",
          "Nebraska",
          "Western Cape",
          "North Denmark Region",
          "Valle del Cauca",
          "Baden-Wurttemberg",
          "Indiana",
          "North Brabant",
          "Sharjah",
          "Campania",
          "Kayseri Province",
          "Bratislava Region",
          "Kerala",
          "Kentucky",
          "Quang Nam Province",
          "Vinh Phuc Province",
          "Binh Dinh Province",
          "South Moravian Region",
          "State of Bahia",
          "North Rhine-Westphalia",
          "Nam Dinh",
          "Riga",
          "South Carolina",
          "Cusco",
          "Pathum Thani",
          "Lower Silesian Voivodeship",
          "Utrecht",
          "Alexandria Governorate",
          "Algiers Province",
          "Utah",
          "Ubon Ratchathani",
          "Chiang Rai",
          "Castile-La Mancha",
          "Santa Fe Province",
          "Davao Region",
          "Thai Binh",
          "Western Australia",
          "Timis County",
          "Saraburi",
          "Nouvelle-Aquitaine",
          "Chandigarh",
          "Shanghai",
          "Connecticut",
          "Region Syddanmark",
          "Thua Thien Hue",
          "Phuket",
          "Capital Region of Denmark",
          "Amman Governorate",
          "Aquitaine",
          "Mersin Province",
          "State of Goias",
          "Iowa",
          "State of Rio Grande do Sul",
          "Andalusia",
          "Oslo",
          "Western Province",
          "Can Tho",
          "Rayong",
          "Nghe An",
          "Auvergne-Rhone-Alpes",
          "County Cork",
          "Tien Giang",
          "South Holland",
          "Cairo Governorate",
          "Konya",
          "Abu Dhabi",
          "Flanders",
          "Khanh Hoa Province",
          "Cluj County",
          "Antioquia",
          "Lam Djong",
          "Missouri",
          "State of Parana",
          "City of Zagreb",
          "Lisbon",
          "Basque Country",
          "Kaohsiung City",
          "Tennessee",
          "Minnesota",
          "Grand Casablanca",
          "Hai Duong",
          "Alberta",
          "Ba Ria - Vung Tau",
          "Taichung City",
          "Greater Poland Voivodeship",
          "Madhya Pradesh",
          "Djak Lak Province",
          "Auckland",
          "Bac Ninh Province",
          "Uttar Pradesh",
          "Udon Thani",
          "Federal District",
          "Saint Petersburg",
          "Songkhla",
          "Kanagawa Prefecture",
          "Adana",
          "Rajasthan",
          "Lagos",
          "Brussels",
          "Tbilisi",
          "Nevada",
          "Surat Thani",
          "Selangor",
          "Sofia City Province",
          "Zulia",
          "Antalya",
          "Hauts-de-France",
          "Nuevo Leon",
          "East Java",
          "Nakhon Sawan",
          "Provence-Alpes-Cote d'Azur",
          "Punjab",
          "State of Minas Gerais",
          "Lesser Poland Voivodeship",
          "Lazio",
          "Thai Nguyen",
          "Nakhon Ratchasima",
          "Bavaria",
          "Nakhon Pathom",
          "Santiago Metropolitan Region",
          "Arizona",
          "Budapest",
          "West Java",
          "Makkah Province",
          "Haryana",
          "Bursa",
          "Hesse",
          "Osaka Prefecture",
          "Florida",
          "Attica",
          "British Columbia",
          "Sindh",
          "Vastra Gotaland County",
          "Vienna",
          "Hamburg",
          "North Carolina",
          "Prague",
          "Wisconsin",
          "Colorado",
          "Haiphong",
          "New Jersey",
          "Queensland",
          "Central Visayas",
          "Ohio",
          "State of Rio de Janeiro",
          "Gujarat",
          "Riyadh Province",
          "Buenos Aires",
          "Chiang Mai",
          "Da Nang",
          "Khon Kaen",
          "Lombardy",
          "Zurich",
          "Dhaka Division",
          "Chon Buri",
          "Berlin",
          "Stockholm County",
          "Catalonia",
          "Dong Nai",
          "New Taipei City",
          "Bogota",
          "Dubai",
          "North Holland",
          "Kyiv city",
          "Oregon",
          "Dublin City",
          "Pennsylvania",
          "Bucharest",
          "West Bengal",
          "Lima Region",
          "Izmir",
          "Ankara",
          "Seoul",
          "Massachusetts",
          "Federal Territory of Kuala Lumpur",
          "Georgia",
          "Moscow",
          "Victoria",
          "District of Columbia",
          "Michigan",
          "Mexico City",
          "Tokyo",
          "Metro Manila",
          "Quebec",
          "County Dublin",
          "Community of Madrid",
          "Tamil Nadu",
          "Masovian Voivodeship",
          "Jakarta",
          "Telangana",
          "Ile-de-France",
          "Virginia",
          "Tel Aviv District",
          "State of Sao Paulo",
          "New South Wales",
          "Taipei City",
          "Karnataka",
          "Delhi",
          "Ontario",
          "Maharashtra",
          "Washington",
          "Hanoi",
          "Illinois",
          "Texas",
          "Istanbul",
          "Bangkok",
          "Ho Chi Minh",
          "England",
          "New York",
          "(not set)",
          "California",
          "not available in demo dataset"
         ],
         "yaxis": "y11"
        },
        {
         "marker": {
          "color": "green"
         },
         "orientation": "h",
         "showlegend": false,
         "type": "bar",
         "x": [
          0,
          0,
          0,
          0,
          0,
          0,
          0,
          0,
          0,
          0,
          0,
          0,
          0,
          0,
          0,
          0,
          0,
          0,
          0,
          0,
          0,
          0,
          0,
          0,
          0,
          0,
          0,
          0,
          0,
          0,
          0,
          0,
          0,
          0,
          0,
          0,
          0,
          0,
          0,
          0,
          0,
          0,
          0,
          0,
          0,
          0,
          0,
          0,
          0,
          0,
          0,
          0,
          0,
          0,
          0,
          0,
          0,
          0,
          0,
          0,
          0,
          0,
          0,
          0,
          0,
          0,
          0,
          0,
          0,
          0,
          0,
          0,
          0,
          0,
          0,
          0,
          0,
          0,
          0,
          0,
          0,
          0,
          0,
          0,
          0,
          0,
          0,
          0,
          0,
          21009411.76470588,
          0,
          0,
          0,
          0,
          0,
          0,
          0,
          0,
          0,
          0,
          0,
          0,
          0,
          0,
          0,
          0,
          0,
          0,
          0,
          0,
          0,
          0,
          0,
          0,
          0,
          0,
          0,
          0,
          0,
          0,
          0,
          0,
          0,
          0,
          0,
          0,
          0,
          0,
          0,
          0,
          0,
          0,
          0,
          0,
          0,
          0,
          4513235.294117647,
          0,
          0,
          0,
          0,
          188918.9189189189,
          0,
          0,
          0,
          0,
          0,
          0,
          0,
          0,
          0,
          0,
          0,
          0,
          0,
          0,
          0,
          2358837.2093023257,
          0,
          0,
          0,
          0,
          0,
          0,
          1297021.2765957448,
          0,
          0,
          0,
          0,
          0,
          0,
          0,
          0,
          0,
          0,
          0,
          0,
          278524.59016393445,
          0,
          0,
          0,
          0,
          0,
          0,
          0,
          0,
          1851000,
          0,
          0,
          0,
          0,
          0,
          0,
          0,
          0,
          0,
          0,
          0,
          0,
          0,
          0,
          0,
          0,
          0,
          0,
          0,
          2190180.1801801804,
          0,
          0,
          0,
          0,
          0,
          16003913.507246377,
          417428.5714285714,
          0,
          0,
          5951748.475524476,
          0,
          0,
          0,
          0,
          0,
          0,
          0,
          0,
          0,
          0,
          0,
          0,
          0,
          0,
          0,
          0,
          0,
          85808.0808080808,
          2504874.2914572866,
          0,
          0,
          0,
          25737803.81308411,
          0,
          0,
          0,
          0,
          0,
          0,
          0,
          0,
          0,
          0,
          0,
          0,
          0,
          0,
          640691.8238993711,
          6167005.988023952,
          0,
          0,
          0,
          0,
          0,
          0,
          0,
          1016733.6683417085,
          0,
          68916.25615763546,
          0,
          0,
          142156.3981042654,
          149295.77464788733,
          1793096.3302752294,
          98874.17218543046,
          0,
          4096331.236897275,
          0,
          2053229.8136645963,
          0,
          0,
          206236.36363636365,
          149779.66101694916,
          0,
          0,
          0,
          0,
          0,
          0,
          0,
          188473.83720930232,
          0,
          0,
          0,
          0,
          454635.3522867738,
          0,
          197665.14806378132,
          0,
          0,
          18018.779342723006,
          0,
          766715.5172413794,
          8188.524590163935,
          2136628.8363047,
          59390.14855355747,
          0,
          28941.355674028942,
          0,
          0,
          361052.62118258607,
          7824147.262429201,
          203481.1567436209,
          6483681.057610673,
          0,
          128432.07660083783,
          4479091.4237896,
          7829824.44394111,
          430816.67555555556,
          1829805.615550756,
          9144.241119483315,
          76661.60081053698,
          33861.930965482745,
          0,
          0,
          0,
          488807.4102663064,
          0,
          0,
          6826484.361071932,
          10045.406915822563,
          157553.09325946445,
          75568.53103872157,
          34406.8287037037,
          55308.07058142898,
          31404.011461318052,
          2959390.6042983565,
          375.18759379689845,
          4741281.86388309,
          0,
          9841711.251588065,
          3387704.2216624687,
          18238.6464826358,
          24213.77183967112,
          0,
          62029.712681328965,
          9146472.333657531,
          212463.63285507174,
          3393659.899313501,
          1134440.1581547863
         ],
         "xaxis": "x12",
         "y": [
          "Montana",
          "Oklahoma",
          "Kumamoto Prefecture",
          "San Salvador Department",
          "Abruzzo",
          "Overijssel",
          "Assam",
          "Ha Tinh Province",
          "Phu Tho Province",
          "State of Espirito Santo",
          "Sonora",
          "Central Java",
          "Puebla",
          "Rhone-Alpes",
          "Queretaro",
          "Nord-Pas-de-Calais",
          "Guanajuato",
          "Gelderland",
          "Eskisehir Province",
          "Erzurum",
          "Islamabad Capital Territory",
          "Iasi County",
          "Hradec Kralove Region",
          "Maha Sarakham",
          "Lviv Oblast",
          "Lopburi",
          "Leiria District",
          "Oran Province",
          "Okinawa Prefecture",
          "Binh Phuoc",
          "Beirut Governorate",
          "Baja California",
          "Aydin Province",
          "Central Denmark Region",
          "Usti nad Labem Region",
          "Binh Thuan Province",
          "Odisha",
          "Piedmont",
          "Special Region of Yogyakarta",
          "Nakhon Si Thammarat",
          "Moravian-Silesian Region",
          "County Wicklow",
          "Guangdong",
          "State of Mato Grosso",
          "Guatemala Department",
          "Hawaii",
          "Daegu",
          "Prince Edward Island",
          "Nagano Prefecture",
          "State of Pernambuco",
          "Aichi Prefecture",
          "Pays de la Loire",
          "Al Madinah Province",
          "Podkarpackie Voivodeship",
          "Arequipa",
          "Primorsky Krai",
          "Newfoundland and Labrador",
          "Grand Est",
          "Wales",
          "Djong Thap Province",
          "Kansas",
          "La Libertad",
          "Olomouc Region",
          "Asturias",
          "Center District",
          "Quang Ngai",
          "Sakon Nakhon",
          "Sibiu",
          "Minsk Region",
          "Gia Lai Province",
          "Tainan City",
          "Thanh Hoa",
          "Lampang",
          "Tay Ninh Province",
          "Piura",
          "Miaoli County",
          "Mures County",
          "Hunedoara County",
          "Buenos Aires Province",
          "Changhua County",
          "Zhejiang",
          "Salzburg",
          "Geneva",
          "Panama",
          "Gauteng",
          "Vaud",
          "Fukui Prefecture",
          "Aragon",
          "Aust-Agder",
          "Pichincha",
          "Vladimir Oblast",
          "Nairobi County",
          "Doha",
          "Vilnius County",
          "State of Ceara",
          "Sardinia",
          "Capital District",
          "Wellington",
          "Phitsanulok",
          "Tuscany",
          "Sinaloa",
          "North Sumatra",
          "State of Mexico",
          "Johor",
          "Cordoba",
          "Jalisco",
          "Central Macedonia",
          "Alba County",
          "Hokkaido",
          "Beijing",
          "Silesian Voivodeship",
          "Taoyuan County",
          "Harju County",
          "Region Zealand",
          "Brittany",
          "Gaziantep",
          "Bihor County",
          "Dnipropetrovsk Oblast",
          "Hung Yen Province",
          "Trabzon",
          "Odessa Oblast",
          "Kien Giang",
          "Phra Nakhon Si Ayutthaya",
          "Emilia-Romagna",
          "Valencian Community",
          "Maryland",
          "Idaho",
          "Samsun",
          "Scotland",
          "Bac Giang",
          "Lower Austria",
          "Bihar",
          "Kharkiv Oblast",
          "Hsinchu County",
          "Prachuap Khiri Khan",
          "Almaty Province",
          "Nebraska",
          "Western Cape",
          "North Denmark Region",
          "Valle del Cauca",
          "Baden-Wurttemberg",
          "Indiana",
          "North Brabant",
          "Sharjah",
          "Campania",
          "Kayseri Province",
          "Bratislava Region",
          "Kerala",
          "Kentucky",
          "Quang Nam Province",
          "Vinh Phuc Province",
          "Binh Dinh Province",
          "South Moravian Region",
          "State of Bahia",
          "North Rhine-Westphalia",
          "Nam Dinh",
          "Riga",
          "South Carolina",
          "Cusco",
          "Pathum Thani",
          "Lower Silesian Voivodeship",
          "Utrecht",
          "Alexandria Governorate",
          "Algiers Province",
          "Utah",
          "Ubon Ratchathani",
          "Chiang Rai",
          "Castile-La Mancha",
          "Santa Fe Province",
          "Davao Region",
          "Thai Binh",
          "Western Australia",
          "Timis County",
          "Saraburi",
          "Nouvelle-Aquitaine",
          "Chandigarh",
          "Shanghai",
          "Connecticut",
          "Region Syddanmark",
          "Thua Thien Hue",
          "Phuket",
          "Capital Region of Denmark",
          "Amman Governorate",
          "Aquitaine",
          "Mersin Province",
          "State of Goias",
          "Iowa",
          "State of Rio Grande do Sul",
          "Andalusia",
          "Oslo",
          "Western Province",
          "Can Tho",
          "Rayong",
          "Nghe An",
          "Auvergne-Rhone-Alpes",
          "County Cork",
          "Tien Giang",
          "South Holland",
          "Cairo Governorate",
          "Konya",
          "Abu Dhabi",
          "Flanders",
          "Khanh Hoa Province",
          "Cluj County",
          "Antioquia",
          "Lam Djong",
          "Missouri",
          "State of Parana",
          "City of Zagreb",
          "Lisbon",
          "Basque Country",
          "Kaohsiung City",
          "Tennessee",
          "Minnesota",
          "Grand Casablanca",
          "Hai Duong",
          "Alberta",
          "Ba Ria - Vung Tau",
          "Taichung City",
          "Greater Poland Voivodeship",
          "Madhya Pradesh",
          "Djak Lak Province",
          "Auckland",
          "Bac Ninh Province",
          "Uttar Pradesh",
          "Udon Thani",
          "Federal District",
          "Saint Petersburg",
          "Songkhla",
          "Kanagawa Prefecture",
          "Adana",
          "Rajasthan",
          "Lagos",
          "Brussels",
          "Tbilisi",
          "Nevada",
          "Surat Thani",
          "Selangor",
          "Sofia City Province",
          "Zulia",
          "Antalya",
          "Hauts-de-France",
          "Nuevo Leon",
          "East Java",
          "Nakhon Sawan",
          "Provence-Alpes-Cote d'Azur",
          "Punjab",
          "State of Minas Gerais",
          "Lesser Poland Voivodeship",
          "Lazio",
          "Thai Nguyen",
          "Nakhon Ratchasima",
          "Bavaria",
          "Nakhon Pathom",
          "Santiago Metropolitan Region",
          "Arizona",
          "Budapest",
          "West Java",
          "Makkah Province",
          "Haryana",
          "Bursa",
          "Hesse",
          "Osaka Prefecture",
          "Florida",
          "Attica",
          "British Columbia",
          "Sindh",
          "Vastra Gotaland County",
          "Vienna",
          "Hamburg",
          "North Carolina",
          "Prague",
          "Wisconsin",
          "Colorado",
          "Haiphong",
          "New Jersey",
          "Queensland",
          "Central Visayas",
          "Ohio",
          "State of Rio de Janeiro",
          "Gujarat",
          "Riyadh Province",
          "Buenos Aires",
          "Chiang Mai",
          "Da Nang",
          "Khon Kaen",
          "Lombardy",
          "Zurich",
          "Dhaka Division",
          "Chon Buri",
          "Berlin",
          "Stockholm County",
          "Catalonia",
          "Dong Nai",
          "New Taipei City",
          "Bogota",
          "Dubai",
          "North Holland",
          "Kyiv city",
          "Oregon",
          "Dublin City",
          "Pennsylvania",
          "Bucharest",
          "West Bengal",
          "Lima Region",
          "Izmir",
          "Ankara",
          "Seoul",
          "Massachusetts",
          "Federal Territory of Kuala Lumpur",
          "Georgia",
          "Moscow",
          "Victoria",
          "District of Columbia",
          "Michigan",
          "Mexico City",
          "Tokyo",
          "Metro Manila",
          "Quebec",
          "County Dublin",
          "Community of Madrid",
          "Tamil Nadu",
          "Masovian Voivodeship",
          "Jakarta",
          "Telangana",
          "Ile-de-France",
          "Virginia",
          "Tel Aviv District",
          "State of Sao Paulo",
          "New South Wales",
          "Taipei City",
          "Karnataka",
          "Delhi",
          "Ontario",
          "Maharashtra",
          "Washington",
          "Hanoi",
          "Illinois",
          "Texas",
          "Istanbul",
          "Bangkok",
          "Ho Chi Minh",
          "England",
          "New York",
          "(not set)",
          "California",
          "not available in demo dataset"
         ],
         "yaxis": "y12"
        },
        {
         "marker": {
          "color": "yellow"
         },
         "orientation": "h",
         "showlegend": false,
         "type": "bar",
         "x": [
          3,
          3,
          3,
          4,
          5,
          5,
          5,
          5,
          5,
          5,
          5,
          6,
          6,
          6,
          6,
          6,
          6,
          6,
          6,
          6,
          6,
          6,
          6,
          6,
          6,
          6,
          6,
          6,
          6,
          6,
          6,
          6,
          6,
          6,
          6,
          6,
          6,
          6,
          6,
          6,
          6,
          6,
          6,
          6,
          6,
          6,
          6,
          6,
          6,
          6,
          6,
          6,
          6,
          6,
          6,
          6,
          6,
          6,
          6,
          6,
          6,
          6,
          6,
          6,
          6,
          6,
          6,
          6,
          6,
          7,
          7,
          7,
          7,
          7,
          7,
          7,
          7,
          7,
          7,
          7,
          7,
          7,
          7,
          7,
          7,
          7,
          7,
          7,
          7,
          7,
          7,
          7,
          7,
          7,
          7,
          7,
          7,
          7,
          7,
          7,
          7,
          7,
          7,
          7,
          7,
          7,
          7,
          7,
          7,
          7,
          8,
          8,
          8,
          8,
          8,
          8,
          8,
          8,
          8,
          8,
          8,
          8,
          8,
          8,
          8,
          8,
          8,
          8,
          8,
          8,
          8,
          8,
          8,
          8,
          8,
          9,
          9,
          9,
          9,
          9,
          9,
          9,
          9,
          9,
          9,
          9,
          9,
          9,
          9,
          10,
          10,
          10,
          10,
          10,
          10,
          11,
          11,
          11,
          11,
          11,
          11,
          11,
          11,
          11,
          12,
          12,
          12,
          12,
          12,
          12,
          12,
          12,
          12,
          12,
          12,
          12,
          12,
          12,
          12,
          13,
          13,
          13,
          13,
          13,
          13,
          13,
          13,
          13,
          13,
          13,
          13,
          14,
          14,
          14,
          14,
          14,
          14,
          14,
          14,
          15,
          15,
          15,
          15,
          15,
          15,
          15,
          15,
          15,
          16,
          16,
          16,
          16,
          16,
          16,
          16,
          16,
          17,
          17,
          17,
          17,
          17,
          17,
          17,
          17,
          17,
          17,
          18,
          18,
          19,
          19,
          19,
          19,
          19,
          19,
          19,
          19,
          19,
          19,
          19,
          20,
          20,
          20,
          20,
          20,
          20,
          20,
          20,
          20,
          20,
          21,
          21,
          22,
          22,
          22,
          22,
          22,
          23,
          23,
          23,
          23,
          23,
          23,
          24,
          24,
          24,
          24,
          24,
          24,
          24,
          24,
          25,
          25,
          25,
          25,
          26,
          26,
          26,
          26,
          27,
          27,
          27,
          28,
          29,
          29,
          30,
          30,
          30,
          31,
          31,
          31,
          32,
          33,
          33,
          33,
          33,
          34,
          34,
          35,
          35,
          35,
          35,
          36,
          36,
          36,
          37,
          37,
          38,
          38,
          38,
          39,
          39,
          39,
          39,
          39,
          40,
          40,
          40,
          41,
          41,
          41,
          41,
          42,
          42,
          42,
          43,
          43,
          43,
          43,
          44,
          45,
          46,
          46,
          46,
          46,
          46,
          47,
          50,
          51,
          51,
          53,
          53,
          53,
          56,
          57,
          57,
          58,
          58,
          60,
          60,
          60,
          62,
          63,
          63,
          64,
          64,
          66,
          66,
          68,
          68,
          69,
          70,
          75,
          75,
          76,
          76,
          78,
          79,
          80,
          80,
          82,
          82,
          82,
          84,
          84,
          87,
          89,
          90,
          92,
          92,
          93,
          94,
          95,
          95,
          98,
          99,
          100,
          101,
          103,
          104,
          104,
          108,
          108,
          108,
          109,
          119,
          120,
          120,
          120,
          125,
          126,
          131,
          132,
          136,
          139,
          140,
          142,
          142,
          142,
          145,
          149,
          151,
          153,
          155,
          155,
          157,
          157,
          157,
          159,
          160,
          165,
          167,
          168,
          177,
          179,
          184,
          185,
          188,
          193,
          195,
          197,
          201,
          203,
          205,
          207,
          207,
          211,
          211,
          215,
          230,
          239,
          240,
          244,
          247,
          248,
          249,
          250,
          252,
          267,
          267,
          273,
          279,
          293,
          298,
          300,
          300,
          305,
          308,
          312,
          314,
          318,
          349,
          353,
          357,
          359,
          363,
          365,
          368,
          368,
          378,
          381,
          386,
          392,
          395,
          409,
          411,
          422,
          426,
          453,
          480,
          483,
          495,
          506,
          507,
          590,
          595,
          596,
          619,
          622,
          640,
          647,
          679,
          687,
          688,
          709,
          713,
          789,
          794,
          796,
          802,
          807,
          827,
          853,
          881,
          920,
          957,
          1008,
          1009,
          1102,
          1113,
          1138,
          1189,
          1199,
          1274,
          1279,
          1313,
          1321,
          1404,
          1484,
          1528,
          1532,
          1532,
          1539,
          1646,
          1647,
          1652,
          1671,
          1673,
          1737,
          1753,
          1800,
          1979,
          2001,
          2138,
          2160,
          2357,
          2413,
          2481,
          2533,
          2591,
          2599,
          2655,
          2735,
          2778,
          3166,
          3226,
          3248,
          3369,
          3449,
          3574,
          4967,
          5071,
          5589,
          5615,
          6570,
          6811,
          6984,
          7868,
          8090,
          13465,
          17430,
          24354,
          27296,
          357422
         ],
         "xaxis": "x13",
         "y": [
          "Boise",
          "Pryor",
          "Bozeman",
          "Daly City",
          "Douglasville",
          "Campbell",
          "Pueblo",
          "Kumamoto",
          "Sherbrooke",
          "San Salvador",
          "Deep River",
          "Guwahati",
          "North Attleborough",
          "Thane",
          "Telford",
          "Talence",
          "Brookline",
          "Beirut",
          "Vadodara",
          "Zwolle",
          "Amherst",
          "Tijuana",
          "Aydin",
          "Carrollton",
          "Wollongong",
          "Villanova",
          "Vila Velha",
          "Hermosillo",
          "Ha Tinh",
          "Leiria",
          "Lawrence Township",
          "LaFayette",
          "Lviv",
          "Coventry",
          "Coffeyville",
          "Chiyoda",
          "Chisinau",
          "Surat",
          "Semarang",
          "Seclin",
          "Pescara",
          "Orem",
          "Zapopan",
          "Santiago de Queretaro",
          "Eskisehir",
          "Erzurum",
          "Netanya",
          "Mueang Phitsanulok District",
          "Miami Beach",
          "Sandy",
          "Sandton",
          "Islamabad",
          "Iasi",
          "Hradec Kralove",
          "Newark",
          "Sandy Springs",
          "Leon",
          "Naha",
          "Muntinlupa",
          "Los Gatos",
          "Lincoln",
          "Kuwait City",
          "Rishon LeTsiyon",
          "Byron",
          "Ulaanbaatar",
          "Arnhem",
          "Appleton",
          "Annecy-le-Vieux",
          "Aberdeen",
          "Mar del Plata",
          "Toufen City",
          "Syracuse",
          "Bath",
          "Barrie",
          "Guangzhou",
          "Greystones",
          "Greve Strand",
          "Nuremberg",
          "Nottingham",
          "Fort Collins",
          "Faisalabad",
          "Evans",
          "Nanded",
          "Pinamar",
          "Phan Thiet",
          "Dhaka",
          "Depok",
          "Decin",
          "Saratoga",
          "Eindhoven",
          "Edmonton",
          "Nea Erythraia",
          "Paradise",
          "Ostrava",
          "Viby",
          "Columbia",
          "South El Monte",
          "Madison",
          "Luxembourg City",
          "Cabimas",
          "Culpeper",
          "Cuiaba",
          "Zaoqiao Township",
          "Longtan District",
          "Redondo Beach",
          "Atibaia",
          "Asuncion",
          "Bhubaneswar",
          "Amersfoort",
          "Alba",
          "Antwerp",
          "Anaheim",
          "Tampere",
          "La Chorrera",
          "Kovrov",
          "Hayward",
          "Coimbatore",
          "Honolulu",
          "Farmington Hills",
          "Gatineau",
          "Springfield",
          "Panama City",
          "Parsippany-Troy Hills",
          "Parma",
          "Nagano",
          "Nagoya",
          "Nantes",
          "Allendale Charter Township",
          "Daegu",
          "Frederiksberg",
          "Belagavi",
          "Charlottetown",
          "Recife",
          "Towson",
          "Atwater",
          "Rzeszow",
          "San Carlos",
          "Saint-Ouen-l'Aumone",
          "Ludhiana",
          "Arequipa",
          "Medina",
          "Mankato",
          "Fareham",
          "Santa Monica",
          "Esbjerg",
          "Lewisville",
          "Shah Alam",
          "Zaventem",
          "Randburg",
          "Burlington",
          "Vannes",
          "Toledo",
          "St. John's",
          "Vladivostok",
          "Vladimir",
          "North Richland Hills",
          "Brampton",
          "Edison",
          "Cardiff",
          "Alicante",
          "Reims",
          "Chino",
          "Oegstgeest",
          "Pleasanton",
          "Chambery",
          "Olomouc",
          "Okemos",
          "Druid Hills",
          "Petergof",
          "Fort Worth",
          "Thornton",
          "Quang Ngai",
          "Pleiku",
          "Woodbridge Township",
          "Forest Park",
          "Gijon",
          "Sibiu",
          "Ribeirao Preto",
          "Cao Lanh",
          "Pontivy",
          "Weingarten",
          "College Park",
          "Charlottesville",
          "Sant Cugat del Valles",
          "Granada",
          "Montigny-le-Bretonneux",
          "Normandy",
          "Piura",
          "Pasig",
          "Thanh Hoa",
          "Bekasi",
          "Deva",
          "Rockwood",
          "Kortrijk",
          "St. Louis",
          "Ningbo",
          "Zamudio",
          "Targu Mures",
          "Dacun Township",
          "Lenoir",
          "Bellevue",
          "Plano",
          "Mueang Nakhon Ratchasima District",
          "Hallein",
          "Jacksonville",
          "Geneva",
          "Riverside",
          "Guatemala City",
          "Wheaton",
          "Danville",
          "Roskilde",
          "Greer",
          "Chevilly Larue",
          "Hukou Township",
          "Dusseldorf",
          "Zhongli District",
          "Valencia",
          "Quito",
          "Fukui",
          "East Lansing",
          "Lausanne",
          "Saint Paul",
          "Dahlonega",
          "Birkenes",
          "Zaragoza",
          "Zhudong Township",
          "Chamblee",
          "The Dalles",
          "Tigard",
          "Pessac",
          "Fortaleza",
          "Newtonville",
          "Cagliari",
          "Vejle",
          "Vilnius",
          "Caracas",
          "Wellington",
          "Bruges",
          "Whitewater",
          "Medan",
          "Prato",
          "Johor Bahru",
          "Fresno",
          "Collegeville",
          "Bologna",
          "Cordoba",
          "McAllen",
          "Birmingham",
          "Culiacan",
          "Thessaloniki",
          "Alba Iulia",
          "Akron",
          "Ramat Gan",
          "Sapporo",
          "Beijing",
          "Mueang Songkhla District",
          "Oneonta",
          "Hamden",
          "Katowice",
          "Bellingham",
          "Salford",
          "Tallinn",
          "Guadalajara",
          "Glasgow",
          "Dnipro",
          "Ghent",
          "Gaziantep",
          "Camden",
          "Stuttgart",
          "Oradea",
          "Nice",
          "Odessa",
          "Trabzon",
          "Rexburg",
          "Rach Gia",
          "Norfolk",
          "Minsk",
          "Cologne",
          "Goose Creek",
          "El Paso",
          "Mechelen",
          "Smyrna",
          "Tampa",
          "Samsun",
          "Saint Polten",
          "Ciudad Real",
          "Doha",
          "Patna",
          "Tirana",
          "Breda",
          "Kharkiv",
          "Almeria",
          "Almaty",
          "Hua Hin",
          "Bothell",
          "Helsinki",
          "Omaha",
          "Aalborg",
          "Salt Lake City",
          "Cape Town",
          "Odense",
          "Cali",
          "Raleigh",
          "Malaga",
          "Indianapolis",
          "Villafranca del Castillo",
          "Avon",
          "Santiago de Surco",
          "Sharjah",
          "Kayseri",
          "Bratislava",
          "Liverpool",
          "Naples",
          "Utrecht",
          "Berkeley",
          "Kochi",
          "Wellesley",
          "Waterloo",
          "Qui Nhon",
          "Hoi An",
          "Louisville",
          "Brno",
          "Salvador",
          "Sacramento",
          "Noida",
          "Leeds",
          "Riga",
          "Nam Djinh",
          "Molesey",
          "Cincinnati",
          "Chuo",
          "Wroclaw",
          "Montevideo",
          "South San Francisco",
          "Alexandria",
          "Oviedo",
          "Santa Fe",
          "Navi Mumbai",
          "Davao City",
          "Timisoara",
          "Perth",
          "Thai Binh",
          "Oude Meer",
          "Detroit",
          "Copenhagen",
          "Menlo Park",
          "Richardson",
          "Shanghai",
          "Chandigarh",
          "Ottawa",
          "Oshkosh",
          "Canterbury",
          "Kiryat Ono",
          "Campinas",
          "Hue",
          "Villeneuve-d'Ascq",
          "Courbevoie",
          "Mersin",
          "Subang Jaya",
          "Las Vegas",
          "Chico",
          "Ridgewood",
          "Goiania",
          "Skopje",
          "Redmond",
          "Egham",
          "Lyon",
          "Montreuil",
          "Council Bluffs",
          "Kansas City",
          "Porto Alegre",
          "Rotterdam",
          "Amã",
          "Oslo",
          "Can Tho",
          "Mississauga",
          "Vinh",
          "Cork",
          "My Tho",
          "Baku",
          "Cairo",
          "Abu Dhabi",
          "Konya",
          "Shibuya",
          "Bordeaux",
          "Manchester",
          "Nha Trang",
          "Cluj-Napoca",
          "Tempe",
          "Kharagpur",
          "Minneapolis",
          "Evanston",
          "Medellin",
          "Dalat",
          "Bilbao",
          "Curitiba",
          "Lucknow",
          "Kalamazoo",
          "Zagreb",
          "Petaling Jaya",
          "Lisbon",
          "Nashville",
          "Calgary",
          "Lake Oswego",
          "Piscataway Township",
          "Hai Duong",
          "Casablanca",
          "Miami",
          "Vung Tau",
          "Nairobi",
          "Orlando",
          "Colombo",
          "Poznan",
          "Lille",
          "Buon Ma Thuot",
          "Portland",
          "Indore",
          "Burnaby",
          "Auckland",
          "Belgrade",
          "Saint Petersburg",
          "Kitchener",
          "Brasilia",
          "Taguig",
          "Mueang Chiang Mai District",
          "Yokohama",
          "Adana",
          "Jaipur",
          "Lagos",
          "Brussels",
          "Jersey City",
          "San Antonio",
          "Denver",
          "Sofia",
          "Maracaibo",
          "Tbilisi",
          "Redwood City",
          "Antalya",
          "Phoenix",
          "Marseille",
          "Monterrey",
          "Surabaya",
          "Vancouver",
          "Boulder",
          "Lahore",
          "Manila",
          "San Mateo",
          "Belo Horizonte",
          "Krakow",
          "Oakland",
          "Rome",
          "Mueang Khon Kaen District",
          "Shinjuku",
          "Pozuelo de Alarcon",
          "Thai Nguyen",
          "Munich",
          "Makati",
          "Nakhon Pathom",
          "Quebec City",
          "Santiago",
          "Charlotte",
          "Bandung",
          "Budapest",
          "Milpitas",
          "Erode",
          "Eau Claire",
          "Jeddah",
          "Gurgaon",
          "Bursa",
          "Frankfurt",
          "Cupertino",
          "Athens",
          "Osaka",
          "Karachi",
          "Gothenburg",
          "Vienna",
          "Hamburg",
          "Prague",
          "Hai Phong",
          "Columbus",
          "Philadelphia",
          "Brisbane",
          "Cebu City",
          "Rio de Janeiro",
          "Ahmedabad",
          "Irvine",
          "Riyadh",
          "Buenos Aires",
          "Boston",
          "Da Nang",
          "Tunis",
          "Milan",
          "Zurich",
          "Fremont",
          "Pittsburgh",
          "Ashburn",
          "Berlin",
          "Barcelona",
          "Stockholm",
          "San Diego",
          "Boardman",
          "Bien Hoa",
          "Cambridge",
          "Bogota",
          "Dubai",
          "San Bruno",
          "Amsterdam",
          "Quezon City",
          "Kiev",
          "Dallas",
          "Kolkata",
          "Pune",
          "Kirkland",
          "Bucharest",
          "La Victoria",
          "Izmir",
          "Minato",
          "Ankara",
          "Ann Arbor",
          "Houston",
          "Atlanta",
          "Seoul",
          "Kuala Lumpur",
          "Montreal",
          "Moscow",
          "Melbourne",
          "Washington",
          "Madrid",
          "Chennai",
          "Mexico City",
          "Santa Clara",
          "Salem",
          "Palo Alto",
          "Singapore",
          "New Delhi",
          "Hong Kong",
          "Warsaw",
          "Austin",
          "Jakarta",
          "Paris",
          "Hyderabad",
          "Mumbai",
          "Tel Aviv-Yafo",
          "Sao Paulo",
          "Dublin",
          "Sydney",
          "Seattle",
          "Bengaluru",
          "Toronto",
          "Hanoi",
          "Chicago",
          "Los Angeles",
          "Istanbul",
          "San Jose",
          "Bangkok",
          "Ho Chi Minh City",
          "Sunnyvale",
          "London",
          "San Francisco",
          "New York",
          "(not set)",
          "Mountain View",
          "not available in demo dataset"
         ],
         "yaxis": "y13"
        },
        {
         "marker": {
          "color": "yellow"
         },
         "orientation": "h",
         "showlegend": false,
         "type": "bar",
         "x": [
          3,
          3,
          3,
          4,
          5,
          5,
          5,
          5,
          5,
          5,
          5,
          6,
          6,
          6,
          6,
          6,
          6,
          6,
          6,
          6,
          6,
          6,
          6,
          6,
          6,
          6,
          6,
          6,
          6,
          6,
          6,
          6,
          6,
          6,
          6,
          6,
          6,
          6,
          6,
          6,
          6,
          6,
          6,
          6,
          6,
          6,
          6,
          6,
          6,
          6,
          6,
          6,
          6,
          6,
          6,
          6,
          6,
          6,
          6,
          6,
          6,
          6,
          6,
          6,
          6,
          6,
          6,
          6,
          6,
          7,
          7,
          7,
          7,
          7,
          7,
          7,
          7,
          7,
          7,
          7,
          7,
          7,
          7,
          7,
          7,
          7,
          7,
          7,
          7,
          7,
          7,
          7,
          7,
          7,
          7,
          7,
          7,
          7,
          7,
          7,
          7,
          7,
          7,
          7,
          7,
          7,
          7,
          7,
          7,
          7,
          8,
          8,
          8,
          8,
          8,
          8,
          8,
          8,
          8,
          8,
          8,
          8,
          8,
          8,
          8,
          8,
          8,
          8,
          8,
          8,
          8,
          8,
          8,
          8,
          8,
          9,
          9,
          9,
          9,
          9,
          9,
          9,
          9,
          9,
          9,
          9,
          9,
          9,
          9,
          10,
          10,
          10,
          10,
          10,
          10,
          11,
          11,
          11,
          11,
          11,
          11,
          11,
          11,
          11,
          12,
          12,
          12,
          12,
          12,
          12,
          12,
          12,
          12,
          12,
          12,
          12,
          12,
          12,
          12,
          13,
          13,
          13,
          13,
          13,
          13,
          13,
          13,
          13,
          13,
          13,
          13,
          14,
          14,
          14,
          14,
          14,
          14,
          14,
          14,
          15,
          15,
          15,
          15,
          15,
          15,
          15,
          15,
          15,
          16,
          16,
          16,
          16,
          16,
          16,
          16,
          16,
          17,
          17,
          17,
          17,
          17,
          17,
          17,
          17,
          17,
          17,
          18,
          18,
          19,
          19,
          19,
          19,
          19,
          19,
          19,
          19,
          19,
          19,
          19,
          20,
          20,
          20,
          20,
          20,
          20,
          20,
          20,
          20,
          20,
          21,
          21,
          22,
          22,
          22,
          22,
          22,
          23,
          23,
          23,
          23,
          23,
          23,
          24,
          24,
          24,
          24,
          24,
          24,
          24,
          24,
          25,
          25,
          25,
          25,
          26,
          26,
          26,
          26,
          27,
          27,
          27,
          28,
          29,
          29,
          30,
          30,
          30,
          31,
          31,
          31,
          32,
          33,
          33,
          33,
          33,
          34,
          34,
          35,
          35,
          35,
          35,
          36,
          36,
          36,
          37,
          37,
          38,
          38,
          38,
          39,
          39,
          39,
          39,
          39,
          40,
          40,
          40,
          41,
          41,
          41,
          41,
          42,
          42,
          42,
          43,
          43,
          43,
          43,
          44,
          45,
          46,
          46,
          46,
          46,
          46,
          47,
          50,
          51,
          51,
          53,
          53,
          53,
          56,
          57,
          57,
          58,
          58,
          60,
          60,
          60,
          62,
          63,
          63,
          64,
          64,
          66,
          66,
          68,
          68,
          69,
          70,
          75,
          75,
          76,
          76,
          78,
          79,
          80,
          80,
          82,
          82,
          82,
          84,
          84,
          87,
          89,
          90,
          92,
          92,
          93,
          94,
          95,
          95,
          98,
          99,
          100,
          101,
          103,
          104,
          104,
          108,
          108,
          108,
          109,
          119,
          120,
          120,
          120,
          125,
          126,
          131,
          132,
          136,
          139,
          140,
          142,
          142,
          142,
          145,
          149,
          151,
          153,
          155,
          155,
          157,
          157,
          157,
          159,
          160,
          165,
          167,
          168,
          177,
          179,
          184,
          185,
          188,
          193,
          195,
          197,
          201,
          203,
          205,
          207,
          207,
          211,
          211,
          215,
          230,
          239,
          240,
          244,
          247,
          248,
          249,
          250,
          252,
          267,
          267,
          273,
          279,
          293,
          298,
          300,
          300,
          305,
          308,
          312,
          314,
          318,
          349,
          353,
          357,
          359,
          363,
          365,
          368,
          368,
          378,
          381,
          386,
          392,
          395,
          409,
          411,
          422,
          426,
          453,
          480,
          483,
          495,
          506,
          507,
          590,
          595,
          596,
          619,
          622,
          640,
          647,
          679,
          687,
          688,
          709,
          713,
          789,
          794,
          796,
          802,
          807,
          827,
          853,
          881,
          920,
          957,
          1008,
          1009,
          1102,
          1113,
          1138,
          1189,
          1199,
          1274,
          1279,
          1313,
          1321,
          1404,
          1484,
          1528,
          1532,
          1532,
          1539,
          1646,
          1647,
          1652,
          1671,
          1673,
          1737,
          1753,
          1800,
          1979,
          2001,
          2138,
          2160,
          2357,
          2413,
          2481,
          2533,
          2591,
          2599,
          2655,
          2735,
          2778,
          3166,
          3226,
          3248,
          3369,
          3449,
          3574,
          4967,
          5071,
          5589,
          5615,
          6570,
          6811,
          6984,
          7868,
          8090,
          13465,
          17430,
          24354,
          27296,
          357422
         ],
         "xaxis": "x14",
         "y": [
          "Boise",
          "Pryor",
          "Bozeman",
          "Daly City",
          "Douglasville",
          "Campbell",
          "Pueblo",
          "Kumamoto",
          "Sherbrooke",
          "San Salvador",
          "Deep River",
          "Guwahati",
          "North Attleborough",
          "Thane",
          "Telford",
          "Talence",
          "Brookline",
          "Beirut",
          "Vadodara",
          "Zwolle",
          "Amherst",
          "Tijuana",
          "Aydin",
          "Carrollton",
          "Wollongong",
          "Villanova",
          "Vila Velha",
          "Hermosillo",
          "Ha Tinh",
          "Leiria",
          "Lawrence Township",
          "LaFayette",
          "Lviv",
          "Coventry",
          "Coffeyville",
          "Chiyoda",
          "Chisinau",
          "Surat",
          "Semarang",
          "Seclin",
          "Pescara",
          "Orem",
          "Zapopan",
          "Santiago de Queretaro",
          "Eskisehir",
          "Erzurum",
          "Netanya",
          "Mueang Phitsanulok District",
          "Miami Beach",
          "Sandy",
          "Sandton",
          "Islamabad",
          "Iasi",
          "Hradec Kralove",
          "Newark",
          "Sandy Springs",
          "Leon",
          "Naha",
          "Muntinlupa",
          "Los Gatos",
          "Lincoln",
          "Kuwait City",
          "Rishon LeTsiyon",
          "Byron",
          "Ulaanbaatar",
          "Arnhem",
          "Appleton",
          "Annecy-le-Vieux",
          "Aberdeen",
          "Mar del Plata",
          "Toufen City",
          "Syracuse",
          "Bath",
          "Barrie",
          "Guangzhou",
          "Greystones",
          "Greve Strand",
          "Nuremberg",
          "Nottingham",
          "Fort Collins",
          "Faisalabad",
          "Evans",
          "Nanded",
          "Pinamar",
          "Phan Thiet",
          "Dhaka",
          "Depok",
          "Decin",
          "Saratoga",
          "Eindhoven",
          "Edmonton",
          "Nea Erythraia",
          "Paradise",
          "Ostrava",
          "Viby",
          "Columbia",
          "South El Monte",
          "Madison",
          "Luxembourg City",
          "Cabimas",
          "Culpeper",
          "Cuiaba",
          "Zaoqiao Township",
          "Longtan District",
          "Redondo Beach",
          "Atibaia",
          "Asuncion",
          "Bhubaneswar",
          "Amersfoort",
          "Alba",
          "Antwerp",
          "Anaheim",
          "Tampere",
          "La Chorrera",
          "Kovrov",
          "Hayward",
          "Coimbatore",
          "Honolulu",
          "Farmington Hills",
          "Gatineau",
          "Springfield",
          "Panama City",
          "Parsippany-Troy Hills",
          "Parma",
          "Nagano",
          "Nagoya",
          "Nantes",
          "Allendale Charter Township",
          "Daegu",
          "Frederiksberg",
          "Belagavi",
          "Charlottetown",
          "Recife",
          "Towson",
          "Atwater",
          "Rzeszow",
          "San Carlos",
          "Saint-Ouen-l'Aumone",
          "Ludhiana",
          "Arequipa",
          "Medina",
          "Mankato",
          "Fareham",
          "Santa Monica",
          "Esbjerg",
          "Lewisville",
          "Shah Alam",
          "Zaventem",
          "Randburg",
          "Burlington",
          "Vannes",
          "Toledo",
          "St. John's",
          "Vladivostok",
          "Vladimir",
          "North Richland Hills",
          "Brampton",
          "Edison",
          "Cardiff",
          "Alicante",
          "Reims",
          "Chino",
          "Oegstgeest",
          "Pleasanton",
          "Chambery",
          "Olomouc",
          "Okemos",
          "Druid Hills",
          "Petergof",
          "Fort Worth",
          "Thornton",
          "Quang Ngai",
          "Pleiku",
          "Woodbridge Township",
          "Forest Park",
          "Gijon",
          "Sibiu",
          "Ribeirao Preto",
          "Cao Lanh",
          "Pontivy",
          "Weingarten",
          "College Park",
          "Charlottesville",
          "Sant Cugat del Valles",
          "Granada",
          "Montigny-le-Bretonneux",
          "Normandy",
          "Piura",
          "Pasig",
          "Thanh Hoa",
          "Bekasi",
          "Deva",
          "Rockwood",
          "Kortrijk",
          "St. Louis",
          "Ningbo",
          "Zamudio",
          "Targu Mures",
          "Dacun Township",
          "Lenoir",
          "Bellevue",
          "Plano",
          "Mueang Nakhon Ratchasima District",
          "Hallein",
          "Jacksonville",
          "Geneva",
          "Riverside",
          "Guatemala City",
          "Wheaton",
          "Danville",
          "Roskilde",
          "Greer",
          "Chevilly Larue",
          "Hukou Township",
          "Dusseldorf",
          "Zhongli District",
          "Valencia",
          "Quito",
          "Fukui",
          "East Lansing",
          "Lausanne",
          "Saint Paul",
          "Dahlonega",
          "Birkenes",
          "Zaragoza",
          "Zhudong Township",
          "Chamblee",
          "The Dalles",
          "Tigard",
          "Pessac",
          "Fortaleza",
          "Newtonville",
          "Cagliari",
          "Vejle",
          "Vilnius",
          "Caracas",
          "Wellington",
          "Bruges",
          "Whitewater",
          "Medan",
          "Prato",
          "Johor Bahru",
          "Fresno",
          "Collegeville",
          "Bologna",
          "Cordoba",
          "McAllen",
          "Birmingham",
          "Culiacan",
          "Thessaloniki",
          "Alba Iulia",
          "Akron",
          "Ramat Gan",
          "Sapporo",
          "Beijing",
          "Mueang Songkhla District",
          "Oneonta",
          "Hamden",
          "Katowice",
          "Bellingham",
          "Salford",
          "Tallinn",
          "Guadalajara",
          "Glasgow",
          "Dnipro",
          "Ghent",
          "Gaziantep",
          "Camden",
          "Stuttgart",
          "Oradea",
          "Nice",
          "Odessa",
          "Trabzon",
          "Rexburg",
          "Rach Gia",
          "Norfolk",
          "Minsk",
          "Cologne",
          "Goose Creek",
          "El Paso",
          "Mechelen",
          "Smyrna",
          "Tampa",
          "Samsun",
          "Saint Polten",
          "Ciudad Real",
          "Doha",
          "Patna",
          "Tirana",
          "Breda",
          "Kharkiv",
          "Almeria",
          "Almaty",
          "Hua Hin",
          "Bothell",
          "Helsinki",
          "Omaha",
          "Aalborg",
          "Salt Lake City",
          "Cape Town",
          "Odense",
          "Cali",
          "Raleigh",
          "Malaga",
          "Indianapolis",
          "Villafranca del Castillo",
          "Avon",
          "Santiago de Surco",
          "Sharjah",
          "Kayseri",
          "Bratislava",
          "Liverpool",
          "Naples",
          "Utrecht",
          "Berkeley",
          "Kochi",
          "Wellesley",
          "Waterloo",
          "Qui Nhon",
          "Hoi An",
          "Louisville",
          "Brno",
          "Salvador",
          "Sacramento",
          "Noida",
          "Leeds",
          "Riga",
          "Nam Djinh",
          "Molesey",
          "Cincinnati",
          "Chuo",
          "Wroclaw",
          "Montevideo",
          "South San Francisco",
          "Alexandria",
          "Oviedo",
          "Santa Fe",
          "Navi Mumbai",
          "Davao City",
          "Timisoara",
          "Perth",
          "Thai Binh",
          "Oude Meer",
          "Detroit",
          "Copenhagen",
          "Menlo Park",
          "Richardson",
          "Shanghai",
          "Chandigarh",
          "Ottawa",
          "Oshkosh",
          "Canterbury",
          "Kiryat Ono",
          "Campinas",
          "Hue",
          "Villeneuve-d'Ascq",
          "Courbevoie",
          "Mersin",
          "Subang Jaya",
          "Las Vegas",
          "Chico",
          "Ridgewood",
          "Goiania",
          "Skopje",
          "Redmond",
          "Egham",
          "Lyon",
          "Montreuil",
          "Council Bluffs",
          "Kansas City",
          "Porto Alegre",
          "Rotterdam",
          "Amã",
          "Oslo",
          "Can Tho",
          "Mississauga",
          "Vinh",
          "Cork",
          "My Tho",
          "Baku",
          "Cairo",
          "Abu Dhabi",
          "Konya",
          "Shibuya",
          "Bordeaux",
          "Manchester",
          "Nha Trang",
          "Cluj-Napoca",
          "Tempe",
          "Kharagpur",
          "Minneapolis",
          "Evanston",
          "Medellin",
          "Dalat",
          "Bilbao",
          "Curitiba",
          "Lucknow",
          "Kalamazoo",
          "Zagreb",
          "Petaling Jaya",
          "Lisbon",
          "Nashville",
          "Calgary",
          "Lake Oswego",
          "Piscataway Township",
          "Hai Duong",
          "Casablanca",
          "Miami",
          "Vung Tau",
          "Nairobi",
          "Orlando",
          "Colombo",
          "Poznan",
          "Lille",
          "Buon Ma Thuot",
          "Portland",
          "Indore",
          "Burnaby",
          "Auckland",
          "Belgrade",
          "Saint Petersburg",
          "Kitchener",
          "Brasilia",
          "Taguig",
          "Mueang Chiang Mai District",
          "Yokohama",
          "Adana",
          "Jaipur",
          "Lagos",
          "Brussels",
          "Jersey City",
          "San Antonio",
          "Denver",
          "Sofia",
          "Maracaibo",
          "Tbilisi",
          "Redwood City",
          "Antalya",
          "Phoenix",
          "Marseille",
          "Monterrey",
          "Surabaya",
          "Vancouver",
          "Boulder",
          "Lahore",
          "Manila",
          "San Mateo",
          "Belo Horizonte",
          "Krakow",
          "Oakland",
          "Rome",
          "Mueang Khon Kaen District",
          "Shinjuku",
          "Pozuelo de Alarcon",
          "Thai Nguyen",
          "Munich",
          "Makati",
          "Nakhon Pathom",
          "Quebec City",
          "Santiago",
          "Charlotte",
          "Bandung",
          "Budapest",
          "Milpitas",
          "Erode",
          "Eau Claire",
          "Jeddah",
          "Gurgaon",
          "Bursa",
          "Frankfurt",
          "Cupertino",
          "Athens",
          "Osaka",
          "Karachi",
          "Gothenburg",
          "Vienna",
          "Hamburg",
          "Prague",
          "Hai Phong",
          "Columbus",
          "Philadelphia",
          "Brisbane",
          "Cebu City",
          "Rio de Janeiro",
          "Ahmedabad",
          "Irvine",
          "Riyadh",
          "Buenos Aires",
          "Boston",
          "Da Nang",
          "Tunis",
          "Milan",
          "Zurich",
          "Fremont",
          "Pittsburgh",
          "Ashburn",
          "Berlin",
          "Barcelona",
          "Stockholm",
          "San Diego",
          "Boardman",
          "Bien Hoa",
          "Cambridge",
          "Bogota",
          "Dubai",
          "San Bruno",
          "Amsterdam",
          "Quezon City",
          "Kiev",
          "Dallas",
          "Kolkata",
          "Pune",
          "Kirkland",
          "Bucharest",
          "La Victoria",
          "Izmir",
          "Minato",
          "Ankara",
          "Ann Arbor",
          "Houston",
          "Atlanta",
          "Seoul",
          "Kuala Lumpur",
          "Montreal",
          "Moscow",
          "Melbourne",
          "Washington",
          "Madrid",
          "Chennai",
          "Mexico City",
          "Santa Clara",
          "Salem",
          "Palo Alto",
          "Singapore",
          "New Delhi",
          "Hong Kong",
          "Warsaw",
          "Austin",
          "Jakarta",
          "Paris",
          "Hyderabad",
          "Mumbai",
          "Tel Aviv-Yafo",
          "Sao Paulo",
          "Dublin",
          "Sydney",
          "Seattle",
          "Bengaluru",
          "Toronto",
          "Hanoi",
          "Chicago",
          "Los Angeles",
          "Istanbul",
          "San Jose",
          "Bangkok",
          "Ho Chi Minh City",
          "Sunnyvale",
          "London",
          "San Francisco",
          "New York",
          "(not set)",
          "Mountain View",
          "not available in demo dataset"
         ],
         "yaxis": "y14"
        },
        {
         "marker": {
          "color": "yellow"
         },
         "orientation": "h",
         "showlegend": false,
         "type": "bar",
         "x": [
          0,
          0,
          0,
          0,
          0,
          0,
          0,
          0,
          0,
          0,
          0,
          0,
          30035000,
          0,
          0,
          0,
          0,
          0,
          0,
          0,
          0,
          0,
          0,
          0,
          0,
          0,
          0,
          0,
          0,
          0,
          0,
          0,
          0,
          0,
          0,
          0,
          0,
          0,
          0,
          0,
          0,
          0,
          0,
          0,
          0,
          0,
          0,
          0,
          0,
          0,
          0,
          0,
          0,
          0,
          0,
          14825000,
          0,
          0,
          0,
          0,
          0,
          0,
          0,
          0,
          0,
          0,
          0,
          0,
          0,
          0,
          0,
          2421428.5714285714,
          0,
          0,
          0,
          0,
          0,
          0,
          0,
          113508571.42857143,
          0,
          0,
          0,
          0,
          0,
          0,
          0,
          0,
          8570000,
          0,
          0,
          0,
          0,
          0,
          0,
          0,
          0,
          0,
          0,
          0,
          0,
          0,
          0,
          0,
          0,
          0,
          0,
          0,
          0,
          0,
          0,
          0,
          0,
          0,
          0,
          0,
          0,
          0,
          0,
          0,
          0,
          0,
          0,
          0,
          0,
          0,
          0,
          0,
          0,
          0,
          0,
          0,
          0,
          0,
          23588750,
          0,
          0,
          0,
          0,
          0,
          0,
          0,
          0,
          0,
          0,
          0,
          0,
          0,
          0,
          0,
          0,
          0,
          0,
          0,
          0,
          0,
          0,
          0,
          0,
          0,
          0,
          0,
          0,
          0,
          0,
          0,
          0,
          0,
          0,
          52179166.666666664,
          0,
          0,
          0,
          0,
          0,
          0,
          0,
          0,
          0,
          0,
          0,
          0,
          0,
          0,
          0,
          0,
          0,
          0,
          0,
          0,
          0,
          0,
          0,
          0,
          0,
          0,
          0,
          0,
          0,
          3252000,
          0,
          0,
          0,
          0,
          1645333.3333333333,
          0,
          30569333.333333332,
          0,
          0,
          0,
          0,
          0,
          0,
          0,
          0,
          0,
          0,
          21009411.76470588,
          0,
          0,
          0,
          0,
          0,
          0,
          0,
          0,
          0,
          0,
          578421.052631579,
          0,
          0,
          0,
          0,
          0,
          0,
          0,
          0,
          0,
          0,
          0,
          0,
          0,
          0,
          0,
          0,
          0,
          0,
          0,
          0,
          0,
          0,
          0,
          0,
          0,
          0,
          0,
          0,
          738695.6521739131,
          0,
          0,
          0,
          0,
          0,
          0,
          0,
          0,
          0,
          0,
          0,
          0,
          0,
          0,
          0,
          0,
          0,
          0,
          0,
          0,
          3756666.6666666665,
          925555.5555555555,
          0,
          0,
          0,
          0,
          0,
          0,
          0,
          0,
          0,
          0,
          0,
          0,
          0,
          0,
          3510606.0606060605,
          0,
          4513235.294117647,
          0,
          1741714.2857142857,
          0,
          0,
          0,
          443333.3333333333,
          0,
          188918.9189189189,
          0,
          0,
          0,
          0,
          0,
          0,
          0,
          0,
          0,
          3249000,
          0,
          0,
          0,
          0,
          0,
          0,
          0,
          0,
          4330952.380952381,
          0,
          0,
          0,
          0,
          0,
          0,
          0,
          0,
          0,
          1981304.347826087,
          0,
          0,
          0,
          0,
          0,
          0,
          0,
          0,
          0,
          368070.1754385965,
          0,
          1282413.7931034483,
          0,
          0,
          0,
          2566000,
          0,
          0,
          0,
          0,
          0,
          0,
          0,
          0,
          0,
          1086811.5942028984,
          0,
          0,
          0,
          0,
          0,
          0,
          0,
          0,
          1851000,
          2964756.0975609757,
          0,
          0,
          0,
          0,
          0,
          0,
          0,
          0,
          0,
          0,
          0,
          0,
          0,
          0,
          0,
          0,
          0,
          0,
          697115.3846153846,
          0,
          541111.1111111111,
          0,
          0,
          0,
          0,
          0,
          0,
          0,
          0,
          0,
          0,
          16731364.121212121,
          6258088.470588235,
          0,
          0,
          0,
          0,
          1613098.5915492957,
          0,
          0,
          999470.1986754967,
          0,
          0,
          0,
          0,
          5594904.458598726,
          0,
          0,
          0,
          0,
          0,
          161785.7142857143,
          0,
          0,
          0,
          0,
          0,
          0,
          0,
          0,
          4933880.597014925,
          801576.3546798029,
          1623365.8536585367,
          0,
          26608164.328502417,
          80521.32701421801,
          1857298.578199052,
          0,
          8640347.826086957,
          0,
          0,
          0,
          113279.35222672064,
          3333064.5161290322,
          0,
          0,
          2616984.126984127,
          0,
          0,
          3201575.0915750917,
          0,
          0,
          0,
          0,
          0,
          0,
          0,
          0,
          0,
          640691.8238993711,
          2054584.5272206303,
          0,
          0,
          747075.2089136491,
          0,
          0,
          0,
          0,
          0,
          0,
          677202.0725388601,
          0,
          0,
          0,
          0,
          142156.3981042654,
          149295.77464788733,
          98874.17218543046,
          0,
          234844.7204968944,
          1832505.018181818,
          0,
          0,
          149779.66101694916,
          0,
          10803909.422818791,
          0,
          0,
          532546.875,
          0,
          471575.8468335788,
          0,
          188473.83720930232,
          802299.0126939351,
          2425680.224403927,
          0,
          0,
          462060.30150753766,
          0,
          3626889.734820322,
          0,
          0,
          13520465.380249716,
          0,
          0,
          7358819.523809524,
          19018.830525272548,
          15417.422867513611,
          0,
          615518.453427065,
          0,
          0,
          4211350.128728415,
          59390.14855355747,
          28941.355674028942,
          0,
          2413675.2136752135,
          0,
          9035660.97382199,
          1948557.4412532637,
          6920783.331592689,
          361052.62118258607,
          203481.1567436209,
          91882.21007893138,
          0,
          128432.07660083783,
          4479091.4237896,
          0,
          0,
          430816.67555555556,
          2305093.47347145,
          9675117.265367316,
          951417.2123479887,
          89703.70370370371,
          46499.78786593127,
          489150.4417737257,
          0,
          5657066.744571654,
          488807.4102663064,
          0,
          0,
          548.4460694698355,
          10352.77177825774,
          161683.51231838283,
          24079.35523868568,
          75708.12807881774,
          5114167.42772336,
          55436.358364743406,
          3224188.539451595,
          0,
          10082368.359692369,
          5876421.545178028,
          18238.6464826358,
          1923484.0158295282,
          24213.77183967112,
          0,
          2359951.699034062,
          65541.40716934486,
          4954175.269216487,
          9171212.846815836,
          134333.99096657633,
          2891996.633059789,
          1134440.1581547863
         ],
         "xaxis": "x15",
         "y": [
          "Boise",
          "Pryor",
          "Bozeman",
          "Daly City",
          "Douglasville",
          "Campbell",
          "Pueblo",
          "Kumamoto",
          "Sherbrooke",
          "San Salvador",
          "Deep River",
          "Guwahati",
          "North Attleborough",
          "Thane",
          "Telford",
          "Talence",
          "Brookline",
          "Beirut",
          "Vadodara",
          "Zwolle",
          "Amherst",
          "Tijuana",
          "Aydin",
          "Carrollton",
          "Wollongong",
          "Villanova",
          "Vila Velha",
          "Hermosillo",
          "Ha Tinh",
          "Leiria",
          "Lawrence Township",
          "LaFayette",
          "Lviv",
          "Coventry",
          "Coffeyville",
          "Chiyoda",
          "Chisinau",
          "Surat",
          "Semarang",
          "Seclin",
          "Pescara",
          "Orem",
          "Zapopan",
          "Santiago de Queretaro",
          "Eskisehir",
          "Erzurum",
          "Netanya",
          "Mueang Phitsanulok District",
          "Miami Beach",
          "Sandy",
          "Sandton",
          "Islamabad",
          "Iasi",
          "Hradec Kralove",
          "Newark",
          "Sandy Springs",
          "Leon",
          "Naha",
          "Muntinlupa",
          "Los Gatos",
          "Lincoln",
          "Kuwait City",
          "Rishon LeTsiyon",
          "Byron",
          "Ulaanbaatar",
          "Arnhem",
          "Appleton",
          "Annecy-le-Vieux",
          "Aberdeen",
          "Mar del Plata",
          "Toufen City",
          "Syracuse",
          "Bath",
          "Barrie",
          "Guangzhou",
          "Greystones",
          "Greve Strand",
          "Nuremberg",
          "Nottingham",
          "Fort Collins",
          "Faisalabad",
          "Evans",
          "Nanded",
          "Pinamar",
          "Phan Thiet",
          "Dhaka",
          "Depok",
          "Decin",
          "Saratoga",
          "Eindhoven",
          "Edmonton",
          "Nea Erythraia",
          "Paradise",
          "Ostrava",
          "Viby",
          "Columbia",
          "South El Monte",
          "Madison",
          "Luxembourg City",
          "Cabimas",
          "Culpeper",
          "Cuiaba",
          "Zaoqiao Township",
          "Longtan District",
          "Redondo Beach",
          "Atibaia",
          "Asuncion",
          "Bhubaneswar",
          "Amersfoort",
          "Alba",
          "Antwerp",
          "Anaheim",
          "Tampere",
          "La Chorrera",
          "Kovrov",
          "Hayward",
          "Coimbatore",
          "Honolulu",
          "Farmington Hills",
          "Gatineau",
          "Springfield",
          "Panama City",
          "Parsippany-Troy Hills",
          "Parma",
          "Nagano",
          "Nagoya",
          "Nantes",
          "Allendale Charter Township",
          "Daegu",
          "Frederiksberg",
          "Belagavi",
          "Charlottetown",
          "Recife",
          "Towson",
          "Atwater",
          "Rzeszow",
          "San Carlos",
          "Saint-Ouen-l'Aumone",
          "Ludhiana",
          "Arequipa",
          "Medina",
          "Mankato",
          "Fareham",
          "Santa Monica",
          "Esbjerg",
          "Lewisville",
          "Shah Alam",
          "Zaventem",
          "Randburg",
          "Burlington",
          "Vannes",
          "Toledo",
          "St. John's",
          "Vladivostok",
          "Vladimir",
          "North Richland Hills",
          "Brampton",
          "Edison",
          "Cardiff",
          "Alicante",
          "Reims",
          "Chino",
          "Oegstgeest",
          "Pleasanton",
          "Chambery",
          "Olomouc",
          "Okemos",
          "Druid Hills",
          "Petergof",
          "Fort Worth",
          "Thornton",
          "Quang Ngai",
          "Pleiku",
          "Woodbridge Township",
          "Forest Park",
          "Gijon",
          "Sibiu",
          "Ribeirao Preto",
          "Cao Lanh",
          "Pontivy",
          "Weingarten",
          "College Park",
          "Charlottesville",
          "Sant Cugat del Valles",
          "Granada",
          "Montigny-le-Bretonneux",
          "Normandy",
          "Piura",
          "Pasig",
          "Thanh Hoa",
          "Bekasi",
          "Deva",
          "Rockwood",
          "Kortrijk",
          "St. Louis",
          "Ningbo",
          "Zamudio",
          "Targu Mures",
          "Dacun Township",
          "Lenoir",
          "Bellevue",
          "Plano",
          "Mueang Nakhon Ratchasima District",
          "Hallein",
          "Jacksonville",
          "Geneva",
          "Riverside",
          "Guatemala City",
          "Wheaton",
          "Danville",
          "Roskilde",
          "Greer",
          "Chevilly Larue",
          "Hukou Township",
          "Dusseldorf",
          "Zhongli District",
          "Valencia",
          "Quito",
          "Fukui",
          "East Lansing",
          "Lausanne",
          "Saint Paul",
          "Dahlonega",
          "Birkenes",
          "Zaragoza",
          "Zhudong Township",
          "Chamblee",
          "The Dalles",
          "Tigard",
          "Pessac",
          "Fortaleza",
          "Newtonville",
          "Cagliari",
          "Vejle",
          "Vilnius",
          "Caracas",
          "Wellington",
          "Bruges",
          "Whitewater",
          "Medan",
          "Prato",
          "Johor Bahru",
          "Fresno",
          "Collegeville",
          "Bologna",
          "Cordoba",
          "McAllen",
          "Birmingham",
          "Culiacan",
          "Thessaloniki",
          "Alba Iulia",
          "Akron",
          "Ramat Gan",
          "Sapporo",
          "Beijing",
          "Mueang Songkhla District",
          "Oneonta",
          "Hamden",
          "Katowice",
          "Bellingham",
          "Salford",
          "Tallinn",
          "Guadalajara",
          "Glasgow",
          "Dnipro",
          "Ghent",
          "Gaziantep",
          "Camden",
          "Stuttgart",
          "Oradea",
          "Nice",
          "Odessa",
          "Trabzon",
          "Rexburg",
          "Rach Gia",
          "Norfolk",
          "Minsk",
          "Cologne",
          "Goose Creek",
          "El Paso",
          "Mechelen",
          "Smyrna",
          "Tampa",
          "Samsun",
          "Saint Polten",
          "Ciudad Real",
          "Doha",
          "Patna",
          "Tirana",
          "Breda",
          "Kharkiv",
          "Almeria",
          "Almaty",
          "Hua Hin",
          "Bothell",
          "Helsinki",
          "Omaha",
          "Aalborg",
          "Salt Lake City",
          "Cape Town",
          "Odense",
          "Cali",
          "Raleigh",
          "Malaga",
          "Indianapolis",
          "Villafranca del Castillo",
          "Avon",
          "Santiago de Surco",
          "Sharjah",
          "Kayseri",
          "Bratislava",
          "Liverpool",
          "Naples",
          "Utrecht",
          "Berkeley",
          "Kochi",
          "Wellesley",
          "Waterloo",
          "Qui Nhon",
          "Hoi An",
          "Louisville",
          "Brno",
          "Salvador",
          "Sacramento",
          "Noida",
          "Leeds",
          "Riga",
          "Nam Djinh",
          "Molesey",
          "Cincinnati",
          "Chuo",
          "Wroclaw",
          "Montevideo",
          "South San Francisco",
          "Alexandria",
          "Oviedo",
          "Santa Fe",
          "Navi Mumbai",
          "Davao City",
          "Timisoara",
          "Perth",
          "Thai Binh",
          "Oude Meer",
          "Detroit",
          "Copenhagen",
          "Menlo Park",
          "Richardson",
          "Shanghai",
          "Chandigarh",
          "Ottawa",
          "Oshkosh",
          "Canterbury",
          "Kiryat Ono",
          "Campinas",
          "Hue",
          "Villeneuve-d'Ascq",
          "Courbevoie",
          "Mersin",
          "Subang Jaya",
          "Las Vegas",
          "Chico",
          "Ridgewood",
          "Goiania",
          "Skopje",
          "Redmond",
          "Egham",
          "Lyon",
          "Montreuil",
          "Council Bluffs",
          "Kansas City",
          "Porto Alegre",
          "Rotterdam",
          "Amã",
          "Oslo",
          "Can Tho",
          "Mississauga",
          "Vinh",
          "Cork",
          "My Tho",
          "Baku",
          "Cairo",
          "Abu Dhabi",
          "Konya",
          "Shibuya",
          "Bordeaux",
          "Manchester",
          "Nha Trang",
          "Cluj-Napoca",
          "Tempe",
          "Kharagpur",
          "Minneapolis",
          "Evanston",
          "Medellin",
          "Dalat",
          "Bilbao",
          "Curitiba",
          "Lucknow",
          "Kalamazoo",
          "Zagreb",
          "Petaling Jaya",
          "Lisbon",
          "Nashville",
          "Calgary",
          "Lake Oswego",
          "Piscataway Township",
          "Hai Duong",
          "Casablanca",
          "Miami",
          "Vung Tau",
          "Nairobi",
          "Orlando",
          "Colombo",
          "Poznan",
          "Lille",
          "Buon Ma Thuot",
          "Portland",
          "Indore",
          "Burnaby",
          "Auckland",
          "Belgrade",
          "Saint Petersburg",
          "Kitchener",
          "Brasilia",
          "Taguig",
          "Mueang Chiang Mai District",
          "Yokohama",
          "Adana",
          "Jaipur",
          "Lagos",
          "Brussels",
          "Jersey City",
          "San Antonio",
          "Denver",
          "Sofia",
          "Maracaibo",
          "Tbilisi",
          "Redwood City",
          "Antalya",
          "Phoenix",
          "Marseille",
          "Monterrey",
          "Surabaya",
          "Vancouver",
          "Boulder",
          "Lahore",
          "Manila",
          "San Mateo",
          "Belo Horizonte",
          "Krakow",
          "Oakland",
          "Rome",
          "Mueang Khon Kaen District",
          "Shinjuku",
          "Pozuelo de Alarcon",
          "Thai Nguyen",
          "Munich",
          "Makati",
          "Nakhon Pathom",
          "Quebec City",
          "Santiago",
          "Charlotte",
          "Bandung",
          "Budapest",
          "Milpitas",
          "Erode",
          "Eau Claire",
          "Jeddah",
          "Gurgaon",
          "Bursa",
          "Frankfurt",
          "Cupertino",
          "Athens",
          "Osaka",
          "Karachi",
          "Gothenburg",
          "Vienna",
          "Hamburg",
          "Prague",
          "Hai Phong",
          "Columbus",
          "Philadelphia",
          "Brisbane",
          "Cebu City",
          "Rio de Janeiro",
          "Ahmedabad",
          "Irvine",
          "Riyadh",
          "Buenos Aires",
          "Boston",
          "Da Nang",
          "Tunis",
          "Milan",
          "Zurich",
          "Fremont",
          "Pittsburgh",
          "Ashburn",
          "Berlin",
          "Barcelona",
          "Stockholm",
          "San Diego",
          "Boardman",
          "Bien Hoa",
          "Cambridge",
          "Bogota",
          "Dubai",
          "San Bruno",
          "Amsterdam",
          "Quezon City",
          "Kiev",
          "Dallas",
          "Kolkata",
          "Pune",
          "Kirkland",
          "Bucharest",
          "La Victoria",
          "Izmir",
          "Minato",
          "Ankara",
          "Ann Arbor",
          "Houston",
          "Atlanta",
          "Seoul",
          "Kuala Lumpur",
          "Montreal",
          "Moscow",
          "Melbourne",
          "Washington",
          "Madrid",
          "Chennai",
          "Mexico City",
          "Santa Clara",
          "Salem",
          "Palo Alto",
          "Singapore",
          "New Delhi",
          "Hong Kong",
          "Warsaw",
          "Austin",
          "Jakarta",
          "Paris",
          "Hyderabad",
          "Mumbai",
          "Tel Aviv-Yafo",
          "Sao Paulo",
          "Dublin",
          "Sydney",
          "Seattle",
          "Bengaluru",
          "Toronto",
          "Hanoi",
          "Chicago",
          "Los Angeles",
          "Istanbul",
          "San Jose",
          "Bangkok",
          "Ho Chi Minh City",
          "Sunnyvale",
          "London",
          "San Francisco",
          "New York",
          "(not set)",
          "Mountain View",
          "not available in demo dataset"
         ],
         "yaxis": "y15"
        },
        {
         "marker": {
          "color": "blue"
         },
         "orientation": "h",
         "showlegend": false,
         "type": "bar",
         "x": [
          4976,
          5010,
          5693,
          7022,
          9198,
          9839,
          12272,
          19460,
          107845,
          157245
         ],
         "xaxis": "x16",
         "y": [
          "hinet.net",
          "prod-infinitum.com.mx",
          "3bb.co.th",
          "comcastbusiness.net",
          "verizon.net",
          "rr.com",
          "ttnet.com.tr",
          "comcast.net",
          "unknown.unknown",
          "(not set)"
         ],
         "yaxis": "y16"
        },
        {
         "marker": {
          "color": "blue"
         },
         "orientation": "h",
         "showlegend": false,
         "type": "bar",
         "x": [
          4976,
          5010,
          5693,
          7022,
          9198,
          9839,
          12272,
          19460,
          107845,
          157245
         ],
         "xaxis": "x17",
         "y": [
          "hinet.net",
          "prod-infinitum.com.mx",
          "3bb.co.th",
          "comcastbusiness.net",
          "verizon.net",
          "rr.com",
          "ttnet.com.tr",
          "comcast.net",
          "unknown.unknown",
          "(not set)"
         ],
         "yaxis": "y17"
        },
        {
         "marker": {
          "color": "blue"
         },
         "orientation": "h",
         "showlegend": false,
         "type": "bar",
         "x": [
          115809.88745980707,
          20237.5249500998,
          24695.239768136307,
          8810306.153232697,
          4104595.5607740814,
          2240118.919402378,
          1422.7509778357237,
          3935989.210277492,
          215808.61451156752,
          3600405.927158256
         ],
         "xaxis": "x18",
         "y": [
          "hinet.net",
          "prod-infinitum.com.mx",
          "3bb.co.th",
          "comcastbusiness.net",
          "verizon.net",
          "rr.com",
          "ttnet.com.tr",
          "comcast.net",
          "unknown.unknown",
          "(not set)"
         ],
         "yaxis": "y18"
        }
       ],
       "layout": {
        "annotations": [
         {
          "font": {
           "size": 16
          },
          "showarrow": false,
          "text": "Continent - Count",
          "x": 0.11666666666666665,
          "xanchor": "center",
          "xref": "paper",
          "y": 0.9999999999999999,
          "yanchor": "bottom",
          "yref": "paper"
         },
         {
          "font": {
           "size": 16
          },
          "showarrow": false,
          "text": "Continent - Non-zero Revenue Count",
          "x": 0.49999999999999994,
          "xanchor": "center",
          "xref": "paper",
          "y": 0.9999999999999999,
          "yanchor": "bottom",
          "yref": "paper"
         },
         {
          "font": {
           "size": 16
          },
          "showarrow": false,
          "text": "Continent - Mean Revenue",
          "x": 0.8833333333333333,
          "xanchor": "center",
          "xref": "paper",
          "y": 0.9999999999999999,
          "yanchor": "bottom",
          "yref": "paper"
         },
         {
          "font": {
           "size": 16
          },
          "showarrow": false,
          "text": "Sub Continent - Count",
          "x": 0.11666666666666665,
          "xanchor": "center",
          "xref": "paper",
          "y": 0.82,
          "yanchor": "bottom",
          "yref": "paper"
         },
         {
          "font": {
           "size": 16
          },
          "showarrow": false,
          "text": "Sub Continent - Non-zero Revenue Count",
          "x": 0.49999999999999994,
          "xanchor": "center",
          "xref": "paper",
          "y": 0.82,
          "yanchor": "bottom",
          "yref": "paper"
         },
         {
          "font": {
           "size": 16
          },
          "showarrow": false,
          "text": "Sub Continent - Mean Revenue",
          "x": 0.8833333333333333,
          "xanchor": "center",
          "xref": "paper",
          "y": 0.82,
          "yanchor": "bottom",
          "yref": "paper"
         },
         {
          "font": {
           "size": 16
          },
          "showarrow": false,
          "text": "Country - Count",
          "x": 0.11666666666666665,
          "xanchor": "center",
          "xref": "paper",
          "y": 0.64,
          "yanchor": "bottom",
          "yref": "paper"
         },
         {
          "font": {
           "size": 16
          },
          "showarrow": false,
          "text": "Country - Non-zero Revenue Count",
          "x": 0.49999999999999994,
          "xanchor": "center",
          "xref": "paper",
          "y": 0.64,
          "yanchor": "bottom",
          "yref": "paper"
         },
         {
          "font": {
           "size": 16
          },
          "showarrow": false,
          "text": "Country - Mean Revenue",
          "x": 0.8833333333333333,
          "xanchor": "center",
          "xref": "paper",
          "y": 0.64,
          "yanchor": "bottom",
          "yref": "paper"
         },
         {
          "font": {
           "size": 16
          },
          "showarrow": false,
          "text": "Region - Count",
          "x": 0.11666666666666665,
          "xanchor": "center",
          "xref": "paper",
          "y": 0.45999999999999996,
          "yanchor": "bottom",
          "yref": "paper"
         },
         {
          "font": {
           "size": 16
          },
          "showarrow": false,
          "text": "Region - Non-zero Revenue Count",
          "x": 0.49999999999999994,
          "xanchor": "center",
          "xref": "paper",
          "y": 0.45999999999999996,
          "yanchor": "bottom",
          "yref": "paper"
         },
         {
          "font": {
           "size": 16
          },
          "showarrow": false,
          "text": "Region - Mean Revenue",
          "x": 0.8833333333333333,
          "xanchor": "center",
          "xref": "paper",
          "y": 0.45999999999999996,
          "yanchor": "bottom",
          "yref": "paper"
         },
         {
          "font": {
           "size": 16
          },
          "showarrow": false,
          "text": "City - Count",
          "x": 0.11666666666666665,
          "xanchor": "center",
          "xref": "paper",
          "y": 0.27999999999999997,
          "yanchor": "bottom",
          "yref": "paper"
         },
         {
          "font": {
           "size": 16
          },
          "showarrow": false,
          "text": "City - Non-zero Revenue Count",
          "x": 0.49999999999999994,
          "xanchor": "center",
          "xref": "paper",
          "y": 0.27999999999999997,
          "yanchor": "bottom",
          "yref": "paper"
         },
         {
          "font": {
           "size": 16
          },
          "showarrow": false,
          "text": "City - Mean Revenue",
          "x": 0.8833333333333333,
          "xanchor": "center",
          "xref": "paper",
          "y": 0.27999999999999997,
          "yanchor": "bottom",
          "yref": "paper"
         },
         {
          "font": {
           "size": 16
          },
          "showarrow": false,
          "text": "Network Domain - Count",
          "x": 0.11666666666666665,
          "xanchor": "center",
          "xref": "paper",
          "y": 0.09999999999999999,
          "yanchor": "bottom",
          "yref": "paper"
         },
         {
          "font": {
           "size": 16
          },
          "showarrow": false,
          "text": "Network Domain - Non-zero Revenue Count",
          "x": 0.49999999999999994,
          "xanchor": "center",
          "xref": "paper",
          "y": 0.09999999999999999,
          "yanchor": "bottom",
          "yref": "paper"
         },
         {
          "font": {
           "size": 16
          },
          "showarrow": false,
          "text": "Network Domain - Mean Revenue",
          "x": 0.8833333333333333,
          "xanchor": "center",
          "xref": "paper",
          "y": 0.09999999999999999,
          "yanchor": "bottom",
          "yref": "paper"
         }
        ],
        "height": 1500,
        "paper_bgcolor": "rgb(233,233,233)",
        "template": {
         "data": {
          "bar": [
           {
            "error_x": {
             "color": "#2a3f5f"
            },
            "error_y": {
             "color": "#2a3f5f"
            },
            "marker": {
             "line": {
              "color": "#E5ECF6",
              "width": 0.5
             },
             "pattern": {
              "fillmode": "overlay",
              "size": 10,
              "solidity": 0.2
             }
            },
            "type": "bar"
           }
          ],
          "barpolar": [
           {
            "marker": {
             "line": {
              "color": "#E5ECF6",
              "width": 0.5
             },
             "pattern": {
              "fillmode": "overlay",
              "size": 10,
              "solidity": 0.2
             }
            },
            "type": "barpolar"
           }
          ],
          "carpet": [
           {
            "aaxis": {
             "endlinecolor": "#2a3f5f",
             "gridcolor": "white",
             "linecolor": "white",
             "minorgridcolor": "white",
             "startlinecolor": "#2a3f5f"
            },
            "baxis": {
             "endlinecolor": "#2a3f5f",
             "gridcolor": "white",
             "linecolor": "white",
             "minorgridcolor": "white",
             "startlinecolor": "#2a3f5f"
            },
            "type": "carpet"
           }
          ],
          "choropleth": [
           {
            "colorbar": {
             "outlinewidth": 0,
             "ticks": ""
            },
            "type": "choropleth"
           }
          ],
          "contour": [
           {
            "colorbar": {
             "outlinewidth": 0,
             "ticks": ""
            },
            "colorscale": [
             [
              0,
              "#0d0887"
             ],
             [
              0.1111111111111111,
              "#46039f"
             ],
             [
              0.2222222222222222,
              "#7201a8"
             ],
             [
              0.3333333333333333,
              "#9c179e"
             ],
             [
              0.4444444444444444,
              "#bd3786"
             ],
             [
              0.5555555555555556,
              "#d8576b"
             ],
             [
              0.6666666666666666,
              "#ed7953"
             ],
             [
              0.7777777777777778,
              "#fb9f3a"
             ],
             [
              0.8888888888888888,
              "#fdca26"
             ],
             [
              1,
              "#f0f921"
             ]
            ],
            "type": "contour"
           }
          ],
          "contourcarpet": [
           {
            "colorbar": {
             "outlinewidth": 0,
             "ticks": ""
            },
            "type": "contourcarpet"
           }
          ],
          "heatmap": [
           {
            "colorbar": {
             "outlinewidth": 0,
             "ticks": ""
            },
            "colorscale": [
             [
              0,
              "#0d0887"
             ],
             [
              0.1111111111111111,
              "#46039f"
             ],
             [
              0.2222222222222222,
              "#7201a8"
             ],
             [
              0.3333333333333333,
              "#9c179e"
             ],
             [
              0.4444444444444444,
              "#bd3786"
             ],
             [
              0.5555555555555556,
              "#d8576b"
             ],
             [
              0.6666666666666666,
              "#ed7953"
             ],
             [
              0.7777777777777778,
              "#fb9f3a"
             ],
             [
              0.8888888888888888,
              "#fdca26"
             ],
             [
              1,
              "#f0f921"
             ]
            ],
            "type": "heatmap"
           }
          ],
          "heatmapgl": [
           {
            "colorbar": {
             "outlinewidth": 0,
             "ticks": ""
            },
            "colorscale": [
             [
              0,
              "#0d0887"
             ],
             [
              0.1111111111111111,
              "#46039f"
             ],
             [
              0.2222222222222222,
              "#7201a8"
             ],
             [
              0.3333333333333333,
              "#9c179e"
             ],
             [
              0.4444444444444444,
              "#bd3786"
             ],
             [
              0.5555555555555556,
              "#d8576b"
             ],
             [
              0.6666666666666666,
              "#ed7953"
             ],
             [
              0.7777777777777778,
              "#fb9f3a"
             ],
             [
              0.8888888888888888,
              "#fdca26"
             ],
             [
              1,
              "#f0f921"
             ]
            ],
            "type": "heatmapgl"
           }
          ],
          "histogram": [
           {
            "marker": {
             "pattern": {
              "fillmode": "overlay",
              "size": 10,
              "solidity": 0.2
             }
            },
            "type": "histogram"
           }
          ],
          "histogram2d": [
           {
            "colorbar": {
             "outlinewidth": 0,
             "ticks": ""
            },
            "colorscale": [
             [
              0,
              "#0d0887"
             ],
             [
              0.1111111111111111,
              "#46039f"
             ],
             [
              0.2222222222222222,
              "#7201a8"
             ],
             [
              0.3333333333333333,
              "#9c179e"
             ],
             [
              0.4444444444444444,
              "#bd3786"
             ],
             [
              0.5555555555555556,
              "#d8576b"
             ],
             [
              0.6666666666666666,
              "#ed7953"
             ],
             [
              0.7777777777777778,
              "#fb9f3a"
             ],
             [
              0.8888888888888888,
              "#fdca26"
             ],
             [
              1,
              "#f0f921"
             ]
            ],
            "type": "histogram2d"
           }
          ],
          "histogram2dcontour": [
           {
            "colorbar": {
             "outlinewidth": 0,
             "ticks": ""
            },
            "colorscale": [
             [
              0,
              "#0d0887"
             ],
             [
              0.1111111111111111,
              "#46039f"
             ],
             [
              0.2222222222222222,
              "#7201a8"
             ],
             [
              0.3333333333333333,
              "#9c179e"
             ],
             [
              0.4444444444444444,
              "#bd3786"
             ],
             [
              0.5555555555555556,
              "#d8576b"
             ],
             [
              0.6666666666666666,
              "#ed7953"
             ],
             [
              0.7777777777777778,
              "#fb9f3a"
             ],
             [
              0.8888888888888888,
              "#fdca26"
             ],
             [
              1,
              "#f0f921"
             ]
            ],
            "type": "histogram2dcontour"
           }
          ],
          "mesh3d": [
           {
            "colorbar": {
             "outlinewidth": 0,
             "ticks": ""
            },
            "type": "mesh3d"
           }
          ],
          "parcoords": [
           {
            "line": {
             "colorbar": {
              "outlinewidth": 0,
              "ticks": ""
             }
            },
            "type": "parcoords"
           }
          ],
          "pie": [
           {
            "automargin": true,
            "type": "pie"
           }
          ],
          "scatter": [
           {
            "fillpattern": {
             "fillmode": "overlay",
             "size": 10,
             "solidity": 0.2
            },
            "type": "scatter"
           }
          ],
          "scatter3d": [
           {
            "line": {
             "colorbar": {
              "outlinewidth": 0,
              "ticks": ""
             }
            },
            "marker": {
             "colorbar": {
              "outlinewidth": 0,
              "ticks": ""
             }
            },
            "type": "scatter3d"
           }
          ],
          "scattercarpet": [
           {
            "marker": {
             "colorbar": {
              "outlinewidth": 0,
              "ticks": ""
             }
            },
            "type": "scattercarpet"
           }
          ],
          "scattergeo": [
           {
            "marker": {
             "colorbar": {
              "outlinewidth": 0,
              "ticks": ""
             }
            },
            "type": "scattergeo"
           }
          ],
          "scattergl": [
           {
            "marker": {
             "colorbar": {
              "outlinewidth": 0,
              "ticks": ""
             }
            },
            "type": "scattergl"
           }
          ],
          "scattermapbox": [
           {
            "marker": {
             "colorbar": {
              "outlinewidth": 0,
              "ticks": ""
             }
            },
            "type": "scattermapbox"
           }
          ],
          "scatterpolar": [
           {
            "marker": {
             "colorbar": {
              "outlinewidth": 0,
              "ticks": ""
             }
            },
            "type": "scatterpolar"
           }
          ],
          "scatterpolargl": [
           {
            "marker": {
             "colorbar": {
              "outlinewidth": 0,
              "ticks": ""
             }
            },
            "type": "scatterpolargl"
           }
          ],
          "scatterternary": [
           {
            "marker": {
             "colorbar": {
              "outlinewidth": 0,
              "ticks": ""
             }
            },
            "type": "scatterternary"
           }
          ],
          "surface": [
           {
            "colorbar": {
             "outlinewidth": 0,
             "ticks": ""
            },
            "colorscale": [
             [
              0,
              "#0d0887"
             ],
             [
              0.1111111111111111,
              "#46039f"
             ],
             [
              0.2222222222222222,
              "#7201a8"
             ],
             [
              0.3333333333333333,
              "#9c179e"
             ],
             [
              0.4444444444444444,
              "#bd3786"
             ],
             [
              0.5555555555555556,
              "#d8576b"
             ],
             [
              0.6666666666666666,
              "#ed7953"
             ],
             [
              0.7777777777777778,
              "#fb9f3a"
             ],
             [
              0.8888888888888888,
              "#fdca26"
             ],
             [
              1,
              "#f0f921"
             ]
            ],
            "type": "surface"
           }
          ],
          "table": [
           {
            "cells": {
             "fill": {
              "color": "#EBF0F8"
             },
             "line": {
              "color": "white"
             }
            },
            "header": {
             "fill": {
              "color": "#C8D4E3"
             },
             "line": {
              "color": "white"
             }
            },
            "type": "table"
           }
          ]
         },
         "layout": {
          "annotationdefaults": {
           "arrowcolor": "#2a3f5f",
           "arrowhead": 0,
           "arrowwidth": 1
          },
          "autotypenumbers": "strict",
          "coloraxis": {
           "colorbar": {
            "outlinewidth": 0,
            "ticks": ""
           }
          },
          "colorscale": {
           "diverging": [
            [
             0,
             "#8e0152"
            ],
            [
             0.1,
             "#c51b7d"
            ],
            [
             0.2,
             "#de77ae"
            ],
            [
             0.3,
             "#f1b6da"
            ],
            [
             0.4,
             "#fde0ef"
            ],
            [
             0.5,
             "#f7f7f7"
            ],
            [
             0.6,
             "#e6f5d0"
            ],
            [
             0.7,
             "#b8e186"
            ],
            [
             0.8,
             "#7fbc41"
            ],
            [
             0.9,
             "#4d9221"
            ],
            [
             1,
             "#276419"
            ]
           ],
           "sequential": [
            [
             0,
             "#0d0887"
            ],
            [
             0.1111111111111111,
             "#46039f"
            ],
            [
             0.2222222222222222,
             "#7201a8"
            ],
            [
             0.3333333333333333,
             "#9c179e"
            ],
            [
             0.4444444444444444,
             "#bd3786"
            ],
            [
             0.5555555555555556,
             "#d8576b"
            ],
            [
             0.6666666666666666,
             "#ed7953"
            ],
            [
             0.7777777777777778,
             "#fb9f3a"
            ],
            [
             0.8888888888888888,
             "#fdca26"
            ],
            [
             1,
             "#f0f921"
            ]
           ],
           "sequentialminus": [
            [
             0,
             "#0d0887"
            ],
            [
             0.1111111111111111,
             "#46039f"
            ],
            [
             0.2222222222222222,
             "#7201a8"
            ],
            [
             0.3333333333333333,
             "#9c179e"
            ],
            [
             0.4444444444444444,
             "#bd3786"
            ],
            [
             0.5555555555555556,
             "#d8576b"
            ],
            [
             0.6666666666666666,
             "#ed7953"
            ],
            [
             0.7777777777777778,
             "#fb9f3a"
            ],
            [
             0.8888888888888888,
             "#fdca26"
            ],
            [
             1,
             "#f0f921"
            ]
           ]
          },
          "colorway": [
           "#636efa",
           "#EF553B",
           "#00cc96",
           "#ab63fa",
           "#FFA15A",
           "#19d3f3",
           "#FF6692",
           "#B6E880",
           "#FF97FF",
           "#FECB52"
          ],
          "font": {
           "color": "#2a3f5f"
          },
          "geo": {
           "bgcolor": "white",
           "lakecolor": "white",
           "landcolor": "#E5ECF6",
           "showlakes": true,
           "showland": true,
           "subunitcolor": "white"
          },
          "hoverlabel": {
           "align": "left"
          },
          "hovermode": "closest",
          "mapbox": {
           "style": "light"
          },
          "paper_bgcolor": "white",
          "plot_bgcolor": "#E5ECF6",
          "polar": {
           "angularaxis": {
            "gridcolor": "white",
            "linecolor": "white",
            "ticks": ""
           },
           "bgcolor": "#E5ECF6",
           "radialaxis": {
            "gridcolor": "white",
            "linecolor": "white",
            "ticks": ""
           }
          },
          "scene": {
           "xaxis": {
            "backgroundcolor": "#E5ECF6",
            "gridcolor": "white",
            "gridwidth": 2,
            "linecolor": "white",
            "showbackground": true,
            "ticks": "",
            "zerolinecolor": "white"
           },
           "yaxis": {
            "backgroundcolor": "#E5ECF6",
            "gridcolor": "white",
            "gridwidth": 2,
            "linecolor": "white",
            "showbackground": true,
            "ticks": "",
            "zerolinecolor": "white"
           },
           "zaxis": {
            "backgroundcolor": "#E5ECF6",
            "gridcolor": "white",
            "gridwidth": 2,
            "linecolor": "white",
            "showbackground": true,
            "ticks": "",
            "zerolinecolor": "white"
           }
          },
          "shapedefaults": {
           "line": {
            "color": "#2a3f5f"
           }
          },
          "ternary": {
           "aaxis": {
            "gridcolor": "white",
            "linecolor": "white",
            "ticks": ""
           },
           "baxis": {
            "gridcolor": "white",
            "linecolor": "white",
            "ticks": ""
           },
           "bgcolor": "#E5ECF6",
           "caxis": {
            "gridcolor": "white",
            "linecolor": "white",
            "ticks": ""
           }
          },
          "title": {
           "x": 0.05
          },
          "xaxis": {
           "automargin": true,
           "gridcolor": "white",
           "linecolor": "white",
           "ticks": "",
           "title": {
            "standoff": 15
           },
           "zerolinecolor": "white",
           "zerolinewidth": 2
          },
          "yaxis": {
           "automargin": true,
           "gridcolor": "white",
           "linecolor": "white",
           "ticks": "",
           "title": {
            "standoff": 15
           },
           "zerolinecolor": "white",
           "zerolinewidth": 2
          }
         }
        },
        "title": {
         "text": "Geography Plots"
        },
        "width": 1200,
        "xaxis": {
         "anchor": "y",
         "domain": [
          0,
          0.2333333333333333
         ]
        },
        "xaxis10": {
         "anchor": "y10",
         "domain": [
          0,
          0.2333333333333333
         ]
        },
        "xaxis11": {
         "anchor": "y11",
         "domain": [
          0.3833333333333333,
          0.6166666666666666
         ]
        },
        "xaxis12": {
         "anchor": "y12",
         "domain": [
          0.7666666666666666,
          0.9999999999999999
         ]
        },
        "xaxis13": {
         "anchor": "y13",
         "domain": [
          0,
          0.2333333333333333
         ]
        },
        "xaxis14": {
         "anchor": "y14",
         "domain": [
          0.3833333333333333,
          0.6166666666666666
         ]
        },
        "xaxis15": {
         "anchor": "y15",
         "domain": [
          0.7666666666666666,
          0.9999999999999999
         ]
        },
        "xaxis16": {
         "anchor": "y16",
         "domain": [
          0,
          0.2333333333333333
         ]
        },
        "xaxis17": {
         "anchor": "y17",
         "domain": [
          0.3833333333333333,
          0.6166666666666666
         ]
        },
        "xaxis18": {
         "anchor": "y18",
         "domain": [
          0.7666666666666666,
          0.9999999999999999
         ]
        },
        "xaxis2": {
         "anchor": "y2",
         "domain": [
          0.3833333333333333,
          0.6166666666666666
         ]
        },
        "xaxis3": {
         "anchor": "y3",
         "domain": [
          0.7666666666666666,
          0.9999999999999999
         ]
        },
        "xaxis4": {
         "anchor": "y4",
         "domain": [
          0,
          0.2333333333333333
         ]
        },
        "xaxis5": {
         "anchor": "y5",
         "domain": [
          0.3833333333333333,
          0.6166666666666666
         ]
        },
        "xaxis6": {
         "anchor": "y6",
         "domain": [
          0.7666666666666666,
          0.9999999999999999
         ]
        },
        "xaxis7": {
         "anchor": "y7",
         "domain": [
          0,
          0.2333333333333333
         ]
        },
        "xaxis8": {
         "anchor": "y8",
         "domain": [
          0.3833333333333333,
          0.6166666666666666
         ]
        },
        "xaxis9": {
         "anchor": "y9",
         "domain": [
          0.7666666666666666,
          0.9999999999999999
         ]
        },
        "yaxis": {
         "anchor": "x",
         "domain": [
          0.8999999999999999,
          0.9999999999999999
         ]
        },
        "yaxis10": {
         "anchor": "x10",
         "domain": [
          0.36,
          0.45999999999999996
         ]
        },
        "yaxis11": {
         "anchor": "x11",
         "domain": [
          0.36,
          0.45999999999999996
         ]
        },
        "yaxis12": {
         "anchor": "x12",
         "domain": [
          0.36,
          0.45999999999999996
         ]
        },
        "yaxis13": {
         "anchor": "x13",
         "domain": [
          0.18,
          0.27999999999999997
         ]
        },
        "yaxis14": {
         "anchor": "x14",
         "domain": [
          0.18,
          0.27999999999999997
         ]
        },
        "yaxis15": {
         "anchor": "x15",
         "domain": [
          0.18,
          0.27999999999999997
         ]
        },
        "yaxis16": {
         "anchor": "x16",
         "domain": [
          0,
          0.09999999999999999
         ]
        },
        "yaxis17": {
         "anchor": "x17",
         "domain": [
          0,
          0.09999999999999999
         ]
        },
        "yaxis18": {
         "anchor": "x18",
         "domain": [
          0,
          0.09999999999999999
         ]
        },
        "yaxis2": {
         "anchor": "x2",
         "domain": [
          0.8999999999999999,
          0.9999999999999999
         ]
        },
        "yaxis3": {
         "anchor": "x3",
         "domain": [
          0.8999999999999999,
          0.9999999999999999
         ]
        },
        "yaxis4": {
         "anchor": "x4",
         "domain": [
          0.72,
          0.82
         ]
        },
        "yaxis5": {
         "anchor": "x5",
         "domain": [
          0.72,
          0.82
         ]
        },
        "yaxis6": {
         "anchor": "x6",
         "domain": [
          0.72,
          0.82
         ]
        },
        "yaxis7": {
         "anchor": "x7",
         "domain": [
          0.54,
          0.64
         ]
        },
        "yaxis8": {
         "anchor": "x8",
         "domain": [
          0.54,
          0.64
         ]
        },
        "yaxis9": {
         "anchor": "x9",
         "domain": [
          0.54,
          0.64
         ]
        }
       }
      }
     },
     "metadata": {},
     "output_type": "display_data"
    }
   ],
   "source": [
    "# Continent\n",
    "cnt_srs = df.groupby('geoNetwork_continent')['totals_transactionRevenue'].agg(['size', 'count', 'mean'])\n",
    "cnt_srs.columns = [\"count\", \"count of non-zero revenue\", \"mean\"]\n",
    "cnt_srs = cnt_srs.sort_values(by=\"count\", ascending=False)\n",
    "trace1 = horizontal_bar_chart(cnt_srs[\"count\"].head(10), 'rgba(58, 71, 80, 0.6)')\n",
    "trace2 = horizontal_bar_chart(cnt_srs[\"count of non-zero revenue\"].head(10), 'rgba(58, 71, 80, 0.6)')\n",
    "trace3 = horizontal_bar_chart(cnt_srs[\"mean\"].head(10), 'rgba(58, 71, 80, 0.6)')\n",
    "\n",
    "# Sub-continent\n",
    "cnt_srs = df.groupby('geoNetwork_subContinent')['totals_transactionRevenue'].agg(['size', 'count', 'mean'])\n",
    "cnt_srs.columns = [\"count\", \"count of non-zero revenue\", \"mean\"]\n",
    "cnt_srs = cnt_srs.sort_values(by=\"count\", ascending=False)\n",
    "trace4 = horizontal_bar_chart(cnt_srs[\"count\"], 'orange')\n",
    "trace5 = horizontal_bar_chart(cnt_srs[\"count of non-zero revenue\"], 'orange')\n",
    "trace6 = horizontal_bar_chart(cnt_srs[\"mean\"], 'orange')\n",
    "\n",
    "# Country\n",
    "cnt_srs = df.groupby('geoNetwork_country')['totals_transactionRevenue'].agg(['size', 'count', 'mean'])\n",
    "cnt_srs.columns = [\"count\", \"count of non-zero revenue\", \"mean\"]\n",
    "cnt_srs = cnt_srs.sort_values(by=\"count\", ascending=False)\n",
    "trace7 = horizontal_bar_chart(cnt_srs[\"count\"], 'red')\n",
    "trace8 = horizontal_bar_chart(cnt_srs[\"count of non-zero revenue\"], 'red')\n",
    "trace9 = horizontal_bar_chart(cnt_srs[\"mean\"], 'red')\n",
    "\n",
    "# Region\n",
    "cnt_srs = df.groupby('geoNetwork_region')['totals_transactionRevenue'].agg(['size', 'count', 'mean'])\n",
    "cnt_srs.columns = [\"count\", \"count of non-zero revenue\", \"mean\"]\n",
    "cnt_srs = cnt_srs.sort_values(by=\"count\", ascending=False)\n",
    "trace10 = horizontal_bar_chart(cnt_srs[\"count\"], 'green')\n",
    "trace11 = horizontal_bar_chart(cnt_srs[\"count of non-zero revenue\"], 'green')\n",
    "trace12 = horizontal_bar_chart(cnt_srs[\"mean\"], 'green')\n",
    "\n",
    "# City\n",
    "cnt_srs = df.groupby('geoNetwork_city')['totals_transactionRevenue'].agg(['size', 'count', 'mean'])\n",
    "cnt_srs.columns = [\"count\", \"count of non-zero revenue\", \"mean\"]\n",
    "cnt_srs = cnt_srs.sort_values(by=\"count\", ascending=False)\n",
    "trace13 = horizontal_bar_chart(cnt_srs[\"count\"], 'yellow')\n",
    "trace14 = horizontal_bar_chart(cnt_srs[\"count of non-zero revenue\"], 'yellow')\n",
    "trace15 = horizontal_bar_chart(cnt_srs[\"mean\"], 'yellow')\n",
    "\n",
    "# Network domain\n",
    "cnt_srs = df.groupby('geoNetwork_networkDomain')['totals_transactionRevenue'].agg(['size', 'count', 'mean'])\n",
    "cnt_srs.columns = [\"count\", \"count of non-zero revenue\", \"mean\"]\n",
    "cnt_srs = cnt_srs.sort_values(by=\"count\", ascending=False)\n",
    "trace16 = horizontal_bar_chart(cnt_srs[\"count\"].head(10), 'blue')\n",
    "trace17= horizontal_bar_chart(cnt_srs[\"count of non-zero revenue\"].head(10), 'blue')\n",
    "trace18 = horizontal_bar_chart(cnt_srs[\"mean\"].head(10), 'blue')\n",
    "\n",
    "# Creating two subplots\n",
    "fig = tools.make_subplots(rows=6, cols=3, vertical_spacing=0.08, horizontal_spacing=0.15, \n",
    "                          subplot_titles=[\"Continent - Count\", \"Continent - Non-zero Revenue Count\", \"Continent - Mean Revenue\",\n",
    "                                          \"Sub Continent - Count\",  \"Sub Continent - Non-zero Revenue Count\", \"Sub Continent - Mean Revenue\",\n",
    "                                          \"Country - Count\",  \"Country - Non-zero Revenue Count\", \"Country - Mean Revenue\",\n",
    "                                          \"Region - Count\",  \"Region - Non-zero Revenue Count\", \"Region - Mean Revenue\",\n",
    "                                          \"City - Count\",  \"City - Non-zero Revenue Count\", \"City - Mean Revenue\",\n",
    "                                          \"Network Domain - Count\", \"Network Domain - Non-zero Revenue Count\", \"Network Domain - Mean Revenue\"])\n",
    "\n",
    "fig.append_trace(trace1, 1, 1)\n",
    "fig.append_trace(trace2, 1, 2)\n",
    "fig.append_trace(trace3, 1, 3)\n",
    "fig.append_trace(trace4, 2, 1)\n",
    "fig.append_trace(trace5, 2, 2)\n",
    "fig.append_trace(trace6, 2, 3)\n",
    "fig.append_trace(trace7, 3, 1)\n",
    "fig.append_trace(trace8, 3, 2)\n",
    "fig.append_trace(trace9, 3, 3)\n",
    "fig.append_trace(trace10, 4, 1)\n",
    "fig.append_trace(trace11, 4, 2)\n",
    "fig.append_trace(trace12, 4, 3)\n",
    "fig.append_trace(trace13, 5, 1)\n",
    "fig.append_trace(trace14, 5, 2)\n",
    "fig.append_trace(trace15, 5, 3)\n",
    "fig.append_trace(trace16, 6, 1)\n",
    "fig.append_trace(trace17, 6, 2)\n",
    "fig.append_trace(trace18, 6, 3)\n",
    "\n",
    "fig['layout'].update(height=1500, width=1200, paper_bgcolor='rgb(233,233,233)', title=\"Geography Plots\")\n",
    "iplot(fig, filename='geo-plots')"
   ]
  },
  {
   "cell_type": "markdown",
   "metadata": {},
   "source": [
    "# Total"
   ]
  },
  {
   "cell_type": "code",
   "execution_count": 99,
   "metadata": {},
   "outputs": [],
   "source": [
    "tot_cols = ['totals_hits',\n",
    " 'totals_pageviews',\n",
    " 'totals_bounces',\n",
    " 'totals_newVisits']\n",
    "tot = df[tot_cols]"
   ]
  },
  {
   "cell_type": "code",
   "execution_count": 100,
   "metadata": {},
   "outputs": [
    {
     "name": "stdout",
     "output_type": "stream",
     "text": [
      "<class 'pandas.core.frame.DataFrame'>\n",
      "RangeIndex: 633210 entries, 0 to 633209\n",
      "Data columns (total 4 columns):\n",
      " #   Column            Non-Null Count   Dtype \n",
      "---  ------            --------------   ----- \n",
      " 0   totals_hits       633210 non-null  object\n",
      " 1   totals_pageviews  633148 non-null  object\n",
      " 2   totals_bounces    315541 non-null  object\n",
      " 3   totals_newVisits  498095 non-null  object\n",
      "dtypes: object(4)\n",
      "memory usage: 19.3+ MB\n"
     ]
    }
   ],
   "source": [
    "tot.info()"
   ]
  },
  {
   "cell_type": "code",
   "execution_count": 101,
   "metadata": {},
   "outputs": [
    {
     "data": {
      "text/html": [
       "<div>\n",
       "<style scoped>\n",
       "    .dataframe tbody tr th:only-of-type {\n",
       "        vertical-align: middle;\n",
       "    }\n",
       "\n",
       "    .dataframe tbody tr th {\n",
       "        vertical-align: top;\n",
       "    }\n",
       "\n",
       "    .dataframe thead th {\n",
       "        text-align: right;\n",
       "    }\n",
       "</style>\n",
       "<table border=\"1\" class=\"dataframe\">\n",
       "  <thead>\n",
       "    <tr style=\"text-align: right;\">\n",
       "      <th></th>\n",
       "      <th>totals_hits</th>\n",
       "      <th>totals_pageviews</th>\n",
       "      <th>totals_bounces</th>\n",
       "      <th>totals_newVisits</th>\n",
       "    </tr>\n",
       "  </thead>\n",
       "  <tbody>\n",
       "    <tr>\n",
       "      <th>0</th>\n",
       "      <td>1</td>\n",
       "      <td>1</td>\n",
       "      <td>1</td>\n",
       "      <td>1</td>\n",
       "    </tr>\n",
       "    <tr>\n",
       "      <th>1</th>\n",
       "      <td>1</td>\n",
       "      <td>1</td>\n",
       "      <td>1</td>\n",
       "      <td>1</td>\n",
       "    </tr>\n",
       "    <tr>\n",
       "      <th>2</th>\n",
       "      <td>1</td>\n",
       "      <td>1</td>\n",
       "      <td>1</td>\n",
       "      <td>1</td>\n",
       "    </tr>\n",
       "    <tr>\n",
       "      <th>3</th>\n",
       "      <td>1</td>\n",
       "      <td>1</td>\n",
       "      <td>1</td>\n",
       "      <td>1</td>\n",
       "    </tr>\n",
       "    <tr>\n",
       "      <th>4</th>\n",
       "      <td>1</td>\n",
       "      <td>1</td>\n",
       "      <td>1</td>\n",
       "      <td>None</td>\n",
       "    </tr>\n",
       "    <tr>\n",
       "      <th>...</th>\n",
       "      <td>...</td>\n",
       "      <td>...</td>\n",
       "      <td>...</td>\n",
       "      <td>...</td>\n",
       "    </tr>\n",
       "    <tr>\n",
       "      <th>633205</th>\n",
       "      <td>17</td>\n",
       "      <td>15</td>\n",
       "      <td>None</td>\n",
       "      <td>1</td>\n",
       "    </tr>\n",
       "    <tr>\n",
       "      <th>633206</th>\n",
       "      <td>18</td>\n",
       "      <td>13</td>\n",
       "      <td>None</td>\n",
       "      <td>1</td>\n",
       "    </tr>\n",
       "    <tr>\n",
       "      <th>633207</th>\n",
       "      <td>24</td>\n",
       "      <td>21</td>\n",
       "      <td>None</td>\n",
       "      <td>1</td>\n",
       "    </tr>\n",
       "    <tr>\n",
       "      <th>633208</th>\n",
       "      <td>24</td>\n",
       "      <td>22</td>\n",
       "      <td>None</td>\n",
       "      <td>1</td>\n",
       "    </tr>\n",
       "    <tr>\n",
       "      <th>633209</th>\n",
       "      <td>31</td>\n",
       "      <td>31</td>\n",
       "      <td>None</td>\n",
       "      <td>1</td>\n",
       "    </tr>\n",
       "  </tbody>\n",
       "</table>\n",
       "<p>633210 rows × 4 columns</p>\n",
       "</div>"
      ],
      "text/plain": [
       "       totals_hits totals_pageviews totals_bounces totals_newVisits\n",
       "0                1                1              1                1\n",
       "1                1                1              1                1\n",
       "2                1                1              1                1\n",
       "3                1                1              1                1\n",
       "4                1                1              1             None\n",
       "...            ...              ...            ...              ...\n",
       "633205          17               15           None                1\n",
       "633206          18               13           None                1\n",
       "633207          24               21           None                1\n",
       "633208          24               22           None                1\n",
       "633209          31               31           None                1\n",
       "\n",
       "[633210 rows x 4 columns]"
      ]
     },
     "execution_count": 101,
     "metadata": {},
     "output_type": "execute_result"
    }
   ],
   "source": [
    "tot"
   ]
  },
  {
   "cell_type": "code",
   "execution_count": 102,
   "metadata": {},
   "outputs": [
    {
     "data": {
      "text/plain": [
       "array(['1', None], dtype=object)"
      ]
     },
     "execution_count": 102,
     "metadata": {},
     "output_type": "execute_result"
    }
   ],
   "source": [
    "df['totals_bounces'].unique()"
   ]
  },
  {
   "cell_type": "code",
   "execution_count": 103,
   "metadata": {},
   "outputs": [
    {
     "data": {
      "text/plain": [
       "array(['1', None], dtype=object)"
      ]
     },
     "execution_count": 103,
     "metadata": {},
     "output_type": "execute_result"
    }
   ],
   "source": [
    "df['totals_newVisits'].unique()"
   ]
  },
  {
   "cell_type": "code",
   "execution_count": 104,
   "metadata": {},
   "outputs": [
    {
     "name": "stdout",
     "output_type": "stream",
     "text": [
      "Доля NaN в колонке totals_hits:\n",
      "0.0\n",
      "Доля NaN в колонке totals_pageviews:\n",
      "9.791380426714676e-05\n",
      "Доля NaN в колонке totals_bounces:\n",
      "0.5016803272216168\n",
      "Доля NaN в колонке totals_newVisits:\n",
      "0.21338102683154087\n"
     ]
    }
   ],
   "source": [
    "for col in tot_cols:\n",
    "    na_per(df[col], col)"
   ]
  },
  {
   "cell_type": "code",
   "execution_count": 105,
   "metadata": {},
   "outputs": [],
   "source": [
    "for col in tot_cols:\n",
    "    df[col].fillna(0, inplace=True)"
   ]
  },
  {
   "cell_type": "code",
   "execution_count": 106,
   "metadata": {},
   "outputs": [],
   "source": [
    "df['totals_hits'] = df['totals_hits'].astype(int)\n",
    "df['totals_pageviews'] = df['totals_pageviews'].astype(int)\n",
    "df['totals_bounces'] = df['totals_bounces'].astype(bool)\n",
    "df['totals_newVisits'] = df['totals_newVisits'].astype(bool)"
   ]
  },
  {
   "cell_type": "code",
   "execution_count": 107,
   "metadata": {},
   "outputs": [],
   "source": [
    "for col in tot_cols:\n",
    "    num.append(col)"
   ]
  },
  {
   "cell_type": "code",
   "execution_count": 108,
   "metadata": {},
   "outputs": [
    {
     "data": {
      "application/vnd.plotly.v1+json": {
       "config": {
        "linkText": "Export to plotly.com",
        "plotlyServerURL": "https://plotly.com",
        "showLink": false
       },
       "data": [
        {
         "marker": {
          "color": "green"
         },
         "orientation": "h",
         "showlegend": false,
         "type": "bar",
         "x": [
          7393,
          9036,
          10797,
          13484,
          16383,
          21056,
          29000,
          47636,
          100287,
          312796
         ],
         "xaxis": "x",
         "y": [
          10,
          9,
          8,
          7,
          6,
          5,
          4,
          3,
          2,
          1
         ],
         "yaxis": "y"
        },
        {
         "marker": {
          "color": "green"
         },
         "orientation": "h",
         "showlegend": false,
         "type": "bar",
         "x": [
          7393,
          9036,
          10797,
          13484,
          16383,
          21056,
          29000,
          47636,
          100287,
          312796
         ],
         "xaxis": "x2",
         "y": [
          10,
          9,
          8,
          7,
          6,
          5,
          4,
          3,
          2,
          1
         ],
         "yaxis": "y2"
        },
        {
         "marker": {
          "color": "green"
         },
         "orientation": "h",
         "showlegend": false,
         "type": "bar",
         "x": [
          1483598.0175842012,
          854174.411686587,
          389519.31388348615,
          46704.983684366656,
          13935.176707562718,
          94089.09650455927,
          1681.7241379310344,
          2064.195146527836,
          12110.243600865517,
          0
         ],
         "xaxis": "x3",
         "y": [
          10,
          9,
          8,
          7,
          6,
          5,
          4,
          3,
          2,
          1
         ],
         "yaxis": "y3"
        },
        {
         "marker": {
          "color": "purple"
         },
         "orientation": "h",
         "showlegend": false,
         "type": "bar",
         "x": [
          1,
          1,
          1,
          1,
          1,
          1,
          1,
          1,
          1,
          1,
          1,
          1,
          1,
          1,
          1,
          1,
          1,
          1,
          1,
          1,
          1,
          1,
          1,
          1,
          1,
          1,
          1,
          1,
          1,
          1,
          1,
          1,
          1,
          1,
          1,
          1,
          1,
          1,
          1,
          1,
          1,
          1,
          1,
          1,
          1,
          1,
          1,
          2,
          2,
          2,
          2,
          2,
          2,
          2,
          2,
          2,
          2,
          2,
          2,
          2,
          2,
          2,
          2,
          2,
          2,
          2,
          2,
          2,
          3,
          3,
          3,
          3,
          3,
          3,
          3,
          3,
          3,
          4,
          4,
          4,
          4,
          4,
          4,
          4,
          4,
          4,
          5,
          5,
          5,
          5,
          6,
          6,
          6,
          6,
          6,
          7,
          7,
          8,
          8,
          8,
          8,
          8,
          9,
          9,
          9,
          9,
          9,
          9,
          10,
          10,
          10,
          11,
          11,
          11,
          12,
          13,
          13,
          14,
          17,
          18,
          18,
          18,
          19,
          20,
          20,
          22,
          25,
          25,
          26,
          29,
          30,
          34,
          37,
          37,
          38,
          41,
          43,
          45,
          51,
          56,
          57,
          58,
          59,
          59,
          61,
          62,
          67,
          70,
          78,
          90,
          96,
          96,
          112,
          112,
          124,
          131,
          143,
          154,
          170,
          171,
          175,
          189,
          198,
          207,
          226,
          257,
          260,
          291,
          309,
          334,
          390,
          396,
          407,
          480,
          518,
          620,
          631,
          644,
          759,
          827,
          940,
          997,
          1102,
          1232,
          1353,
          1543,
          1638,
          1839,
          2216,
          2432,
          2767,
          3278,
          3664,
          4268,
          4933,
          6101,
          7084,
          8705,
          10666,
          13441,
          16859,
          22637,
          30351,
          50177,
          104860,
          316945
         ],
         "xaxis": "x4",
         "y": [
          300,
          275,
          270,
          249,
          208,
          199,
          197,
          122,
          196,
          195,
          469,
          466,
          431,
          429,
          400,
          358,
          309,
          305,
          191,
          190,
          189,
          182,
          175,
          174,
          173,
          133,
          166,
          144,
          142,
          141,
          140,
          164,
          162,
          245,
          233,
          232,
          220,
          219,
          215,
          210,
          351,
          343,
          340,
          333,
          327,
          324,
          323,
          341,
          224,
          165,
          161,
          156,
          153,
          150,
          148,
          145,
          137,
          135,
          134,
          169,
          130,
          129,
          167,
          185,
          183,
          176,
          120,
          193,
          139,
          149,
          131,
          146,
          188,
          125,
          179,
          127,
          202,
          132,
          138,
          143,
          124,
          115,
          117,
          147,
          109,
          119,
          126,
          111,
          114,
          123,
          118,
          128,
          107,
          105,
          103,
          121,
          116,
          97,
          112,
          108,
          100,
          102,
          110,
          106,
          95,
          101,
          98,
          104,
          113,
          99,
          94,
          96,
          91,
          93,
          92,
          87,
          84,
          82,
          89,
          90,
          85,
          86,
          79,
          88,
          83,
          81,
          77,
          74,
          80,
          78,
          76,
          72,
          73,
          75,
          71,
          69,
          70,
          67,
          68,
          63,
          66,
          65,
          62,
          64,
          61,
          0,
          60,
          59,
          58,
          56,
          57,
          55,
          54,
          53,
          50,
          52,
          51,
          49,
          48,
          47,
          46,
          44,
          43,
          45,
          42,
          41,
          40,
          39,
          38,
          37,
          35,
          36,
          34,
          33,
          32,
          31,
          30,
          29,
          28,
          27,
          26,
          25,
          24,
          23,
          22,
          21,
          20,
          19,
          18,
          17,
          16,
          15,
          14,
          13,
          12,
          11,
          10,
          9,
          8,
          7,
          6,
          5,
          4,
          3,
          2,
          1
         ],
         "yaxis": "y4"
        },
        {
         "marker": {
          "color": "purple"
         },
         "orientation": "h",
         "showlegend": false,
         "type": "bar",
         "x": [
          1,
          1,
          1,
          1,
          1,
          1,
          1,
          1,
          1,
          1,
          1,
          1,
          1,
          1,
          1,
          1,
          1,
          1,
          1,
          1,
          1,
          1,
          1,
          1,
          1,
          1,
          1,
          1,
          1,
          1,
          1,
          1,
          1,
          1,
          1,
          1,
          1,
          1,
          1,
          1,
          1,
          1,
          1,
          1,
          1,
          1,
          1,
          2,
          2,
          2,
          2,
          2,
          2,
          2,
          2,
          2,
          2,
          2,
          2,
          2,
          2,
          2,
          2,
          2,
          2,
          2,
          2,
          2,
          3,
          3,
          3,
          3,
          3,
          3,
          3,
          3,
          3,
          4,
          4,
          4,
          4,
          4,
          4,
          4,
          4,
          4,
          5,
          5,
          5,
          5,
          6,
          6,
          6,
          6,
          6,
          7,
          7,
          8,
          8,
          8,
          8,
          8,
          9,
          9,
          9,
          9,
          9,
          9,
          10,
          10,
          10,
          11,
          11,
          11,
          12,
          13,
          13,
          14,
          17,
          18,
          18,
          18,
          19,
          20,
          20,
          22,
          25,
          25,
          26,
          29,
          30,
          34,
          37,
          37,
          38,
          41,
          43,
          45,
          51,
          56,
          57,
          58,
          59,
          59,
          61,
          62,
          67,
          70,
          78,
          90,
          96,
          96,
          112,
          112,
          124,
          131,
          143,
          154,
          170,
          171,
          175,
          189,
          198,
          207,
          226,
          257,
          260,
          291,
          309,
          334,
          390,
          396,
          407,
          480,
          518,
          620,
          631,
          644,
          759,
          827,
          940,
          997,
          1102,
          1232,
          1353,
          1543,
          1638,
          1839,
          2216,
          2432,
          2767,
          3278,
          3664,
          4268,
          4933,
          6101,
          7084,
          8705,
          10666,
          13441,
          16859,
          22637,
          30351,
          50177,
          104860,
          316945
         ],
         "xaxis": "x5",
         "y": [
          300,
          275,
          270,
          249,
          208,
          199,
          197,
          122,
          196,
          195,
          469,
          466,
          431,
          429,
          400,
          358,
          309,
          305,
          191,
          190,
          189,
          182,
          175,
          174,
          173,
          133,
          166,
          144,
          142,
          141,
          140,
          164,
          162,
          245,
          233,
          232,
          220,
          219,
          215,
          210,
          351,
          343,
          340,
          333,
          327,
          324,
          323,
          341,
          224,
          165,
          161,
          156,
          153,
          150,
          148,
          145,
          137,
          135,
          134,
          169,
          130,
          129,
          167,
          185,
          183,
          176,
          120,
          193,
          139,
          149,
          131,
          146,
          188,
          125,
          179,
          127,
          202,
          132,
          138,
          143,
          124,
          115,
          117,
          147,
          109,
          119,
          126,
          111,
          114,
          123,
          118,
          128,
          107,
          105,
          103,
          121,
          116,
          97,
          112,
          108,
          100,
          102,
          110,
          106,
          95,
          101,
          98,
          104,
          113,
          99,
          94,
          96,
          91,
          93,
          92,
          87,
          84,
          82,
          89,
          90,
          85,
          86,
          79,
          88,
          83,
          81,
          77,
          74,
          80,
          78,
          76,
          72,
          73,
          75,
          71,
          69,
          70,
          67,
          68,
          63,
          66,
          65,
          62,
          64,
          61,
          0,
          60,
          59,
          58,
          56,
          57,
          55,
          54,
          53,
          50,
          52,
          51,
          49,
          48,
          47,
          46,
          44,
          43,
          45,
          42,
          41,
          40,
          39,
          38,
          37,
          35,
          36,
          34,
          33,
          32,
          31,
          30,
          29,
          28,
          27,
          26,
          25,
          24,
          23,
          22,
          21,
          20,
          19,
          18,
          17,
          16,
          15,
          14,
          13,
          12,
          11,
          10,
          9,
          8,
          7,
          6,
          5,
          4,
          3,
          2,
          1
         ],
         "yaxis": "y5"
        },
        {
         "marker": {
          "color": "purple"
         },
         "orientation": "h",
         "showlegend": false,
         "type": "bar",
         "x": [
          0,
          0,
          418280000,
          0,
          1980000,
          0,
          0,
          0,
          651100032,
          0,
          90980000,
          87960000,
          1720930048,
          0,
          133950000,
          74850000,
          168490000,
          198100000,
          0,
          0,
          0,
          112950000,
          0,
          0,
          0,
          0,
          0,
          0,
          0,
          0,
          0,
          0,
          0,
          0,
          120440000,
          55460000,
          0,
          0,
          252460000,
          0,
          113490000,
          471920000,
          0,
          0,
          0,
          0,
          1520530048,
          44435000,
          422470016,
          98210000,
          125215000,
          30470000,
          210050000,
          14940000,
          0,
          0,
          75985000,
          0,
          6505000,
          37495000,
          18655000,
          74660000,
          0,
          0,
          0,
          35980000,
          1038285032,
          735180032,
          0,
          125816661.33333333,
          0,
          0,
          109970005.33333333,
          8983333.333333334,
          98756666.66666667,
          174780000,
          664666656,
          114902500,
          71982500,
          175815000,
          0,
          683515004,
          36665000,
          97790000,
          0,
          2590000,
          21194000,
          248262000,
          659211980.8,
          88020000,
          0,
          110615000,
          122563336,
          137091669.33333334,
          26390000,
          97898571.42857143,
          352808569.14285713,
          100878750,
          402519984,
          23722500,
          33446250,
          128852502,
          202875560.8888889,
          156786672,
          77675555.55555555,
          87836666.66666667,
          148896668.44444445,
          27697777.777777776,
          53867000,
          91353000,
          78468001.6,
          65797272.72727273,
          80990000,
          67033634.90909091,
          44772500,
          328244614.15384614,
          167887691.07692307,
          198209280,
          955758801.882353,
          27457777.777777776,
          54696111.11111111,
          74459443.55555555,
          43014211.368421055,
          135637501.6,
          245117496.8,
          143661364.36363637,
          58248400.64,
          32162400.64,
          72987690.46153846,
          307328275.86206895,
          71970333.86666666,
          18138529.411764707,
          70539189.62162162,
          147048110.27027026,
          117444735.57894737,
          91166586.14634146,
          124499300.09302326,
          31008888.888888888,
          110401176.47058824,
          62076428,
          133922983.29824561,
          81100000.55172414,
          92155592.40677966,
          409296955.3898305,
          140717867.54098362,
          0,
          88137909.01492538,
          73079571.65714286,
          109237821.53846154,
          55125889.06666667,
          110689478,
          48286458.333333336,
          41766428.71428572,
          76082857.28571428,
          65781290.32258064,
          77582748.09160306,
          64492447.55244755,
          77984740.57142857,
          83109587.67058824,
          74915963.97660819,
          60534685.53142857,
          50767302.26455026,
          41805706.90909091,
          41300048.38647343,
          50028805.097345136,
          57518209.86770428,
          43726460.984615386,
          99911717.71821305,
          36390776.59546926,
          40170838.65868264,
          40406230.93333333,
          41893863.55555555,
          36831621.54299755,
          38942395.833333336,
          31094169.822393823,
          35809757.88387097,
          31634389.933438987,
          21121894.385093167,
          24375151.64163373,
          26298488.667472795,
          32142851.285106383,
          18798585.821464393,
          17623303.085299455,
          15750657.363636363,
          17405905.324464153,
          15527543.7977965,
          13417002.393162394,
          9115062.542686243,
          9341899.891696751,
          10628379.953947369,
          8095464.419226599,
          6114063.438682123,
          7736285.528384279,
          5272895.95126523,
          2918274.889924995,
          3887556.119980331,
          2484871.5460191984,
          1505282.0273406089,
          520527.8484905307,
          59067.777695111974,
          13541.728453644937,
          106774.30896320184,
          1606.8663305986622,
          1959.6627937102658,
          11582.109479305742,
          0
         ],
         "xaxis": "x6",
         "y": [
          300,
          275,
          270,
          249,
          208,
          199,
          197,
          122,
          196,
          195,
          469,
          466,
          431,
          429,
          400,
          358,
          309,
          305,
          191,
          190,
          189,
          182,
          175,
          174,
          173,
          133,
          166,
          144,
          142,
          141,
          140,
          164,
          162,
          245,
          233,
          232,
          220,
          219,
          215,
          210,
          351,
          343,
          340,
          333,
          327,
          324,
          323,
          341,
          224,
          165,
          161,
          156,
          153,
          150,
          148,
          145,
          137,
          135,
          134,
          169,
          130,
          129,
          167,
          185,
          183,
          176,
          120,
          193,
          139,
          149,
          131,
          146,
          188,
          125,
          179,
          127,
          202,
          132,
          138,
          143,
          124,
          115,
          117,
          147,
          109,
          119,
          126,
          111,
          114,
          123,
          118,
          128,
          107,
          105,
          103,
          121,
          116,
          97,
          112,
          108,
          100,
          102,
          110,
          106,
          95,
          101,
          98,
          104,
          113,
          99,
          94,
          96,
          91,
          93,
          92,
          87,
          84,
          82,
          89,
          90,
          85,
          86,
          79,
          88,
          83,
          81,
          77,
          74,
          80,
          78,
          76,
          72,
          73,
          75,
          71,
          69,
          70,
          67,
          68,
          63,
          66,
          65,
          62,
          64,
          61,
          0,
          60,
          59,
          58,
          56,
          57,
          55,
          54,
          53,
          50,
          52,
          51,
          49,
          48,
          47,
          46,
          44,
          43,
          45,
          42,
          41,
          40,
          39,
          38,
          37,
          35,
          36,
          34,
          33,
          32,
          31,
          30,
          29,
          28,
          27,
          26,
          25,
          24,
          23,
          22,
          21,
          20,
          19,
          18,
          17,
          16,
          15,
          14,
          13,
          12,
          11,
          10,
          9,
          8,
          7,
          6,
          5,
          4,
          3,
          2,
          1
         ],
         "yaxis": "y6"
        }
       ],
       "layout": {
        "annotations": [
         {
          "font": {
           "size": 16
          },
          "showarrow": false,
          "text": "Traffic Source - Count",
          "x": 0.11666666666666665,
          "xanchor": "center",
          "xref": "paper",
          "y": 1,
          "yanchor": "bottom",
          "yref": "paper"
         },
         {
          "font": {
           "size": 16
          },
          "showarrow": false,
          "text": "Traffic Source - Non-zero Revenue Count",
          "x": 0.49999999999999994,
          "xanchor": "center",
          "xref": "paper",
          "y": 1,
          "yanchor": "bottom",
          "yref": "paper"
         },
         {
          "font": {
           "size": 16
          },
          "showarrow": false,
          "text": "Traffic Source - Mean Revenue",
          "x": 0.8833333333333333,
          "xanchor": "center",
          "xref": "paper",
          "y": 1,
          "yanchor": "bottom",
          "yref": "paper"
         },
         {
          "font": {
           "size": 16
          },
          "showarrow": false,
          "text": "Traffic Source Medium - Count",
          "x": 0.11666666666666665,
          "xanchor": "center",
          "xref": "paper",
          "y": 0.46,
          "yanchor": "bottom",
          "yref": "paper"
         },
         {
          "font": {
           "size": 16
          },
          "showarrow": false,
          "text": "Traffic Source Medium - Non-zero Revenue Count",
          "x": 0.49999999999999994,
          "xanchor": "center",
          "xref": "paper",
          "y": 0.46,
          "yanchor": "bottom",
          "yref": "paper"
         },
         {
          "font": {
           "size": 16
          },
          "showarrow": false,
          "text": "Traffic Source Medium - Mean Revenue",
          "x": 0.8833333333333333,
          "xanchor": "center",
          "xref": "paper",
          "y": 0.46,
          "yanchor": "bottom",
          "yref": "paper"
         }
        ],
        "height": 1000,
        "paper_bgcolor": "rgb(233,233,233)",
        "template": {
         "data": {
          "bar": [
           {
            "error_x": {
             "color": "#2a3f5f"
            },
            "error_y": {
             "color": "#2a3f5f"
            },
            "marker": {
             "line": {
              "color": "#E5ECF6",
              "width": 0.5
             },
             "pattern": {
              "fillmode": "overlay",
              "size": 10,
              "solidity": 0.2
             }
            },
            "type": "bar"
           }
          ],
          "barpolar": [
           {
            "marker": {
             "line": {
              "color": "#E5ECF6",
              "width": 0.5
             },
             "pattern": {
              "fillmode": "overlay",
              "size": 10,
              "solidity": 0.2
             }
            },
            "type": "barpolar"
           }
          ],
          "carpet": [
           {
            "aaxis": {
             "endlinecolor": "#2a3f5f",
             "gridcolor": "white",
             "linecolor": "white",
             "minorgridcolor": "white",
             "startlinecolor": "#2a3f5f"
            },
            "baxis": {
             "endlinecolor": "#2a3f5f",
             "gridcolor": "white",
             "linecolor": "white",
             "minorgridcolor": "white",
             "startlinecolor": "#2a3f5f"
            },
            "type": "carpet"
           }
          ],
          "choropleth": [
           {
            "colorbar": {
             "outlinewidth": 0,
             "ticks": ""
            },
            "type": "choropleth"
           }
          ],
          "contour": [
           {
            "colorbar": {
             "outlinewidth": 0,
             "ticks": ""
            },
            "colorscale": [
             [
              0,
              "#0d0887"
             ],
             [
              0.1111111111111111,
              "#46039f"
             ],
             [
              0.2222222222222222,
              "#7201a8"
             ],
             [
              0.3333333333333333,
              "#9c179e"
             ],
             [
              0.4444444444444444,
              "#bd3786"
             ],
             [
              0.5555555555555556,
              "#d8576b"
             ],
             [
              0.6666666666666666,
              "#ed7953"
             ],
             [
              0.7777777777777778,
              "#fb9f3a"
             ],
             [
              0.8888888888888888,
              "#fdca26"
             ],
             [
              1,
              "#f0f921"
             ]
            ],
            "type": "contour"
           }
          ],
          "contourcarpet": [
           {
            "colorbar": {
             "outlinewidth": 0,
             "ticks": ""
            },
            "type": "contourcarpet"
           }
          ],
          "heatmap": [
           {
            "colorbar": {
             "outlinewidth": 0,
             "ticks": ""
            },
            "colorscale": [
             [
              0,
              "#0d0887"
             ],
             [
              0.1111111111111111,
              "#46039f"
             ],
             [
              0.2222222222222222,
              "#7201a8"
             ],
             [
              0.3333333333333333,
              "#9c179e"
             ],
             [
              0.4444444444444444,
              "#bd3786"
             ],
             [
              0.5555555555555556,
              "#d8576b"
             ],
             [
              0.6666666666666666,
              "#ed7953"
             ],
             [
              0.7777777777777778,
              "#fb9f3a"
             ],
             [
              0.8888888888888888,
              "#fdca26"
             ],
             [
              1,
              "#f0f921"
             ]
            ],
            "type": "heatmap"
           }
          ],
          "heatmapgl": [
           {
            "colorbar": {
             "outlinewidth": 0,
             "ticks": ""
            },
            "colorscale": [
             [
              0,
              "#0d0887"
             ],
             [
              0.1111111111111111,
              "#46039f"
             ],
             [
              0.2222222222222222,
              "#7201a8"
             ],
             [
              0.3333333333333333,
              "#9c179e"
             ],
             [
              0.4444444444444444,
              "#bd3786"
             ],
             [
              0.5555555555555556,
              "#d8576b"
             ],
             [
              0.6666666666666666,
              "#ed7953"
             ],
             [
              0.7777777777777778,
              "#fb9f3a"
             ],
             [
              0.8888888888888888,
              "#fdca26"
             ],
             [
              1,
              "#f0f921"
             ]
            ],
            "type": "heatmapgl"
           }
          ],
          "histogram": [
           {
            "marker": {
             "pattern": {
              "fillmode": "overlay",
              "size": 10,
              "solidity": 0.2
             }
            },
            "type": "histogram"
           }
          ],
          "histogram2d": [
           {
            "colorbar": {
             "outlinewidth": 0,
             "ticks": ""
            },
            "colorscale": [
             [
              0,
              "#0d0887"
             ],
             [
              0.1111111111111111,
              "#46039f"
             ],
             [
              0.2222222222222222,
              "#7201a8"
             ],
             [
              0.3333333333333333,
              "#9c179e"
             ],
             [
              0.4444444444444444,
              "#bd3786"
             ],
             [
              0.5555555555555556,
              "#d8576b"
             ],
             [
              0.6666666666666666,
              "#ed7953"
             ],
             [
              0.7777777777777778,
              "#fb9f3a"
             ],
             [
              0.8888888888888888,
              "#fdca26"
             ],
             [
              1,
              "#f0f921"
             ]
            ],
            "type": "histogram2d"
           }
          ],
          "histogram2dcontour": [
           {
            "colorbar": {
             "outlinewidth": 0,
             "ticks": ""
            },
            "colorscale": [
             [
              0,
              "#0d0887"
             ],
             [
              0.1111111111111111,
              "#46039f"
             ],
             [
              0.2222222222222222,
              "#7201a8"
             ],
             [
              0.3333333333333333,
              "#9c179e"
             ],
             [
              0.4444444444444444,
              "#bd3786"
             ],
             [
              0.5555555555555556,
              "#d8576b"
             ],
             [
              0.6666666666666666,
              "#ed7953"
             ],
             [
              0.7777777777777778,
              "#fb9f3a"
             ],
             [
              0.8888888888888888,
              "#fdca26"
             ],
             [
              1,
              "#f0f921"
             ]
            ],
            "type": "histogram2dcontour"
           }
          ],
          "mesh3d": [
           {
            "colorbar": {
             "outlinewidth": 0,
             "ticks": ""
            },
            "type": "mesh3d"
           }
          ],
          "parcoords": [
           {
            "line": {
             "colorbar": {
              "outlinewidth": 0,
              "ticks": ""
             }
            },
            "type": "parcoords"
           }
          ],
          "pie": [
           {
            "automargin": true,
            "type": "pie"
           }
          ],
          "scatter": [
           {
            "fillpattern": {
             "fillmode": "overlay",
             "size": 10,
             "solidity": 0.2
            },
            "type": "scatter"
           }
          ],
          "scatter3d": [
           {
            "line": {
             "colorbar": {
              "outlinewidth": 0,
              "ticks": ""
             }
            },
            "marker": {
             "colorbar": {
              "outlinewidth": 0,
              "ticks": ""
             }
            },
            "type": "scatter3d"
           }
          ],
          "scattercarpet": [
           {
            "marker": {
             "colorbar": {
              "outlinewidth": 0,
              "ticks": ""
             }
            },
            "type": "scattercarpet"
           }
          ],
          "scattergeo": [
           {
            "marker": {
             "colorbar": {
              "outlinewidth": 0,
              "ticks": ""
             }
            },
            "type": "scattergeo"
           }
          ],
          "scattergl": [
           {
            "marker": {
             "colorbar": {
              "outlinewidth": 0,
              "ticks": ""
             }
            },
            "type": "scattergl"
           }
          ],
          "scattermapbox": [
           {
            "marker": {
             "colorbar": {
              "outlinewidth": 0,
              "ticks": ""
             }
            },
            "type": "scattermapbox"
           }
          ],
          "scatterpolar": [
           {
            "marker": {
             "colorbar": {
              "outlinewidth": 0,
              "ticks": ""
             }
            },
            "type": "scatterpolar"
           }
          ],
          "scatterpolargl": [
           {
            "marker": {
             "colorbar": {
              "outlinewidth": 0,
              "ticks": ""
             }
            },
            "type": "scatterpolargl"
           }
          ],
          "scatterternary": [
           {
            "marker": {
             "colorbar": {
              "outlinewidth": 0,
              "ticks": ""
             }
            },
            "type": "scatterternary"
           }
          ],
          "surface": [
           {
            "colorbar": {
             "outlinewidth": 0,
             "ticks": ""
            },
            "colorscale": [
             [
              0,
              "#0d0887"
             ],
             [
              0.1111111111111111,
              "#46039f"
             ],
             [
              0.2222222222222222,
              "#7201a8"
             ],
             [
              0.3333333333333333,
              "#9c179e"
             ],
             [
              0.4444444444444444,
              "#bd3786"
             ],
             [
              0.5555555555555556,
              "#d8576b"
             ],
             [
              0.6666666666666666,
              "#ed7953"
             ],
             [
              0.7777777777777778,
              "#fb9f3a"
             ],
             [
              0.8888888888888888,
              "#fdca26"
             ],
             [
              1,
              "#f0f921"
             ]
            ],
            "type": "surface"
           }
          ],
          "table": [
           {
            "cells": {
             "fill": {
              "color": "#EBF0F8"
             },
             "line": {
              "color": "white"
             }
            },
            "header": {
             "fill": {
              "color": "#C8D4E3"
             },
             "line": {
              "color": "white"
             }
            },
            "type": "table"
           }
          ]
         },
         "layout": {
          "annotationdefaults": {
           "arrowcolor": "#2a3f5f",
           "arrowhead": 0,
           "arrowwidth": 1
          },
          "autotypenumbers": "strict",
          "coloraxis": {
           "colorbar": {
            "outlinewidth": 0,
            "ticks": ""
           }
          },
          "colorscale": {
           "diverging": [
            [
             0,
             "#8e0152"
            ],
            [
             0.1,
             "#c51b7d"
            ],
            [
             0.2,
             "#de77ae"
            ],
            [
             0.3,
             "#f1b6da"
            ],
            [
             0.4,
             "#fde0ef"
            ],
            [
             0.5,
             "#f7f7f7"
            ],
            [
             0.6,
             "#e6f5d0"
            ],
            [
             0.7,
             "#b8e186"
            ],
            [
             0.8,
             "#7fbc41"
            ],
            [
             0.9,
             "#4d9221"
            ],
            [
             1,
             "#276419"
            ]
           ],
           "sequential": [
            [
             0,
             "#0d0887"
            ],
            [
             0.1111111111111111,
             "#46039f"
            ],
            [
             0.2222222222222222,
             "#7201a8"
            ],
            [
             0.3333333333333333,
             "#9c179e"
            ],
            [
             0.4444444444444444,
             "#bd3786"
            ],
            [
             0.5555555555555556,
             "#d8576b"
            ],
            [
             0.6666666666666666,
             "#ed7953"
            ],
            [
             0.7777777777777778,
             "#fb9f3a"
            ],
            [
             0.8888888888888888,
             "#fdca26"
            ],
            [
             1,
             "#f0f921"
            ]
           ],
           "sequentialminus": [
            [
             0,
             "#0d0887"
            ],
            [
             0.1111111111111111,
             "#46039f"
            ],
            [
             0.2222222222222222,
             "#7201a8"
            ],
            [
             0.3333333333333333,
             "#9c179e"
            ],
            [
             0.4444444444444444,
             "#bd3786"
            ],
            [
             0.5555555555555556,
             "#d8576b"
            ],
            [
             0.6666666666666666,
             "#ed7953"
            ],
            [
             0.7777777777777778,
             "#fb9f3a"
            ],
            [
             0.8888888888888888,
             "#fdca26"
            ],
            [
             1,
             "#f0f921"
            ]
           ]
          },
          "colorway": [
           "#636efa",
           "#EF553B",
           "#00cc96",
           "#ab63fa",
           "#FFA15A",
           "#19d3f3",
           "#FF6692",
           "#B6E880",
           "#FF97FF",
           "#FECB52"
          ],
          "font": {
           "color": "#2a3f5f"
          },
          "geo": {
           "bgcolor": "white",
           "lakecolor": "white",
           "landcolor": "#E5ECF6",
           "showlakes": true,
           "showland": true,
           "subunitcolor": "white"
          },
          "hoverlabel": {
           "align": "left"
          },
          "hovermode": "closest",
          "mapbox": {
           "style": "light"
          },
          "paper_bgcolor": "white",
          "plot_bgcolor": "#E5ECF6",
          "polar": {
           "angularaxis": {
            "gridcolor": "white",
            "linecolor": "white",
            "ticks": ""
           },
           "bgcolor": "#E5ECF6",
           "radialaxis": {
            "gridcolor": "white",
            "linecolor": "white",
            "ticks": ""
           }
          },
          "scene": {
           "xaxis": {
            "backgroundcolor": "#E5ECF6",
            "gridcolor": "white",
            "gridwidth": 2,
            "linecolor": "white",
            "showbackground": true,
            "ticks": "",
            "zerolinecolor": "white"
           },
           "yaxis": {
            "backgroundcolor": "#E5ECF6",
            "gridcolor": "white",
            "gridwidth": 2,
            "linecolor": "white",
            "showbackground": true,
            "ticks": "",
            "zerolinecolor": "white"
           },
           "zaxis": {
            "backgroundcolor": "#E5ECF6",
            "gridcolor": "white",
            "gridwidth": 2,
            "linecolor": "white",
            "showbackground": true,
            "ticks": "",
            "zerolinecolor": "white"
           }
          },
          "shapedefaults": {
           "line": {
            "color": "#2a3f5f"
           }
          },
          "ternary": {
           "aaxis": {
            "gridcolor": "white",
            "linecolor": "white",
            "ticks": ""
           },
           "baxis": {
            "gridcolor": "white",
            "linecolor": "white",
            "ticks": ""
           },
           "bgcolor": "#E5ECF6",
           "caxis": {
            "gridcolor": "white",
            "linecolor": "white",
            "ticks": ""
           }
          },
          "title": {
           "x": 0.05
          },
          "xaxis": {
           "automargin": true,
           "gridcolor": "white",
           "linecolor": "white",
           "ticks": "",
           "title": {
            "standoff": 15
           },
           "zerolinecolor": "white",
           "zerolinewidth": 2
          },
          "yaxis": {
           "automargin": true,
           "gridcolor": "white",
           "linecolor": "white",
           "ticks": "",
           "title": {
            "standoff": 15
           },
           "zerolinecolor": "white",
           "zerolinewidth": 2
          }
         }
        },
        "title": {
         "text": "Totals Plots"
        },
        "width": 1200,
        "xaxis": {
         "anchor": "y",
         "domain": [
          0,
          0.2333333333333333
         ]
        },
        "xaxis2": {
         "anchor": "y2",
         "domain": [
          0.3833333333333333,
          0.6166666666666666
         ]
        },
        "xaxis3": {
         "anchor": "y3",
         "domain": [
          0.7666666666666666,
          0.9999999999999999
         ]
        },
        "xaxis4": {
         "anchor": "y4",
         "domain": [
          0,
          0.2333333333333333
         ]
        },
        "xaxis5": {
         "anchor": "y5",
         "domain": [
          0.3833333333333333,
          0.6166666666666666
         ]
        },
        "xaxis6": {
         "anchor": "y6",
         "domain": [
          0.7666666666666666,
          0.9999999999999999
         ]
        },
        "yaxis": {
         "anchor": "x",
         "domain": [
          0.54,
          1
         ]
        },
        "yaxis2": {
         "anchor": "x2",
         "domain": [
          0.54,
          1
         ]
        },
        "yaxis3": {
         "anchor": "x3",
         "domain": [
          0.54,
          1
         ]
        },
        "yaxis4": {
         "anchor": "x4",
         "domain": [
          0,
          0.46
         ]
        },
        "yaxis5": {
         "anchor": "x5",
         "domain": [
          0,
          0.46
         ]
        },
        "yaxis6": {
         "anchor": "x6",
         "domain": [
          0,
          0.46
         ]
        }
       }
      }
     },
     "metadata": {},
     "output_type": "display_data"
    }
   ],
   "source": [
    "cnt_srs = df.groupby('totals_hits')['totals_transactionRevenue'].agg(['size', 'count', 'mean'])\n",
    "cnt_srs.columns = [\"count\", \"count of non-zero revenue\", \"mean\"]\n",
    "cnt_srs = cnt_srs.sort_values(by=\"count\", ascending=False)\n",
    "trace1 = horizontal_bar_chart(cnt_srs[\"count\"].head(10), 'green')\n",
    "trace2 = horizontal_bar_chart(cnt_srs[\"count of non-zero revenue\"].head(10), 'green')\n",
    "trace3 = horizontal_bar_chart(cnt_srs[\"mean\"].head(10), 'green')\n",
    "\n",
    "# Sub-continent\n",
    "cnt_srs = df.groupby('totals_pageviews')['totals_transactionRevenue'].agg(['size', 'count', 'mean'])\n",
    "cnt_srs.columns = [\"count\", \"count of non-zero revenue\", \"mean\"]\n",
    "cnt_srs = cnt_srs.sort_values(by=\"count\", ascending=False)\n",
    "trace4 = horizontal_bar_chart(cnt_srs[\"count\"], 'purple')\n",
    "trace5 = horizontal_bar_chart(cnt_srs[\"count of non-zero revenue\"], 'purple')\n",
    "trace6 = horizontal_bar_chart(cnt_srs[\"mean\"], 'purple')\n",
    "\n",
    "# Creating two subplots\n",
    "fig = tools.make_subplots(rows=2, cols=3, vertical_spacing=0.08, horizontal_spacing=0.15, \n",
    "                          subplot_titles=[\"Traffic Source - Count\", \"Traffic Source - Non-zero Revenue Count\", \"Traffic Source - Mean Revenue\",\n",
    "                                          \"Traffic Source Medium - Count\",  \"Traffic Source Medium - Non-zero Revenue Count\", \"Traffic Source Medium - Mean Revenue\"\n",
    "                                          ])\n",
    "\n",
    "fig.append_trace(trace1, 1, 1)\n",
    "fig.append_trace(trace2, 1, 2)\n",
    "fig.append_trace(trace3, 1, 3)\n",
    "fig.append_trace(trace4, 2, 1)\n",
    "fig.append_trace(trace5, 2, 2)\n",
    "fig.append_trace(trace6, 2, 3)\n",
    "\n",
    "fig['layout'].update(height=1000, width=1200, paper_bgcolor='rgb(233,233,233)', title=\"Totals Plots\")\n",
    "iplot(fig, filename='totals-plots')"
   ]
  },
  {
   "cell_type": "markdown",
   "metadata": {},
   "source": [
    "# Traffic"
   ]
  },
  {
   "cell_type": "code",
   "execution_count": 109,
   "metadata": {},
   "outputs": [],
   "source": [
    "traffic_cols = ['trafficSource_campaign',\n",
    " 'trafficSource_source',\n",
    " 'trafficSource_medium',\n",
    " 'trafficSource_keyword',\n",
    " 'trafficSource_isTrueDirect',\n",
    " 'trafficSource_referralPath',\n",
    " 'trafficSource_adwordsClickInfo.page',\n",
    " 'trafficSource_adwordsClickInfo.slot',\n",
    " 'trafficSource_adwordsClickInfo.gclId',\n",
    " 'trafficSource_adwordsClickInfo.adNetworkType',\n",
    " 'trafficSource_adwordsClickInfo.isVideoAd',\n",
    " 'trafficSource_adContent']"
   ]
  },
  {
   "cell_type": "code",
   "execution_count": 110,
   "metadata": {},
   "outputs": [
    {
     "name": "stdout",
     "output_type": "stream",
     "text": [
      "Доля NaN в колонке trafficSource_campaign:\n",
      "0.0\n",
      "Доля NaN в колонке trafficSource_source:\n",
      "0.0\n",
      "Доля NaN в колонке trafficSource_medium:\n",
      "0.0\n",
      "Доля NaN в колонке trafficSource_keyword:\n",
      "0.597831683011955\n",
      "Доля NaN в колонке trafficSource_isTrueDirect:\n",
      "0.7156804219769113\n",
      "Доля NaN в колонке trafficSource_referralPath:\n",
      "0.5761800982296552\n",
      "Доля NaN в колонке trafficSource_adwordsClickInfo.page:\n",
      "0.9786453151403168\n",
      "Доля NaN в колонке trafficSource_adwordsClickInfo.slot:\n",
      "0.9786453151403168\n",
      "Доля NaN в колонке trafficSource_adwordsClickInfo.gclId:\n",
      "0.9785679316498476\n",
      "Доля NaN в колонке trafficSource_adwordsClickInfo.adNetworkType:\n",
      "0.9786453151403168\n",
      "Доля NaN в колонке trafficSource_adwordsClickInfo.isVideoAd:\n",
      "0.9786453151403168\n",
      "Доля NaN в колонке trafficSource_adContent:\n",
      "0.991675747382385\n"
     ]
    }
   ],
   "source": [
    "for col in traffic_cols:\n",
    "    na_per(df[col], col)"
   ]
  },
  {
   "cell_type": "code",
   "execution_count": 111,
   "metadata": {},
   "outputs": [],
   "source": [
    "tr_colls = ['trafficSource_campaign', 'trafficSource_source', 'trafficSource_medium', 'trafficSource_keyword', 'trafficSource_referralPath']"
   ]
  },
  {
   "cell_type": "code",
   "execution_count": 112,
   "metadata": {},
   "outputs": [
    {
     "data": {
      "text/html": [
       "<div>\n",
       "<style scoped>\n",
       "    .dataframe tbody tr th:only-of-type {\n",
       "        vertical-align: middle;\n",
       "    }\n",
       "\n",
       "    .dataframe tbody tr th {\n",
       "        vertical-align: top;\n",
       "    }\n",
       "\n",
       "    .dataframe thead th {\n",
       "        text-align: right;\n",
       "    }\n",
       "</style>\n",
       "<table border=\"1\" class=\"dataframe\">\n",
       "  <thead>\n",
       "    <tr style=\"text-align: right;\">\n",
       "      <th></th>\n",
       "      <th>trafficSource_campaign</th>\n",
       "      <th>trafficSource_source</th>\n",
       "      <th>trafficSource_medium</th>\n",
       "      <th>trafficSource_keyword</th>\n",
       "      <th>trafficSource_isTrueDirect</th>\n",
       "      <th>trafficSource_referralPath</th>\n",
       "      <th>trafficSource_adwordsClickInfo.page</th>\n",
       "      <th>trafficSource_adwordsClickInfo.slot</th>\n",
       "      <th>trafficSource_adwordsClickInfo.gclId</th>\n",
       "      <th>trafficSource_adwordsClickInfo.adNetworkType</th>\n",
       "      <th>trafficSource_adwordsClickInfo.isVideoAd</th>\n",
       "      <th>trafficSource_adContent</th>\n",
       "    </tr>\n",
       "  </thead>\n",
       "  <tbody>\n",
       "    <tr>\n",
       "      <th>0</th>\n",
       "      <td>(not set)</td>\n",
       "      <td>google</td>\n",
       "      <td>organic</td>\n",
       "      <td>(not provided)</td>\n",
       "      <td>None</td>\n",
       "      <td>None</td>\n",
       "      <td>None</td>\n",
       "      <td>None</td>\n",
       "      <td>None</td>\n",
       "      <td>None</td>\n",
       "      <td>None</td>\n",
       "      <td>None</td>\n",
       "    </tr>\n",
       "    <tr>\n",
       "      <th>1</th>\n",
       "      <td>(not set)</td>\n",
       "      <td>google</td>\n",
       "      <td>organic</td>\n",
       "      <td>(not provided)</td>\n",
       "      <td>None</td>\n",
       "      <td>None</td>\n",
       "      <td>None</td>\n",
       "      <td>None</td>\n",
       "      <td>None</td>\n",
       "      <td>None</td>\n",
       "      <td>None</td>\n",
       "      <td>None</td>\n",
       "    </tr>\n",
       "    <tr>\n",
       "      <th>2</th>\n",
       "      <td>(not set)</td>\n",
       "      <td>google</td>\n",
       "      <td>organic</td>\n",
       "      <td>(not provided)</td>\n",
       "      <td>None</td>\n",
       "      <td>None</td>\n",
       "      <td>None</td>\n",
       "      <td>None</td>\n",
       "      <td>None</td>\n",
       "      <td>None</td>\n",
       "      <td>None</td>\n",
       "      <td>None</td>\n",
       "    </tr>\n",
       "    <tr>\n",
       "      <th>3</th>\n",
       "      <td>(not set)</td>\n",
       "      <td>google</td>\n",
       "      <td>organic</td>\n",
       "      <td>google + online</td>\n",
       "      <td>None</td>\n",
       "      <td>None</td>\n",
       "      <td>None</td>\n",
       "      <td>None</td>\n",
       "      <td>None</td>\n",
       "      <td>None</td>\n",
       "      <td>None</td>\n",
       "      <td>None</td>\n",
       "    </tr>\n",
       "    <tr>\n",
       "      <th>4</th>\n",
       "      <td>(not set)</td>\n",
       "      <td>google</td>\n",
       "      <td>organic</td>\n",
       "      <td>(not provided)</td>\n",
       "      <td>True</td>\n",
       "      <td>None</td>\n",
       "      <td>None</td>\n",
       "      <td>None</td>\n",
       "      <td>None</td>\n",
       "      <td>None</td>\n",
       "      <td>None</td>\n",
       "      <td>None</td>\n",
       "    </tr>\n",
       "    <tr>\n",
       "      <th>...</th>\n",
       "      <td>...</td>\n",
       "      <td>...</td>\n",
       "      <td>...</td>\n",
       "      <td>...</td>\n",
       "      <td>...</td>\n",
       "      <td>...</td>\n",
       "      <td>...</td>\n",
       "      <td>...</td>\n",
       "      <td>...</td>\n",
       "      <td>...</td>\n",
       "      <td>...</td>\n",
       "      <td>...</td>\n",
       "    </tr>\n",
       "    <tr>\n",
       "      <th>633205</th>\n",
       "      <td>(not set)</td>\n",
       "      <td>youtube.com</td>\n",
       "      <td>referral</td>\n",
       "      <td>None</td>\n",
       "      <td>None</td>\n",
       "      <td>/yt/about/</td>\n",
       "      <td>None</td>\n",
       "      <td>None</td>\n",
       "      <td>None</td>\n",
       "      <td>None</td>\n",
       "      <td>None</td>\n",
       "      <td>None</td>\n",
       "    </tr>\n",
       "    <tr>\n",
       "      <th>633206</th>\n",
       "      <td>(not set)</td>\n",
       "      <td>youtube.com</td>\n",
       "      <td>referral</td>\n",
       "      <td>None</td>\n",
       "      <td>None</td>\n",
       "      <td>/yt/about/</td>\n",
       "      <td>None</td>\n",
       "      <td>None</td>\n",
       "      <td>None</td>\n",
       "      <td>None</td>\n",
       "      <td>None</td>\n",
       "      <td>None</td>\n",
       "    </tr>\n",
       "    <tr>\n",
       "      <th>633207</th>\n",
       "      <td>(not set)</td>\n",
       "      <td>youtube.com</td>\n",
       "      <td>referral</td>\n",
       "      <td>None</td>\n",
       "      <td>None</td>\n",
       "      <td>/yt/about/ko/</td>\n",
       "      <td>None</td>\n",
       "      <td>None</td>\n",
       "      <td>None</td>\n",
       "      <td>None</td>\n",
       "      <td>None</td>\n",
       "      <td>None</td>\n",
       "    </tr>\n",
       "    <tr>\n",
       "      <th>633208</th>\n",
       "      <td>(not set)</td>\n",
       "      <td>facebook.com</td>\n",
       "      <td>referral</td>\n",
       "      <td>None</td>\n",
       "      <td>None</td>\n",
       "      <td>/l.php</td>\n",
       "      <td>None</td>\n",
       "      <td>None</td>\n",
       "      <td>None</td>\n",
       "      <td>None</td>\n",
       "      <td>None</td>\n",
       "      <td>None</td>\n",
       "    </tr>\n",
       "    <tr>\n",
       "      <th>633209</th>\n",
       "      <td>(not set)</td>\n",
       "      <td>youtube.com</td>\n",
       "      <td>referral</td>\n",
       "      <td>None</td>\n",
       "      <td>None</td>\n",
       "      <td>/yt/about/es-419/</td>\n",
       "      <td>None</td>\n",
       "      <td>None</td>\n",
       "      <td>None</td>\n",
       "      <td>None</td>\n",
       "      <td>None</td>\n",
       "      <td>None</td>\n",
       "    </tr>\n",
       "  </tbody>\n",
       "</table>\n",
       "<p>633210 rows × 12 columns</p>\n",
       "</div>"
      ],
      "text/plain": [
       "       trafficSource_campaign trafficSource_source trafficSource_medium  \\\n",
       "0                   (not set)               google              organic   \n",
       "1                   (not set)               google              organic   \n",
       "2                   (not set)               google              organic   \n",
       "3                   (not set)               google              organic   \n",
       "4                   (not set)               google              organic   \n",
       "...                       ...                  ...                  ...   \n",
       "633205              (not set)          youtube.com             referral   \n",
       "633206              (not set)          youtube.com             referral   \n",
       "633207              (not set)          youtube.com             referral   \n",
       "633208              (not set)         facebook.com             referral   \n",
       "633209              (not set)          youtube.com             referral   \n",
       "\n",
       "       trafficSource_keyword trafficSource_isTrueDirect  \\\n",
       "0             (not provided)                       None   \n",
       "1             (not provided)                       None   \n",
       "2             (not provided)                       None   \n",
       "3            google + online                       None   \n",
       "4             (not provided)                       True   \n",
       "...                      ...                        ...   \n",
       "633205                  None                       None   \n",
       "633206                  None                       None   \n",
       "633207                  None                       None   \n",
       "633208                  None                       None   \n",
       "633209                  None                       None   \n",
       "\n",
       "       trafficSource_referralPath trafficSource_adwordsClickInfo.page  \\\n",
       "0                            None                                None   \n",
       "1                            None                                None   \n",
       "2                            None                                None   \n",
       "3                            None                                None   \n",
       "4                            None                                None   \n",
       "...                           ...                                 ...   \n",
       "633205                 /yt/about/                                None   \n",
       "633206                 /yt/about/                                None   \n",
       "633207              /yt/about/ko/                                None   \n",
       "633208                     /l.php                                None   \n",
       "633209          /yt/about/es-419/                                None   \n",
       "\n",
       "       trafficSource_adwordsClickInfo.slot  \\\n",
       "0                                     None   \n",
       "1                                     None   \n",
       "2                                     None   \n",
       "3                                     None   \n",
       "4                                     None   \n",
       "...                                    ...   \n",
       "633205                                None   \n",
       "633206                                None   \n",
       "633207                                None   \n",
       "633208                                None   \n",
       "633209                                None   \n",
       "\n",
       "       trafficSource_adwordsClickInfo.gclId  \\\n",
       "0                                      None   \n",
       "1                                      None   \n",
       "2                                      None   \n",
       "3                                      None   \n",
       "4                                      None   \n",
       "...                                     ...   \n",
       "633205                                 None   \n",
       "633206                                 None   \n",
       "633207                                 None   \n",
       "633208                                 None   \n",
       "633209                                 None   \n",
       "\n",
       "       trafficSource_adwordsClickInfo.adNetworkType  \\\n",
       "0                                              None   \n",
       "1                                              None   \n",
       "2                                              None   \n",
       "3                                              None   \n",
       "4                                              None   \n",
       "...                                             ...   \n",
       "633205                                         None   \n",
       "633206                                         None   \n",
       "633207                                         None   \n",
       "633208                                         None   \n",
       "633209                                         None   \n",
       "\n",
       "       trafficSource_adwordsClickInfo.isVideoAd trafficSource_adContent  \n",
       "0                                          None                    None  \n",
       "1                                          None                    None  \n",
       "2                                          None                    None  \n",
       "3                                          None                    None  \n",
       "4                                          None                    None  \n",
       "...                                         ...                     ...  \n",
       "633205                                     None                    None  \n",
       "633206                                     None                    None  \n",
       "633207                                     None                    None  \n",
       "633208                                     None                    None  \n",
       "633209                                     None                    None  \n",
       "\n",
       "[633210 rows x 12 columns]"
      ]
     },
     "execution_count": 112,
     "metadata": {},
     "output_type": "execute_result"
    }
   ],
   "source": [
    "tr"
   ]
  },
  {
   "cell_type": "code",
   "execution_count": 113,
   "metadata": {},
   "outputs": [],
   "source": [
    "for col in tr_colls:\n",
    "    df[col] = df[col].fillna('miss', inplace = True)\n",
    "    df[col] = df[col].astype(str)\n",
    "    cat.append(col)\n"
   ]
  },
  {
   "cell_type": "code",
   "execution_count": 114,
   "metadata": {},
   "outputs": [
    {
     "name": "stdout",
     "output_type": "stream",
     "text": [
      "<class 'pandas.core.frame.DataFrame'>\n",
      "RangeIndex: 633210 entries, 0 to 633209\n",
      "Data columns (total 12 columns):\n",
      " #   Column                                        Non-Null Count   Dtype \n",
      "---  ------                                        --------------   ----- \n",
      " 0   trafficSource_campaign                        633210 non-null  object\n",
      " 1   trafficSource_source                          633210 non-null  object\n",
      " 2   trafficSource_medium                          633210 non-null  object\n",
      " 3   trafficSource_keyword                         633210 non-null  object\n",
      " 4   trafficSource_isTrueDirect                    180034 non-null  object\n",
      " 5   trafficSource_referralPath                    633210 non-null  object\n",
      " 6   trafficSource_adwordsClickInfo.page           13522 non-null   object\n",
      " 7   trafficSource_adwordsClickInfo.slot           13522 non-null   object\n",
      " 8   trafficSource_adwordsClickInfo.gclId          13571 non-null   object\n",
      " 9   trafficSource_adwordsClickInfo.adNetworkType  13522 non-null   object\n",
      " 10  trafficSource_adwordsClickInfo.isVideoAd      13522 non-null   object\n",
      " 11  trafficSource_adContent                       5271 non-null    object\n",
      "dtypes: object(12)\n",
      "memory usage: 58.0+ MB\n"
     ]
    }
   ],
   "source": [
    "tr = df[traffic_cols]\n",
    "tr.info()"
   ]
  },
  {
   "cell_type": "code",
   "execution_count": 123,
   "metadata": {},
   "outputs": [
    {
     "data": {
      "text/plain": [
       "['device_browser',\n",
       " 'device_operatingSystem',\n",
       " 'device_deviceCategory',\n",
       " 'geoNetwork_continent',\n",
       " 'geoNetwork_subContinent',\n",
       " 'geoNetwork_country',\n",
       " 'geoNetwork_region',\n",
       " 'geoNetwork_metro',\n",
       " 'geoNetwork_city',\n",
       " 'geoNetwork_networkDomain',\n",
       " 'trafficSource_campaign',\n",
       " 'trafficSource_source',\n",
       " 'trafficSource_medium',\n",
       " 'trafficSource_keyword',\n",
       " 'trafficSource_referralPath']"
      ]
     },
     "execution_count": 123,
     "metadata": {},
     "output_type": "execute_result"
    }
   ],
   "source": [
    "cat"
   ]
  },
  {
   "cell_type": "code",
   "execution_count": 124,
   "metadata": {},
   "outputs": [
    {
     "data": {
      "text/plain": [
       "['totals_hits', 'totals_pageviews', 'totals_bounces', 'totals_newVisits']"
      ]
     },
     "execution_count": 124,
     "metadata": {},
     "output_type": "execute_result"
    }
   ],
   "source": [
    "num"
   ]
  },
  {
   "cell_type": "code",
   "execution_count": 115,
   "metadata": {},
   "outputs": [
    {
     "data": {
      "application/vnd.plotly.v1+json": {
       "config": {
        "linkText": "Export to plotly.com",
        "plotlyServerURL": "https://plotly.com",
        "showLink": false
       },
       "data": [
        {
         "marker": {
          "color": "green"
         },
         "orientation": "h",
         "showlegend": false,
         "type": "bar",
         "x": [
          633210
         ],
         "xaxis": "x",
         "y": [
          "None"
         ],
         "yaxis": "y"
        },
        {
         "marker": {
          "color": "green"
         },
         "orientation": "h",
         "showlegend": false,
         "type": "bar",
         "x": [
          633210
         ],
         "xaxis": "x2",
         "y": [
          "None"
         ],
         "yaxis": "y2"
        },
        {
         "marker": {
          "color": "green"
         },
         "orientation": "h",
         "showlegend": false,
         "type": "bar",
         "x": [
          1587462.6901028096
         ],
         "xaxis": "x3",
         "y": [
          "None"
         ],
         "yaxis": "y3"
        },
        {
         "marker": {
          "color": "purple"
         },
         "orientation": "h",
         "showlegend": false,
         "type": "bar",
         "x": [
          633210
         ],
         "xaxis": "x4",
         "y": [
          "None"
         ],
         "yaxis": "y4"
        },
        {
         "marker": {
          "color": "purple"
         },
         "orientation": "h",
         "showlegend": false,
         "type": "bar",
         "x": [
          633210
         ],
         "xaxis": "x5",
         "y": [
          "None"
         ],
         "yaxis": "y5"
        },
        {
         "marker": {
          "color": "purple"
         },
         "orientation": "h",
         "showlegend": false,
         "type": "bar",
         "x": [
          1587462.6901028096
         ],
         "xaxis": "x6",
         "y": [
          "None"
         ],
         "yaxis": "y6"
        }
       ],
       "layout": {
        "annotations": [
         {
          "font": {
           "size": 16
          },
          "showarrow": false,
          "text": "Traffic Source - Count",
          "x": 0.11666666666666665,
          "xanchor": "center",
          "xref": "paper",
          "y": 1,
          "yanchor": "bottom",
          "yref": "paper"
         },
         {
          "font": {
           "size": 16
          },
          "showarrow": false,
          "text": "Traffic Source - Non-zero Revenue Count",
          "x": 0.49999999999999994,
          "xanchor": "center",
          "xref": "paper",
          "y": 1,
          "yanchor": "bottom",
          "yref": "paper"
         },
         {
          "font": {
           "size": 16
          },
          "showarrow": false,
          "text": "Traffic Source - Mean Revenue",
          "x": 0.8833333333333333,
          "xanchor": "center",
          "xref": "paper",
          "y": 1,
          "yanchor": "bottom",
          "yref": "paper"
         },
         {
          "font": {
           "size": 16
          },
          "showarrow": false,
          "text": "Traffic Source Medium - Count",
          "x": 0.11666666666666665,
          "xanchor": "center",
          "xref": "paper",
          "y": 0.46,
          "yanchor": "bottom",
          "yref": "paper"
         },
         {
          "font": {
           "size": 16
          },
          "showarrow": false,
          "text": "Traffic Source Medium - Non-zero Revenue Count",
          "x": 0.49999999999999994,
          "xanchor": "center",
          "xref": "paper",
          "y": 0.46,
          "yanchor": "bottom",
          "yref": "paper"
         },
         {
          "font": {
           "size": 16
          },
          "showarrow": false,
          "text": "Traffic Source Medium - Mean Revenue",
          "x": 0.8833333333333333,
          "xanchor": "center",
          "xref": "paper",
          "y": 0.46,
          "yanchor": "bottom",
          "yref": "paper"
         }
        ],
        "height": 1000,
        "paper_bgcolor": "rgb(233,233,233)",
        "template": {
         "data": {
          "bar": [
           {
            "error_x": {
             "color": "#2a3f5f"
            },
            "error_y": {
             "color": "#2a3f5f"
            },
            "marker": {
             "line": {
              "color": "#E5ECF6",
              "width": 0.5
             },
             "pattern": {
              "fillmode": "overlay",
              "size": 10,
              "solidity": 0.2
             }
            },
            "type": "bar"
           }
          ],
          "barpolar": [
           {
            "marker": {
             "line": {
              "color": "#E5ECF6",
              "width": 0.5
             },
             "pattern": {
              "fillmode": "overlay",
              "size": 10,
              "solidity": 0.2
             }
            },
            "type": "barpolar"
           }
          ],
          "carpet": [
           {
            "aaxis": {
             "endlinecolor": "#2a3f5f",
             "gridcolor": "white",
             "linecolor": "white",
             "minorgridcolor": "white",
             "startlinecolor": "#2a3f5f"
            },
            "baxis": {
             "endlinecolor": "#2a3f5f",
             "gridcolor": "white",
             "linecolor": "white",
             "minorgridcolor": "white",
             "startlinecolor": "#2a3f5f"
            },
            "type": "carpet"
           }
          ],
          "choropleth": [
           {
            "colorbar": {
             "outlinewidth": 0,
             "ticks": ""
            },
            "type": "choropleth"
           }
          ],
          "contour": [
           {
            "colorbar": {
             "outlinewidth": 0,
             "ticks": ""
            },
            "colorscale": [
             [
              0,
              "#0d0887"
             ],
             [
              0.1111111111111111,
              "#46039f"
             ],
             [
              0.2222222222222222,
              "#7201a8"
             ],
             [
              0.3333333333333333,
              "#9c179e"
             ],
             [
              0.4444444444444444,
              "#bd3786"
             ],
             [
              0.5555555555555556,
              "#d8576b"
             ],
             [
              0.6666666666666666,
              "#ed7953"
             ],
             [
              0.7777777777777778,
              "#fb9f3a"
             ],
             [
              0.8888888888888888,
              "#fdca26"
             ],
             [
              1,
              "#f0f921"
             ]
            ],
            "type": "contour"
           }
          ],
          "contourcarpet": [
           {
            "colorbar": {
             "outlinewidth": 0,
             "ticks": ""
            },
            "type": "contourcarpet"
           }
          ],
          "heatmap": [
           {
            "colorbar": {
             "outlinewidth": 0,
             "ticks": ""
            },
            "colorscale": [
             [
              0,
              "#0d0887"
             ],
             [
              0.1111111111111111,
              "#46039f"
             ],
             [
              0.2222222222222222,
              "#7201a8"
             ],
             [
              0.3333333333333333,
              "#9c179e"
             ],
             [
              0.4444444444444444,
              "#bd3786"
             ],
             [
              0.5555555555555556,
              "#d8576b"
             ],
             [
              0.6666666666666666,
              "#ed7953"
             ],
             [
              0.7777777777777778,
              "#fb9f3a"
             ],
             [
              0.8888888888888888,
              "#fdca26"
             ],
             [
              1,
              "#f0f921"
             ]
            ],
            "type": "heatmap"
           }
          ],
          "heatmapgl": [
           {
            "colorbar": {
             "outlinewidth": 0,
             "ticks": ""
            },
            "colorscale": [
             [
              0,
              "#0d0887"
             ],
             [
              0.1111111111111111,
              "#46039f"
             ],
             [
              0.2222222222222222,
              "#7201a8"
             ],
             [
              0.3333333333333333,
              "#9c179e"
             ],
             [
              0.4444444444444444,
              "#bd3786"
             ],
             [
              0.5555555555555556,
              "#d8576b"
             ],
             [
              0.6666666666666666,
              "#ed7953"
             ],
             [
              0.7777777777777778,
              "#fb9f3a"
             ],
             [
              0.8888888888888888,
              "#fdca26"
             ],
             [
              1,
              "#f0f921"
             ]
            ],
            "type": "heatmapgl"
           }
          ],
          "histogram": [
           {
            "marker": {
             "pattern": {
              "fillmode": "overlay",
              "size": 10,
              "solidity": 0.2
             }
            },
            "type": "histogram"
           }
          ],
          "histogram2d": [
           {
            "colorbar": {
             "outlinewidth": 0,
             "ticks": ""
            },
            "colorscale": [
             [
              0,
              "#0d0887"
             ],
             [
              0.1111111111111111,
              "#46039f"
             ],
             [
              0.2222222222222222,
              "#7201a8"
             ],
             [
              0.3333333333333333,
              "#9c179e"
             ],
             [
              0.4444444444444444,
              "#bd3786"
             ],
             [
              0.5555555555555556,
              "#d8576b"
             ],
             [
              0.6666666666666666,
              "#ed7953"
             ],
             [
              0.7777777777777778,
              "#fb9f3a"
             ],
             [
              0.8888888888888888,
              "#fdca26"
             ],
             [
              1,
              "#f0f921"
             ]
            ],
            "type": "histogram2d"
           }
          ],
          "histogram2dcontour": [
           {
            "colorbar": {
             "outlinewidth": 0,
             "ticks": ""
            },
            "colorscale": [
             [
              0,
              "#0d0887"
             ],
             [
              0.1111111111111111,
              "#46039f"
             ],
             [
              0.2222222222222222,
              "#7201a8"
             ],
             [
              0.3333333333333333,
              "#9c179e"
             ],
             [
              0.4444444444444444,
              "#bd3786"
             ],
             [
              0.5555555555555556,
              "#d8576b"
             ],
             [
              0.6666666666666666,
              "#ed7953"
             ],
             [
              0.7777777777777778,
              "#fb9f3a"
             ],
             [
              0.8888888888888888,
              "#fdca26"
             ],
             [
              1,
              "#f0f921"
             ]
            ],
            "type": "histogram2dcontour"
           }
          ],
          "mesh3d": [
           {
            "colorbar": {
             "outlinewidth": 0,
             "ticks": ""
            },
            "type": "mesh3d"
           }
          ],
          "parcoords": [
           {
            "line": {
             "colorbar": {
              "outlinewidth": 0,
              "ticks": ""
             }
            },
            "type": "parcoords"
           }
          ],
          "pie": [
           {
            "automargin": true,
            "type": "pie"
           }
          ],
          "scatter": [
           {
            "fillpattern": {
             "fillmode": "overlay",
             "size": 10,
             "solidity": 0.2
            },
            "type": "scatter"
           }
          ],
          "scatter3d": [
           {
            "line": {
             "colorbar": {
              "outlinewidth": 0,
              "ticks": ""
             }
            },
            "marker": {
             "colorbar": {
              "outlinewidth": 0,
              "ticks": ""
             }
            },
            "type": "scatter3d"
           }
          ],
          "scattercarpet": [
           {
            "marker": {
             "colorbar": {
              "outlinewidth": 0,
              "ticks": ""
             }
            },
            "type": "scattercarpet"
           }
          ],
          "scattergeo": [
           {
            "marker": {
             "colorbar": {
              "outlinewidth": 0,
              "ticks": ""
             }
            },
            "type": "scattergeo"
           }
          ],
          "scattergl": [
           {
            "marker": {
             "colorbar": {
              "outlinewidth": 0,
              "ticks": ""
             }
            },
            "type": "scattergl"
           }
          ],
          "scattermapbox": [
           {
            "marker": {
             "colorbar": {
              "outlinewidth": 0,
              "ticks": ""
             }
            },
            "type": "scattermapbox"
           }
          ],
          "scatterpolar": [
           {
            "marker": {
             "colorbar": {
              "outlinewidth": 0,
              "ticks": ""
             }
            },
            "type": "scatterpolar"
           }
          ],
          "scatterpolargl": [
           {
            "marker": {
             "colorbar": {
              "outlinewidth": 0,
              "ticks": ""
             }
            },
            "type": "scatterpolargl"
           }
          ],
          "scatterternary": [
           {
            "marker": {
             "colorbar": {
              "outlinewidth": 0,
              "ticks": ""
             }
            },
            "type": "scatterternary"
           }
          ],
          "surface": [
           {
            "colorbar": {
             "outlinewidth": 0,
             "ticks": ""
            },
            "colorscale": [
             [
              0,
              "#0d0887"
             ],
             [
              0.1111111111111111,
              "#46039f"
             ],
             [
              0.2222222222222222,
              "#7201a8"
             ],
             [
              0.3333333333333333,
              "#9c179e"
             ],
             [
              0.4444444444444444,
              "#bd3786"
             ],
             [
              0.5555555555555556,
              "#d8576b"
             ],
             [
              0.6666666666666666,
              "#ed7953"
             ],
             [
              0.7777777777777778,
              "#fb9f3a"
             ],
             [
              0.8888888888888888,
              "#fdca26"
             ],
             [
              1,
              "#f0f921"
             ]
            ],
            "type": "surface"
           }
          ],
          "table": [
           {
            "cells": {
             "fill": {
              "color": "#EBF0F8"
             },
             "line": {
              "color": "white"
             }
            },
            "header": {
             "fill": {
              "color": "#C8D4E3"
             },
             "line": {
              "color": "white"
             }
            },
            "type": "table"
           }
          ]
         },
         "layout": {
          "annotationdefaults": {
           "arrowcolor": "#2a3f5f",
           "arrowhead": 0,
           "arrowwidth": 1
          },
          "autotypenumbers": "strict",
          "coloraxis": {
           "colorbar": {
            "outlinewidth": 0,
            "ticks": ""
           }
          },
          "colorscale": {
           "diverging": [
            [
             0,
             "#8e0152"
            ],
            [
             0.1,
             "#c51b7d"
            ],
            [
             0.2,
             "#de77ae"
            ],
            [
             0.3,
             "#f1b6da"
            ],
            [
             0.4,
             "#fde0ef"
            ],
            [
             0.5,
             "#f7f7f7"
            ],
            [
             0.6,
             "#e6f5d0"
            ],
            [
             0.7,
             "#b8e186"
            ],
            [
             0.8,
             "#7fbc41"
            ],
            [
             0.9,
             "#4d9221"
            ],
            [
             1,
             "#276419"
            ]
           ],
           "sequential": [
            [
             0,
             "#0d0887"
            ],
            [
             0.1111111111111111,
             "#46039f"
            ],
            [
             0.2222222222222222,
             "#7201a8"
            ],
            [
             0.3333333333333333,
             "#9c179e"
            ],
            [
             0.4444444444444444,
             "#bd3786"
            ],
            [
             0.5555555555555556,
             "#d8576b"
            ],
            [
             0.6666666666666666,
             "#ed7953"
            ],
            [
             0.7777777777777778,
             "#fb9f3a"
            ],
            [
             0.8888888888888888,
             "#fdca26"
            ],
            [
             1,
             "#f0f921"
            ]
           ],
           "sequentialminus": [
            [
             0,
             "#0d0887"
            ],
            [
             0.1111111111111111,
             "#46039f"
            ],
            [
             0.2222222222222222,
             "#7201a8"
            ],
            [
             0.3333333333333333,
             "#9c179e"
            ],
            [
             0.4444444444444444,
             "#bd3786"
            ],
            [
             0.5555555555555556,
             "#d8576b"
            ],
            [
             0.6666666666666666,
             "#ed7953"
            ],
            [
             0.7777777777777778,
             "#fb9f3a"
            ],
            [
             0.8888888888888888,
             "#fdca26"
            ],
            [
             1,
             "#f0f921"
            ]
           ]
          },
          "colorway": [
           "#636efa",
           "#EF553B",
           "#00cc96",
           "#ab63fa",
           "#FFA15A",
           "#19d3f3",
           "#FF6692",
           "#B6E880",
           "#FF97FF",
           "#FECB52"
          ],
          "font": {
           "color": "#2a3f5f"
          },
          "geo": {
           "bgcolor": "white",
           "lakecolor": "white",
           "landcolor": "#E5ECF6",
           "showlakes": true,
           "showland": true,
           "subunitcolor": "white"
          },
          "hoverlabel": {
           "align": "left"
          },
          "hovermode": "closest",
          "mapbox": {
           "style": "light"
          },
          "paper_bgcolor": "white",
          "plot_bgcolor": "#E5ECF6",
          "polar": {
           "angularaxis": {
            "gridcolor": "white",
            "linecolor": "white",
            "ticks": ""
           },
           "bgcolor": "#E5ECF6",
           "radialaxis": {
            "gridcolor": "white",
            "linecolor": "white",
            "ticks": ""
           }
          },
          "scene": {
           "xaxis": {
            "backgroundcolor": "#E5ECF6",
            "gridcolor": "white",
            "gridwidth": 2,
            "linecolor": "white",
            "showbackground": true,
            "ticks": "",
            "zerolinecolor": "white"
           },
           "yaxis": {
            "backgroundcolor": "#E5ECF6",
            "gridcolor": "white",
            "gridwidth": 2,
            "linecolor": "white",
            "showbackground": true,
            "ticks": "",
            "zerolinecolor": "white"
           },
           "zaxis": {
            "backgroundcolor": "#E5ECF6",
            "gridcolor": "white",
            "gridwidth": 2,
            "linecolor": "white",
            "showbackground": true,
            "ticks": "",
            "zerolinecolor": "white"
           }
          },
          "shapedefaults": {
           "line": {
            "color": "#2a3f5f"
           }
          },
          "ternary": {
           "aaxis": {
            "gridcolor": "white",
            "linecolor": "white",
            "ticks": ""
           },
           "baxis": {
            "gridcolor": "white",
            "linecolor": "white",
            "ticks": ""
           },
           "bgcolor": "#E5ECF6",
           "caxis": {
            "gridcolor": "white",
            "linecolor": "white",
            "ticks": ""
           }
          },
          "title": {
           "x": 0.05
          },
          "xaxis": {
           "automargin": true,
           "gridcolor": "white",
           "linecolor": "white",
           "ticks": "",
           "title": {
            "standoff": 15
           },
           "zerolinecolor": "white",
           "zerolinewidth": 2
          },
          "yaxis": {
           "automargin": true,
           "gridcolor": "white",
           "linecolor": "white",
           "ticks": "",
           "title": {
            "standoff": 15
           },
           "zerolinecolor": "white",
           "zerolinewidth": 2
          }
         }
        },
        "title": {
         "text": "Traffic Source Plots"
        },
        "width": 1200,
        "xaxis": {
         "anchor": "y",
         "domain": [
          0,
          0.2333333333333333
         ]
        },
        "xaxis2": {
         "anchor": "y2",
         "domain": [
          0.3833333333333333,
          0.6166666666666666
         ]
        },
        "xaxis3": {
         "anchor": "y3",
         "domain": [
          0.7666666666666666,
          0.9999999999999999
         ]
        },
        "xaxis4": {
         "anchor": "y4",
         "domain": [
          0,
          0.2333333333333333
         ]
        },
        "xaxis5": {
         "anchor": "y5",
         "domain": [
          0.3833333333333333,
          0.6166666666666666
         ]
        },
        "xaxis6": {
         "anchor": "y6",
         "domain": [
          0.7666666666666666,
          0.9999999999999999
         ]
        },
        "yaxis": {
         "anchor": "x",
         "domain": [
          0.54,
          1
         ]
        },
        "yaxis2": {
         "anchor": "x2",
         "domain": [
          0.54,
          1
         ]
        },
        "yaxis3": {
         "anchor": "x3",
         "domain": [
          0.54,
          1
         ]
        },
        "yaxis4": {
         "anchor": "x4",
         "domain": [
          0,
          0.46
         ]
        },
        "yaxis5": {
         "anchor": "x5",
         "domain": [
          0,
          0.46
         ]
        },
        "yaxis6": {
         "anchor": "x6",
         "domain": [
          0,
          0.46
         ]
        }
       }
      }
     },
     "metadata": {},
     "output_type": "display_data"
    }
   ],
   "source": [
    "# Continent\n",
    "cnt_srs = df.groupby('trafficSource_source')['totals_transactionRevenue'].agg(['size', 'count', 'mean'])\n",
    "cnt_srs.columns = [\"count\", \"count of non-zero revenue\", \"mean\"]\n",
    "cnt_srs = cnt_srs.sort_values(by=\"count\", ascending=False)\n",
    "trace1 = horizontal_bar_chart(cnt_srs[\"count\"].head(10), 'green')\n",
    "trace2 = horizontal_bar_chart(cnt_srs[\"count of non-zero revenue\"].head(10), 'green')\n",
    "trace3 = horizontal_bar_chart(cnt_srs[\"mean\"].head(10), 'green')\n",
    "\n",
    "# Sub-continent\n",
    "cnt_srs = df.groupby('trafficSource_medium')['totals_transactionRevenue'].agg(['size', 'count', 'mean'])\n",
    "cnt_srs.columns = [\"count\", \"count of non-zero revenue\", \"mean\"]\n",
    "cnt_srs = cnt_srs.sort_values(by=\"count\", ascending=False)\n",
    "trace4 = horizontal_bar_chart(cnt_srs[\"count\"], 'purple')\n",
    "trace5 = horizontal_bar_chart(cnt_srs[\"count of non-zero revenue\"], 'purple')\n",
    "trace6 = horizontal_bar_chart(cnt_srs[\"mean\"], 'purple')\n",
    "\n",
    "# Creating two subplots\n",
    "fig = tools.make_subplots(rows=2, cols=3, vertical_spacing=0.08, horizontal_spacing=0.15, \n",
    "                          subplot_titles=[\"Traffic Source - Count\", \"Traffic Source - Non-zero Revenue Count\", \"Traffic Source - Mean Revenue\",\n",
    "                                          \"Traffic Source Medium - Count\",  \"Traffic Source Medium - Non-zero Revenue Count\", \"Traffic Source Medium - Mean Revenue\"\n",
    "                                          ])\n",
    "\n",
    "fig.append_trace(trace1, 1, 1)\n",
    "fig.append_trace(trace2, 1, 2)\n",
    "fig.append_trace(trace3, 1, 3)\n",
    "fig.append_trace(trace4, 2, 1)\n",
    "fig.append_trace(trace5, 2, 2)\n",
    "fig.append_trace(trace6, 2, 3)\n",
    "\n",
    "fig['layout'].update(height=1000, width=1200, paper_bgcolor='rgb(233,233,233)', title=\"Traffic Source Plots\")\n",
    "iplot(fig, filename='traffic-source-plots')"
   ]
  },
  {
   "cell_type": "code",
   "execution_count": 116,
   "metadata": {},
   "outputs": [
    {
     "data": {
      "application/vnd.plotly.v1+json": {
       "config": {
        "linkText": "Export to plotly.com",
        "plotlyServerURL": "https://plotly.com",
        "showLink": false
       },
       "data": [
        {
         "marker": {
          "color": "cyan"
         },
         "orientation": "h",
         "showlegend": false,
         "type": "bar",
         "x": [
          67,
          70,
          78,
          90,
          96,
          96,
          112,
          112,
          124,
          131,
          143,
          154,
          170,
          171,
          175,
          189,
          198,
          207,
          226,
          257,
          260,
          291,
          309,
          334,
          390,
          396,
          407,
          480,
          518,
          620,
          631,
          644,
          759,
          827,
          940,
          997,
          1102,
          1232,
          1353,
          1543,
          1638,
          1839,
          2216,
          2432,
          2767,
          3278,
          3664,
          4268,
          4933,
          6101,
          7084,
          8705,
          10666,
          13441,
          16859,
          22637,
          30351,
          50177,
          104860,
          316945
         ],
         "xaxis": "x",
         "y": [
          60,
          59,
          58,
          56,
          57,
          55,
          54,
          53,
          50,
          52,
          51,
          49,
          48,
          47,
          46,
          44,
          43,
          45,
          42,
          41,
          40,
          39,
          38,
          37,
          35,
          36,
          34,
          33,
          32,
          31,
          30,
          29,
          28,
          27,
          26,
          25,
          24,
          23,
          22,
          21,
          20,
          19,
          18,
          17,
          16,
          15,
          14,
          13,
          12,
          11,
          10,
          9,
          8,
          7,
          6,
          5,
          4,
          3,
          2,
          1
         ],
         "yaxis": "y"
        },
        {
         "marker": {
          "color": "cyan"
         },
         "orientation": "h",
         "showlegend": false,
         "type": "bar",
         "x": [
          67,
          70,
          78,
          90,
          96,
          96,
          112,
          112,
          124,
          131,
          143,
          154,
          170,
          171,
          175,
          189,
          198,
          207,
          226,
          257,
          260,
          291,
          309,
          334,
          390,
          396,
          407,
          480,
          518,
          620,
          631,
          644,
          759,
          827,
          940,
          997,
          1102,
          1232,
          1353,
          1543,
          1638,
          1839,
          2216,
          2432,
          2767,
          3278,
          3664,
          4268,
          4933,
          6101,
          7084,
          8705,
          10666,
          13441,
          16859,
          22637,
          30351,
          50177,
          104860,
          316945
         ],
         "xaxis": "x2",
         "y": [
          60,
          59,
          58,
          56,
          57,
          55,
          54,
          53,
          50,
          52,
          51,
          49,
          48,
          47,
          46,
          44,
          43,
          45,
          42,
          41,
          40,
          39,
          38,
          37,
          35,
          36,
          34,
          33,
          32,
          31,
          30,
          29,
          28,
          27,
          26,
          25,
          24,
          23,
          22,
          21,
          20,
          19,
          18,
          17,
          16,
          15,
          14,
          13,
          12,
          11,
          10,
          9,
          8,
          7,
          6,
          5,
          4,
          3,
          2,
          1
         ],
         "yaxis": "y2"
        },
        {
         "marker": {
          "color": "cyan"
         },
         "orientation": "h",
         "showlegend": false,
         "type": "bar",
         "x": [
          88137909.01492538,
          73079571.65714286,
          109237821.53846154,
          55125889.06666667,
          110689478,
          48286458.333333336,
          41766428.71428572,
          76082857.28571428,
          65781290.32258064,
          77582748.09160306,
          64492447.55244755,
          77984740.57142857,
          83109587.67058824,
          74915963.97660819,
          60534685.53142857,
          50767302.26455026,
          41805706.90909091,
          41300048.38647343,
          50028805.097345136,
          57518209.86770428,
          43726460.984615386,
          99911717.71821305,
          36390776.59546926,
          40170838.65868264,
          40406230.93333333,
          41893863.55555555,
          36831621.54299755,
          38942395.833333336,
          31094169.822393823,
          35809757.88387097,
          31634389.933438987,
          21121894.385093167,
          24375151.64163373,
          26298488.667472795,
          32142851.285106383,
          18798585.821464393,
          17623303.085299455,
          15750657.363636363,
          17405905.324464153,
          15527543.7977965,
          13417002.393162394,
          9115062.542686243,
          9341899.891696751,
          10628379.953947369,
          8095464.419226599,
          6114063.438682123,
          7736285.528384279,
          5272895.95126523,
          2918274.889924995,
          3887556.119980331,
          2484871.5460191984,
          1505282.0273406089,
          520527.8484905307,
          59067.777695111974,
          13541.728453644937,
          106774.30896320184,
          1606.8663305986622,
          1959.6627937102658,
          11582.109479305742,
          0
         ],
         "xaxis": "x3",
         "y": [
          60,
          59,
          58,
          56,
          57,
          55,
          54,
          53,
          50,
          52,
          51,
          49,
          48,
          47,
          46,
          44,
          43,
          45,
          42,
          41,
          40,
          39,
          38,
          37,
          35,
          36,
          34,
          33,
          32,
          31,
          30,
          29,
          28,
          27,
          26,
          25,
          24,
          23,
          22,
          21,
          20,
          19,
          18,
          17,
          16,
          15,
          14,
          13,
          12,
          11,
          10,
          9,
          8,
          7,
          6,
          5,
          4,
          3,
          2,
          1
         ],
         "yaxis": "y3"
        },
        {
         "marker": {
          "color": "black"
         },
         "orientation": "h",
         "showlegend": false,
         "type": "bar",
         "x": [
          145,
          154,
          159,
          160,
          165,
          172,
          175,
          190,
          194,
          236,
          249,
          251,
          264,
          274,
          300,
          316,
          328,
          357,
          405,
          406,
          445,
          478,
          531,
          532,
          563,
          579,
          614,
          668,
          772,
          785,
          903,
          928,
          974,
          1066,
          1163,
          1347,
          1505,
          1530,
          1704,
          1929,
          2086,
          2336,
          2570,
          2893,
          3275,
          3775,
          4274,
          4806,
          5484,
          6505,
          7393,
          9036,
          10797,
          13484,
          16383,
          21056,
          29000,
          47636,
          100287,
          312796
         ],
         "xaxis": "x4",
         "y": [
          61,
          60,
          56,
          55,
          59,
          57,
          54,
          53,
          52,
          50,
          51,
          48,
          49,
          47,
          46,
          44,
          45,
          43,
          42,
          41,
          40,
          39,
          37,
          38,
          36,
          34,
          35,
          33,
          31,
          32,
          29,
          30,
          28,
          27,
          26,
          25,
          24,
          23,
          22,
          21,
          20,
          19,
          18,
          17,
          16,
          15,
          14,
          13,
          12,
          11,
          10,
          9,
          8,
          7,
          6,
          5,
          4,
          3,
          2,
          1
         ],
         "yaxis": "y4"
        },
        {
         "marker": {
          "color": "black"
         },
         "orientation": "h",
         "showlegend": false,
         "type": "bar",
         "x": [
          145,
          154,
          159,
          160,
          165,
          172,
          175,
          190,
          194,
          236,
          249,
          251,
          264,
          274,
          300,
          316,
          328,
          357,
          405,
          406,
          445,
          478,
          531,
          532,
          563,
          579,
          614,
          668,
          772,
          785,
          903,
          928,
          974,
          1066,
          1163,
          1347,
          1505,
          1530,
          1704,
          1929,
          2086,
          2336,
          2570,
          2893,
          3275,
          3775,
          4274,
          4806,
          5484,
          6505,
          7393,
          9036,
          10797,
          13484,
          16383,
          21056,
          29000,
          47636,
          100287,
          312796
         ],
         "xaxis": "x5",
         "y": [
          61,
          60,
          56,
          55,
          59,
          57,
          54,
          53,
          52,
          50,
          51,
          48,
          49,
          47,
          46,
          44,
          45,
          43,
          42,
          41,
          40,
          39,
          37,
          38,
          36,
          34,
          35,
          33,
          31,
          32,
          29,
          30,
          28,
          27,
          26,
          25,
          24,
          23,
          22,
          21,
          20,
          19,
          18,
          17,
          16,
          15,
          14,
          13,
          12,
          11,
          10,
          9,
          8,
          7,
          6,
          5,
          4,
          3,
          2,
          1
         ],
         "yaxis": "y5"
        },
        {
         "marker": {
          "color": "black"
         },
         "orientation": "h",
         "showlegend": false,
         "type": "bar",
         "x": [
          75179378.53793104,
          51825519.68831169,
          45691258.16352201,
          54272437.2,
          44669515.345454544,
          60136918.511627905,
          56613600.09142857,
          59607157.97894737,
          36407989.5257732,
          73599489.69491525,
          38263212.915662654,
          49786932.58964144,
          42645189.696969695,
          35455547.56204379,
          30993266.453333333,
          28390189.670886077,
          32298262.341463413,
          33582352.806722686,
          30395036.997530863,
          26107290.640394088,
          27207258.53483146,
          26826945.67364017,
          33979133.619585685,
          26241785.95488722,
          16867992.86678508,
          24636631.958549224,
          30258012.925081432,
          32888832.5748503,
          14631774.67357513,
          18491949.20764331,
          11716179.490586933,
          17086120.827586208,
          14913860.287474332,
          13133330.176360225,
          15400601.836629407,
          10648166.354862658,
          11766345.536212625,
          10225712.397385621,
          7951179.558685446,
          9040819.044064282,
          8201049.932885906,
          7267076.205479452,
          4915933.821011673,
          6774759.753888696,
          7128442.821374046,
          6196362.905430463,
          2887030.8881609733,
          2937078.635039534,
          2434835.892049599,
          2061434.2690238277,
          1483598.0175842012,
          854174.411686587,
          389519.31388348615,
          46704.983684366656,
          13935.176707562718,
          94089.09650455927,
          1681.7241379310344,
          2064.195146527836,
          12110.243600865517,
          0
         ],
         "xaxis": "x6",
         "y": [
          61,
          60,
          56,
          55,
          59,
          57,
          54,
          53,
          52,
          50,
          51,
          48,
          49,
          47,
          46,
          44,
          45,
          43,
          42,
          41,
          40,
          39,
          37,
          38,
          36,
          34,
          35,
          33,
          31,
          32,
          29,
          30,
          28,
          27,
          26,
          25,
          24,
          23,
          22,
          21,
          20,
          19,
          18,
          17,
          16,
          15,
          14,
          13,
          12,
          11,
          10,
          9,
          8,
          7,
          6,
          5,
          4,
          3,
          2,
          1
         ],
         "yaxis": "y6"
        }
       ],
       "layout": {
        "annotations": [
         {
          "font": {
           "size": 16
          },
          "showarrow": false,
          "text": "Total Pageviews - Count",
          "x": 0.11666666666666665,
          "xanchor": "center",
          "xref": "paper",
          "y": 1,
          "yanchor": "bottom",
          "yref": "paper"
         },
         {
          "font": {
           "size": 16
          },
          "showarrow": false,
          "text": "Total Pageviews - Non-zero Revenue Count",
          "x": 0.49999999999999994,
          "xanchor": "center",
          "xref": "paper",
          "y": 1,
          "yanchor": "bottom",
          "yref": "paper"
         },
         {
          "font": {
           "size": 16
          },
          "showarrow": false,
          "text": "Total Pageviews - Mean Revenue",
          "x": 0.8833333333333333,
          "xanchor": "center",
          "xref": "paper",
          "y": 1,
          "yanchor": "bottom",
          "yref": "paper"
         },
         {
          "font": {
           "size": 16
          },
          "showarrow": false,
          "text": "Total Hits - Count",
          "x": 0.11666666666666665,
          "xanchor": "center",
          "xref": "paper",
          "y": 0.46,
          "yanchor": "bottom",
          "yref": "paper"
         },
         {
          "font": {
           "size": 16
          },
          "showarrow": false,
          "text": "Total Hits - Non-zero Revenue Count",
          "x": 0.49999999999999994,
          "xanchor": "center",
          "xref": "paper",
          "y": 0.46,
          "yanchor": "bottom",
          "yref": "paper"
         },
         {
          "font": {
           "size": 16
          },
          "showarrow": false,
          "text": "Total Hits - Mean Revenue",
          "x": 0.8833333333333333,
          "xanchor": "center",
          "xref": "paper",
          "y": 0.46,
          "yanchor": "bottom",
          "yref": "paper"
         }
        ],
        "height": 1200,
        "paper_bgcolor": "rgb(233,233,233)",
        "template": {
         "data": {
          "bar": [
           {
            "error_x": {
             "color": "#2a3f5f"
            },
            "error_y": {
             "color": "#2a3f5f"
            },
            "marker": {
             "line": {
              "color": "#E5ECF6",
              "width": 0.5
             },
             "pattern": {
              "fillmode": "overlay",
              "size": 10,
              "solidity": 0.2
             }
            },
            "type": "bar"
           }
          ],
          "barpolar": [
           {
            "marker": {
             "line": {
              "color": "#E5ECF6",
              "width": 0.5
             },
             "pattern": {
              "fillmode": "overlay",
              "size": 10,
              "solidity": 0.2
             }
            },
            "type": "barpolar"
           }
          ],
          "carpet": [
           {
            "aaxis": {
             "endlinecolor": "#2a3f5f",
             "gridcolor": "white",
             "linecolor": "white",
             "minorgridcolor": "white",
             "startlinecolor": "#2a3f5f"
            },
            "baxis": {
             "endlinecolor": "#2a3f5f",
             "gridcolor": "white",
             "linecolor": "white",
             "minorgridcolor": "white",
             "startlinecolor": "#2a3f5f"
            },
            "type": "carpet"
           }
          ],
          "choropleth": [
           {
            "colorbar": {
             "outlinewidth": 0,
             "ticks": ""
            },
            "type": "choropleth"
           }
          ],
          "contour": [
           {
            "colorbar": {
             "outlinewidth": 0,
             "ticks": ""
            },
            "colorscale": [
             [
              0,
              "#0d0887"
             ],
             [
              0.1111111111111111,
              "#46039f"
             ],
             [
              0.2222222222222222,
              "#7201a8"
             ],
             [
              0.3333333333333333,
              "#9c179e"
             ],
             [
              0.4444444444444444,
              "#bd3786"
             ],
             [
              0.5555555555555556,
              "#d8576b"
             ],
             [
              0.6666666666666666,
              "#ed7953"
             ],
             [
              0.7777777777777778,
              "#fb9f3a"
             ],
             [
              0.8888888888888888,
              "#fdca26"
             ],
             [
              1,
              "#f0f921"
             ]
            ],
            "type": "contour"
           }
          ],
          "contourcarpet": [
           {
            "colorbar": {
             "outlinewidth": 0,
             "ticks": ""
            },
            "type": "contourcarpet"
           }
          ],
          "heatmap": [
           {
            "colorbar": {
             "outlinewidth": 0,
             "ticks": ""
            },
            "colorscale": [
             [
              0,
              "#0d0887"
             ],
             [
              0.1111111111111111,
              "#46039f"
             ],
             [
              0.2222222222222222,
              "#7201a8"
             ],
             [
              0.3333333333333333,
              "#9c179e"
             ],
             [
              0.4444444444444444,
              "#bd3786"
             ],
             [
              0.5555555555555556,
              "#d8576b"
             ],
             [
              0.6666666666666666,
              "#ed7953"
             ],
             [
              0.7777777777777778,
              "#fb9f3a"
             ],
             [
              0.8888888888888888,
              "#fdca26"
             ],
             [
              1,
              "#f0f921"
             ]
            ],
            "type": "heatmap"
           }
          ],
          "heatmapgl": [
           {
            "colorbar": {
             "outlinewidth": 0,
             "ticks": ""
            },
            "colorscale": [
             [
              0,
              "#0d0887"
             ],
             [
              0.1111111111111111,
              "#46039f"
             ],
             [
              0.2222222222222222,
              "#7201a8"
             ],
             [
              0.3333333333333333,
              "#9c179e"
             ],
             [
              0.4444444444444444,
              "#bd3786"
             ],
             [
              0.5555555555555556,
              "#d8576b"
             ],
             [
              0.6666666666666666,
              "#ed7953"
             ],
             [
              0.7777777777777778,
              "#fb9f3a"
             ],
             [
              0.8888888888888888,
              "#fdca26"
             ],
             [
              1,
              "#f0f921"
             ]
            ],
            "type": "heatmapgl"
           }
          ],
          "histogram": [
           {
            "marker": {
             "pattern": {
              "fillmode": "overlay",
              "size": 10,
              "solidity": 0.2
             }
            },
            "type": "histogram"
           }
          ],
          "histogram2d": [
           {
            "colorbar": {
             "outlinewidth": 0,
             "ticks": ""
            },
            "colorscale": [
             [
              0,
              "#0d0887"
             ],
             [
              0.1111111111111111,
              "#46039f"
             ],
             [
              0.2222222222222222,
              "#7201a8"
             ],
             [
              0.3333333333333333,
              "#9c179e"
             ],
             [
              0.4444444444444444,
              "#bd3786"
             ],
             [
              0.5555555555555556,
              "#d8576b"
             ],
             [
              0.6666666666666666,
              "#ed7953"
             ],
             [
              0.7777777777777778,
              "#fb9f3a"
             ],
             [
              0.8888888888888888,
              "#fdca26"
             ],
             [
              1,
              "#f0f921"
             ]
            ],
            "type": "histogram2d"
           }
          ],
          "histogram2dcontour": [
           {
            "colorbar": {
             "outlinewidth": 0,
             "ticks": ""
            },
            "colorscale": [
             [
              0,
              "#0d0887"
             ],
             [
              0.1111111111111111,
              "#46039f"
             ],
             [
              0.2222222222222222,
              "#7201a8"
             ],
             [
              0.3333333333333333,
              "#9c179e"
             ],
             [
              0.4444444444444444,
              "#bd3786"
             ],
             [
              0.5555555555555556,
              "#d8576b"
             ],
             [
              0.6666666666666666,
              "#ed7953"
             ],
             [
              0.7777777777777778,
              "#fb9f3a"
             ],
             [
              0.8888888888888888,
              "#fdca26"
             ],
             [
              1,
              "#f0f921"
             ]
            ],
            "type": "histogram2dcontour"
           }
          ],
          "mesh3d": [
           {
            "colorbar": {
             "outlinewidth": 0,
             "ticks": ""
            },
            "type": "mesh3d"
           }
          ],
          "parcoords": [
           {
            "line": {
             "colorbar": {
              "outlinewidth": 0,
              "ticks": ""
             }
            },
            "type": "parcoords"
           }
          ],
          "pie": [
           {
            "automargin": true,
            "type": "pie"
           }
          ],
          "scatter": [
           {
            "fillpattern": {
             "fillmode": "overlay",
             "size": 10,
             "solidity": 0.2
            },
            "type": "scatter"
           }
          ],
          "scatter3d": [
           {
            "line": {
             "colorbar": {
              "outlinewidth": 0,
              "ticks": ""
             }
            },
            "marker": {
             "colorbar": {
              "outlinewidth": 0,
              "ticks": ""
             }
            },
            "type": "scatter3d"
           }
          ],
          "scattercarpet": [
           {
            "marker": {
             "colorbar": {
              "outlinewidth": 0,
              "ticks": ""
             }
            },
            "type": "scattercarpet"
           }
          ],
          "scattergeo": [
           {
            "marker": {
             "colorbar": {
              "outlinewidth": 0,
              "ticks": ""
             }
            },
            "type": "scattergeo"
           }
          ],
          "scattergl": [
           {
            "marker": {
             "colorbar": {
              "outlinewidth": 0,
              "ticks": ""
             }
            },
            "type": "scattergl"
           }
          ],
          "scattermapbox": [
           {
            "marker": {
             "colorbar": {
              "outlinewidth": 0,
              "ticks": ""
             }
            },
            "type": "scattermapbox"
           }
          ],
          "scatterpolar": [
           {
            "marker": {
             "colorbar": {
              "outlinewidth": 0,
              "ticks": ""
             }
            },
            "type": "scatterpolar"
           }
          ],
          "scatterpolargl": [
           {
            "marker": {
             "colorbar": {
              "outlinewidth": 0,
              "ticks": ""
             }
            },
            "type": "scatterpolargl"
           }
          ],
          "scatterternary": [
           {
            "marker": {
             "colorbar": {
              "outlinewidth": 0,
              "ticks": ""
             }
            },
            "type": "scatterternary"
           }
          ],
          "surface": [
           {
            "colorbar": {
             "outlinewidth": 0,
             "ticks": ""
            },
            "colorscale": [
             [
              0,
              "#0d0887"
             ],
             [
              0.1111111111111111,
              "#46039f"
             ],
             [
              0.2222222222222222,
              "#7201a8"
             ],
             [
              0.3333333333333333,
              "#9c179e"
             ],
             [
              0.4444444444444444,
              "#bd3786"
             ],
             [
              0.5555555555555556,
              "#d8576b"
             ],
             [
              0.6666666666666666,
              "#ed7953"
             ],
             [
              0.7777777777777778,
              "#fb9f3a"
             ],
             [
              0.8888888888888888,
              "#fdca26"
             ],
             [
              1,
              "#f0f921"
             ]
            ],
            "type": "surface"
           }
          ],
          "table": [
           {
            "cells": {
             "fill": {
              "color": "#EBF0F8"
             },
             "line": {
              "color": "white"
             }
            },
            "header": {
             "fill": {
              "color": "#C8D4E3"
             },
             "line": {
              "color": "white"
             }
            },
            "type": "table"
           }
          ]
         },
         "layout": {
          "annotationdefaults": {
           "arrowcolor": "#2a3f5f",
           "arrowhead": 0,
           "arrowwidth": 1
          },
          "autotypenumbers": "strict",
          "coloraxis": {
           "colorbar": {
            "outlinewidth": 0,
            "ticks": ""
           }
          },
          "colorscale": {
           "diverging": [
            [
             0,
             "#8e0152"
            ],
            [
             0.1,
             "#c51b7d"
            ],
            [
             0.2,
             "#de77ae"
            ],
            [
             0.3,
             "#f1b6da"
            ],
            [
             0.4,
             "#fde0ef"
            ],
            [
             0.5,
             "#f7f7f7"
            ],
            [
             0.6,
             "#e6f5d0"
            ],
            [
             0.7,
             "#b8e186"
            ],
            [
             0.8,
             "#7fbc41"
            ],
            [
             0.9,
             "#4d9221"
            ],
            [
             1,
             "#276419"
            ]
           ],
           "sequential": [
            [
             0,
             "#0d0887"
            ],
            [
             0.1111111111111111,
             "#46039f"
            ],
            [
             0.2222222222222222,
             "#7201a8"
            ],
            [
             0.3333333333333333,
             "#9c179e"
            ],
            [
             0.4444444444444444,
             "#bd3786"
            ],
            [
             0.5555555555555556,
             "#d8576b"
            ],
            [
             0.6666666666666666,
             "#ed7953"
            ],
            [
             0.7777777777777778,
             "#fb9f3a"
            ],
            [
             0.8888888888888888,
             "#fdca26"
            ],
            [
             1,
             "#f0f921"
            ]
           ],
           "sequentialminus": [
            [
             0,
             "#0d0887"
            ],
            [
             0.1111111111111111,
             "#46039f"
            ],
            [
             0.2222222222222222,
             "#7201a8"
            ],
            [
             0.3333333333333333,
             "#9c179e"
            ],
            [
             0.4444444444444444,
             "#bd3786"
            ],
            [
             0.5555555555555556,
             "#d8576b"
            ],
            [
             0.6666666666666666,
             "#ed7953"
            ],
            [
             0.7777777777777778,
             "#fb9f3a"
            ],
            [
             0.8888888888888888,
             "#fdca26"
            ],
            [
             1,
             "#f0f921"
            ]
           ]
          },
          "colorway": [
           "#636efa",
           "#EF553B",
           "#00cc96",
           "#ab63fa",
           "#FFA15A",
           "#19d3f3",
           "#FF6692",
           "#B6E880",
           "#FF97FF",
           "#FECB52"
          ],
          "font": {
           "color": "#2a3f5f"
          },
          "geo": {
           "bgcolor": "white",
           "lakecolor": "white",
           "landcolor": "#E5ECF6",
           "showlakes": true,
           "showland": true,
           "subunitcolor": "white"
          },
          "hoverlabel": {
           "align": "left"
          },
          "hovermode": "closest",
          "mapbox": {
           "style": "light"
          },
          "paper_bgcolor": "white",
          "plot_bgcolor": "#E5ECF6",
          "polar": {
           "angularaxis": {
            "gridcolor": "white",
            "linecolor": "white",
            "ticks": ""
           },
           "bgcolor": "#E5ECF6",
           "radialaxis": {
            "gridcolor": "white",
            "linecolor": "white",
            "ticks": ""
           }
          },
          "scene": {
           "xaxis": {
            "backgroundcolor": "#E5ECF6",
            "gridcolor": "white",
            "gridwidth": 2,
            "linecolor": "white",
            "showbackground": true,
            "ticks": "",
            "zerolinecolor": "white"
           },
           "yaxis": {
            "backgroundcolor": "#E5ECF6",
            "gridcolor": "white",
            "gridwidth": 2,
            "linecolor": "white",
            "showbackground": true,
            "ticks": "",
            "zerolinecolor": "white"
           },
           "zaxis": {
            "backgroundcolor": "#E5ECF6",
            "gridcolor": "white",
            "gridwidth": 2,
            "linecolor": "white",
            "showbackground": true,
            "ticks": "",
            "zerolinecolor": "white"
           }
          },
          "shapedefaults": {
           "line": {
            "color": "#2a3f5f"
           }
          },
          "ternary": {
           "aaxis": {
            "gridcolor": "white",
            "linecolor": "white",
            "ticks": ""
           },
           "baxis": {
            "gridcolor": "white",
            "linecolor": "white",
            "ticks": ""
           },
           "bgcolor": "#E5ECF6",
           "caxis": {
            "gridcolor": "white",
            "linecolor": "white",
            "ticks": ""
           }
          },
          "title": {
           "x": 0.05
          },
          "xaxis": {
           "automargin": true,
           "gridcolor": "white",
           "linecolor": "white",
           "ticks": "",
           "title": {
            "standoff": 15
           },
           "zerolinecolor": "white",
           "zerolinewidth": 2
          },
          "yaxis": {
           "automargin": true,
           "gridcolor": "white",
           "linecolor": "white",
           "ticks": "",
           "title": {
            "standoff": 15
           },
           "zerolinecolor": "white",
           "zerolinewidth": 2
          }
         }
        },
        "title": {
         "text": "Visitor Profile Plots"
        },
        "width": 900,
        "xaxis": {
         "anchor": "y",
         "domain": [
          0,
          0.2333333333333333
         ]
        },
        "xaxis2": {
         "anchor": "y2",
         "domain": [
          0.3833333333333333,
          0.6166666666666666
         ]
        },
        "xaxis3": {
         "anchor": "y3",
         "domain": [
          0.7666666666666666,
          0.9999999999999999
         ]
        },
        "xaxis4": {
         "anchor": "y4",
         "domain": [
          0,
          0.2333333333333333
         ]
        },
        "xaxis5": {
         "anchor": "y5",
         "domain": [
          0.3833333333333333,
          0.6166666666666666
         ]
        },
        "xaxis6": {
         "anchor": "y6",
         "domain": [
          0.7666666666666666,
          0.9999999999999999
         ]
        },
        "yaxis": {
         "anchor": "x",
         "domain": [
          0.54,
          1
         ]
        },
        "yaxis2": {
         "anchor": "x2",
         "domain": [
          0.54,
          1
         ]
        },
        "yaxis3": {
         "anchor": "x3",
         "domain": [
          0.54,
          1
         ]
        },
        "yaxis4": {
         "anchor": "x4",
         "domain": [
          0,
          0.46
         ]
        },
        "yaxis5": {
         "anchor": "x5",
         "domain": [
          0,
          0.46
         ]
        },
        "yaxis6": {
         "anchor": "x6",
         "domain": [
          0,
          0.46
         ]
        }
       }
      }
     },
     "metadata": {},
     "output_type": "display_data"
    }
   ],
   "source": [
    "# Page views\n",
    "cnt_srs = df.groupby('totals_pageviews')['totals_transactionRevenue'].agg(['size', 'count', 'mean'])\n",
    "cnt_srs.columns = [\"count\", \"count of non-zero revenue\", \"mean\"]\n",
    "cnt_srs = cnt_srs.sort_values(by=\"count\", ascending=False)\n",
    "trace1 = horizontal_bar_chart(cnt_srs[\"count\"].head(60), 'cyan')\n",
    "trace2 = horizontal_bar_chart(cnt_srs[\"count of non-zero revenue\"].head(60), 'cyan')\n",
    "trace5 = horizontal_bar_chart(cnt_srs[\"mean\"].head(60), 'cyan')\n",
    "\n",
    "# Hits\n",
    "cnt_srs = df.groupby('totals_hits')['totals_transactionRevenue'].agg(['size', 'count', 'mean'])\n",
    "cnt_srs.columns = [\"count\", \"count of non-zero revenue\", 'mean']\n",
    "cnt_srs = cnt_srs.sort_values(by=\"count\", ascending=False)\n",
    "trace3 = horizontal_bar_chart(cnt_srs[\"count\"].head(60), 'black')\n",
    "trace4 = horizontal_bar_chart(cnt_srs[\"count of non-zero revenue\"].head(60), 'black')\n",
    "trace6 = horizontal_bar_chart(cnt_srs[\"mean\"].head(60), 'black')\n",
    "\n",
    "# Creating two subplots\n",
    "fig = tools.make_subplots(rows=2, cols=3, vertical_spacing=0.08, horizontal_spacing=0.15, \n",
    "                          subplot_titles=[\"Total Pageviews - Count\", \"Total Pageviews - Non-zero Revenue Count\", \"Total Pageviews - Mean Revenue\",\n",
    "                                          \"Total Hits - Count\",  \"Total Hits - Non-zero Revenue Count\", \"Total Hits - Mean Revenue\"])\n",
    "\n",
    "fig.append_trace(trace1, 1, 1)\n",
    "fig.append_trace(trace2, 1, 2)\n",
    "fig.append_trace(trace5, 1, 3)\n",
    "fig.append_trace(trace3, 2, 1)\n",
    "fig.append_trace(trace4, 2, 2)\n",
    "fig.append_trace(trace6, 2, 3)\n",
    "\n",
    "fig['layout'].update(height=1200, width=900, paper_bgcolor='rgb(233,233,233)', title=\"Visitor Profile Plots\")\n",
    "iplot(fig, filename='visitor-profile-plots')"
   ]
  },
  {
   "cell_type": "code",
   "execution_count": 117,
   "metadata": {},
   "outputs": [
    {
     "data": {
      "text/plain": [
       "['channelGrouping',\n",
       " 'fullVisitorId',\n",
       " 'sessionId',\n",
       " 'device_browser',\n",
       " 'device_operatingSystem',\n",
       " 'device_deviceCategory',\n",
       " 'geoNetwork_continent',\n",
       " 'geoNetwork_subContinent',\n",
       " 'geoNetwork_country',\n",
       " 'geoNetwork_region',\n",
       " 'geoNetwork_metro',\n",
       " 'geoNetwork_city',\n",
       " 'geoNetwork_networkDomain',\n",
       " 'totals_hits',\n",
       " 'totals_pageviews',\n",
       " 'totals_bounces',\n",
       " 'totals_newVisits',\n",
       " 'trafficSource_campaign',\n",
       " 'trafficSource_source',\n",
       " 'trafficSource_medium',\n",
       " 'trafficSource_keyword',\n",
       " 'trafficSource_isTrueDirect',\n",
       " 'trafficSource_referralPath',\n",
       " 'trafficSource_adwordsClickInfo.page',\n",
       " 'trafficSource_adwordsClickInfo.slot',\n",
       " 'trafficSource_adwordsClickInfo.gclId',\n",
       " 'trafficSource_adwordsClickInfo.adNetworkType',\n",
       " 'trafficSource_adwordsClickInfo.isVideoAd',\n",
       " 'trafficSource_adContent']"
      ]
     },
     "execution_count": 117,
     "metadata": {},
     "output_type": "execute_result"
    }
   ],
   "source": [
    "categorical_cols"
   ]
  },
  {
   "cell_type": "code",
   "execution_count": 118,
   "metadata": {},
   "outputs": [
    {
     "data": {
      "text/html": [
       "<div>\n",
       "<style scoped>\n",
       "    .dataframe tbody tr th:only-of-type {\n",
       "        vertical-align: middle;\n",
       "    }\n",
       "\n",
       "    .dataframe tbody tr th {\n",
       "        vertical-align: top;\n",
       "    }\n",
       "\n",
       "    .dataframe thead th {\n",
       "        text-align: right;\n",
       "    }\n",
       "</style>\n",
       "<table border=\"1\" class=\"dataframe\">\n",
       "  <thead>\n",
       "    <tr style=\"text-align: right;\">\n",
       "      <th></th>\n",
       "      <th>date</th>\n",
       "      <th>visitId</th>\n",
       "      <th>visitNumber</th>\n",
       "      <th>visitStartTime</th>\n",
       "      <th>totals_transactionRevenue</th>\n",
       "    </tr>\n",
       "  </thead>\n",
       "  <tbody>\n",
       "    <tr>\n",
       "      <th>0</th>\n",
       "      <td>2016-09-02</td>\n",
       "      <td>1472830385</td>\n",
       "      <td>1</td>\n",
       "      <td>1472830385</td>\n",
       "      <td>0.0</td>\n",
       "    </tr>\n",
       "    <tr>\n",
       "      <th>1</th>\n",
       "      <td>2016-09-02</td>\n",
       "      <td>1472880147</td>\n",
       "      <td>1</td>\n",
       "      <td>1472880147</td>\n",
       "      <td>0.0</td>\n",
       "    </tr>\n",
       "    <tr>\n",
       "      <th>2</th>\n",
       "      <td>2016-09-02</td>\n",
       "      <td>1472865386</td>\n",
       "      <td>1</td>\n",
       "      <td>1472865386</td>\n",
       "      <td>0.0</td>\n",
       "    </tr>\n",
       "    <tr>\n",
       "      <th>3</th>\n",
       "      <td>2016-09-02</td>\n",
       "      <td>1472881213</td>\n",
       "      <td>1</td>\n",
       "      <td>1472881213</td>\n",
       "      <td>0.0</td>\n",
       "    </tr>\n",
       "    <tr>\n",
       "      <th>4</th>\n",
       "      <td>2016-09-02</td>\n",
       "      <td>1472822600</td>\n",
       "      <td>2</td>\n",
       "      <td>1472822600</td>\n",
       "      <td>0.0</td>\n",
       "    </tr>\n",
       "    <tr>\n",
       "      <th>...</th>\n",
       "      <td>...</td>\n",
       "      <td>...</td>\n",
       "      <td>...</td>\n",
       "      <td>...</td>\n",
       "      <td>...</td>\n",
       "    </tr>\n",
       "    <tr>\n",
       "      <th>633205</th>\n",
       "      <td>2017-01-04</td>\n",
       "      <td>1483554750</td>\n",
       "      <td>1</td>\n",
       "      <td>1483554750</td>\n",
       "      <td>0.0</td>\n",
       "    </tr>\n",
       "    <tr>\n",
       "      <th>633206</th>\n",
       "      <td>2017-01-04</td>\n",
       "      <td>1483543798</td>\n",
       "      <td>1</td>\n",
       "      <td>1483543798</td>\n",
       "      <td>0.0</td>\n",
       "    </tr>\n",
       "    <tr>\n",
       "      <th>633207</th>\n",
       "      <td>2017-01-04</td>\n",
       "      <td>1483526434</td>\n",
       "      <td>1</td>\n",
       "      <td>1483526434</td>\n",
       "      <td>0.0</td>\n",
       "    </tr>\n",
       "    <tr>\n",
       "      <th>633208</th>\n",
       "      <td>2017-01-04</td>\n",
       "      <td>1483592857</td>\n",
       "      <td>1</td>\n",
       "      <td>1483592864</td>\n",
       "      <td>0.0</td>\n",
       "    </tr>\n",
       "    <tr>\n",
       "      <th>633209</th>\n",
       "      <td>2017-01-04</td>\n",
       "      <td>1483574474</td>\n",
       "      <td>1</td>\n",
       "      <td>1483574474</td>\n",
       "      <td>0.0</td>\n",
       "    </tr>\n",
       "  </tbody>\n",
       "</table>\n",
       "<p>633210 rows × 5 columns</p>\n",
       "</div>"
      ],
      "text/plain": [
       "              date     visitId  visitNumber  visitStartTime  \\\n",
       "0       2016-09-02  1472830385            1      1472830385   \n",
       "1       2016-09-02  1472880147            1      1472880147   \n",
       "2       2016-09-02  1472865386            1      1472865386   \n",
       "3       2016-09-02  1472881213            1      1472881213   \n",
       "4       2016-09-02  1472822600            2      1472822600   \n",
       "...            ...         ...          ...             ...   \n",
       "633205  2017-01-04  1483554750            1      1483554750   \n",
       "633206  2017-01-04  1483543798            1      1483543798   \n",
       "633207  2017-01-04  1483526434            1      1483526434   \n",
       "633208  2017-01-04  1483592857            1      1483592864   \n",
       "633209  2017-01-04  1483574474            1      1483574474   \n",
       "\n",
       "        totals_transactionRevenue  \n",
       "0                             0.0  \n",
       "1                             0.0  \n",
       "2                             0.0  \n",
       "3                             0.0  \n",
       "4                             0.0  \n",
       "...                           ...  \n",
       "633205                        0.0  \n",
       "633206                        0.0  \n",
       "633207                        0.0  \n",
       "633208                        0.0  \n",
       "633209                        0.0  \n",
       "\n",
       "[633210 rows x 5 columns]"
      ]
     },
     "execution_count": 118,
     "metadata": {},
     "output_type": "execute_result"
    }
   ],
   "source": [
    "df[numeric_cols]"
   ]
  },
  {
   "cell_type": "code",
   "execution_count": 119,
   "metadata": {},
   "outputs": [
    {
     "data": {
      "application/vnd.plotly.v1+json": {
       "config": {
        "linkText": "Export to plotly.com",
        "plotlyServerURL": "https://plotly.com",
        "showLink": false
       },
       "data": [
        {
         "marker": {
          "color": "rgba(50, 171, 96, 0.6)"
         },
         "orientation": "h",
         "showlegend": false,
         "type": "bar",
         "x": [
          1657,
          2146,
          2782,
          3713,
          5224,
          7827,
          12879,
          24120,
          61463,
          498095
         ],
         "xaxis": "x",
         "y": [
          10,
          9,
          8,
          7,
          6,
          5,
          4,
          3,
          2,
          1
         ],
         "yaxis": "y"
        },
        {
         "marker": {
          "color": "rgba(50, 171, 96, 0.6)"
         },
         "orientation": "h",
         "showlegend": false,
         "type": "bar",
         "x": [
          1657,
          2146,
          2782,
          3713,
          5224,
          7827,
          12879,
          24120,
          61463,
          498095
         ],
         "xaxis": "x2",
         "y": [
          10,
          9,
          8,
          7,
          6,
          5,
          4,
          3,
          2,
          1
         ],
         "yaxis": "y2"
        },
        {
         "marker": {
          "color": "rgba(50, 171, 96, 0.6)"
         },
         "orientation": "h",
         "showlegend": false,
         "type": "bar",
         "x": [
          9411919.015087508,
          10223788.480894689,
          9559601.006470166,
          10590250.48855373,
          7665262.238897396,
          8480373.022614028,
          6902657.8461060645,
          5522325.030845772,
          2985935.7659730245,
          508074.8049428322
         ],
         "xaxis": "x3",
         "y": [
          10,
          9,
          8,
          7,
          6,
          5,
          4,
          3,
          2,
          1
         ],
         "yaxis": "y3"
        }
       ],
       "layout": {
        "annotations": [
         {
          "font": {
           "size": 16
          },
          "showarrow": false,
          "text": "Visit Number - Count",
          "x": 0.14444444444444446,
          "xanchor": "center",
          "xref": "paper",
          "y": 1,
          "yanchor": "bottom",
          "yref": "paper"
         },
         {
          "font": {
           "size": 16
          },
          "showarrow": false,
          "text": "Visit Number - Non-zero Revenue Count",
          "x": 0.5,
          "xanchor": "center",
          "xref": "paper",
          "y": 1,
          "yanchor": "bottom",
          "yref": "paper"
         },
         {
          "font": {
           "size": 16
          },
          "showarrow": false,
          "text": "Visit Number - Mean Revenue",
          "x": 0.8555555555555556,
          "xanchor": "center",
          "xref": "paper",
          "y": 1,
          "yanchor": "bottom",
          "yref": "paper"
         }
        ],
        "height": 1200,
        "paper_bgcolor": "rgb(233,233,233)",
        "template": {
         "data": {
          "bar": [
           {
            "error_x": {
             "color": "#2a3f5f"
            },
            "error_y": {
             "color": "#2a3f5f"
            },
            "marker": {
             "line": {
              "color": "#E5ECF6",
              "width": 0.5
             },
             "pattern": {
              "fillmode": "overlay",
              "size": 10,
              "solidity": 0.2
             }
            },
            "type": "bar"
           }
          ],
          "barpolar": [
           {
            "marker": {
             "line": {
              "color": "#E5ECF6",
              "width": 0.5
             },
             "pattern": {
              "fillmode": "overlay",
              "size": 10,
              "solidity": 0.2
             }
            },
            "type": "barpolar"
           }
          ],
          "carpet": [
           {
            "aaxis": {
             "endlinecolor": "#2a3f5f",
             "gridcolor": "white",
             "linecolor": "white",
             "minorgridcolor": "white",
             "startlinecolor": "#2a3f5f"
            },
            "baxis": {
             "endlinecolor": "#2a3f5f",
             "gridcolor": "white",
             "linecolor": "white",
             "minorgridcolor": "white",
             "startlinecolor": "#2a3f5f"
            },
            "type": "carpet"
           }
          ],
          "choropleth": [
           {
            "colorbar": {
             "outlinewidth": 0,
             "ticks": ""
            },
            "type": "choropleth"
           }
          ],
          "contour": [
           {
            "colorbar": {
             "outlinewidth": 0,
             "ticks": ""
            },
            "colorscale": [
             [
              0,
              "#0d0887"
             ],
             [
              0.1111111111111111,
              "#46039f"
             ],
             [
              0.2222222222222222,
              "#7201a8"
             ],
             [
              0.3333333333333333,
              "#9c179e"
             ],
             [
              0.4444444444444444,
              "#bd3786"
             ],
             [
              0.5555555555555556,
              "#d8576b"
             ],
             [
              0.6666666666666666,
              "#ed7953"
             ],
             [
              0.7777777777777778,
              "#fb9f3a"
             ],
             [
              0.8888888888888888,
              "#fdca26"
             ],
             [
              1,
              "#f0f921"
             ]
            ],
            "type": "contour"
           }
          ],
          "contourcarpet": [
           {
            "colorbar": {
             "outlinewidth": 0,
             "ticks": ""
            },
            "type": "contourcarpet"
           }
          ],
          "heatmap": [
           {
            "colorbar": {
             "outlinewidth": 0,
             "ticks": ""
            },
            "colorscale": [
             [
              0,
              "#0d0887"
             ],
             [
              0.1111111111111111,
              "#46039f"
             ],
             [
              0.2222222222222222,
              "#7201a8"
             ],
             [
              0.3333333333333333,
              "#9c179e"
             ],
             [
              0.4444444444444444,
              "#bd3786"
             ],
             [
              0.5555555555555556,
              "#d8576b"
             ],
             [
              0.6666666666666666,
              "#ed7953"
             ],
             [
              0.7777777777777778,
              "#fb9f3a"
             ],
             [
              0.8888888888888888,
              "#fdca26"
             ],
             [
              1,
              "#f0f921"
             ]
            ],
            "type": "heatmap"
           }
          ],
          "heatmapgl": [
           {
            "colorbar": {
             "outlinewidth": 0,
             "ticks": ""
            },
            "colorscale": [
             [
              0,
              "#0d0887"
             ],
             [
              0.1111111111111111,
              "#46039f"
             ],
             [
              0.2222222222222222,
              "#7201a8"
             ],
             [
              0.3333333333333333,
              "#9c179e"
             ],
             [
              0.4444444444444444,
              "#bd3786"
             ],
             [
              0.5555555555555556,
              "#d8576b"
             ],
             [
              0.6666666666666666,
              "#ed7953"
             ],
             [
              0.7777777777777778,
              "#fb9f3a"
             ],
             [
              0.8888888888888888,
              "#fdca26"
             ],
             [
              1,
              "#f0f921"
             ]
            ],
            "type": "heatmapgl"
           }
          ],
          "histogram": [
           {
            "marker": {
             "pattern": {
              "fillmode": "overlay",
              "size": 10,
              "solidity": 0.2
             }
            },
            "type": "histogram"
           }
          ],
          "histogram2d": [
           {
            "colorbar": {
             "outlinewidth": 0,
             "ticks": ""
            },
            "colorscale": [
             [
              0,
              "#0d0887"
             ],
             [
              0.1111111111111111,
              "#46039f"
             ],
             [
              0.2222222222222222,
              "#7201a8"
             ],
             [
              0.3333333333333333,
              "#9c179e"
             ],
             [
              0.4444444444444444,
              "#bd3786"
             ],
             [
              0.5555555555555556,
              "#d8576b"
             ],
             [
              0.6666666666666666,
              "#ed7953"
             ],
             [
              0.7777777777777778,
              "#fb9f3a"
             ],
             [
              0.8888888888888888,
              "#fdca26"
             ],
             [
              1,
              "#f0f921"
             ]
            ],
            "type": "histogram2d"
           }
          ],
          "histogram2dcontour": [
           {
            "colorbar": {
             "outlinewidth": 0,
             "ticks": ""
            },
            "colorscale": [
             [
              0,
              "#0d0887"
             ],
             [
              0.1111111111111111,
              "#46039f"
             ],
             [
              0.2222222222222222,
              "#7201a8"
             ],
             [
              0.3333333333333333,
              "#9c179e"
             ],
             [
              0.4444444444444444,
              "#bd3786"
             ],
             [
              0.5555555555555556,
              "#d8576b"
             ],
             [
              0.6666666666666666,
              "#ed7953"
             ],
             [
              0.7777777777777778,
              "#fb9f3a"
             ],
             [
              0.8888888888888888,
              "#fdca26"
             ],
             [
              1,
              "#f0f921"
             ]
            ],
            "type": "histogram2dcontour"
           }
          ],
          "mesh3d": [
           {
            "colorbar": {
             "outlinewidth": 0,
             "ticks": ""
            },
            "type": "mesh3d"
           }
          ],
          "parcoords": [
           {
            "line": {
             "colorbar": {
              "outlinewidth": 0,
              "ticks": ""
             }
            },
            "type": "parcoords"
           }
          ],
          "pie": [
           {
            "automargin": true,
            "type": "pie"
           }
          ],
          "scatter": [
           {
            "fillpattern": {
             "fillmode": "overlay",
             "size": 10,
             "solidity": 0.2
            },
            "type": "scatter"
           }
          ],
          "scatter3d": [
           {
            "line": {
             "colorbar": {
              "outlinewidth": 0,
              "ticks": ""
             }
            },
            "marker": {
             "colorbar": {
              "outlinewidth": 0,
              "ticks": ""
             }
            },
            "type": "scatter3d"
           }
          ],
          "scattercarpet": [
           {
            "marker": {
             "colorbar": {
              "outlinewidth": 0,
              "ticks": ""
             }
            },
            "type": "scattercarpet"
           }
          ],
          "scattergeo": [
           {
            "marker": {
             "colorbar": {
              "outlinewidth": 0,
              "ticks": ""
             }
            },
            "type": "scattergeo"
           }
          ],
          "scattergl": [
           {
            "marker": {
             "colorbar": {
              "outlinewidth": 0,
              "ticks": ""
             }
            },
            "type": "scattergl"
           }
          ],
          "scattermapbox": [
           {
            "marker": {
             "colorbar": {
              "outlinewidth": 0,
              "ticks": ""
             }
            },
            "type": "scattermapbox"
           }
          ],
          "scatterpolar": [
           {
            "marker": {
             "colorbar": {
              "outlinewidth": 0,
              "ticks": ""
             }
            },
            "type": "scatterpolar"
           }
          ],
          "scatterpolargl": [
           {
            "marker": {
             "colorbar": {
              "outlinewidth": 0,
              "ticks": ""
             }
            },
            "type": "scatterpolargl"
           }
          ],
          "scatterternary": [
           {
            "marker": {
             "colorbar": {
              "outlinewidth": 0,
              "ticks": ""
             }
            },
            "type": "scatterternary"
           }
          ],
          "surface": [
           {
            "colorbar": {
             "outlinewidth": 0,
             "ticks": ""
            },
            "colorscale": [
             [
              0,
              "#0d0887"
             ],
             [
              0.1111111111111111,
              "#46039f"
             ],
             [
              0.2222222222222222,
              "#7201a8"
             ],
             [
              0.3333333333333333,
              "#9c179e"
             ],
             [
              0.4444444444444444,
              "#bd3786"
             ],
             [
              0.5555555555555556,
              "#d8576b"
             ],
             [
              0.6666666666666666,
              "#ed7953"
             ],
             [
              0.7777777777777778,
              "#fb9f3a"
             ],
             [
              0.8888888888888888,
              "#fdca26"
             ],
             [
              1,
              "#f0f921"
             ]
            ],
            "type": "surface"
           }
          ],
          "table": [
           {
            "cells": {
             "fill": {
              "color": "#EBF0F8"
             },
             "line": {
              "color": "white"
             }
            },
            "header": {
             "fill": {
              "color": "#C8D4E3"
             },
             "line": {
              "color": "white"
             }
            },
            "type": "table"
           }
          ]
         },
         "layout": {
          "annotationdefaults": {
           "arrowcolor": "#2a3f5f",
           "arrowhead": 0,
           "arrowwidth": 1
          },
          "autotypenumbers": "strict",
          "coloraxis": {
           "colorbar": {
            "outlinewidth": 0,
            "ticks": ""
           }
          },
          "colorscale": {
           "diverging": [
            [
             0,
             "#8e0152"
            ],
            [
             0.1,
             "#c51b7d"
            ],
            [
             0.2,
             "#de77ae"
            ],
            [
             0.3,
             "#f1b6da"
            ],
            [
             0.4,
             "#fde0ef"
            ],
            [
             0.5,
             "#f7f7f7"
            ],
            [
             0.6,
             "#e6f5d0"
            ],
            [
             0.7,
             "#b8e186"
            ],
            [
             0.8,
             "#7fbc41"
            ],
            [
             0.9,
             "#4d9221"
            ],
            [
             1,
             "#276419"
            ]
           ],
           "sequential": [
            [
             0,
             "#0d0887"
            ],
            [
             0.1111111111111111,
             "#46039f"
            ],
            [
             0.2222222222222222,
             "#7201a8"
            ],
            [
             0.3333333333333333,
             "#9c179e"
            ],
            [
             0.4444444444444444,
             "#bd3786"
            ],
            [
             0.5555555555555556,
             "#d8576b"
            ],
            [
             0.6666666666666666,
             "#ed7953"
            ],
            [
             0.7777777777777778,
             "#fb9f3a"
            ],
            [
             0.8888888888888888,
             "#fdca26"
            ],
            [
             1,
             "#f0f921"
            ]
           ],
           "sequentialminus": [
            [
             0,
             "#0d0887"
            ],
            [
             0.1111111111111111,
             "#46039f"
            ],
            [
             0.2222222222222222,
             "#7201a8"
            ],
            [
             0.3333333333333333,
             "#9c179e"
            ],
            [
             0.4444444444444444,
             "#bd3786"
            ],
            [
             0.5555555555555556,
             "#d8576b"
            ],
            [
             0.6666666666666666,
             "#ed7953"
            ],
            [
             0.7777777777777778,
             "#fb9f3a"
            ],
            [
             0.8888888888888888,
             "#fdca26"
            ],
            [
             1,
             "#f0f921"
            ]
           ]
          },
          "colorway": [
           "#636efa",
           "#EF553B",
           "#00cc96",
           "#ab63fa",
           "#FFA15A",
           "#19d3f3",
           "#FF6692",
           "#B6E880",
           "#FF97FF",
           "#FECB52"
          ],
          "font": {
           "color": "#2a3f5f"
          },
          "geo": {
           "bgcolor": "white",
           "lakecolor": "white",
           "landcolor": "#E5ECF6",
           "showlakes": true,
           "showland": true,
           "subunitcolor": "white"
          },
          "hoverlabel": {
           "align": "left"
          },
          "hovermode": "closest",
          "mapbox": {
           "style": "light"
          },
          "paper_bgcolor": "white",
          "plot_bgcolor": "#E5ECF6",
          "polar": {
           "angularaxis": {
            "gridcolor": "white",
            "linecolor": "white",
            "ticks": ""
           },
           "bgcolor": "#E5ECF6",
           "radialaxis": {
            "gridcolor": "white",
            "linecolor": "white",
            "ticks": ""
           }
          },
          "scene": {
           "xaxis": {
            "backgroundcolor": "#E5ECF6",
            "gridcolor": "white",
            "gridwidth": 2,
            "linecolor": "white",
            "showbackground": true,
            "ticks": "",
            "zerolinecolor": "white"
           },
           "yaxis": {
            "backgroundcolor": "#E5ECF6",
            "gridcolor": "white",
            "gridwidth": 2,
            "linecolor": "white",
            "showbackground": true,
            "ticks": "",
            "zerolinecolor": "white"
           },
           "zaxis": {
            "backgroundcolor": "#E5ECF6",
            "gridcolor": "white",
            "gridwidth": 2,
            "linecolor": "white",
            "showbackground": true,
            "ticks": "",
            "zerolinecolor": "white"
           }
          },
          "shapedefaults": {
           "line": {
            "color": "#2a3f5f"
           }
          },
          "ternary": {
           "aaxis": {
            "gridcolor": "white",
            "linecolor": "white",
            "ticks": ""
           },
           "baxis": {
            "gridcolor": "white",
            "linecolor": "white",
            "ticks": ""
           },
           "bgcolor": "#E5ECF6",
           "caxis": {
            "gridcolor": "white",
            "linecolor": "white",
            "ticks": ""
           }
          },
          "title": {
           "x": 0.05
          },
          "xaxis": {
           "automargin": true,
           "gridcolor": "white",
           "linecolor": "white",
           "ticks": "",
           "title": {
            "standoff": 15
           },
           "zerolinecolor": "white",
           "zerolinewidth": 2
          },
          "yaxis": {
           "automargin": true,
           "gridcolor": "white",
           "linecolor": "white",
           "ticks": "",
           "title": {
            "standoff": 15
           },
           "zerolinecolor": "white",
           "zerolinewidth": 2
          }
         }
        },
        "title": {
         "text": "visitNumber Plots"
        },
        "width": 1200,
        "xaxis": {
         "anchor": "y",
         "domain": [
          0,
          0.2888888888888889
         ]
        },
        "xaxis2": {
         "anchor": "y2",
         "domain": [
          0.35555555555555557,
          0.6444444444444445
         ]
        },
        "xaxis3": {
         "anchor": "y3",
         "domain": [
          0.7111111111111111,
          1
         ]
        },
        "yaxis": {
         "anchor": "x",
         "domain": [
          0,
          1
         ]
        },
        "yaxis2": {
         "anchor": "x2",
         "domain": [
          0,
          1
         ]
        },
        "yaxis3": {
         "anchor": "x3",
         "domain": [
          0,
          1
         ]
        }
       }
      }
     },
     "metadata": {},
     "output_type": "display_data"
    }
   ],
   "source": [
    "cnt_srs = df.groupby('visitNumber')['totals_transactionRevenue'].agg(['size', 'count', 'mean'])\n",
    "cnt_srs.columns = [\"count\", \"count of non-zero revenue\", \"mean\"]\n",
    "cnt_srs = cnt_srs.sort_values(by=\"count\", ascending=False)\n",
    "trace1 = horizontal_bar_chart(cnt_srs[\"count\"].head(10), 'rgba(50, 171, 96, 0.6)')\n",
    "trace2 = horizontal_bar_chart(cnt_srs[\"count of non-zero revenue\"].head(10), 'rgba(50, 171, 96, 0.6)')\n",
    "trace3 = horizontal_bar_chart(cnt_srs[\"mean\"].head(10), 'rgba(50, 171, 96, 0.6)')\n",
    "\n",
    "# Creating two subplots\n",
    "fig = tools.make_subplots(rows=1, cols=3, vertical_spacing=0.04, \n",
    "                          subplot_titles=[\"Visit Number - Count\", \"Visit Number - Non-zero Revenue Count\", \"Visit Number - Mean Revenue\"])\n",
    "\n",
    "fig.append_trace(trace1, 1, 1)\n",
    "fig.append_trace(trace2, 1, 2)\n",
    "fig.append_trace(trace3, 1, 3)\n",
    "\n",
    "\n",
    "fig['layout'].update(height=1200, width=1200, paper_bgcolor='rgb(233,233,233)', title=\"visitNumber Plots\")\n",
    "iplot(fig, filename='visitNumber-plots')\n"
   ]
  }
 ],
 "metadata": {
  "kernelspec": {
   "display_name": "hw4",
   "language": "python",
   "name": "python3"
  },
  "language_info": {
   "codemirror_mode": {
    "name": "ipython",
    "version": 3
   },
   "file_extension": ".py",
   "mimetype": "text/x-python",
   "name": "python",
   "nbconvert_exporter": "python",
   "pygments_lexer": "ipython3",
   "version": "3.11.9"
  }
 },
 "nbformat": 4,
 "nbformat_minor": 2
}
